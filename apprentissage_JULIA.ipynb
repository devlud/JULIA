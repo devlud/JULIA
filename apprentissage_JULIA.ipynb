{
 "cells": [
  {
   "cell_type": "markdown",
   "metadata": {},
   "source": [
    "1) installer JULIA sur le site\n",
    "2) l'ouvrir\n",
    "3) Pour intaller IJulia, pour mettre Julia dans le notebook Jupyter, mettre dans la console\n",
    "-> using Pkg\n",
    "-> Pkg.add('IJulia')\n",
    "-> using IJulia\n",
    "-> Quit()\n",
    "-> jupyter notebook\n"
   ]
  },
  {
   "cell_type": "code",
   "execution_count": 2,
   "metadata": {},
   "outputs": [
    {
     "name": "stdout",
     "output_type": "stream",
     "text": [
      "test\n",
      "mon nombre est 14\n"
     ]
    }
   ],
   "source": [
    "println(\"test\")\n",
    "\n",
    "nombre = 14\n",
    "\n",
    "println(\"mon nombre est $nombre\")\n",
    "\n"
   ]
  },
  {
   "cell_type": "code",
   "execution_count": 3,
   "metadata": {},
   "outputs": [
    {
     "data": {
      "text/plain": [
       "\"salut\""
      ]
     },
     "execution_count": 3,
     "metadata": {},
     "output_type": "execute_result"
    }
   ],
   "source": [
    "\"\"\"salut\"\"\""
   ]
  },
  {
   "cell_type": "code",
   "execution_count": 4,
   "metadata": {},
   "outputs": [],
   "source": [
    "### Question : concaténer les deux string suivants :\n",
    "m1 = \"j'aime \"\n",
    "m2 = \"Julia\" ; # on met un point virgule pour pas qu'il affiche la dernière variable\n",
    "##( spécificité notebook pas julia )"
   ]
  },
  {
   "cell_type": "code",
   "execution_count": null,
   "metadata": {},
   "outputs": [],
   "source": [
    "\n",
    "\n",
    "\n",
    "\n",
    "\n",
    "\n",
    "\n",
    "\n",
    "\n",
    "\n"
   ]
  },
  {
   "cell_type": "code",
   "execution_count": 5,
   "metadata": {},
   "outputs": [
    {
     "name": "stdout",
     "output_type": "stream",
     "text": [
      "j'aime Julia"
     ]
    },
    {
     "data": {
      "text/plain": [
       "\"j'aime  aussi Julia\""
      ]
     },
     "execution_count": 5,
     "metadata": {},
     "output_type": "execute_result"
    }
   ],
   "source": [
    "### Solution\n",
    "\n",
    "print(string(m1,m2))\n",
    "string(m1,\" aussi \",m2)"
   ]
  },
  {
   "cell_type": "code",
   "execution_count": null,
   "metadata": {},
   "outputs": [],
   "source": [
    "### Question faire 100 fois j'aime j'aime j'aime..."
   ]
  },
  {
   "cell_type": "code",
   "execution_count": null,
   "metadata": {},
   "outputs": [],
   "source": [
    "\n",
    "\n",
    "\n",
    "\n",
    "\n",
    "\n",
    "\n",
    "\n",
    "\n",
    "\n",
    "\n"
   ]
  },
  {
   "cell_type": "code",
   "execution_count": 12,
   "metadata": {},
   "outputs": [
    {
     "data": {
      "text/plain": [
       "\"j'aimej'aimej'aimej'aimej'aimej'aimej'aimej'aimej'aimej'aimej'aimej'aimej'aimej'aimej'aimej'aimej'aimej'aimej'aimej'aimej'aimej'aimej'aimej'aimej'aimej'aimej'aimej'aimej'aimej'aimej'aimej'aimej'aimej'aimej'aimej'aimej'aimej'aimej'aimej'aimej'aimej'aimej'aimej'aimej'aimej'aimej'aimej'aimej'aimej'aimej'aimej'aimej'aimej'aimej'aimej'aimej'aimej'aimej'aimej'aimej'aimej'aimej'aimej'aimej'aimej'aimej'aimej'aimej'aimej'aimej'aimej'aimej'aimej'aimej'aimej'aimej'aimej'aimej'aimej'aimej'aimej'aimej'aimej'aimej'aimej'aimej'aimej'aimej'aimej'aimej'aimej'aimej'aimej'aimej'aimej'aimej'aimej'aimej'aimej'aime\""
      ]
     },
     "execution_count": 12,
     "metadata": {},
     "output_type": "execute_result"
    }
   ],
   "source": [
    "### Solution\n",
    "\n",
    "m1 ^ 100"
   ]
  },
  {
   "cell_type": "code",
   "execution_count": null,
   "metadata": {},
   "outputs": [],
   "source": []
  },
  {
   "cell_type": "code",
   "execution_count": 13,
   "metadata": {},
   "outputs": [
    {
     "data": {
      "text/plain": [
       "'j': ASCII/Unicode U+006A (category Ll: Letter, lowercase)"
      ]
     },
     "execution_count": 13,
     "metadata": {},
     "output_type": "execute_result"
    }
   ],
   "source": [
    "m1[1] # affiche le premier caractère de m1"
   ]
  },
  {
   "cell_type": "code",
   "execution_count": 14,
   "metadata": {},
   "outputs": [
    {
     "data": {
      "text/plain": [
       "\"aime\""
      ]
     },
     "execution_count": 14,
     "metadata": {},
     "output_type": "execute_result"
    }
   ],
   "source": [
    "m1[3:6] # 6 inclu contrairement à python"
   ]
  },
  {
   "cell_type": "code",
   "execution_count": 15,
   "metadata": {},
   "outputs": [
    {
     "data": {
      "text/plain": [
       "3-element Array{Int64,1}:\n",
       " 3\n",
       " 5\n",
       " 9"
      ]
     },
     "execution_count": 15,
     "metadata": {},
     "output_type": "execute_result"
    }
   ],
   "source": [
    "### Array\n",
    "\n",
    "[3,5,9]"
   ]
  },
  {
   "cell_type": "code",
   "execution_count": 16,
   "metadata": {},
   "outputs": [
    {
     "data": {
      "text/plain": [
       "3-element Array{Int64,1}:\n",
       "  4\n",
       "  7\n",
       " 11"
      ]
     },
     "execution_count": 16,
     "metadata": {},
     "output_type": "execute_result"
    }
   ],
   "source": [
    "[3,5,9] + [1,2,2]"
   ]
  },
  {
   "cell_type": "code",
   "execution_count": 19,
   "metadata": {},
   "outputs": [
    {
     "data": {
      "text/plain": [
       "4-element Array{Any,1}:\n",
       "     \"Hello\"\n",
       "    2\n",
       "   45.7\n",
       " true"
      ]
     },
     "execution_count": 19,
     "metadata": {},
     "output_type": "execute_result"
    }
   ],
   "source": [
    "arr = [\"Hello\",2,45.7,true]\n",
    "length(arr)\n",
    "typeof(arr)\n",
    "minimum([3,5,9])\n",
    "\n",
    "zeros(4)\n",
    "ones(3)"
   ]
  },
  {
   "cell_type": "code",
   "execution_count": null,
   "metadata": {},
   "outputs": [],
   "source": [
    "### Questions : rajouter 34 à l'array arr"
   ]
  },
  {
   "cell_type": "code",
   "execution_count": null,
   "metadata": {},
   "outputs": [],
   "source": [
    "\n",
    "\n",
    "\n",
    "\n",
    "\n",
    "\n",
    "\n",
    "\n",
    "\n",
    "\n"
   ]
  },
  {
   "cell_type": "code",
   "execution_count": 31,
   "metadata": {},
   "outputs": [
    {
     "name": "stdout",
     "output_type": "stream",
     "text": [
      "Any[\"Hello\", 2, 45.7, true, 34, 34, 34, 34, 34]"
     ]
    },
    {
     "data": {
      "text/plain": [
       "-10:5:35"
      ]
     },
     "execution_count": 31,
     "metadata": {},
     "output_type": "execute_result"
    }
   ],
   "source": [
    "### Solution\n",
    "\n",
    "print(push!(arr,34))\n",
    "\n",
    "sort([3,5,-1])\n",
    "range(1, stop = 100)\n",
    "range(-10,step=5,length=10)"
   ]
  },
  {
   "cell_type": "code",
   "execution_count": 33,
   "metadata": {},
   "outputs": [],
   "source": [
    "### Question : créer un nouvel array qui est la copie de arr\n"
   ]
  },
  {
   "cell_type": "code",
   "execution_count": null,
   "metadata": {},
   "outputs": [],
   "source": [
    "\n",
    "\n",
    "\n",
    "\n",
    "\n",
    "\n",
    "\n",
    "\n",
    "\n",
    "\n",
    "\n",
    "\n"
   ]
  },
  {
   "cell_type": "code",
   "execution_count": 38,
   "metadata": {},
   "outputs": [
    {
     "name": "stdout",
     "output_type": "stream",
     "text": [
      "Any[\"Bye\", 2, 45.7, true, 34, 34, 34, 34, 34]Any[\"Bye\", 2, 45.7, true, 34, 34, 34, 34, 34]\n",
      "Any[\"Bye\", 2, 45.7, true, 34, 34, 34, 34, 34]Any[\"loi\", 2, 45.7, true, 34, 34, 34, 34, 34]"
     ]
    }
   ],
   "source": [
    "### Solution \n",
    "\n",
    "### attention\n",
    "\n",
    "arr1 = arr\n",
    "arr1[1] = \"Bye\"\n",
    "\n",
    "println(arr,arr1) # la même localisation mémoire\n",
    "\n",
    "arr2 = copy(arr)\n",
    "\n",
    "arr2[1] = \"loi\" \n",
    "\n",
    "print(arr,arr2)"
   ]
  },
  {
   "cell_type": "code",
   "execution_count": null,
   "metadata": {},
   "outputs": [],
   "source": [
    "### Question : Vérifier si 2 est dans arr"
   ]
  },
  {
   "cell_type": "code",
   "execution_count": null,
   "metadata": {},
   "outputs": [],
   "source": [
    "\n",
    "\n",
    "\n",
    "\n",
    "\n",
    "\n",
    "\n",
    "\n",
    "\n",
    "\n"
   ]
  },
  {
   "cell_type": "code",
   "execution_count": 39,
   "metadata": {},
   "outputs": [
    {
     "data": {
      "text/plain": [
       "true"
      ]
     },
     "execution_count": 39,
     "metadata": {},
     "output_type": "execute_result"
    }
   ],
   "source": [
    "### Solution \n",
    "\n",
    "in(2,arr)"
   ]
  },
  {
   "cell_type": "code",
   "execution_count": 45,
   "metadata": {},
   "outputs": [
    {
     "ename": "MethodError",
     "evalue": "MethodError: no method matching setindex!(::Tuple{Int64,Int64,Bool}, ::Int64, ::Int64)",
     "output_type": "error",
     "traceback": [
      "MethodError: no method matching setindex!(::Tuple{Int64,Int64,Bool}, ::Int64, ::Int64)",
      "",
      "Stacktrace:",
      " [1] top-level scope at In[45]:5"
     ]
    }
   ],
   "source": [
    "### Tuples\n",
    "\n",
    "t1 = (3,6,true)\n",
    "typeof(t1)\n",
    "\n",
    "# l'intérêt d'un tuple est qu'il peut pas être modifié\n",
    "\n",
    "t1[2] = \"hello\"\n",
    "t1[2] = 4"
   ]
  },
  {
   "cell_type": "code",
   "execution_count": 48,
   "metadata": {},
   "outputs": [
    {
     "data": {
      "text/plain": [
       "Base.ValueIterator for a Dict{String,String} with 3 entries. Values:\n",
       "  \"555\"\n",
       "  \"111\"\n",
       "  \"333\""
      ]
     },
     "execution_count": 48,
     "metadata": {},
     "output_type": "execute_result"
    }
   ],
   "source": [
    "# Dictionary\n",
    "\n",
    "phonebook = Dict(\"John\" => \"555\", \"Alice\" => \"111\", \"Bob\" => \"333\")\n",
    "\n",
    "keys(phonebook)\n",
    "values(phonebook)"
   ]
  },
  {
   "cell_type": "code",
   "execution_count": 53,
   "metadata": {},
   "outputs": [
    {
     "name": "stdout",
     "output_type": "stream",
     "text": [
      "John,555\n",
      "Alice,111\n",
      "Bob,333\n"
     ]
    },
    {
     "data": {
      "text/plain": [
       "true"
      ]
     },
     "execution_count": 53,
     "metadata": {},
     "output_type": "execute_result"
    }
   ],
   "source": [
    "for (k,v) in phonebook\n",
    "    println(\"$k,$v\")\n",
    "end\n",
    "\n",
    "collect(keys(phonebook))\n",
    "\n",
    "haskey(phonebook, \"John\") # est ce que john est dans le phonebook"
   ]
  },
  {
   "cell_type": "code",
   "execution_count": 58,
   "metadata": {},
   "outputs": [
    {
     "name": "stdout",
     "output_type": "stream",
     "text": [
      "Set([4, 3, 6, 1])\n",
      "Set([3, 6])\n",
      "false"
     ]
    }
   ],
   "source": [
    "### SETS\n",
    "\n",
    "s1 = Set([1,1,3,6])\n",
    "s2 = Set([3,6,4,3])\n",
    "\n",
    "println(union(s1,s2))\n",
    "println(intersect(s1,s2))\n",
    "print(issubset(s1,s2))"
   ]
  },
  {
   "cell_type": "code",
   "execution_count": 7,
   "metadata": {},
   "outputs": [
    {
     "data": {
      "text/plain": [
       "34"
      ]
     },
     "execution_count": 7,
     "metadata": {},
     "output_type": "execute_result"
    }
   ],
   "source": [
    "### Question : si N > 0 alors afficher \"N est poisitive\" sinon \"il est négatif\"\n",
    "\n",
    "N=34"
   ]
  },
  {
   "cell_type": "code",
   "execution_count": null,
   "metadata": {},
   "outputs": [],
   "source": [
    "\n",
    "\n",
    "\n",
    "\n",
    "\n",
    "\n",
    "\n",
    "\n",
    "\n",
    "\n",
    "\n",
    "\n"
   ]
  },
  {
   "cell_type": "code",
   "execution_count": 9,
   "metadata": {},
   "outputs": [
    {
     "name": "stdout",
     "output_type": "stream",
     "text": [
      "N est positif\n",
      "OK\n"
     ]
    }
   ],
   "source": [
    "### Solution :\n",
    "\n",
    "if N > 0\n",
    "    println(\"N est positif\")\n",
    "else\n",
    "    println(\"N est négatif\")\n",
    "end\n",
    "\n",
    "M = 30\n",
    "\n",
    "if M > 31\n",
    "    println(\"connais pas\")\n",
    "elseif(M >0 && M < 31)\n",
    "    println(\"OK\")\n",
    "else\n",
    "    println(\"pb\")\n",
    "end"
   ]
  },
  {
   "cell_type": "code",
   "execution_count": 10,
   "metadata": {},
   "outputs": [
    {
     "name": "stdout",
     "output_type": "stream",
     "text": [
      "1\n",
      "2\n",
      "3\n",
      "4\n",
      "5\n"
     ]
    }
   ],
   "source": [
    "for i = 1:5\n",
    "    println(i)\n",
    "end"
   ]
  },
  {
   "cell_type": "code",
   "execution_count": 11,
   "metadata": {},
   "outputs": [
    {
     "name": "stdout",
     "output_type": "stream",
     "text": [
      "1 : 1\n",
      "1 : 2\n",
      "1 : 3\n",
      "1 : 4\n",
      "1 : 5\n",
      "2 : 1\n",
      "2 : 2\n",
      "2 : 3\n",
      "2 : 4\n",
      "2 : 5\n",
      "3 : 1\n",
      "3 : 2\n",
      "3 : 3\n",
      "3 : 4\n",
      "3 : 5\n",
      "4 : 1\n",
      "4 : 2\n",
      "4 : 3\n",
      "4 : 4\n",
      "4 : 5\n",
      "5 : 1\n",
      "5 : 2\n",
      "5 : 3\n",
      "5 : 4\n",
      "5 : 5\n"
     ]
    }
   ],
   "source": [
    "for i = 1:5, j =1:5\n",
    "    println(i , \" : \", j)\n",
    "end"
   ]
  },
  {
   "cell_type": "code",
   "execution_count": 12,
   "metadata": {},
   "outputs": [
    {
     "data": {
      "text/plain": [
       "3-element Array{Any,1}:\n",
       " 3\n",
       " 5\n",
       "  \"Hello\""
      ]
     },
     "execution_count": 12,
     "metadata": {},
     "output_type": "execute_result"
    }
   ],
   "source": [
    "arr = [3,5,\"Hello\"]"
   ]
  },
  {
   "cell_type": "code",
   "execution_count": 13,
   "metadata": {},
   "outputs": [
    {
     "name": "stdout",
     "output_type": "stream",
     "text": [
      "3\n",
      "5\n",
      "Hello\n"
     ]
    }
   ],
   "source": [
    "for val in arr\n",
    "    println(val)\n",
    "end"
   ]
  },
  {
   "cell_type": "code",
   "execution_count": 15,
   "metadata": {},
   "outputs": [
    {
     "name": "stdout",
     "output_type": "stream",
     "text": [
      "1\n",
      "2\n",
      "3\n",
      "4\n",
      "5\n"
     ]
    }
   ],
   "source": [
    "for i = 1:5\n",
    "    println(i)\n",
    "end"
   ]
  },
  {
   "cell_type": "code",
   "execution_count": null,
   "metadata": {},
   "outputs": [],
   "source": [
    "### Question : créer une fonction qui affiche \"salut\" + le nom de la personne"
   ]
  },
  {
   "cell_type": "code",
   "execution_count": null,
   "metadata": {},
   "outputs": [],
   "source": [
    "\n",
    "\n",
    "\n",
    "\n",
    "\n",
    "\n",
    "\n",
    "\n",
    "\n",
    "\n",
    "\n",
    "\n",
    "\n",
    "\n",
    "\n"
   ]
  },
  {
   "cell_type": "code",
   "execution_count": 18,
   "metadata": {},
   "outputs": [
    {
     "data": {
      "text/plain": [
       "bonjour (generic function with 2 methods)"
      ]
     },
     "execution_count": 18,
     "metadata": {},
     "output_type": "execute_result"
    }
   ],
   "source": [
    "### Solution\n",
    "\n",
    "function bonjour(prenom)\n",
    "    println(\"Salut $prenom\")\n",
    "end"
   ]
  },
  {
   "cell_type": "code",
   "execution_count": 20,
   "metadata": {},
   "outputs": [
    {
     "name": "stdout",
     "output_type": "stream",
     "text": [
      "Salut julia\n"
     ]
    }
   ],
   "source": [
    "bonjour(\"julia\")"
   ]
  },
  {
   "cell_type": "code",
   "execution_count": null,
   "metadata": {},
   "outputs": [],
   "source": [
    "### Question : créer une fonction qui élève au carré la paramètre et l'appliquer sur l'array [1,3,7,0]"
   ]
  },
  {
   "cell_type": "code",
   "execution_count": null,
   "metadata": {},
   "outputs": [],
   "source": [
    "\n",
    "\n",
    "\n",
    "\n",
    "\n",
    "\n",
    "\n",
    "\n"
   ]
  },
  {
   "cell_type": "code",
   "execution_count": 24,
   "metadata": {},
   "outputs": [
    {
     "data": {
      "text/plain": [
       "4-element Array{Int64,1}:\n",
       "  1\n",
       "  9\n",
       " 49\n",
       "  0"
      ]
     },
     "execution_count": 24,
     "metadata": {},
     "output_type": "execute_result"
    }
   ],
   "source": [
    "### Solution\n",
    "\n",
    "function carre(x)\n",
    "    x^2\n",
    "end\n",
    "\n",
    "#carre([1,3,7,0])\n",
    "    \n",
    "## il faut utiliser map\n",
    "\n",
    "map(carre,[1,3,7,0])\n",
    "\n"
   ]
  },
  {
   "cell_type": "markdown",
   "metadata": {},
   "source": [
    "# Packages"
   ]
  },
  {
   "cell_type": "code",
   "execution_count": 31,
   "metadata": {},
   "outputs": [],
   "source": [
    "\n",
    "#import Pkg; Pkg.add(\"pkg\")\n",
    "using Pkg"
   ]
  },
  {
   "cell_type": "code",
   "execution_count": 32,
   "metadata": {},
   "outputs": [
    {
     "name": "stderr",
     "output_type": "stream",
     "text": [
      "┌ Warning: Pkg.installed() is deprecated\n",
      "└ @ Pkg /Users/julia/buildbot/worker/package_macos64/build/usr/share/julia/stdlib/v1.4/Pkg/src/Pkg.jl:531\n"
     ]
    },
    {
     "data": {
      "text/plain": [
       "Dict{String,VersionNumber} with 2 entries:\n",
       "  \"Conda\"  => v\"1.4.1\"\n",
       "  \"IJulia\" => v\"1.21.1\""
      ]
     },
     "execution_count": 32,
     "metadata": {},
     "output_type": "execute_result"
    }
   ],
   "source": [
    "Pkg.installed()"
   ]
  },
  {
   "cell_type": "code",
   "execution_count": 33,
   "metadata": {},
   "outputs": [
    {
     "ename": "Pkg.Types.PkgError",
     "evalue": "The following package names could not be resolved:\n * Statistics (not found in project or manifest)\n",
     "output_type": "error",
     "traceback": [
      "The following package names could not be resolved:\n * Statistics (not found in project or manifest)\n",
      "",
      "Stacktrace:",
      " [1] pkgerror(::String) at /Users/julia/buildbot/worker/package_macos64/build/usr/share/julia/stdlib/v1.4/Pkg/src/Types.jl:53",
      " [2] ensure_resolved(::Pkg.Types.Context, ::Array{Pkg.Types.PackageSpec,1}; registry::Bool) at /Users/julia/buildbot/worker/package_macos64/build/usr/share/julia/stdlib/v1.4/Pkg/src/Types.jl:794",
      " [3] ensure_resolved at /Users/julia/buildbot/worker/package_macos64/build/usr/share/julia/stdlib/v1.4/Pkg/src/Types.jl:759 [inlined]",
      " [4] rm(::Pkg.Types.Context, ::Array{Pkg.Types.PackageSpec,1}; mode::Pkg.Types.PackageMode, kwargs::Base.Iterators.Pairs{Union{},Union{},Tuple{},NamedTuple{(),Tuple{}}}) at /Users/julia/buildbot/worker/package_macos64/build/usr/share/julia/stdlib/v1.4/Pkg/src/API.jl:186",
      " [5] rm at /Users/julia/buildbot/worker/package_macos64/build/usr/share/julia/stdlib/v1.4/Pkg/src/API.jl:168 [inlined]",
      " [6] #rm#39 at /Users/julia/buildbot/worker/package_macos64/build/usr/share/julia/stdlib/v1.4/Pkg/src/API.jl:165 [inlined]",
      " [7] rm at /Users/julia/buildbot/worker/package_macos64/build/usr/share/julia/stdlib/v1.4/Pkg/src/API.jl:165 [inlined]",
      " [8] #rm#38 at /Users/julia/buildbot/worker/package_macos64/build/usr/share/julia/stdlib/v1.4/Pkg/src/API.jl:164 [inlined]",
      " [9] rm at /Users/julia/buildbot/worker/package_macos64/build/usr/share/julia/stdlib/v1.4/Pkg/src/API.jl:164 [inlined]",
      " [10] rm(::String; kwargs::Base.Iterators.Pairs{Union{},Union{},Tuple{},NamedTuple{(),Tuple{}}}) at /Users/julia/buildbot/worker/package_macos64/build/usr/share/julia/stdlib/v1.4/Pkg/src/API.jl:163",
      " [11] rm(::String) at /Users/julia/buildbot/worker/package_macos64/build/usr/share/julia/stdlib/v1.4/Pkg/src/API.jl:163",
      " [12] top-level scope at In[33]:1"
     ]
    }
   ],
   "source": [
    "Pkg.rm(\"Statistics\")"
   ]
  },
  {
   "cell_type": "code",
   "execution_count": 34,
   "metadata": {},
   "outputs": [
    {
     "name": "stderr",
     "output_type": "stream",
     "text": [
      "\u001b[32m\u001b[1m  Resolving\u001b[22m\u001b[39m package versions...\n",
      "\u001b[32m\u001b[1m  Installed\u001b[22m\u001b[39m ZeroMQ_jll ─ v4.3.2+2\n",
      "######################################################################### 100,0%\n",
      "\u001b[32m\u001b[1m   Updating\u001b[22m\u001b[39m `~/.julia/environments/v1.4/Project.toml`\n",
      " \u001b[90m [10745b16]\u001b[39m\u001b[92m + Statistics \u001b[39m\n",
      "\u001b[32m\u001b[1m   Updating\u001b[22m\u001b[39m `~/.julia/environments/v1.4/Manifest.toml`\n",
      " \u001b[90m [8f1865be]\u001b[39m\u001b[93m ↑ ZeroMQ_jll v4.3.2+1 ⇒ v4.3.2+2\u001b[39m\n",
      " \u001b[90m [37e2e46d]\u001b[39m\u001b[92m + LinearAlgebra \u001b[39m\n",
      " \u001b[90m [2f01184e]\u001b[39m\u001b[92m + SparseArrays \u001b[39m\n",
      " \u001b[90m [10745b16]\u001b[39m\u001b[92m + Statistics \u001b[39m\n"
     ]
    }
   ],
   "source": [
    "Pkg.add(\"Statistics\")"
   ]
  },
  {
   "cell_type": "code",
   "execution_count": 35,
   "metadata": {},
   "outputs": [],
   "source": [
    "using Statistics"
   ]
  },
  {
   "cell_type": "code",
   "execution_count": 36,
   "metadata": {},
   "outputs": [
    {
     "data": {
      "text/plain": [
       "6.333333333333333"
      ]
     },
     "execution_count": 36,
     "metadata": {},
     "output_type": "execute_result"
    }
   ],
   "source": [
    "mean([3,7,9])"
   ]
  },
  {
   "cell_type": "markdown",
   "metadata": {},
   "source": [
    "## Vecteur / Matrice"
   ]
  },
  {
   "cell_type": "code",
   "execution_count": 37,
   "metadata": {},
   "outputs": [
    {
     "name": "stderr",
     "output_type": "stream",
     "text": [
      "\u001b[32m\u001b[1m  Resolving\u001b[22m\u001b[39m package versions...\n",
      "\u001b[32m\u001b[1m   Updating\u001b[22m\u001b[39m `~/.julia/environments/v1.4/Project.toml`\n",
      " \u001b[90m [9a3f8284]\u001b[39m\u001b[92m + Random \u001b[39m\n",
      "\u001b[32m\u001b[1m   Updating\u001b[22m\u001b[39m `~/.julia/environments/v1.4/Manifest.toml`\n",
      "\u001b[90m [no changes]\u001b[39m\n"
     ]
    }
   ],
   "source": [
    "using Pkg\n",
    "Pkg.add(\"Random\")"
   ]
  },
  {
   "cell_type": "code",
   "execution_count": 38,
   "metadata": {},
   "outputs": [
    {
     "data": {
      "text/plain": [
       "3×4 Array{Float64,2}:\n",
       " 0.159644  0.173663  0.0285846  0.443428\n",
       " 0.433514  0.245374  0.973999   0.651442\n",
       " 0.986535  0.203326  0.359514   0.656822"
      ]
     },
     "execution_count": 38,
     "metadata": {},
     "output_type": "execute_result"
    }
   ],
   "source": [
    "rand(3,4)"
   ]
  },
  {
   "cell_type": "code",
   "execution_count": 39,
   "metadata": {},
   "outputs": [
    {
     "data": {
      "text/plain": [
       "10×2 Array{Float64,2}:\n",
       " -0.872148  -1.70289\n",
       " -0.207476  -0.437814\n",
       "  1.59294    1.22184\n",
       " -0.925971   0.909173\n",
       "  0.44042   -0.67565\n",
       "  1.02779    0.254209\n",
       " -1.42489   -1.4712\n",
       " -2.10708   -1.0328\n",
       " -0.499789  -0.219164\n",
       "  0.472495  -1.93044"
      ]
     },
     "execution_count": 39,
     "metadata": {},
     "output_type": "execute_result"
    }
   ],
   "source": [
    "# normalement distribué\n",
    "randn(10,2)"
   ]
  },
  {
   "cell_type": "code",
   "execution_count": 43,
   "metadata": {},
   "outputs": [
    {
     "data": {
      "text/plain": [
       "\"OLFHLEVRSHSGRYETGMLQAXCMXLFDNDKEMBZRPBDPRRLTFXDKSQ\""
      ]
     },
     "execution_count": 43,
     "metadata": {},
     "output_type": "execute_result"
    }
   ],
   "source": [
    "using Random\n",
    "\n",
    "Random.seed!(0);\n",
    "\n",
    "randstring(12)\n",
    "randstring('A':'Z',50)"
   ]
  },
  {
   "cell_type": "code",
   "execution_count": 45,
   "metadata": {},
   "outputs": [
    {
     "data": {
      "text/plain": [
       "10-element Array{Int64,1}:\n",
       "  1\n",
       "  2\n",
       "  3\n",
       "  4\n",
       "  5\n",
       "  6\n",
       "  7\n",
       "  8\n",
       "  9\n",
       " 10"
      ]
     },
     "execution_count": 45,
     "metadata": {},
     "output_type": "execute_result"
    }
   ],
   "source": [
    "# création d'un vecteur\n",
    "v1 = Vector(1:10)"
   ]
  },
  {
   "cell_type": "code",
   "execution_count": 46,
   "metadata": {},
   "outputs": [
    {
     "data": {
      "text/plain": [
       "2×5 Array{Int64,2}:\n",
       " 1  3  5  7   9\n",
       " 2  4  6  8  10"
      ]
     },
     "execution_count": 46,
     "metadata": {},
     "output_type": "execute_result"
    }
   ],
   "source": [
    "# création d'une matrice en fonction d'un vecteur\n",
    "reshape(v1,(2,5))"
   ]
  },
  {
   "cell_type": "code",
   "execution_count": 47,
   "metadata": {},
   "outputs": [
    {
     "data": {
      "text/plain": [
       "3×5 Array{Float64,2}:\n",
       " 1.0  1.0  1.0  1.0  1.0\n",
       " 1.0  1.0  1.0  1.0  1.0\n",
       " 1.0  1.0  1.0  1.0  1.0"
      ]
     },
     "execution_count": 47,
     "metadata": {},
     "output_type": "execute_result"
    }
   ],
   "source": [
    "ones(3,5)"
   ]
  },
  {
   "cell_type": "code",
   "execution_count": 48,
   "metadata": {},
   "outputs": [
    {
     "data": {
      "text/plain": [
       "3×5 Array{Float64,2}:\n",
       " 0.0  0.0  0.0  0.0  0.0\n",
       " 0.0  0.0  0.0  0.0  0.0\n",
       " 0.0  0.0  0.0  0.0  0.0"
      ]
     },
     "execution_count": 48,
     "metadata": {},
     "output_type": "execute_result"
    }
   ],
   "source": [
    "zeros(3,5)"
   ]
  },
  {
   "cell_type": "code",
   "execution_count": 49,
   "metadata": {},
   "outputs": [
    {
     "data": {
      "text/plain": [
       "3×5×6 Array{Float64,3}:\n",
       "[:, :, 1] =\n",
       " 0.0  0.0  0.0  0.0  0.0\n",
       " 0.0  0.0  0.0  0.0  0.0\n",
       " 0.0  0.0  0.0  0.0  0.0\n",
       "\n",
       "[:, :, 2] =\n",
       " 0.0  0.0  0.0  0.0  0.0\n",
       " 0.0  0.0  0.0  0.0  0.0\n",
       " 0.0  0.0  0.0  0.0  0.0\n",
       "\n",
       "[:, :, 3] =\n",
       " 0.0  0.0  0.0  0.0  0.0\n",
       " 0.0  0.0  0.0  0.0  0.0\n",
       " 0.0  0.0  0.0  0.0  0.0\n",
       "\n",
       "[:, :, 4] =\n",
       " 0.0  0.0  0.0  0.0  0.0\n",
       " 0.0  0.0  0.0  0.0  0.0\n",
       " 0.0  0.0  0.0  0.0  0.0\n",
       "\n",
       "[:, :, 5] =\n",
       " 0.0  0.0  0.0  0.0  0.0\n",
       " 0.0  0.0  0.0  0.0  0.0\n",
       " 0.0  0.0  0.0  0.0  0.0\n",
       "\n",
       "[:, :, 6] =\n",
       " 0.0  0.0  0.0  0.0  0.0\n",
       " 0.0  0.0  0.0  0.0  0.0\n",
       " 0.0  0.0  0.0  0.0  0.0"
      ]
     },
     "execution_count": 49,
     "metadata": {},
     "output_type": "execute_result"
    }
   ],
   "source": [
    "# 6 matrices\n",
    "zeros(3,5,6)"
   ]
  },
  {
   "cell_type": "code",
   "execution_count": 50,
   "metadata": {},
   "outputs": [],
   "source": [
    "using LinearAlgebra"
   ]
  },
  {
   "cell_type": "code",
   "execution_count": 51,
   "metadata": {},
   "outputs": [
    {
     "data": {
      "text/plain": [
       "4×4 Diagonal{Bool,Array{Bool,1}}:\n",
       " 1  ⋅  ⋅  ⋅\n",
       " ⋅  1  ⋅  ⋅\n",
       " ⋅  ⋅  1  ⋅\n",
       " ⋅  ⋅  ⋅  1"
      ]
     },
     "execution_count": 51,
     "metadata": {},
     "output_type": "execute_result"
    }
   ],
   "source": [
    "I(4)"
   ]
  },
  {
   "cell_type": "code",
   "execution_count": 52,
   "metadata": {},
   "outputs": [
    {
     "data": {
      "text/plain": [
       "3×3 Array{Int64,2}:\n",
       " 2  4  5\n",
       " 1  2  3\n",
       " 6  7  8"
      ]
     },
     "execution_count": 52,
     "metadata": {},
     "output_type": "execute_result"
    }
   ],
   "source": [
    "M = [2 4 5; 1 2 3 ; 6 7 8]"
   ]
  },
  {
   "cell_type": "code",
   "execution_count": 55,
   "metadata": {},
   "outputs": [
    {
     "name": "stdout",
     "output_type": "stream",
     "text": [
      "Array{Int64,2}\n"
     ]
    },
    {
     "data": {
      "text/plain": [
       "(3, 3)"
      ]
     },
     "execution_count": 55,
     "metadata": {},
     "output_type": "execute_result"
    }
   ],
   "source": [
    "println(typeof(M))\n",
    "size(M)"
   ]
  },
  {
   "cell_type": "code",
   "execution_count": 58,
   "metadata": {},
   "outputs": [
    {
     "data": {
      "text/plain": [
       "3-element Array{Int64,1}:\n",
       " 4\n",
       " 2\n",
       " 7"
      ]
     },
     "execution_count": 58,
     "metadata": {},
     "output_type": "execute_result"
    }
   ],
   "source": [
    "# affiche la première ligne de toutes les colonnes\n",
    "M[1,:]\n",
    "# affiche la deuxième colonne de toutes les lignes\n",
    "M[:,2]"
   ]
  },
  {
   "cell_type": "code",
   "execution_count": 62,
   "metadata": {},
   "outputs": [
    {
     "data": {
      "text/plain": [
       "6×3 Array{Int64,2}:\n",
       " 2  4  5\n",
       " 1  2  3\n",
       " 6  7  8\n",
       " 3  3  3\n",
       " 4  4  4\n",
       " 5  5  5"
      ]
     },
     "execution_count": 62,
     "metadata": {},
     "output_type": "execute_result"
    }
   ],
   "source": [
    "N = [3 3 3; 4 4 4; 5 5 5]\n",
    "\n",
    "# concaténation horizontale\n",
    "\n",
    "[M N]\n",
    "\n",
    "# concaténation verticale\n",
    "\n",
    "[M;N]"
   ]
  },
  {
   "cell_type": "code",
   "execution_count": 63,
   "metadata": {},
   "outputs": [
    {
     "data": {
      "text/plain": [
       "3×6 Array{Int64,2}:\n",
       " 2  4  5  3  3  3\n",
       " 1  2  3  4  4  4\n",
       " 6  7  8  5  5  5"
      ]
     },
     "execution_count": 63,
     "metadata": {},
     "output_type": "execute_result"
    }
   ],
   "source": [
    "hcat(M,N)"
   ]
  },
  {
   "cell_type": "code",
   "execution_count": 64,
   "metadata": {},
   "outputs": [
    {
     "data": {
      "text/plain": [
       "6×3 Array{Int64,2}:\n",
       " 2  4  5\n",
       " 1  2  3\n",
       " 6  7  8\n",
       " 3  3  3\n",
       " 4  4  4\n",
       " 5  5  5"
      ]
     },
     "execution_count": 64,
     "metadata": {},
     "output_type": "execute_result"
    }
   ],
   "source": [
    "vcat(M,N)"
   ]
  },
  {
   "cell_type": "code",
   "execution_count": 65,
   "metadata": {},
   "outputs": [
    {
     "data": {
      "text/plain": [
       "3×3 Transpose{Int64,Array{Int64,2}}:\n",
       " 2  1  6\n",
       " 4  2  7\n",
       " 5  3  8"
      ]
     },
     "execution_count": 65,
     "metadata": {},
     "output_type": "execute_result"
    }
   ],
   "source": [
    "transpose(M)"
   ]
  },
  {
   "cell_type": "code",
   "execution_count": 66,
   "metadata": {},
   "outputs": [
    {
     "data": {
      "text/plain": [
       "12"
      ]
     },
     "execution_count": 66,
     "metadata": {},
     "output_type": "execute_result"
    }
   ],
   "source": [
    "tr(M)"
   ]
  },
  {
   "cell_type": "code",
   "execution_count": 67,
   "metadata": {},
   "outputs": [
    {
     "data": {
      "text/plain": [
       "5.000000000000001"
      ]
     },
     "execution_count": 67,
     "metadata": {},
     "output_type": "execute_result"
    }
   ],
   "source": [
    "det(M)"
   ]
  },
  {
   "cell_type": "code",
   "execution_count": 68,
   "metadata": {},
   "outputs": [
    {
     "data": {
      "text/plain": [
       "3×3 Array{Float64,2}:\n",
       " -1.0   0.6   0.4\n",
       "  2.0  -2.8  -0.2\n",
       " -1.0   2.0   0.0"
      ]
     },
     "execution_count": 68,
     "metadata": {},
     "output_type": "execute_result"
    }
   ],
   "source": [
    "inv(M)"
   ]
  },
  {
   "cell_type": "code",
   "execution_count": 69,
   "metadata": {},
   "outputs": [
    {
     "data": {
      "text/plain": [
       "3×3 LowerTriangular{Int64,Array{Int64,2}}:\n",
       " 2  ⋅  ⋅\n",
       " 1  2  ⋅\n",
       " 6  7  8"
      ]
     },
     "execution_count": 69,
     "metadata": {},
     "output_type": "execute_result"
    }
   ],
   "source": [
    "UpperTriangular(M)\n",
    "LowerTriangular(M)"
   ]
  },
  {
   "cell_type": "code",
   "execution_count": 70,
   "metadata": {},
   "outputs": [
    {
     "data": {
      "text/plain": [
       "3-element Array{Float64,1}:\n",
       " -1.1044153791166504\n",
       " -0.33682037890518185\n",
       " 13.441235758021847"
      ]
     },
     "execution_count": 70,
     "metadata": {},
     "output_type": "execute_result"
    }
   ],
   "source": [
    "# valeurs propres\n",
    "# vecteurs propres\n",
    "\n",
    "eigvecs(M)\n",
    "eigvals(M)"
   ]
  },
  {
   "cell_type": "markdown",
   "metadata": {},
   "source": [
    "# Dataframes"
   ]
  },
  {
   "cell_type": "code",
   "execution_count": 71,
   "metadata": {},
   "outputs": [],
   "source": [
    "using Pkg"
   ]
  },
  {
   "cell_type": "code",
   "execution_count": 72,
   "metadata": {},
   "outputs": [
    {
     "name": "stderr",
     "output_type": "stream",
     "text": [
      "\u001b[32m\u001b[1m  Resolving\u001b[22m\u001b[39m package versions...\n",
      "\u001b[32m\u001b[1m  Installed\u001b[22m\u001b[39m DataValueInterfaces ───────── v1.0.0\n",
      "\u001b[32m\u001b[1m  Installed\u001b[22m\u001b[39m Missings ──────────────────── v0.4.3\n",
      "\u001b[32m\u001b[1m  Installed\u001b[22m\u001b[39m Reexport ──────────────────── v0.2.0\n",
      "\u001b[32m\u001b[1m  Installed\u001b[22m\u001b[39m IteratorInterfaceExtensions ─ v1.0.0\n",
      "\u001b[32m\u001b[1m  Installed\u001b[22m\u001b[39m Compat ────────────────────── v3.8.0\n",
      "\u001b[32m\u001b[1m  Installed\u001b[22m\u001b[39m DataStructures ────────────── v0.17.13\n",
      "\u001b[32m\u001b[1m  Installed\u001b[22m\u001b[39m CategoricalArrays ─────────── v0.7.7\n",
      "\u001b[32m\u001b[1m  Installed\u001b[22m\u001b[39m DataFrames ────────────────── v0.20.2\n",
      "\u001b[32m\u001b[1m  Installed\u001b[22m\u001b[39m TableTraits ───────────────── v1.0.0\n",
      "\u001b[32m\u001b[1m  Installed\u001b[22m\u001b[39m DataAPI ───────────────────── v1.2.0\n",
      "\u001b[32m\u001b[1m  Installed\u001b[22m\u001b[39m SortingAlgorithms ─────────── v0.3.1\n",
      "\u001b[32m\u001b[1m  Installed\u001b[22m\u001b[39m OrderedCollections ────────── v1.1.0\n",
      "\u001b[32m\u001b[1m  Installed\u001b[22m\u001b[39m PooledArrays ──────────────── v0.5.3\n",
      "\u001b[32m\u001b[1m  Installed\u001b[22m\u001b[39m InvertedIndices ───────────── v1.0.0\n",
      "\u001b[32m\u001b[1m  Installed\u001b[22m\u001b[39m Tables ────────────────────── v1.0.4\n",
      "\u001b[32m\u001b[1m   Updating\u001b[22m\u001b[39m `~/.julia/environments/v1.4/Project.toml`\n",
      " \u001b[90m [a93c6f00]\u001b[39m\u001b[92m + DataFrames v0.20.2\u001b[39m\n",
      "\u001b[32m\u001b[1m   Updating\u001b[22m\u001b[39m `~/.julia/environments/v1.4/Manifest.toml`\n",
      " \u001b[90m [324d7699]\u001b[39m\u001b[92m + CategoricalArrays v0.7.7\u001b[39m\n",
      " \u001b[90m [34da2185]\u001b[39m\u001b[92m + Compat v3.8.0\u001b[39m\n",
      " \u001b[90m [9a962f9c]\u001b[39m\u001b[92m + DataAPI v1.2.0\u001b[39m\n",
      " \u001b[90m [a93c6f00]\u001b[39m\u001b[92m + DataFrames v0.20.2\u001b[39m\n",
      " \u001b[90m [864edb3b]\u001b[39m\u001b[92m + DataStructures v0.17.13\u001b[39m\n",
      " \u001b[90m [e2d170a0]\u001b[39m\u001b[92m + DataValueInterfaces v1.0.0\u001b[39m\n",
      " \u001b[90m [41ab1584]\u001b[39m\u001b[92m + InvertedIndices v1.0.0\u001b[39m\n",
      " \u001b[90m [82899510]\u001b[39m\u001b[92m + IteratorInterfaceExtensions v1.0.0\u001b[39m\n",
      " \u001b[90m [e1d29d7a]\u001b[39m\u001b[92m + Missings v0.4.3\u001b[39m\n",
      " \u001b[90m [bac558e1]\u001b[39m\u001b[92m + OrderedCollections v1.1.0\u001b[39m\n",
      " \u001b[90m [2dfb63ee]\u001b[39m\u001b[92m + PooledArrays v0.5.3\u001b[39m\n",
      " \u001b[90m [189a3867]\u001b[39m\u001b[92m + Reexport v0.2.0\u001b[39m\n",
      " \u001b[90m [a2af1166]\u001b[39m\u001b[92m + SortingAlgorithms v0.3.1\u001b[39m\n",
      " \u001b[90m [3783bdb8]\u001b[39m\u001b[92m + TableTraits v1.0.0\u001b[39m\n",
      " \u001b[90m [bd369af6]\u001b[39m\u001b[92m + Tables v1.0.4\u001b[39m\n",
      " \u001b[90m [8bb1440f]\u001b[39m\u001b[92m + DelimitedFiles \u001b[39m\n",
      " \u001b[90m [9fa8497b]\u001b[39m\u001b[92m + Future \u001b[39m\n",
      " \u001b[90m [1a1011a3]\u001b[39m\u001b[92m + SharedArrays \u001b[39m\n"
     ]
    }
   ],
   "source": [
    "Pkg.add(\"DataFrames\")"
   ]
  },
  {
   "cell_type": "code",
   "execution_count": 73,
   "metadata": {},
   "outputs": [
    {
     "name": "stderr",
     "output_type": "stream",
     "text": [
      "┌ Info: Precompiling DataFrames [a93c6f00-e57d-5684-b7b6-d8193f3e46c0]\n",
      "└ @ Base loading.jl:1260\n"
     ]
    }
   ],
   "source": [
    "using DataFrames"
   ]
  },
  {
   "cell_type": "code",
   "execution_count": 74,
   "metadata": {},
   "outputs": [
    {
     "data": {
      "text/html": [
       "<table class=\"data-frame\"><thead><tr><th></th></tr><tr><th></th></tr></thead><tbody><p>0 rows × 0 columns</p></tbody></table>"
      ],
      "text/latex": [
       "\\begin{tabular}{r|}\n",
       "\t& \\\\\n",
       "\t\\hline\n",
       "\t& \\\\\n",
       "\t\\hline\n",
       "\\end{tabular}\n"
      ],
      "text/plain": [
       "0×0 DataFrame\n"
      ]
     },
     "execution_count": 74,
     "metadata": {},
     "output_type": "execute_result"
    }
   ],
   "source": [
    "DataFrame()"
   ]
  },
  {
   "cell_type": "code",
   "execution_count": 75,
   "metadata": {},
   "outputs": [
    {
     "data": {
      "text/html": [
       "<table class=\"data-frame\"><thead><tr><th></th><th>A</th><th>B</th></tr><tr><th></th><th>Int64</th><th>Float64</th></tr></thead><tbody><p>4 rows × 2 columns</p><tr><th>1</th><td>1</td><td>0.489394</td></tr><tr><th>2</th><td>2</td><td>0.105433</td></tr><tr><th>3</th><td>3</td><td>0.961397</td></tr><tr><th>4</th><td>4</td><td>0.349087</td></tr></tbody></table>"
      ],
      "text/latex": [
       "\\begin{tabular}{r|cc}\n",
       "\t& A & B\\\\\n",
       "\t\\hline\n",
       "\t& Int64 & Float64\\\\\n",
       "\t\\hline\n",
       "\t1 & 1 & 0.489394 \\\\\n",
       "\t2 & 2 & 0.105433 \\\\\n",
       "\t3 & 3 & 0.961397 \\\\\n",
       "\t4 & 4 & 0.349087 \\\\\n",
       "\\end{tabular}\n"
      ],
      "text/plain": [
       "4×2 DataFrame\n",
       "│ Row │ A     │ B        │\n",
       "│     │ \u001b[90mInt64\u001b[39m │ \u001b[90mFloat64\u001b[39m  │\n",
       "├─────┼───────┼──────────┤\n",
       "│ 1   │ 1     │ 0.489394 │\n",
       "│ 2   │ 2     │ 0.105433 │\n",
       "│ 3   │ 3     │ 0.961397 │\n",
       "│ 4   │ 4     │ 0.349087 │"
      ]
     },
     "execution_count": 75,
     "metadata": {},
     "output_type": "execute_result"
    }
   ],
   "source": [
    "DataFrame(A=1:4,B=rand(4))"
   ]
  },
  {
   "cell_type": "code",
   "execution_count": 77,
   "metadata": {},
   "outputs": [
    {
     "data": {
      "text/html": [
       "<table class=\"data-frame\"><thead><tr><th></th><th>x1</th><th>x2</th><th>x3</th></tr><tr><th></th><th>Float64</th><th>Float64</th><th>Float64</th></tr></thead><tbody><p>10 rows × 3 columns</p><tr><th>1</th><td>0.649745</td><td>0.672428</td><td>0.798085</td></tr><tr><th>2</th><td>0.247429</td><td>0.986483</td><td>0.995579</td></tr><tr><th>3</th><td>0.791442</td><td>0.109106</td><td>0.967356</td></tr><tr><th>4</th><td>0.874324</td><td>0.96941</td><td>0.211811</td></tr><tr><th>5</th><td>0.352864</td><td>0.473073</td><td>0.870802</td></tr><tr><th>6</th><td>0.231189</td><td>0.61568</td><td>0.847825</td></tr><tr><th>7</th><td>0.856535</td><td>0.799643</td><td>0.859872</td></tr><tr><th>8</th><td>0.927402</td><td>0.934688</td><td>0.779797</td></tr><tr><th>9</th><td>0.494098</td><td>0.635913</td><td>0.788713</td></tr><tr><th>10</th><td>0.787186</td><td>0.623569</td><td>0.9837</td></tr></tbody></table>"
      ],
      "text/latex": [
       "\\begin{tabular}{r|ccc}\n",
       "\t& x1 & x2 & x3\\\\\n",
       "\t\\hline\n",
       "\t& Float64 & Float64 & Float64\\\\\n",
       "\t\\hline\n",
       "\t1 & 0.649745 & 0.672428 & 0.798085 \\\\\n",
       "\t2 & 0.247429 & 0.986483 & 0.995579 \\\\\n",
       "\t3 & 0.791442 & 0.109106 & 0.967356 \\\\\n",
       "\t4 & 0.874324 & 0.96941 & 0.211811 \\\\\n",
       "\t5 & 0.352864 & 0.473073 & 0.870802 \\\\\n",
       "\t6 & 0.231189 & 0.61568 & 0.847825 \\\\\n",
       "\t7 & 0.856535 & 0.799643 & 0.859872 \\\\\n",
       "\t8 & 0.927402 & 0.934688 & 0.779797 \\\\\n",
       "\t9 & 0.494098 & 0.635913 & 0.788713 \\\\\n",
       "\t10 & 0.787186 & 0.623569 & 0.9837 \\\\\n",
       "\\end{tabular}\n"
      ],
      "text/plain": [
       "10×3 DataFrame\n",
       "│ Row │ x1       │ x2       │ x3       │\n",
       "│     │ \u001b[90mFloat64\u001b[39m  │ \u001b[90mFloat64\u001b[39m  │ \u001b[90mFloat64\u001b[39m  │\n",
       "├─────┼──────────┼──────────┼──────────┤\n",
       "│ 1   │ 0.649745 │ 0.672428 │ 0.798085 │\n",
       "│ 2   │ 0.247429 │ 0.986483 │ 0.995579 │\n",
       "│ 3   │ 0.791442 │ 0.109106 │ 0.967356 │\n",
       "│ 4   │ 0.874324 │ 0.96941  │ 0.211811 │\n",
       "│ 5   │ 0.352864 │ 0.473073 │ 0.870802 │\n",
       "│ 6   │ 0.231189 │ 0.61568  │ 0.847825 │\n",
       "│ 7   │ 0.856535 │ 0.799643 │ 0.859872 │\n",
       "│ 8   │ 0.927402 │ 0.934688 │ 0.779797 │\n",
       "│ 9   │ 0.494098 │ 0.635913 │ 0.788713 │\n",
       "│ 10  │ 0.787186 │ 0.623569 │ 0.9837   │"
      ]
     },
     "execution_count": 77,
     "metadata": {},
     "output_type": "execute_result"
    }
   ],
   "source": [
    "X = DataFrame(rand(10,3))"
   ]
  },
  {
   "cell_type": "code",
   "execution_count": 79,
   "metadata": {},
   "outputs": [
    {
     "data": {
      "text/plain": [
       "10×3 Array{Float64,2}:\n",
       " 0.649745  0.672428  0.798085\n",
       " 0.247429  0.986483  0.995579\n",
       " 0.791442  0.109106  0.967356\n",
       " 0.874324  0.96941   0.211811\n",
       " 0.352864  0.473073  0.870802\n",
       " 0.231189  0.61568   0.847825\n",
       " 0.856535  0.799643  0.859872\n",
       " 0.927402  0.934688  0.779797\n",
       " 0.494098  0.635913  0.788713\n",
       " 0.787186  0.623569  0.9837"
      ]
     },
     "execution_count": 79,
     "metadata": {},
     "output_type": "execute_result"
    }
   ],
   "source": [
    "Matrix(X)"
   ]
  },
  {
   "cell_type": "code",
   "execution_count": 80,
   "metadata": {},
   "outputs": [
    {
     "name": "stderr",
     "output_type": "stream",
     "text": [
      "\u001b[32m\u001b[1m  Resolving\u001b[22m\u001b[39m package versions...\n",
      "\u001b[32m\u001b[1m   Updating\u001b[22m\u001b[39m `~/.julia/environments/v1.4/Project.toml`\n",
      " \u001b[90m [bd369af6]\u001b[39m\u001b[92m + Tables v1.0.4\u001b[39m\n",
      "\u001b[32m\u001b[1m   Updating\u001b[22m\u001b[39m `~/.julia/environments/v1.4/Manifest.toml`\n",
      "\u001b[90m [no changes]\u001b[39m\n"
     ]
    }
   ],
   "source": [
    "Pkg.add(\"Tables\")\n",
    "using Tables"
   ]
  },
  {
   "cell_type": "code",
   "execution_count": 82,
   "metadata": {},
   "outputs": [
    {
     "data": {
      "text/plain": [
       "(x1 = [0.6497451998147596, 0.247428892727096, 0.7914417386074315, 0.8743235824284137, 0.352864226012255, 0.23118870402002512, 0.8565350983756563, 0.9274015747675677, 0.4940978169045469, 0.787186407666908], x2 = [0.672427919114551, 0.9864831739067923, 0.10910599387291864, 0.9694100141748792, 0.47307332326562324, 0.6156798776750181, 0.7996429251974042, 0.9346881331111832, 0.6359132720417195, 0.6235688259067236], x3 = [0.7980846330906555, 0.9955786499914108, 0.9673559723162592, 0.21181111832240918, 0.8708019894632759, 0.8478252090645395, 0.859872118415911, 0.7797967481547312, 0.7887131295878735, 0.9837003095024099])"
      ]
     },
     "execution_count": 82,
     "metadata": {},
     "output_type": "execute_result"
    }
   ],
   "source": [
    "tb = Tables.columntable(X)"
   ]
  },
  {
   "cell_type": "code",
   "execution_count": 83,
   "metadata": {},
   "outputs": [
    {
     "data": {
      "text/plain": [
       "NamedTuple{(:x1, :x2, :x3),Tuple{Array{Float64,1},Array{Float64,1},Array{Float64,1}}}"
      ]
     },
     "execution_count": 83,
     "metadata": {},
     "output_type": "execute_result"
    }
   ],
   "source": [
    "typeof(tb)"
   ]
  },
  {
   "cell_type": "code",
   "execution_count": 84,
   "metadata": {},
   "outputs": [
    {
     "data": {
      "text/plain": [
       "10-element Array{Float64,1}:\n",
       " 0.6497451998147596\n",
       " 0.247428892727096\n",
       " 0.7914417386074315\n",
       " 0.8743235824284137\n",
       " 0.352864226012255\n",
       " 0.23118870402002512\n",
       " 0.8565350983756563\n",
       " 0.9274015747675677\n",
       " 0.4940978169045469\n",
       " 0.787186407666908"
      ]
     },
     "execution_count": 84,
     "metadata": {},
     "output_type": "execute_result"
    }
   ],
   "source": [
    "tb.x1"
   ]
  },
  {
   "cell_type": "code",
   "execution_count": 85,
   "metadata": {},
   "outputs": [
    {
     "data": {
      "text/plain": [
       "3-element Array{Symbol,1}:\n",
       " :x1\n",
       " :x2\n",
       " :x3"
      ]
     },
     "execution_count": 85,
     "metadata": {},
     "output_type": "execute_result"
    }
   ],
   "source": [
    "names(X)"
   ]
  },
  {
   "cell_type": "code",
   "execution_count": 86,
   "metadata": {},
   "outputs": [
    {
     "data": {
      "text/plain": [
       "10"
      ]
     },
     "execution_count": 86,
     "metadata": {},
     "output_type": "execute_result"
    }
   ],
   "source": [
    "nrow(X)"
   ]
  },
  {
   "cell_type": "code",
   "execution_count": 87,
   "metadata": {},
   "outputs": [
    {
     "data": {
      "text/plain": [
       "3"
      ]
     },
     "execution_count": 87,
     "metadata": {},
     "output_type": "execute_result"
    }
   ],
   "source": [
    "ncol(X)"
   ]
  },
  {
   "cell_type": "code",
   "execution_count": 88,
   "metadata": {},
   "outputs": [
    {
     "data": {
      "text/html": [
       "<table class=\"data-frame\"><thead><tr><th></th><th>variable</th><th>mean</th><th>min</th><th>median</th><th>max</th><th>nunique</th><th>nmissing</th><th>eltype</th></tr><tr><th></th><th>Symbol</th><th>Float64</th><th>Float64</th><th>Float64</th><th>Float64</th><th>Nothing</th><th>Nothing</th><th>DataType</th></tr></thead><tbody><p>3 rows × 8 columns</p><tr><th>1</th><td>x1</td><td>0.621221</td><td>0.231189</td><td>0.718466</td><td>0.927402</td><td></td><td></td><td>Float64</td></tr><tr><th>2</th><td>x2</td><td>0.681999</td><td>0.109106</td><td>0.654171</td><td>0.986483</td><td></td><td></td><td>Float64</td></tr><tr><th>3</th><td>x3</td><td>0.810354</td><td>0.211811</td><td>0.853849</td><td>0.995579</td><td></td><td></td><td>Float64</td></tr></tbody></table>"
      ],
      "text/latex": [
       "\\begin{tabular}{r|cccccccc}\n",
       "\t& variable & mean & min & median & max & nunique & nmissing & eltype\\\\\n",
       "\t\\hline\n",
       "\t& Symbol & Float64 & Float64 & Float64 & Float64 & Nothing & Nothing & DataType\\\\\n",
       "\t\\hline\n",
       "\t1 & x1 & 0.621221 & 0.231189 & 0.718466 & 0.927402 &  &  & Float64 \\\\\n",
       "\t2 & x2 & 0.681999 & 0.109106 & 0.654171 & 0.986483 &  &  & Float64 \\\\\n",
       "\t3 & x3 & 0.810354 & 0.211811 & 0.853849 & 0.995579 &  &  & Float64 \\\\\n",
       "\\end{tabular}\n"
      ],
      "text/plain": [
       "3×8 DataFrame. Omitted printing of 2 columns\n",
       "│ Row │ variable │ mean     │ min      │ median   │ max      │ nunique │\n",
       "│     │ \u001b[90mSymbol\u001b[39m   │ \u001b[90mFloat64\u001b[39m  │ \u001b[90mFloat64\u001b[39m  │ \u001b[90mFloat64\u001b[39m  │ \u001b[90mFloat64\u001b[39m  │ \u001b[90mNothing\u001b[39m │\n",
       "├─────┼──────────┼──────────┼──────────┼──────────┼──────────┼─────────┤\n",
       "│ 1   │ x1       │ 0.621221 │ 0.231189 │ 0.718466 │ 0.927402 │         │\n",
       "│ 2   │ x2       │ 0.681999 │ 0.109106 │ 0.654171 │ 0.986483 │         │\n",
       "│ 3   │ x3       │ 0.810354 │ 0.211811 │ 0.853849 │ 0.995579 │         │"
      ]
     },
     "execution_count": 88,
     "metadata": {},
     "output_type": "execute_result"
    }
   ],
   "source": [
    "describe(X)"
   ]
  },
  {
   "cell_type": "code",
   "execution_count": 90,
   "metadata": {},
   "outputs": [
    {
     "data": {
      "text/plain": [
       "3-element Array{DataType,1}:\n",
       " Float64\n",
       " Float64\n",
       " Float64"
      ]
     },
     "execution_count": 90,
     "metadata": {},
     "output_type": "execute_result"
    }
   ],
   "source": [
    "eltype.(eachcol(X))"
   ]
  },
  {
   "cell_type": "code",
   "execution_count": 91,
   "metadata": {},
   "outputs": [
    {
     "data": {
      "text/html": [
       "<p>DataFrameRow (3 columns)</p><table class=\"data-frame\"><thead><tr><th></th><th>x1</th><th>x2</th><th>x3</th></tr><tr><th></th><th>Float64</th><th>Float64</th><th>Float64</th></tr></thead><tbody><tr><th>1</th><td>0.649745</td><td>0.672428</td><td>0.798085</td></tr></tbody></table>"
      ],
      "text/latex": [
       "\\begin{tabular}{r|ccc}\n",
       "\t& x1 & x2 & x3\\\\\n",
       "\t\\hline\n",
       "\t& Float64 & Float64 & Float64\\\\\n",
       "\t\\hline\n",
       "\t1 & 0.649745 & 0.672428 & 0.798085 \\\\\n",
       "\\end{tabular}\n"
      ],
      "text/plain": [
       "DataFrameRow\n",
       "│ Row │ x1       │ x2       │ x3       │\n",
       "│     │ \u001b[90mFloat64\u001b[39m  │ \u001b[90mFloat64\u001b[39m  │ \u001b[90mFloat64\u001b[39m  │\n",
       "├─────┼──────────┼──────────┼──────────┤\n",
       "│ 1   │ 0.649745 │ 0.672428 │ 0.798085 │"
      ]
     },
     "execution_count": 91,
     "metadata": {},
     "output_type": "execute_result"
    }
   ],
   "source": [
    "first(X)"
   ]
  },
  {
   "cell_type": "code",
   "execution_count": 92,
   "metadata": {},
   "outputs": [
    {
     "data": {
      "text/html": [
       "<table class=\"data-frame\"><thead><tr><th></th><th>x1</th><th>x2</th><th>x3</th></tr><tr><th></th><th>Float64</th><th>Float64</th><th>Float64</th></tr></thead><tbody><p>5 rows × 3 columns</p><tr><th>1</th><td>0.649745</td><td>0.672428</td><td>0.798085</td></tr><tr><th>2</th><td>0.247429</td><td>0.986483</td><td>0.995579</td></tr><tr><th>3</th><td>0.791442</td><td>0.109106</td><td>0.967356</td></tr><tr><th>4</th><td>0.874324</td><td>0.96941</td><td>0.211811</td></tr><tr><th>5</th><td>0.352864</td><td>0.473073</td><td>0.870802</td></tr></tbody></table>"
      ],
      "text/latex": [
       "\\begin{tabular}{r|ccc}\n",
       "\t& x1 & x2 & x3\\\\\n",
       "\t\\hline\n",
       "\t& Float64 & Float64 & Float64\\\\\n",
       "\t\\hline\n",
       "\t1 & 0.649745 & 0.672428 & 0.798085 \\\\\n",
       "\t2 & 0.247429 & 0.986483 & 0.995579 \\\\\n",
       "\t3 & 0.791442 & 0.109106 & 0.967356 \\\\\n",
       "\t4 & 0.874324 & 0.96941 & 0.211811 \\\\\n",
       "\t5 & 0.352864 & 0.473073 & 0.870802 \\\\\n",
       "\\end{tabular}\n"
      ],
      "text/plain": [
       "5×3 DataFrame\n",
       "│ Row │ x1       │ x2       │ x3       │\n",
       "│     │ \u001b[90mFloat64\u001b[39m  │ \u001b[90mFloat64\u001b[39m  │ \u001b[90mFloat64\u001b[39m  │\n",
       "├─────┼──────────┼──────────┼──────────┤\n",
       "│ 1   │ 0.649745 │ 0.672428 │ 0.798085 │\n",
       "│ 2   │ 0.247429 │ 0.986483 │ 0.995579 │\n",
       "│ 3   │ 0.791442 │ 0.109106 │ 0.967356 │\n",
       "│ 4   │ 0.874324 │ 0.96941  │ 0.211811 │\n",
       "│ 5   │ 0.352864 │ 0.473073 │ 0.870802 │"
      ]
     },
     "execution_count": 92,
     "metadata": {},
     "output_type": "execute_result"
    }
   ],
   "source": [
    "first(X,5)"
   ]
  },
  {
   "cell_type": "code",
   "execution_count": 93,
   "metadata": {},
   "outputs": [
    {
     "data": {
      "text/html": [
       "<table class=\"data-frame\"><thead><tr><th></th><th>x1</th><th>x2</th><th>x3</th></tr><tr><th></th><th>Float64</th><th>Float64</th><th>Float64</th></tr></thead><tbody><p>6 rows × 3 columns</p><tr><th>1</th><td>0.352864</td><td>0.473073</td><td>0.870802</td></tr><tr><th>2</th><td>0.231189</td><td>0.61568</td><td>0.847825</td></tr><tr><th>3</th><td>0.856535</td><td>0.799643</td><td>0.859872</td></tr><tr><th>4</th><td>0.927402</td><td>0.934688</td><td>0.779797</td></tr><tr><th>5</th><td>0.494098</td><td>0.635913</td><td>0.788713</td></tr><tr><th>6</th><td>0.787186</td><td>0.623569</td><td>0.9837</td></tr></tbody></table>"
      ],
      "text/latex": [
       "\\begin{tabular}{r|ccc}\n",
       "\t& x1 & x2 & x3\\\\\n",
       "\t\\hline\n",
       "\t& Float64 & Float64 & Float64\\\\\n",
       "\t\\hline\n",
       "\t1 & 0.352864 & 0.473073 & 0.870802 \\\\\n",
       "\t2 & 0.231189 & 0.61568 & 0.847825 \\\\\n",
       "\t3 & 0.856535 & 0.799643 & 0.859872 \\\\\n",
       "\t4 & 0.927402 & 0.934688 & 0.779797 \\\\\n",
       "\t5 & 0.494098 & 0.635913 & 0.788713 \\\\\n",
       "\t6 & 0.787186 & 0.623569 & 0.9837 \\\\\n",
       "\\end{tabular}\n"
      ],
      "text/plain": [
       "6×3 DataFrame\n",
       "│ Row │ x1       │ x2       │ x3       │\n",
       "│     │ \u001b[90mFloat64\u001b[39m  │ \u001b[90mFloat64\u001b[39m  │ \u001b[90mFloat64\u001b[39m  │\n",
       "├─────┼──────────┼──────────┼──────────┤\n",
       "│ 1   │ 0.352864 │ 0.473073 │ 0.870802 │\n",
       "│ 2   │ 0.231189 │ 0.61568  │ 0.847825 │\n",
       "│ 3   │ 0.856535 │ 0.799643 │ 0.859872 │\n",
       "│ 4   │ 0.927402 │ 0.934688 │ 0.779797 │\n",
       "│ 5   │ 0.494098 │ 0.635913 │ 0.788713 │\n",
       "│ 6   │ 0.787186 │ 0.623569 │ 0.9837   │"
      ]
     },
     "execution_count": 93,
     "metadata": {},
     "output_type": "execute_result"
    }
   ],
   "source": [
    "last(X,6)"
   ]
  },
  {
   "cell_type": "code",
   "execution_count": 99,
   "metadata": {},
   "outputs": [
    {
     "name": "stdout",
     "output_type": "stream",
     "text": [
      "7×2 DataFrame\n",
      "│ Row │ x1       │ x2       │\n",
      "│     │ \u001b[90mFloat64\u001b[39m  │ \u001b[90mFloat64\u001b[39m  │\n",
      "├─────┼──────────┼──────────┤\n",
      "│ 1   │ 0.649745 │ 0.672428 │\n",
      "│ 2   │ 0.247429 │ 0.986483 │\n",
      "│ 3   │ 0.791442 │ 0.109106 │\n",
      "│ 4   │ 0.874324 │ 0.96941  │\n",
      "│ 5   │ 0.352864 │ 0.473073 │\n",
      "│ 6   │ 0.231189 │ 0.61568  │\n",
      "│ 7   │ 0.856535 │ 0.799643 │\n",
      "[0.672427919114551, 0.9864831739067923, 0.10910599387291864, 0.9694100141748792, 0.47307332326562324, 0.6156798776750181, 0.7996429251974042, 0.9346881331111832, 0.6359132720417195, 0.6235688259067236]\n"
     ]
    },
    {
     "data": {
      "text/html": [
       "<table class=\"data-frame\"><thead><tr><th></th><th>x1</th><th>x2</th><th>x3</th></tr><tr><th></th><th>Float64</th><th>Float64</th><th>Float64</th></tr></thead><tbody><p>10 rows × 3 columns</p><tr><th>1</th><td>0.649745</td><td>0.672428</td><td>0.798085</td></tr><tr><th>2</th><td>0.247429</td><td>0.986483</td><td>0.995579</td></tr><tr><th>3</th><td>0.791442</td><td>0.109106</td><td>0.967356</td></tr><tr><th>4</th><td>0.874324</td><td>0.96941</td><td>0.211811</td></tr><tr><th>5</th><td>0.352864</td><td>0.473073</td><td>0.870802</td></tr><tr><th>6</th><td>0.231189</td><td>0.61568</td><td>0.847825</td></tr><tr><th>7</th><td>0.856535</td><td>0.799643</td><td>0.859872</td></tr><tr><th>8</th><td>0.927402</td><td>0.934688</td><td>0.779797</td></tr><tr><th>9</th><td>0.494098</td><td>0.635913</td><td>0.788713</td></tr><tr><th>10</th><td>0.787186</td><td>0.623569</td><td>0.9837</td></tr></tbody></table>"
      ],
      "text/latex": [
       "\\begin{tabular}{r|ccc}\n",
       "\t& x1 & x2 & x3\\\\\n",
       "\t\\hline\n",
       "\t& Float64 & Float64 & Float64\\\\\n",
       "\t\\hline\n",
       "\t1 & 0.649745 & 0.672428 & 0.798085 \\\\\n",
       "\t2 & 0.247429 & 0.986483 & 0.995579 \\\\\n",
       "\t3 & 0.791442 & 0.109106 & 0.967356 \\\\\n",
       "\t4 & 0.874324 & 0.96941 & 0.211811 \\\\\n",
       "\t5 & 0.352864 & 0.473073 & 0.870802 \\\\\n",
       "\t6 & 0.231189 & 0.61568 & 0.847825 \\\\\n",
       "\t7 & 0.856535 & 0.799643 & 0.859872 \\\\\n",
       "\t8 & 0.927402 & 0.934688 & 0.779797 \\\\\n",
       "\t9 & 0.494098 & 0.635913 & 0.788713 \\\\\n",
       "\t10 & 0.787186 & 0.623569 & 0.9837 \\\\\n",
       "\\end{tabular}\n"
      ],
      "text/plain": [
       "10×3 DataFrame\n",
       "│ Row │ x1       │ x2       │ x3       │\n",
       "│     │ \u001b[90mFloat64\u001b[39m  │ \u001b[90mFloat64\u001b[39m  │ \u001b[90mFloat64\u001b[39m  │\n",
       "├─────┼──────────┼──────────┼──────────┤\n",
       "│ 1   │ 0.649745 │ 0.672428 │ 0.798085 │\n",
       "│ 2   │ 0.247429 │ 0.986483 │ 0.995579 │\n",
       "│ 3   │ 0.791442 │ 0.109106 │ 0.967356 │\n",
       "│ 4   │ 0.874324 │ 0.96941  │ 0.211811 │\n",
       "│ 5   │ 0.352864 │ 0.473073 │ 0.870802 │\n",
       "│ 6   │ 0.231189 │ 0.61568  │ 0.847825 │\n",
       "│ 7   │ 0.856535 │ 0.799643 │ 0.859872 │\n",
       "│ 8   │ 0.927402 │ 0.934688 │ 0.779797 │\n",
       "│ 9   │ 0.494098 │ 0.635913 │ 0.788713 │\n",
       "│ 10  │ 0.787186 │ 0.623569 │ 0.9837   │"
      ]
     },
     "execution_count": 99,
     "metadata": {},
     "output_type": "execute_result"
    }
   ],
   "source": [
    "println(X[1:7,1:2])\n",
    "println(X[:,2])\n",
    "X[:, Between(:x1,:x3)]"
   ]
  },
  {
   "cell_type": "code",
   "execution_count": 100,
   "metadata": {},
   "outputs": [
    {
     "data": {
      "text/plain": [
       "10-element Array{Float64,1}:\n",
       " 0.4213556824985327\n",
       " 0.640916922922997\n",
       " 0.46650175878112354\n",
       " 0.816959794400085\n",
       " 0.675829875039778\n",
       " 0.3295549253442558\n",
       " 0.06796411863275487\n",
       " 0.08668399699258256\n",
       " 0.2530447657011352\n",
       " 0.6136216564217944"
      ]
     },
     "execution_count": 100,
     "metadata": {},
     "output_type": "execute_result"
    }
   ],
   "source": [
    "# création d'une variable\n",
    "\n",
    "X.x4 = rand(10)"
   ]
  },
  {
   "cell_type": "code",
   "execution_count": 101,
   "metadata": {},
   "outputs": [
    {
     "data": {
      "text/html": [
       "<table class=\"data-frame\"><thead><tr><th></th><th>x1</th><th>x2</th><th>x3</th><th>x4</th></tr><tr><th></th><th>Float64</th><th>Float64</th><th>Float64</th><th>Float64</th></tr></thead><tbody><p>10 rows × 4 columns</p><tr><th>1</th><td>0.649745</td><td>0.672428</td><td>0.798085</td><td>0.421356</td></tr><tr><th>2</th><td>0.247429</td><td>0.986483</td><td>0.995579</td><td>0.640917</td></tr><tr><th>3</th><td>0.791442</td><td>0.109106</td><td>0.967356</td><td>0.466502</td></tr><tr><th>4</th><td>0.874324</td><td>0.96941</td><td>0.211811</td><td>0.81696</td></tr><tr><th>5</th><td>0.352864</td><td>0.473073</td><td>0.870802</td><td>0.67583</td></tr><tr><th>6</th><td>0.231189</td><td>0.61568</td><td>0.847825</td><td>0.329555</td></tr><tr><th>7</th><td>0.856535</td><td>0.799643</td><td>0.859872</td><td>0.0679641</td></tr><tr><th>8</th><td>0.927402</td><td>0.934688</td><td>0.779797</td><td>0.086684</td></tr><tr><th>9</th><td>0.494098</td><td>0.635913</td><td>0.788713</td><td>0.253045</td></tr><tr><th>10</th><td>0.787186</td><td>0.623569</td><td>0.9837</td><td>0.613622</td></tr></tbody></table>"
      ],
      "text/latex": [
       "\\begin{tabular}{r|cccc}\n",
       "\t& x1 & x2 & x3 & x4\\\\\n",
       "\t\\hline\n",
       "\t& Float64 & Float64 & Float64 & Float64\\\\\n",
       "\t\\hline\n",
       "\t1 & 0.649745 & 0.672428 & 0.798085 & 0.421356 \\\\\n",
       "\t2 & 0.247429 & 0.986483 & 0.995579 & 0.640917 \\\\\n",
       "\t3 & 0.791442 & 0.109106 & 0.967356 & 0.466502 \\\\\n",
       "\t4 & 0.874324 & 0.96941 & 0.211811 & 0.81696 \\\\\n",
       "\t5 & 0.352864 & 0.473073 & 0.870802 & 0.67583 \\\\\n",
       "\t6 & 0.231189 & 0.61568 & 0.847825 & 0.329555 \\\\\n",
       "\t7 & 0.856535 & 0.799643 & 0.859872 & 0.0679641 \\\\\n",
       "\t8 & 0.927402 & 0.934688 & 0.779797 & 0.086684 \\\\\n",
       "\t9 & 0.494098 & 0.635913 & 0.788713 & 0.253045 \\\\\n",
       "\t10 & 0.787186 & 0.623569 & 0.9837 & 0.613622 \\\\\n",
       "\\end{tabular}\n"
      ],
      "text/plain": [
       "10×4 DataFrame\n",
       "│ Row │ x1       │ x2       │ x3       │ x4        │\n",
       "│     │ \u001b[90mFloat64\u001b[39m  │ \u001b[90mFloat64\u001b[39m  │ \u001b[90mFloat64\u001b[39m  │ \u001b[90mFloat64\u001b[39m   │\n",
       "├─────┼──────────┼──────────┼──────────┼───────────┤\n",
       "│ 1   │ 0.649745 │ 0.672428 │ 0.798085 │ 0.421356  │\n",
       "│ 2   │ 0.247429 │ 0.986483 │ 0.995579 │ 0.640917  │\n",
       "│ 3   │ 0.791442 │ 0.109106 │ 0.967356 │ 0.466502  │\n",
       "│ 4   │ 0.874324 │ 0.96941  │ 0.211811 │ 0.81696   │\n",
       "│ 5   │ 0.352864 │ 0.473073 │ 0.870802 │ 0.67583   │\n",
       "│ 6   │ 0.231189 │ 0.61568  │ 0.847825 │ 0.329555  │\n",
       "│ 7   │ 0.856535 │ 0.799643 │ 0.859872 │ 0.0679641 │\n",
       "│ 8   │ 0.927402 │ 0.934688 │ 0.779797 │ 0.086684  │\n",
       "│ 9   │ 0.494098 │ 0.635913 │ 0.788713 │ 0.253045  │\n",
       "│ 10  │ 0.787186 │ 0.623569 │ 0.9837   │ 0.613622  │"
      ]
     },
     "execution_count": 101,
     "metadata": {},
     "output_type": "execute_result"
    }
   ],
   "source": [
    "X"
   ]
  },
  {
   "cell_type": "code",
   "execution_count": null,
   "metadata": {},
   "outputs": [],
   "source": [
    "### Question : Créer un dataframe df, 3 lignes, 3 colonnes avec comme \n",
    "### 1ère colonne \"A\" : true,false,true\n",
    "### 2ème colonne \"B\" : 23 45 67\n",
    "### 3ème colonne \"C\" : 'a' 'b' 'c'"
   ]
  },
  {
   "cell_type": "code",
   "execution_count": null,
   "metadata": {},
   "outputs": [],
   "source": [
    "\n",
    "\n",
    "\n",
    "\n",
    "\n",
    "\n",
    "\n",
    "\n",
    "\n",
    "\n",
    "\n",
    "\n",
    "\n"
   ]
  },
  {
   "cell_type": "code",
   "execution_count": 102,
   "metadata": {},
   "outputs": [
    {
     "data": {
      "text/html": [
       "<table class=\"data-frame\"><thead><tr><th></th><th>A</th><th>B</th><th>C</th></tr><tr><th></th><th>Bool</th><th>Int64</th><th>Char</th></tr></thead><tbody><p>3 rows × 3 columns</p><tr><th>1</th><td>1</td><td>23</td><td>'a'</td></tr><tr><th>2</th><td>0</td><td>45</td><td>'b'</td></tr><tr><th>3</th><td>1</td><td>67</td><td>'c'</td></tr></tbody></table>"
      ],
      "text/latex": [
       "\\begin{tabular}{r|ccc}\n",
       "\t& A & B & C\\\\\n",
       "\t\\hline\n",
       "\t& Bool & Int64 & Char\\\\\n",
       "\t\\hline\n",
       "\t1 & 1 & 23 & 'a' \\\\\n",
       "\t2 & 0 & 45 & 'b' \\\\\n",
       "\t3 & 1 & 67 & 'c' \\\\\n",
       "\\end{tabular}\n"
      ],
      "text/plain": [
       "3×3 DataFrame\n",
       "│ Row │ A    │ B     │ C    │\n",
       "│     │ \u001b[90mBool\u001b[39m │ \u001b[90mInt64\u001b[39m │ \u001b[90mChar\u001b[39m │\n",
       "├─────┼──────┼───────┼──────┤\n",
       "│ 1   │ 1    │ 23    │ 'a'  │\n",
       "│ 2   │ 0    │ 45    │ 'b'  │\n",
       "│ 3   │ 1    │ 67    │ 'c'  │"
      ]
     },
     "execution_count": 102,
     "metadata": {},
     "output_type": "execute_result"
    }
   ],
   "source": [
    "### Solution\n",
    "\n",
    "df = DataFrame(A=[true,false,true],B=[23,45,67],C=['a','b','c'])"
   ]
  },
  {
   "cell_type": "code",
   "execution_count": 114,
   "metadata": {},
   "outputs": [
    {
     "name": "stderr",
     "output_type": "stream",
     "text": [
      "\u001b[32m\u001b[1m  Resolving\u001b[22m\u001b[39m package versions...\n",
      "\u001b[32m\u001b[1m   Updating\u001b[22m\u001b[39m `~/.julia/environments/v1.4/Project.toml`\n",
      "\u001b[90m [no changes]\u001b[39m\n",
      "\u001b[32m\u001b[1m   Updating\u001b[22m\u001b[39m `~/.julia/environments/v1.4/Manifest.toml`\n",
      "\u001b[90m [no changes]\u001b[39m\n"
     ]
    }
   ],
   "source": [
    "Pkg.add(\"CSV\")\n",
    "using CSV"
   ]
  },
  {
   "cell_type": "code",
   "execution_count": 115,
   "metadata": {},
   "outputs": [
    {
     "data": {
      "text/plain": [
       "\"df.csv\""
      ]
     },
     "execution_count": 115,
     "metadata": {},
     "output_type": "execute_result"
    }
   ],
   "source": [
    "# exportation d'un dataframe en csv\n",
    "CSV.write(\"df.csv\",df)"
   ]
  },
  {
   "cell_type": "code",
   "execution_count": 116,
   "metadata": {},
   "outputs": [
    {
     "ename": "UndefVarError",
     "evalue": "UndefVarError: CVS not defined",
     "output_type": "error",
     "traceback": [
      "UndefVarError: CVS not defined",
      "",
      "Stacktrace:",
      " [1] top-level scope at In[116]:1"
     ]
    }
   ],
   "source": [
    "#MARCHE PAS /  importation d'un dataframe en csv\n",
    "new_df = CVS.read(\"df.csv\")\n",
    "\n",
    "new_df = readcsv(\"df.csv\",header=true)"
   ]
  },
  {
   "cell_type": "code",
   "execution_count": 119,
   "metadata": {},
   "outputs": [
    {
     "name": "stderr",
     "output_type": "stream",
     "text": [
      "\u001b[32m\u001b[1m  Resolving\u001b[22m\u001b[39m package versions...\n",
      "\u001b[32m\u001b[1m   Updating\u001b[22m\u001b[39m `~/.julia/environments/v1.4/Project.toml`\n",
      "\u001b[90m [no changes]\u001b[39m\n",
      "\u001b[32m\u001b[1m   Updating\u001b[22m\u001b[39m `~/.julia/environments/v1.4/Manifest.toml`\n",
      "\u001b[90m [no changes]\u001b[39m\n"
     ]
    }
   ],
   "source": [
    "Pkg.add(\"Serialization\")\n",
    "\n",
    "using Serialization"
   ]
  },
  {
   "cell_type": "code",
   "execution_count": 120,
   "metadata": {},
   "outputs": [],
   "source": [
    "open(\"df.bin\",\"w\") do io\n",
    "    serialize(io,df)\n",
    "end"
   ]
  },
  {
   "cell_type": "code",
   "execution_count": 121,
   "metadata": {},
   "outputs": [
    {
     "data": {
      "text/html": [
       "<table class=\"data-frame\"><thead><tr><th></th><th>A</th><th>B</th><th>C</th></tr><tr><th></th><th>Bool</th><th>Int64</th><th>Char</th></tr></thead><tbody><p>3 rows × 3 columns</p><tr><th>1</th><td>1</td><td>23</td><td>'a'</td></tr><tr><th>2</th><td>0</td><td>45</td><td>'b'</td></tr><tr><th>3</th><td>1</td><td>67</td><td>'c'</td></tr></tbody></table>"
      ],
      "text/latex": [
       "\\begin{tabular}{r|ccc}\n",
       "\t& A & B & C\\\\\n",
       "\t\\hline\n",
       "\t& Bool & Int64 & Char\\\\\n",
       "\t\\hline\n",
       "\t1 & 1 & 23 & 'a' \\\\\n",
       "\t2 & 0 & 45 & 'b' \\\\\n",
       "\t3 & 1 & 67 & 'c' \\\\\n",
       "\\end{tabular}\n"
      ],
      "text/plain": [
       "3×3 DataFrame\n",
       "│ Row │ A    │ B     │ C    │\n",
       "│     │ \u001b[90mBool\u001b[39m │ \u001b[90mInt64\u001b[39m │ \u001b[90mChar\u001b[39m │\n",
       "├─────┼──────┼───────┼──────┤\n",
       "│ 1   │ 1    │ 23    │ 'a'  │\n",
       "│ 2   │ 0    │ 45    │ 'b'  │\n",
       "│ 3   │ 1    │ 67    │ 'c'  │"
      ]
     },
     "execution_count": 121,
     "metadata": {},
     "output_type": "execute_result"
    }
   ],
   "source": [
    "open(deserialize,\"df.bin\")"
   ]
  },
  {
   "cell_type": "code",
   "execution_count": 122,
   "metadata": {},
   "outputs": [
    {
     "name": "stderr",
     "output_type": "stream",
     "text": [
      "\u001b[32m\u001b[1m  Resolving\u001b[22m\u001b[39m package versions...\n",
      "\u001b[32m\u001b[1m  Installed\u001b[22m\u001b[39m StructTypes ─ v1.1.0\n",
      "\u001b[32m\u001b[1m  Installed\u001b[22m\u001b[39m JSONTables ── v1.0.0\n",
      "\u001b[32m\u001b[1m  Installed\u001b[22m\u001b[39m JSON3 ─────── v1.0.2\n",
      "\u001b[32m\u001b[1m   Updating\u001b[22m\u001b[39m `~/.julia/environments/v1.4/Project.toml`\n",
      " \u001b[90m [b9914132]\u001b[39m\u001b[92m + JSONTables v1.0.0\u001b[39m\n",
      "\u001b[32m\u001b[1m   Updating\u001b[22m\u001b[39m `~/.julia/environments/v1.4/Manifest.toml`\n",
      " \u001b[90m [0f8b85d8]\u001b[39m\u001b[92m + JSON3 v1.0.2\u001b[39m\n",
      " \u001b[90m [b9914132]\u001b[39m\u001b[92m + JSONTables v1.0.0\u001b[39m\n",
      " \u001b[90m [856f2bd8]\u001b[39m\u001b[92m + StructTypes v1.1.0\u001b[39m\n"
     ]
    }
   ],
   "source": [
    "Pkg.add(\"JSONTables\")"
   ]
  },
  {
   "cell_type": "code",
   "execution_count": 123,
   "metadata": {},
   "outputs": [
    {
     "name": "stderr",
     "output_type": "stream",
     "text": [
      "┌ Info: Precompiling JSONTables [b9914132-a727-11e9-1322-f18e41205b0b]\n",
      "└ @ Base loading.jl:1260\n"
     ]
    }
   ],
   "source": [
    "using JSONTables"
   ]
  },
  {
   "cell_type": "code",
   "execution_count": 128,
   "metadata": {},
   "outputs": [
    {
     "data": {
      "text/plain": [
       "80"
      ]
     },
     "execution_count": 128,
     "metadata": {},
     "output_type": "execute_result"
    }
   ],
   "source": [
    "open(io -> arraytable(io,df),\"df.json\",\"w\")\n"
   ]
  },
  {
   "cell_type": "code",
   "execution_count": 131,
   "metadata": {},
   "outputs": [
    {
     "data": {
      "text/html": [
       "<table class=\"data-frame\"><thead><tr><th></th><th>A</th><th>B</th><th>C</th></tr><tr><th></th><th>Bool</th><th>Int64</th><th>String</th></tr></thead><tbody><p>3 rows × 3 columns</p><tr><th>1</th><td>1</td><td>23</td><td>a</td></tr><tr><th>2</th><td>0</td><td>45</td><td>b</td></tr><tr><th>3</th><td>1</td><td>67</td><td>c</td></tr></tbody></table>"
      ],
      "text/latex": [
       "\\begin{tabular}{r|ccc}\n",
       "\t& A & B & C\\\\\n",
       "\t\\hline\n",
       "\t& Bool & Int64 & String\\\\\n",
       "\t\\hline\n",
       "\t1 & 1 & 23 & a \\\\\n",
       "\t2 & 0 & 45 & b \\\\\n",
       "\t3 & 1 & 67 & c \\\\\n",
       "\\end{tabular}\n"
      ],
      "text/plain": [
       "3×3 DataFrame\n",
       "│ Row │ A    │ B     │ C      │\n",
       "│     │ \u001b[90mBool\u001b[39m │ \u001b[90mInt64\u001b[39m │ \u001b[90mString\u001b[39m │\n",
       "├─────┼──────┼───────┼────────┤\n",
       "│ 1   │ 1    │ 23    │ a      │\n",
       "│ 2   │ 0    │ 45    │ b      │\n",
       "│ 3   │ 1    │ 67    │ c      │"
      ]
     },
     "execution_count": 131,
     "metadata": {},
     "output_type": "execute_result"
    }
   ],
   "source": [
    "open(jsontable,\"df.json\")|> DataFrame"
   ]
  },
  {
   "cell_type": "markdown",
   "metadata": {},
   "source": [
    "# Opération ligne / colonne Dataframe"
   ]
  },
  {
   "cell_type": "code",
   "execution_count": 153,
   "metadata": {},
   "outputs": [
    {
     "data": {
      "text/html": [
       "<table class=\"data-frame\"><thead><tr><th></th><th>x1</th><th>x2</th><th>x3</th><th>x4</th></tr><tr><th></th><th>Float64</th><th>Float64</th><th>Float64</th><th>Float64</th></tr></thead><tbody><p>5 rows × 4 columns</p><tr><th>1</th><td>0.964469</td><td>0.613481</td><td>0.270485</td><td>0.667156</td></tr><tr><th>2</th><td>0.629507</td><td>0.908298</td><td>0.151342</td><td>0.394995</td></tr><tr><th>3</th><td>0.157893</td><td>0.803119</td><td>0.379214</td><td>0.850798</td></tr><tr><th>4</th><td>0.680685</td><td>0.468819</td><td>0.454611</td><td>0.0984089</td></tr><tr><th>5</th><td>0.16958</td><td>0.349623</td><td>0.499116</td><td>0.654946</td></tr></tbody></table>"
      ],
      "text/latex": [
       "\\begin{tabular}{r|cccc}\n",
       "\t& x1 & x2 & x3 & x4\\\\\n",
       "\t\\hline\n",
       "\t& Float64 & Float64 & Float64 & Float64\\\\\n",
       "\t\\hline\n",
       "\t1 & 0.964469 & 0.613481 & 0.270485 & 0.667156 \\\\\n",
       "\t2 & 0.629507 & 0.908298 & 0.151342 & 0.394995 \\\\\n",
       "\t3 & 0.157893 & 0.803119 & 0.379214 & 0.850798 \\\\\n",
       "\t4 & 0.680685 & 0.468819 & 0.454611 & 0.0984089 \\\\\n",
       "\t5 & 0.16958 & 0.349623 & 0.499116 & 0.654946 \\\\\n",
       "\\end{tabular}\n"
      ],
      "text/plain": [
       "5×4 DataFrame\n",
       "│ Row │ x1       │ x2       │ x3       │ x4        │\n",
       "│     │ \u001b[90mFloat64\u001b[39m  │ \u001b[90mFloat64\u001b[39m  │ \u001b[90mFloat64\u001b[39m  │ \u001b[90mFloat64\u001b[39m   │\n",
       "├─────┼──────────┼──────────┼──────────┼───────────┤\n",
       "│ 1   │ 0.964469 │ 0.613481 │ 0.270485 │ 0.667156  │\n",
       "│ 2   │ 0.629507 │ 0.908298 │ 0.151342 │ 0.394995  │\n",
       "│ 3   │ 0.157893 │ 0.803119 │ 0.379214 │ 0.850798  │\n",
       "│ 4   │ 0.680685 │ 0.468819 │ 0.454611 │ 0.0984089 │\n",
       "│ 5   │ 0.16958  │ 0.349623 │ 0.499116 │ 0.654946  │"
      ]
     },
     "execution_count": 153,
     "metadata": {},
     "output_type": "execute_result"
    }
   ],
   "source": [
    "M1 = DataFrame(rand(5,4))\n",
    "M2 = DataFrame(rand(5,4))"
   ]
  },
  {
   "cell_type": "code",
   "execution_count": null,
   "metadata": {},
   "outputs": [],
   "source": [
    "### Question : Renommez x1,x2,x3,x4 en c1,c2,c3,c4\n",
    "### concaténer horizontalement M1 et M2\n",
    "### concaténer verticalement M1 et M2\n",
    "### trier M1 en fonction de x1\n",
    "### Supprimer le ligne 4 de M1\n",
    "### Filtrer les lignes de M1 ou x1 > 0.7"
   ]
  },
  {
   "cell_type": "code",
   "execution_count": null,
   "metadata": {},
   "outputs": [],
   "source": [
    "\n",
    "\n",
    "\n",
    "\n",
    "\n",
    "\n",
    "\n",
    "\n",
    "\n",
    "\n",
    "\n",
    "\n"
   ]
  },
  {
   "cell_type": "code",
   "execution_count": 155,
   "metadata": {},
   "outputs": [
    {
     "name": "stdout",
     "output_type": "stream",
     "text": [
      "5×4 DataFrame\n",
      "│ Row │ c1        │ c2       │ c3       │ c4        │\n",
      "│     │ \u001b[90mFloat64\u001b[39m   │ \u001b[90mFloat64\u001b[39m  │ \u001b[90mFloat64\u001b[39m  │ \u001b[90mFloat64\u001b[39m   │\n",
      "├─────┼───────────┼──────────┼──────────┼───────────┤\n",
      "│ 1   │ 0.024965  │ 0.866036 │ 0.779565 │ 0.53409   │\n",
      "│ 2   │ 0.0745961 │ 0.277884 │ 0.86759  │ 0.26767   │\n",
      "│ 3   │ 0.150284  │ 0.411401 │ 0.275565 │ 0.459831  │\n",
      "│ 4   │ 0.376065  │ 0.020203 │ 0.616991 │ 0.470612  │\n",
      "│ 5   │ 0.115143  │ 0.304858 │ 0.320772 │ 0.0310531 │\n",
      "5×4 DataFrame\n",
      "│ Row │ a         │ b        │ c        │ d         │\n",
      "│     │ \u001b[90mFloat64\u001b[39m   │ \u001b[90mFloat64\u001b[39m  │ \u001b[90mFloat64\u001b[39m  │ \u001b[90mFloat64\u001b[39m   │\n",
      "├─────┼───────────┼──────────┼──────────┼───────────┤\n",
      "│ 1   │ 0.024965  │ 0.866036 │ 0.779565 │ 0.53409   │\n",
      "│ 2   │ 0.0745961 │ 0.277884 │ 0.86759  │ 0.26767   │\n",
      "│ 3   │ 0.150284  │ 0.411401 │ 0.275565 │ 0.459831  │\n",
      "│ 4   │ 0.376065  │ 0.020203 │ 0.616991 │ 0.470612  │\n",
      "│ 5   │ 0.115143  │ 0.304858 │ 0.320772 │ 0.0310531 │\n"
     ]
    },
    {
     "ename": "UndefVarError",
     "evalue": "UndefVarError: x1 not defined",
     "output_type": "error",
     "traceback": [
      "UndefVarError: x1 not defined",
      "",
      "Stacktrace:",
      " [1] top-level scope at In[155]:18"
     ]
    }
   ],
   "source": [
    "### Solution\n",
    "\n",
    "### Renommez\n",
    "println(rename(M1, [:c1,:c2,:c3,:c4]))\n",
    "\n",
    "println(rename(M1,string.('a':'d')))\n",
    "\n",
    "# pour renommer une variable\n",
    "rename(M1, :x1 => :V1)\n",
    "\n",
    "### Concaténation horizontale\n",
    "\n",
    "# les variables ont les même noms dans les deux tables donc pb, mettre makeunique pour mettre des suffixes\n",
    "hcat(M1,M2, makeunique=true)\n",
    "\n",
    "### Concaténation verticale\n",
    "vcat(M1,M2)\n",
    "\n",
    "### Trier\n",
    "sort(M1,x1)\n",
    "\n",
    "### Supprimer la 4ème ligne de M1\n",
    "\n",
    "deleterows!(M1,4)\n",
    "\n",
    "### Filtrer\n",
    "\n",
    "filter( r -> r.x1 > 0.7,M1)"
   ]
  },
  {
   "cell_type": "markdown",
   "metadata": {},
   "source": [
    "# PLOT"
   ]
  },
  {
   "cell_type": "code",
   "execution_count": 158,
   "metadata": {},
   "outputs": [
    {
     "name": "stderr",
     "output_type": "stream",
     "text": [
      "\u001b[32m\u001b[1m  Resolving\u001b[22m\u001b[39m package versions...\n",
      "\u001b[32m\u001b[1m  Installed\u001b[22m\u001b[39m Showoff ─────────── v0.3.1\n",
      "\u001b[32m\u001b[1m  Installed\u001b[22m\u001b[39m RecipesBase ─────── v1.0.1\n",
      "\u001b[32m\u001b[1m  Installed\u001b[22m\u001b[39m FriBidi_jll ─────── v1.0.5+2\n",
      "\u001b[32m\u001b[1m  Installed\u001b[22m\u001b[39m Bzip2_jll ───────── v1.0.6+2\n",
      "\u001b[32m\u001b[1m  Installed\u001b[22m\u001b[39m x265_jll ────────── v3.0.0+0\n",
      "\u001b[32m\u001b[1m  Installed\u001b[22m\u001b[39m ColorTypes ──────── v0.10.2\n",
      "\u001b[32m\u001b[1m  Installed\u001b[22m\u001b[39m Plots ───────────── v1.1.0\n",
      "\u001b[32m\u001b[1m  Installed\u001b[22m\u001b[39m StaticArrays ────── v0.12.1\n",
      "\u001b[32m\u001b[1m  Installed\u001b[22m\u001b[39m libfdk_aac_jll ──── v0.1.6+1\n",
      "\u001b[32m\u001b[1m  Installed\u001b[22m\u001b[39m RecipesPipeline ─── v0.1.6\n",
      "\u001b[32m\u001b[1m  Installed\u001b[22m\u001b[39m Requires ────────── v1.0.1\n",
      "\u001b[32m\u001b[1m  Installed\u001b[22m\u001b[39m FFMPEG_jll ──────── v4.1.0+2\n",
      "\u001b[32m\u001b[1m  Installed\u001b[22m\u001b[39m NaNMath ─────────── v0.3.3\n",
      "\u001b[32m\u001b[1m  Installed\u001b[22m\u001b[39m Ogg_jll ─────────── v1.3.3+0\n",
      "\u001b[32m\u001b[1m  Installed\u001b[22m\u001b[39m FreeType2_jll ───── v2.10.1+2\n",
      "\u001b[32m\u001b[1m  Installed\u001b[22m\u001b[39m FixedPointNumbers ─ v0.8.0\n",
      "\u001b[32m\u001b[1m  Installed\u001b[22m\u001b[39m Measures ────────── v0.3.1\n",
      "\u001b[32m\u001b[1m  Installed\u001b[22m\u001b[39m LAME_jll ────────── v3.100.0+0\n",
      "\u001b[32m\u001b[1m  Installed\u001b[22m\u001b[39m PlotThemes ──────── v2.0.0\n",
      "\u001b[32m\u001b[1m  Installed\u001b[22m\u001b[39m OpenSSL_jll ─────── v1.1.1+2\n",
      "\u001b[32m\u001b[1m  Installed\u001b[22m\u001b[39m Zlib_jll ────────── v1.2.11+9\n",
      "\u001b[32m\u001b[1m  Installed\u001b[22m\u001b[39m Opus_jll ────────── v1.3.1+0\n",
      "\u001b[32m\u001b[1m  Installed\u001b[22m\u001b[39m FFMPEG ──────────── v0.3.0\n",
      "\u001b[32m\u001b[1m  Installed\u001b[22m\u001b[39m PlotUtils ───────── v1.0.0\n",
      "\u001b[32m\u001b[1m  Installed\u001b[22m\u001b[39m ColorSchemes ────── v3.8.0\n",
      "\u001b[32m\u001b[1m  Installed\u001b[22m\u001b[39m StatsBase ───────── v0.33.0\n",
      "\u001b[32m\u001b[1m  Installed\u001b[22m\u001b[39m libvorbis_jll ───── v1.3.6+2\n",
      "\u001b[32m\u001b[1m  Installed\u001b[22m\u001b[39m Colors ──────────── v0.12.0\n",
      "\u001b[32m\u001b[1m  Installed\u001b[22m\u001b[39m x264_jll ────────── v2019.5.25+1\n",
      "\u001b[32m\u001b[1m  Installed\u001b[22m\u001b[39m libass_jll ──────── v0.14.0+1\n",
      "\u001b[32m\u001b[1m  Installed\u001b[22m\u001b[39m LibVPX_jll ──────── v1.8.1+1\n",
      "\u001b[32m\u001b[1m  Installed\u001b[22m\u001b[39m Contour ─────────── v0.5.2\n",
      "\u001b[32m\u001b[1m  Installed\u001b[22m\u001b[39m GeometryTypes ───── v0.8.2\n",
      "\u001b[32m\u001b[1m  Installed\u001b[22m\u001b[39m GR ──────────────── v0.48.0\n",
      "\r",
      "######################################################################### 100,0%\r",
      "#####################                                                      30,0%\r",
      "######################################################################### 100,0%\n",
      "\r",
      "######################################################################### 100,0%\r",
      "#                                                                           2,0%\r",
      "#######                                                                    10,1%\r",
      "####################                                                       27,7%\r",
      "############################################                               60,8%\r",
      "###########################################################                81,8%\r",
      "######################################################################### 100,0%\n",
      "\r",
      "######################################################################### 100,0%\r",
      "#############                                                              18,9%\r",
      "################################################################           88,5%\r",
      "######################################################################### 100,0%\n",
      "\r",
      "######################################################################### 100,0%\r",
      "#                                                                           2,1%\r",
      "#######                                                                    10,6%\r",
      "####################                                                       28,3%\r",
      "##############################################                             64,4%\r",
      "######################################################################### 100,0%\n",
      "\r",
      "######################################################################### 100,0%\r",
      "                                                                            0,3%\r",
      "#                                                                           1,9%\r",
      "###                                                                         5,3%\r",
      "######                                                                      8,6%\r",
      "###########                                                                15,3%\r",
      "##################                                                         24,8%\r",
      "####################                                                       28,3%\r",
      "##################################                                         47,7%\r",
      "########################################                                   55,4%\r",
      "#######################################################                    75,4%\r",
      "################################################################           89,0%\r",
      "######################################################################### 100,0%\n",
      "\r",
      "######################################################################### 100,0%\r",
      "##########                                                                 14,9%\r",
      "#################################################################          89,9%\r",
      "######################################################################### 100,0%\n",
      "\r",
      "######################################################################### 100,0%\r",
      "######                                                                      8,9%\r",
      "##################################                                         47,8%\r",
      "######################################################################### 100,0%\n",
      "\r",
      "######################################################################### 100,0%\r",
      "#####                                                                       7,5%\r",
      "########################                                                   32,9%\r",
      "#####################################################                      73,3%\r",
      "######################################################################### 100,0%\n",
      "\r",
      "######################################################################### 100,0%\r",
      "                                                                            1,3%\r",
      "###                                                                         4,4%\r",
      "#########                                                                  13,3%\r",
      "###############                                                            20,9%\r",
      "#############################                                              40,9%\r",
      "####################################################                       71,7%\r",
      "######################################################################### 100,0%\n",
      "\r",
      "######################################################################### 100,0%\r",
      "#######                                                                    10,6%\r",
      "###########################################                                59,0%\r",
      "######################################################################### 100,0%\n",
      "\r",
      "######################################################################### 100,0%\r",
      "###########################                                                37,3%\r",
      "######################################################################### 100,0%\n",
      "\r",
      "######################################################################### 100,0%\r",
      "###                                                                         5,3%\r",
      "###################                                                        26,9%\r",
      "################################################                           66,4%\r",
      "######################################################################### 100,0%\n",
      "\r",
      "######################################################################### 100,0%\r",
      "#                                                                           2,7%\r",
      "##########                                                                 14,5%\r",
      "##########################                                                 36,4%\r",
      "##########################################################                 80,1%\r",
      "######################################################################### 100,0%\n",
      "\r",
      "######################################################################### 100,0%\r",
      "#                                                                           2,6%\r",
      "###########                                                                16,0%\r",
      "##############################                                             41,4%\r",
      "###################################################                        70,9%\r",
      "######################################################################### 100,0%\n",
      "\r",
      "######################################################################### 100,0%\r",
      "######                                                                      9,5%\r",
      "################################                                           44,8%\r",
      "########################################################################   99,2%\r",
      "######################################################################### 100,0%\n",
      "\u001b[32m\u001b[1m   Updating\u001b[22m\u001b[39m `~/.julia/environments/v1.4/Project.toml`\n",
      " \u001b[90m [91a5bcdd]\u001b[39m\u001b[92m + Plots v1.1.0\u001b[39m\n",
      "\u001b[32m\u001b[1m   Updating\u001b[22m\u001b[39m `~/.julia/environments/v1.4/Manifest.toml`\n",
      " \u001b[90m [6e34b625]\u001b[39m\u001b[92m + Bzip2_jll v1.0.6+2\u001b[39m\n",
      " \u001b[90m [35d6a980]\u001b[39m\u001b[92m + ColorSchemes v3.8.0\u001b[39m\n",
      " \u001b[90m [3da002f7]\u001b[39m\u001b[92m + ColorTypes v0.10.2\u001b[39m\n",
      " \u001b[90m [5ae59095]\u001b[39m\u001b[92m + Colors v0.12.0\u001b[39m\n",
      " \u001b[90m [d38c429a]\u001b[39m\u001b[92m + Contour v0.5.2\u001b[39m\n",
      " \u001b[90m [c87230d0]\u001b[39m\u001b[92m + FFMPEG v0.3.0\u001b[39m\n",
      " \u001b[90m [b22a6f82]\u001b[39m\u001b[92m + FFMPEG_jll v4.1.0+2\u001b[39m\n",
      " \u001b[90m [53c48c17]\u001b[39m\u001b[92m + FixedPointNumbers v0.8.0\u001b[39m\n",
      " \u001b[90m [d7e528f0]\u001b[39m\u001b[92m + FreeType2_jll v2.10.1+2\u001b[39m\n",
      " \u001b[90m [559328eb]\u001b[39m\u001b[92m + FriBidi_jll v1.0.5+2\u001b[39m\n",
      " \u001b[90m [28b8d3ca]\u001b[39m\u001b[92m + GR v0.48.0\u001b[39m\n",
      " \u001b[90m [4d00f742]\u001b[39m\u001b[92m + GeometryTypes v0.8.2\u001b[39m\n",
      " \u001b[90m [c1c5ebd0]\u001b[39m\u001b[92m + LAME_jll v3.100.0+0\u001b[39m\n"
     ]
    },
    {
     "name": "stderr",
     "output_type": "stream",
     "text": [
      " \u001b[90m [dd192d2f]\u001b[39m\u001b[92m + LibVPX_jll v1.8.1+1\u001b[39m\n",
      " \u001b[90m [442fdcdd]\u001b[39m\u001b[92m + Measures v0.3.1\u001b[39m\n",
      " \u001b[90m [77ba4419]\u001b[39m\u001b[92m + NaNMath v0.3.3\u001b[39m\n",
      " \u001b[90m [e7412a2a]\u001b[39m\u001b[92m + Ogg_jll v1.3.3+0\u001b[39m\n",
      " \u001b[90m [458c3c95]\u001b[39m\u001b[92m + OpenSSL_jll v1.1.1+2\u001b[39m\n",
      " \u001b[90m [91d4177d]\u001b[39m\u001b[92m + Opus_jll v1.3.1+0\u001b[39m\n",
      " \u001b[90m [ccf2f8ad]\u001b[39m\u001b[92m + PlotThemes v2.0.0\u001b[39m\n",
      " \u001b[90m [995b91a9]\u001b[39m\u001b[92m + PlotUtils v1.0.0\u001b[39m\n",
      " \u001b[90m [91a5bcdd]\u001b[39m\u001b[92m + Plots v1.1.0\u001b[39m\n",
      " \u001b[90m [3cdcf5f2]\u001b[39m\u001b[92m + RecipesBase v1.0.1\u001b[39m\n",
      " \u001b[90m [01d81517]\u001b[39m\u001b[92m + RecipesPipeline v0.1.6\u001b[39m\n",
      " \u001b[90m [ae029012]\u001b[39m\u001b[92m + Requires v1.0.1\u001b[39m\n",
      " \u001b[90m [992d4aef]\u001b[39m\u001b[92m + Showoff v0.3.1\u001b[39m\n",
      " \u001b[90m [90137ffa]\u001b[39m\u001b[92m + StaticArrays v0.12.1\u001b[39m\n",
      " \u001b[90m [2913bbd2]\u001b[39m\u001b[92m + StatsBase v0.33.0\u001b[39m\n",
      " \u001b[90m [83775a58]\u001b[39m\u001b[92m + Zlib_jll v1.2.11+9\u001b[39m\n",
      " \u001b[90m [0ac62f75]\u001b[39m\u001b[92m + libass_jll v0.14.0+1\u001b[39m\n",
      " \u001b[90m [f638f0a6]\u001b[39m\u001b[92m + libfdk_aac_jll v0.1.6+1\u001b[39m\n",
      " \u001b[90m [f27f6e37]\u001b[39m\u001b[92m + libvorbis_jll v1.3.6+2\u001b[39m\n",
      " \u001b[90m [1270edf5]\u001b[39m\u001b[92m + x264_jll v2019.5.25+1\u001b[39m\n",
      " \u001b[90m [dfaa095f]\u001b[39m\u001b[92m + x265_jll v3.0.0+0\u001b[39m\n",
      "\u001b[32m\u001b[1m   Building\u001b[22m\u001b[39m GR ───→ `~/.julia/packages/GR/yMV3y/deps/build.log`\n",
      "\u001b[32m\u001b[1m   Building\u001b[22m\u001b[39m Plots → `~/.julia/packages/Plots/twqrR/deps/build.log`\n",
      "┌ Info: Precompiling Plots [91a5bcdd-55d7-5caf-9e0b-520d859cae80]\n",
      "└ @ Base loading.jl:1260\n"
     ]
    }
   ],
   "source": [
    "Pkg.add(\"Plots\")\n",
    "using Plots"
   ]
  },
  {
   "cell_type": "code",
   "execution_count": 161,
   "metadata": {},
   "outputs": [
    {
     "data": {
      "text/plain": [
       "10-element Array{Int64,1}:\n",
       " 2000\n",
       " 2001\n",
       " 2002\n",
       " 2003\n",
       " 2004\n",
       " 2005\n",
       " 2006\n",
       " 2007\n",
       " 2008\n",
       " 2009"
      ]
     },
     "execution_count": 161,
     "metadata": {},
     "output_type": "execute_result"
    }
   ],
   "source": [
    "year = [ x for x in range(2000, length = 10 )]"
   ]
  },
  {
   "cell_type": "code",
   "execution_count": 162,
   "metadata": {},
   "outputs": [
    {
     "data": {
      "text/plain": [
       "10-element Array{Float64,1}:\n",
       "  6.292329420945264\n",
       "  9.497477644128004\n",
       " 45.47716538169138\n",
       " 57.777738157248315\n",
       " 66.11266779315774\n",
       " 53.74199080667279\n",
       " 34.55833920290121\n",
       " 12.95603813142816\n",
       " 19.392847055160445\n",
       " 96.31484730432211"
      ]
     },
     "execution_count": 162,
     "metadata": {},
     "output_type": "execute_result"
    }
   ],
   "source": [
    "sale = 100 * rand(10)"
   ]
  },
  {
   "cell_type": "code",
   "execution_count": null,
   "metadata": {},
   "outputs": [],
   "source": [
    "### Question : faire un line plot et un scatter plot year en ordonné et sale en abscisse"
   ]
  },
  {
   "cell_type": "code",
   "execution_count": null,
   "metadata": {},
   "outputs": [],
   "source": [
    "\n",
    "\n",
    "\n",
    "\n",
    "\n",
    "\n",
    "\n",
    "\n",
    "\n",
    "\n",
    "\n"
   ]
  },
  {
   "cell_type": "code",
   "execution_count": 166,
   "metadata": {},
   "outputs": [
    {
     "data": {
      "image/svg+xml": [
       "<?xml version=\"1.0\" encoding=\"utf-8\"?>\n",
       "<svg xmlns=\"http://www.w3.org/2000/svg\" xmlns:xlink=\"http://www.w3.org/1999/xlink\" width=\"600\" height=\"400\" viewBox=\"0 0 2400 1600\">\n",
       "<defs>\n",
       "  <clipPath id=\"clip9200\">\n",
       "    <rect x=\"0\" y=\"0\" width=\"2400\" height=\"1600\"/>\n",
       "  </clipPath>\n",
       "</defs>\n",
       "<path clip-path=\"url(#clip9200)\" d=\"\n",
       "M0 1600 L2400 1600 L2400 0 L0 0  Z\n",
       "  \" fill=\"#ffffff\" fill-rule=\"evenodd\" fill-opacity=\"1\"/>\n",
       "<defs>\n",
       "  <clipPath id=\"clip9201\">\n",
       "    <rect x=\"480\" y=\"0\" width=\"1681\" height=\"1600\"/>\n",
       "  </clipPath>\n",
       "</defs>\n",
       "<path clip-path=\"url(#clip9200)\" d=\"\n",
       "M202.459 1423.18 L2352.76 1423.18 L2352.76 123.472 L202.459 123.472  Z\n",
       "  \" fill=\"#ffffff\" fill-rule=\"evenodd\" fill-opacity=\"1\"/>\n",
       "<defs>\n",
       "  <clipPath id=\"clip9202\">\n",
       "    <rect x=\"202\" y=\"123\" width=\"2151\" height=\"1301\"/>\n",
       "  </clipPath>\n",
       "</defs>\n",
       "<polyline clip-path=\"url(#clip9202)\" style=\"stroke:#000000; stroke-width:2; stroke-opacity:0.1; fill:none\" points=\"\n",
       "  263.316,1423.18 263.316,123.472 \n",
       "  \"/>\n",
       "<polyline clip-path=\"url(#clip9202)\" style=\"stroke:#000000; stroke-width:2; stroke-opacity:0.1; fill:none\" points=\"\n",
       "  714.112,1423.18 714.112,123.472 \n",
       "  \"/>\n",
       "<polyline clip-path=\"url(#clip9202)\" style=\"stroke:#000000; stroke-width:2; stroke-opacity:0.1; fill:none\" points=\"\n",
       "  1164.91,1423.18 1164.91,123.472 \n",
       "  \"/>\n",
       "<polyline clip-path=\"url(#clip9202)\" style=\"stroke:#000000; stroke-width:2; stroke-opacity:0.1; fill:none\" points=\"\n",
       "  1615.7,1423.18 1615.7,123.472 \n",
       "  \"/>\n",
       "<polyline clip-path=\"url(#clip9202)\" style=\"stroke:#000000; stroke-width:2; stroke-opacity:0.1; fill:none\" points=\"\n",
       "  2066.5,1423.18 2066.5,123.472 \n",
       "  \"/>\n",
       "<polyline clip-path=\"url(#clip9202)\" style=\"stroke:#000000; stroke-width:2; stroke-opacity:0.1; fill:none\" points=\"\n",
       "  202.459,1199.69 2352.76,1199.69 \n",
       "  \"/>\n",
       "<polyline clip-path=\"url(#clip9202)\" style=\"stroke:#000000; stroke-width:2; stroke-opacity:0.1; fill:none\" points=\"\n",
       "  202.459,927.285 2352.76,927.285 \n",
       "  \"/>\n",
       "<polyline clip-path=\"url(#clip9202)\" style=\"stroke:#000000; stroke-width:2; stroke-opacity:0.1; fill:none\" points=\"\n",
       "  202.459,654.878 2352.76,654.878 \n",
       "  \"/>\n",
       "<polyline clip-path=\"url(#clip9202)\" style=\"stroke:#000000; stroke-width:2; stroke-opacity:0.1; fill:none\" points=\"\n",
       "  202.459,382.47 2352.76,382.47 \n",
       "  \"/>\n",
       "<polyline clip-path=\"url(#clip9200)\" style=\"stroke:#000000; stroke-width:4; stroke-opacity:1; fill:none\" points=\"\n",
       "  202.459,1423.18 2352.76,1423.18 \n",
       "  \"/>\n",
       "<polyline clip-path=\"url(#clip9200)\" style=\"stroke:#000000; stroke-width:4; stroke-opacity:1; fill:none\" points=\"\n",
       "  202.459,1423.18 202.459,123.472 \n",
       "  \"/>\n",
       "<polyline clip-path=\"url(#clip9200)\" style=\"stroke:#000000; stroke-width:4; stroke-opacity:1; fill:none\" points=\"\n",
       "  263.316,1423.18 263.316,1407.58 \n",
       "  \"/>\n",
       "<polyline clip-path=\"url(#clip9200)\" style=\"stroke:#000000; stroke-width:4; stroke-opacity:1; fill:none\" points=\"\n",
       "  714.112,1423.18 714.112,1407.58 \n",
       "  \"/>\n",
       "<polyline clip-path=\"url(#clip9200)\" style=\"stroke:#000000; stroke-width:4; stroke-opacity:1; fill:none\" points=\"\n",
       "  1164.91,1423.18 1164.91,1407.58 \n",
       "  \"/>\n",
       "<polyline clip-path=\"url(#clip9200)\" style=\"stroke:#000000; stroke-width:4; stroke-opacity:1; fill:none\" points=\"\n",
       "  1615.7,1423.18 1615.7,1407.58 \n",
       "  \"/>\n",
       "<polyline clip-path=\"url(#clip9200)\" style=\"stroke:#000000; stroke-width:4; stroke-opacity:1; fill:none\" points=\"\n",
       "  2066.5,1423.18 2066.5,1407.58 \n",
       "  \"/>\n",
       "<polyline clip-path=\"url(#clip9200)\" style=\"stroke:#000000; stroke-width:4; stroke-opacity:1; fill:none\" points=\"\n",
       "  202.459,1199.69 228.263,1199.69 \n",
       "  \"/>\n",
       "<polyline clip-path=\"url(#clip9200)\" style=\"stroke:#000000; stroke-width:4; stroke-opacity:1; fill:none\" points=\"\n",
       "  202.459,927.285 228.263,927.285 \n",
       "  \"/>\n",
       "<polyline clip-path=\"url(#clip9200)\" style=\"stroke:#000000; stroke-width:4; stroke-opacity:1; fill:none\" points=\"\n",
       "  202.459,654.878 228.263,654.878 \n",
       "  \"/>\n",
       "<polyline clip-path=\"url(#clip9200)\" style=\"stroke:#000000; stroke-width:4; stroke-opacity:1; fill:none\" points=\"\n",
       "  202.459,382.47 228.263,382.47 \n",
       "  \"/>\n",
       "<path clip-path=\"url(#clip9200)\" d=\"M 0 0 M217.449 1472.72 L233.768 1472.72 L233.768 1476.65 L211.824 1476.65 L211.824 1472.72 Q214.486 1469.96 219.069 1465.33 Q223.675 1460.68 224.856 1459.34 Q227.101 1456.81 227.981 1455.08 Q228.884 1453.32 228.884 1451.63 Q228.884 1448.87 226.939 1447.14 Q225.018 1445.4 221.916 1445.4 Q219.717 1445.4 217.263 1446.17 Q214.833 1446.93 212.055 1448.48 L212.055 1443.76 Q214.879 1442.62 217.333 1442.05 Q219.787 1441.47 221.824 1441.47 Q227.194 1441.47 230.388 1444.15 Q233.583 1446.84 233.583 1451.33 Q233.583 1453.46 232.773 1455.38 Q231.986 1457.28 229.879 1459.87 Q229.3 1460.54 226.199 1463.76 Q223.097 1466.95 217.449 1472.72 Z\" fill=\"#000000\" fill-rule=\"evenodd\" fill-opacity=\"1\" /><path clip-path=\"url(#clip9200)\" d=\"M 0 0 M248.837 1445.17 Q245.226 1445.17 243.398 1448.74 Q241.592 1452.28 241.592 1459.41 Q241.592 1466.51 243.398 1470.08 Q245.226 1473.62 248.837 1473.62 Q252.472 1473.62 254.277 1470.08 Q256.106 1466.51 256.106 1459.41 Q256.106 1452.28 254.277 1448.74 Q252.472 1445.17 248.837 1445.17 M248.837 1441.47 Q254.647 1441.47 257.703 1446.07 Q260.782 1450.66 260.782 1459.41 Q260.782 1468.13 257.703 1472.74 Q254.647 1477.32 248.837 1477.32 Q243.027 1477.32 239.948 1472.74 Q236.893 1468.13 236.893 1459.41 Q236.893 1450.66 239.948 1446.07 Q243.027 1441.47 248.837 1441.47 Z\" fill=\"#000000\" fill-rule=\"evenodd\" fill-opacity=\"1\" /><path clip-path=\"url(#clip9200)\" d=\"M 0 0 M275.851 1445.17 Q272.24 1445.17 270.411 1448.74 Q268.606 1452.28 268.606 1459.41 Q268.606 1466.51 270.411 1470.08 Q272.24 1473.62 275.851 1473.62 Q279.485 1473.62 281.291 1470.08 Q283.12 1466.51 283.12 1459.41 Q283.12 1452.28 281.291 1448.74 Q279.485 1445.17 275.851 1445.17 M275.851 1441.47 Q281.661 1441.47 284.717 1446.07 Q287.795 1450.66 287.795 1459.41 Q287.795 1468.13 284.717 1472.74 Q281.661 1477.32 275.851 1477.32 Q270.041 1477.32 266.962 1472.74 Q263.907 1468.13 263.907 1459.41 Q263.907 1450.66 266.962 1446.07 Q270.041 1441.47 275.851 1441.47 Z\" fill=\"#000000\" fill-rule=\"evenodd\" fill-opacity=\"1\" /><path clip-path=\"url(#clip9200)\" d=\"M 0 0 M302.865 1445.17 Q299.254 1445.17 297.425 1448.74 Q295.619 1452.28 295.619 1459.41 Q295.619 1466.51 297.425 1470.08 Q299.254 1473.62 302.865 1473.62 Q306.499 1473.62 308.305 1470.08 Q310.133 1466.51 310.133 1459.41 Q310.133 1452.28 308.305 1448.74 Q306.499 1445.17 302.865 1445.17 M302.865 1441.47 Q308.675 1441.47 311.731 1446.07 Q314.809 1450.66 314.809 1459.41 Q314.809 1468.13 311.731 1472.74 Q308.675 1477.32 302.865 1477.32 Q297.055 1477.32 293.976 1472.74 Q290.92 1468.13 290.92 1459.41 Q290.92 1450.66 293.976 1446.07 Q297.055 1441.47 302.865 1441.47 Z\" fill=\"#000000\" fill-rule=\"evenodd\" fill-opacity=\"1\" /><path clip-path=\"url(#clip9200)\" d=\"M 0 0 M669.043 1472.72 L685.363 1472.72 L685.363 1476.65 L663.418 1476.65 L663.418 1472.72 Q666.08 1469.96 670.664 1465.33 Q675.27 1460.68 676.451 1459.34 Q678.696 1456.81 679.576 1455.08 Q680.478 1453.32 680.478 1451.63 Q680.478 1448.87 678.534 1447.14 Q676.613 1445.4 673.511 1445.4 Q671.312 1445.4 668.858 1446.17 Q666.427 1446.93 663.65 1448.48 L663.65 1443.76 Q666.474 1442.62 668.927 1442.05 Q671.381 1441.47 673.418 1441.47 Q678.789 1441.47 681.983 1444.15 Q685.177 1446.84 685.177 1451.33 Q685.177 1453.46 684.367 1455.38 Q683.58 1457.28 681.474 1459.87 Q680.895 1460.54 677.793 1463.76 Q674.691 1466.95 669.043 1472.72 Z\" fill=\"#000000\" fill-rule=\"evenodd\" fill-opacity=\"1\" /><path clip-path=\"url(#clip9200)\" d=\"M 0 0 M700.432 1445.17 Q696.821 1445.17 694.992 1448.74 Q693.187 1452.28 693.187 1459.41 Q693.187 1466.51 694.992 1470.08 Q696.821 1473.62 700.432 1473.62 Q704.066 1473.62 705.872 1470.08 Q707.7 1466.51 707.7 1459.41 Q707.7 1452.28 705.872 1448.74 Q704.066 1445.17 700.432 1445.17 M700.432 1441.47 Q706.242 1441.47 709.298 1446.07 Q712.376 1450.66 712.376 1459.41 Q712.376 1468.13 709.298 1472.74 Q706.242 1477.32 700.432 1477.32 Q694.622 1477.32 691.543 1472.74 Q688.488 1468.13 688.488 1459.41 Q688.488 1450.66 691.543 1446.07 Q694.622 1441.47 700.432 1441.47 Z\" fill=\"#000000\" fill-rule=\"evenodd\" fill-opacity=\"1\" /><path clip-path=\"url(#clip9200)\" d=\"M 0 0 M727.446 1445.17 Q723.835 1445.17 722.006 1448.74 Q720.2 1452.28 720.2 1459.41 Q720.2 1466.51 722.006 1470.08 Q723.835 1473.62 727.446 1473.62 Q731.08 1473.62 732.885 1470.08 Q734.714 1466.51 734.714 1459.41 Q734.714 1452.28 732.885 1448.74 Q731.08 1445.17 727.446 1445.17 M727.446 1441.47 Q733.256 1441.47 736.311 1446.07 Q739.39 1450.66 739.39 1459.41 Q739.39 1468.13 736.311 1472.74 Q733.256 1477.32 727.446 1477.32 Q721.636 1477.32 718.557 1472.74 Q715.501 1468.13 715.501 1459.41 Q715.501 1450.66 718.557 1446.07 Q721.636 1441.47 727.446 1441.47 Z\" fill=\"#000000\" fill-rule=\"evenodd\" fill-opacity=\"1\" /><path clip-path=\"url(#clip9200)\" d=\"M 0 0 M748.487 1472.72 L764.807 1472.72 L764.807 1476.65 L742.862 1476.65 L742.862 1472.72 Q745.524 1469.96 750.108 1465.33 Q754.714 1460.68 755.895 1459.34 Q758.14 1456.81 759.02 1455.08 Q759.922 1453.32 759.922 1451.63 Q759.922 1448.87 757.978 1447.14 Q756.057 1445.4 752.955 1445.4 Q750.756 1445.4 748.302 1446.17 Q745.872 1446.93 743.094 1448.48 L743.094 1443.76 Q745.918 1442.62 748.371 1442.05 Q750.825 1441.47 752.862 1441.47 Q758.233 1441.47 761.427 1444.15 Q764.621 1446.84 764.621 1451.33 Q764.621 1453.46 763.811 1455.38 Q763.024 1457.28 760.918 1459.87 Q760.339 1460.54 757.237 1463.76 Q754.135 1466.95 748.487 1472.72 Z\" fill=\"#000000\" fill-rule=\"evenodd\" fill-opacity=\"1\" /><path clip-path=\"url(#clip9200)\" d=\"M 0 0 M1118.8 1472.72 L1135.12 1472.72 L1135.12 1476.65 L1113.17 1476.65 L1113.17 1472.72 Q1115.83 1469.96 1120.42 1465.33 Q1125.02 1460.68 1126.2 1459.34 Q1128.45 1456.81 1129.33 1455.08 Q1130.23 1453.32 1130.23 1451.63 Q1130.23 1448.87 1128.29 1447.14 Q1126.37 1445.4 1123.27 1445.4 Q1121.07 1445.4 1118.61 1446.17 Q1116.18 1446.93 1113.4 1448.48 L1113.4 1443.76 Q1116.23 1442.62 1118.68 1442.05 Q1121.14 1441.47 1123.17 1441.47 Q1128.54 1441.47 1131.74 1444.15 Q1134.93 1446.84 1134.93 1451.33 Q1134.93 1453.46 1134.12 1455.38 Q1133.33 1457.28 1131.23 1459.87 Q1130.65 1460.54 1127.55 1463.76 Q1124.45 1466.95 1118.8 1472.72 Z\" fill=\"#000000\" fill-rule=\"evenodd\" fill-opacity=\"1\" /><path clip-path=\"url(#clip9200)\" d=\"M 0 0 M1150.19 1445.17 Q1146.58 1445.17 1144.75 1448.74 Q1142.94 1452.28 1142.94 1459.41 Q1142.94 1466.51 1144.75 1470.08 Q1146.58 1473.62 1150.19 1473.62 Q1153.82 1473.62 1155.63 1470.08 Q1157.45 1466.51 1157.45 1459.41 Q1157.45 1452.28 1155.63 1448.74 Q1153.82 1445.17 1150.19 1445.17 M1150.19 1441.47 Q1156 1441.47 1159.05 1446.07 Q1162.13 1450.66 1162.13 1459.41 Q1162.13 1468.13 1159.05 1472.74 Q1156 1477.32 1150.19 1477.32 Q1144.38 1477.32 1141.3 1472.74 Q1138.24 1468.13 1138.24 1459.41 Q1138.24 1450.66 1141.3 1446.07 Q1144.38 1441.47 1150.19 1441.47 Z\" fill=\"#000000\" fill-rule=\"evenodd\" fill-opacity=\"1\" /><path clip-path=\"url(#clip9200)\" d=\"M 0 0 M1177.2 1445.17 Q1173.59 1445.17 1171.76 1448.74 Q1169.95 1452.28 1169.95 1459.41 Q1169.95 1466.51 1171.76 1470.08 Q1173.59 1473.62 1177.2 1473.62 Q1180.83 1473.62 1182.64 1470.08 Q1184.47 1466.51 1184.47 1459.41 Q1184.47 1452.28 1182.64 1448.74 Q1180.83 1445.17 1177.2 1445.17 M1177.2 1441.47 Q1183.01 1441.47 1186.07 1446.07 Q1189.14 1450.66 1189.14 1459.41 Q1189.14 1468.13 1186.07 1472.74 Q1183.01 1477.32 1177.2 1477.32 Q1171.39 1477.32 1168.31 1472.74 Q1165.26 1468.13 1165.26 1459.41 Q1165.26 1450.66 1168.31 1446.07 Q1171.39 1441.47 1177.2 1441.47 Z\" fill=\"#000000\" fill-rule=\"evenodd\" fill-opacity=\"1\" /><path clip-path=\"url(#clip9200)\" d=\"M 0 0 M1207.06 1446.17 L1195.26 1464.61 L1207.06 1464.61 L1207.06 1446.17 M1205.83 1442.09 L1211.71 1442.09 L1211.71 1464.61 L1216.64 1464.61 L1216.64 1468.5 L1211.71 1468.5 L1211.71 1476.65 L1207.06 1476.65 L1207.06 1468.5 L1191.46 1468.5 L1191.46 1463.99 L1205.83 1442.09 Z\" fill=\"#000000\" fill-rule=\"evenodd\" fill-opacity=\"1\" /><path clip-path=\"url(#clip9200)\" d=\"M 0 0 M1569.76 1472.72 L1586.07 1472.72 L1586.07 1476.65 L1564.13 1476.65 L1564.13 1472.72 Q1566.79 1469.96 1571.38 1465.33 Q1575.98 1460.68 1577.16 1459.34 Q1579.41 1456.81 1580.29 1455.08 Q1581.19 1453.32 1581.19 1451.63 Q1581.19 1448.87 1579.25 1447.14 Q1577.33 1445.4 1574.22 1445.4 Q1572.02 1445.4 1569.57 1446.17 Q1567.14 1446.93 1564.36 1448.48 L1564.36 1443.76 Q1567.19 1442.62 1569.64 1442.05 Q1572.09 1441.47 1574.13 1441.47 Q1579.5 1441.47 1582.7 1444.15 Q1585.89 1446.84 1585.89 1451.33 Q1585.89 1453.46 1585.08 1455.38 Q1584.29 1457.28 1582.19 1459.87 Q1581.61 1460.54 1578.51 1463.76 Q1575.4 1466.95 1569.76 1472.72 Z\" fill=\"#000000\" fill-rule=\"evenodd\" fill-opacity=\"1\" /><path clip-path=\"url(#clip9200)\" d=\"M 0 0 M1601.14 1445.17 Q1597.53 1445.17 1595.7 1448.74 Q1593.9 1452.28 1593.9 1459.41 Q1593.9 1466.51 1595.7 1470.08 Q1597.53 1473.62 1601.14 1473.62 Q1604.78 1473.62 1606.58 1470.08 Q1608.41 1466.51 1608.41 1459.41 Q1608.41 1452.28 1606.58 1448.74 Q1604.78 1445.17 1601.14 1445.17 M1601.14 1441.47 Q1606.95 1441.47 1610.01 1446.07 Q1613.09 1450.66 1613.09 1459.41 Q1613.09 1468.13 1610.01 1472.74 Q1606.95 1477.32 1601.14 1477.32 Q1595.33 1477.32 1592.26 1472.74 Q1589.2 1468.13 1589.2 1459.41 Q1589.2 1450.66 1592.26 1446.07 Q1595.33 1441.47 1601.14 1441.47 Z\" fill=\"#000000\" fill-rule=\"evenodd\" fill-opacity=\"1\" /><path clip-path=\"url(#clip9200)\" d=\"M 0 0 M1628.16 1445.17 Q1624.55 1445.17 1622.72 1448.74 Q1620.91 1452.28 1620.91 1459.41 Q1620.91 1466.51 1622.72 1470.08 Q1624.55 1473.62 1628.16 1473.62 Q1631.79 1473.62 1633.6 1470.08 Q1635.43 1466.51 1635.43 1459.41 Q1635.43 1452.28 1633.6 1448.74 Q1631.79 1445.17 1628.16 1445.17 M1628.16 1441.47 Q1633.97 1441.47 1637.02 1446.07 Q1640.1 1450.66 1640.1 1459.41 Q1640.1 1468.13 1637.02 1472.74 Q1633.97 1477.32 1628.16 1477.32 Q1622.35 1477.32 1619.27 1472.74 Q1616.21 1468.13 1616.21 1459.41 Q1616.21 1450.66 1619.27 1446.07 Q1622.35 1441.47 1628.16 1441.47 Z\" fill=\"#000000\" fill-rule=\"evenodd\" fill-opacity=\"1\" /><path clip-path=\"url(#clip9200)\" d=\"M 0 0 M1655.75 1457.51 Q1652.6 1457.51 1650.75 1459.66 Q1648.92 1461.81 1648.92 1465.56 Q1648.92 1469.29 1650.75 1471.47 Q1652.6 1473.62 1655.75 1473.62 Q1658.9 1473.62 1660.73 1471.47 Q1662.58 1469.29 1662.58 1465.56 Q1662.58 1461.81 1660.73 1459.66 Q1658.9 1457.51 1655.75 1457.51 M1665.03 1442.86 L1665.03 1447.11 Q1663.27 1446.28 1661.47 1445.84 Q1659.69 1445.4 1657.93 1445.4 Q1653.3 1445.4 1650.84 1448.53 Q1648.41 1451.65 1648.07 1457.97 Q1649.43 1455.96 1651.49 1454.89 Q1653.55 1453.8 1656.03 1453.8 Q1661.24 1453.8 1664.25 1456.98 Q1667.28 1460.12 1667.28 1465.56 Q1667.28 1470.89 1664.13 1474.11 Q1660.98 1477.32 1655.75 1477.32 Q1649.76 1477.32 1646.58 1472.74 Q1643.41 1468.13 1643.41 1459.41 Q1643.41 1451.21 1647.3 1446.35 Q1651.19 1441.47 1657.74 1441.47 Q1659.5 1441.47 1661.28 1441.81 Q1663.09 1442.16 1665.03 1442.86 Z\" fill=\"#000000\" fill-rule=\"evenodd\" fill-opacity=\"1\" /><path clip-path=\"url(#clip9200)\" d=\"M 0 0 M2020.68 1472.72 L2037 1472.72 L2037 1476.65 L2015.05 1476.65 L2015.05 1472.72 Q2017.72 1469.96 2022.3 1465.33 Q2026.91 1460.68 2028.09 1459.34 Q2030.33 1456.81 2031.21 1455.08 Q2032.11 1453.32 2032.11 1451.63 Q2032.11 1448.87 2030.17 1447.14 Q2028.25 1445.4 2025.15 1445.4 Q2022.95 1445.4 2020.49 1446.17 Q2018.06 1446.93 2015.29 1448.48 L2015.29 1443.76 Q2018.11 1442.62 2020.56 1442.05 Q2023.02 1441.47 2025.05 1441.47 Q2030.42 1441.47 2033.62 1444.15 Q2036.81 1446.84 2036.81 1451.33 Q2036.81 1453.46 2036 1455.38 Q2035.22 1457.28 2033.11 1459.87 Q2032.53 1460.54 2029.43 1463.76 Q2026.33 1466.95 2020.68 1472.72 Z\" fill=\"#000000\" fill-rule=\"evenodd\" fill-opacity=\"1\" /><path clip-path=\"url(#clip9200)\" d=\"M 0 0 M2052.07 1445.17 Q2048.46 1445.17 2046.63 1448.74 Q2044.82 1452.28 2044.82 1459.41 Q2044.82 1466.51 2046.63 1470.08 Q2048.46 1473.62 2052.07 1473.62 Q2055.7 1473.62 2057.51 1470.08 Q2059.34 1466.51 2059.34 1459.41 Q2059.34 1452.28 2057.51 1448.74 Q2055.7 1445.17 2052.07 1445.17 M2052.07 1441.47 Q2057.88 1441.47 2060.93 1446.07 Q2064.01 1450.66 2064.01 1459.41 Q2064.01 1468.13 2060.93 1472.74 Q2057.88 1477.32 2052.07 1477.32 Q2046.26 1477.32 2043.18 1472.74 Q2040.12 1468.13 2040.12 1459.41 Q2040.12 1450.66 2043.18 1446.07 Q2046.26 1441.47 2052.07 1441.47 Z\" fill=\"#000000\" fill-rule=\"evenodd\" fill-opacity=\"1\" /><path clip-path=\"url(#clip9200)\" d=\"M 0 0 M2079.08 1445.17 Q2075.47 1445.17 2073.64 1448.74 Q2071.84 1452.28 2071.84 1459.41 Q2071.84 1466.51 2073.64 1470.08 Q2075.47 1473.62 2079.08 1473.62 Q2082.72 1473.62 2084.52 1470.08 Q2086.35 1466.51 2086.35 1459.41 Q2086.35 1452.28 2084.52 1448.74 Q2082.72 1445.17 2079.08 1445.17 M2079.08 1441.47 Q2084.89 1441.47 2087.95 1446.07 Q2091.03 1450.66 2091.03 1459.41 Q2091.03 1468.13 2087.95 1472.74 Q2084.89 1477.32 2079.08 1477.32 Q2073.27 1477.32 2070.19 1472.74 Q2067.14 1468.13 2067.14 1459.41 Q2067.14 1450.66 2070.19 1446.07 Q2073.27 1441.47 2079.08 1441.47 Z\" fill=\"#000000\" fill-rule=\"evenodd\" fill-opacity=\"1\" /><path clip-path=\"url(#clip9200)\" d=\"M 0 0 M2106.1 1460.24 Q2102.76 1460.24 2100.84 1462.02 Q2098.94 1463.8 2098.94 1466.93 Q2098.94 1470.05 2100.84 1471.84 Q2102.76 1473.62 2106.1 1473.62 Q2109.43 1473.62 2111.35 1471.84 Q2113.27 1470.03 2113.27 1466.93 Q2113.27 1463.8 2111.35 1462.02 Q2109.45 1460.24 2106.1 1460.24 M2101.42 1458.25 Q2098.41 1457.51 2096.72 1455.45 Q2095.05 1453.39 2095.05 1450.43 Q2095.05 1446.28 2097.99 1443.87 Q2100.96 1441.47 2106.1 1441.47 Q2111.26 1441.47 2114.2 1443.87 Q2117.14 1446.28 2117.14 1450.43 Q2117.14 1453.39 2115.45 1455.45 Q2113.78 1457.51 2110.79 1458.25 Q2114.17 1459.04 2116.05 1461.33 Q2117.95 1463.62 2117.95 1466.93 Q2117.95 1471.95 2114.87 1474.64 Q2111.81 1477.32 2106.1 1477.32 Q2100.38 1477.32 2097.3 1474.64 Q2094.24 1471.95 2094.24 1466.93 Q2094.24 1463.62 2096.14 1461.33 Q2098.04 1459.04 2101.42 1458.25 M2099.71 1450.86 Q2099.71 1453.55 2101.37 1455.05 Q2103.06 1456.56 2106.1 1456.56 Q2109.1 1456.56 2110.79 1455.05 Q2112.51 1453.55 2112.51 1450.86 Q2112.51 1448.18 2110.79 1446.68 Q2109.1 1445.17 2106.1 1445.17 Q2103.06 1445.17 2101.37 1446.68 Q2099.71 1448.18 2099.71 1450.86 Z\" fill=\"#000000\" fill-rule=\"evenodd\" fill-opacity=\"1\" /><path clip-path=\"url(#clip9200)\" d=\"M 0 0 M135.126 1213.04 L151.445 1213.04 L151.445 1216.97 L129.501 1216.97 L129.501 1213.04 Q132.163 1210.28 136.746 1205.65 Q141.353 1201 142.533 1199.66 Q144.779 1197.13 145.658 1195.4 Q146.561 1193.64 146.561 1191.95 Q146.561 1189.19 144.617 1187.46 Q142.695 1185.72 139.593 1185.72 Q137.394 1185.72 134.941 1186.49 Q132.51 1187.25 129.732 1188.8 L129.732 1184.08 Q132.556 1182.94 135.01 1182.37 Q137.464 1181.79 139.501 1181.79 Q144.871 1181.79 148.066 1184.47 Q151.26 1187.16 151.26 1191.65 Q151.26 1193.78 150.45 1195.7 Q149.663 1197.6 147.556 1200.19 Q146.978 1200.86 143.876 1204.08 Q140.774 1207.27 135.126 1213.04 Z\" fill=\"#000000\" fill-rule=\"evenodd\" fill-opacity=\"1\" /><path clip-path=\"url(#clip9200)\" d=\"M 0 0 M166.515 1185.49 Q162.903 1185.49 161.075 1189.06 Q159.269 1192.6 159.269 1199.73 Q159.269 1206.83 161.075 1210.4 Q162.903 1213.94 166.515 1213.94 Q170.149 1213.94 171.954 1210.4 Q173.783 1206.83 173.783 1199.73 Q173.783 1192.6 171.954 1189.06 Q170.149 1185.49 166.515 1185.49 M166.515 1181.79 Q172.325 1181.79 175.38 1186.39 Q178.459 1190.98 178.459 1199.73 Q178.459 1208.45 175.38 1213.06 Q172.325 1217.64 166.515 1217.64 Q160.704 1217.64 157.626 1213.06 Q154.57 1208.45 154.57 1199.73 Q154.57 1190.98 157.626 1186.39 Q160.704 1181.79 166.515 1181.79 Z\" fill=\"#000000\" fill-rule=\"evenodd\" fill-opacity=\"1\" /><path clip-path=\"url(#clip9200)\" d=\"M 0 0 M141.862 914.079 L130.056 932.528 L141.862 932.528 L141.862 914.079 M140.635 910.005 L146.515 910.005 L146.515 932.528 L151.445 932.528 L151.445 936.417 L146.515 936.417 L146.515 944.565 L141.862 944.565 L141.862 936.417 L126.26 936.417 L126.26 931.903 L140.635 910.005 Z\" fill=\"#000000\" fill-rule=\"evenodd\" fill-opacity=\"1\" /><path clip-path=\"url(#clip9200)\" d=\"M 0 0 M166.515 913.084 Q162.903 913.084 161.075 916.648 Q159.269 920.19 159.269 927.32 Q159.269 934.426 161.075 937.991 Q162.903 941.533 166.515 941.533 Q170.149 941.533 171.954 937.991 Q173.783 934.426 173.783 927.32 Q173.783 920.19 171.954 916.648 Q170.149 913.084 166.515 913.084 M166.515 909.38 Q172.325 909.38 175.38 913.986 Q178.459 918.57 178.459 927.32 Q178.459 936.046 175.38 940.653 Q172.325 945.236 166.515 945.236 Q160.704 945.236 157.626 940.653 Q154.57 936.046 154.57 927.32 Q154.57 918.57 157.626 913.986 Q160.704 909.38 166.515 909.38 Z\" fill=\"#000000\" fill-rule=\"evenodd\" fill-opacity=\"1\" /><path clip-path=\"url(#clip9200)\" d=\"M 0 0 M139.917 653.014 Q136.769 653.014 134.918 655.167 Q133.089 657.32 133.089 661.07 Q133.089 664.797 134.918 666.973 Q136.769 669.125 139.917 669.125 Q143.066 669.125 144.894 666.973 Q146.746 664.797 146.746 661.07 Q146.746 657.32 144.894 655.167 Q143.066 653.014 139.917 653.014 M149.2 638.362 L149.2 642.621 Q147.441 641.787 145.635 641.348 Q143.853 640.908 142.093 640.908 Q137.464 640.908 135.01 644.033 Q132.58 647.158 132.232 653.477 Q133.598 651.463 135.658 650.399 Q137.718 649.311 140.195 649.311 Q145.404 649.311 148.413 652.482 Q151.445 655.63 151.445 661.07 Q151.445 666.394 148.297 669.611 Q145.149 672.829 139.917 672.829 Q133.922 672.829 130.751 668.246 Q127.58 663.639 127.58 654.912 Q127.58 646.718 131.468 641.857 Q135.357 636.973 141.908 636.973 Q143.667 636.973 145.45 637.32 Q147.255 637.667 149.2 638.362 Z\" fill=\"#000000\" fill-rule=\"evenodd\" fill-opacity=\"1\" /><path clip-path=\"url(#clip9200)\" d=\"M 0 0 M166.515 640.676 Q162.903 640.676 161.075 644.241 Q159.269 647.783 159.269 654.912 Q159.269 662.019 161.075 665.584 Q162.903 669.125 166.515 669.125 Q170.149 669.125 171.954 665.584 Q173.783 662.019 173.783 654.912 Q173.783 647.783 171.954 644.241 Q170.149 640.676 166.515 640.676 M166.515 636.973 Q172.325 636.973 175.38 641.579 Q178.459 646.162 178.459 654.912 Q178.459 663.639 175.38 668.246 Q172.325 672.829 166.515 672.829 Q160.704 672.829 157.626 668.246 Q154.57 663.639 154.57 654.912 Q154.57 646.162 157.626 641.579 Q160.704 636.973 166.515 636.973 Z\" fill=\"#000000\" fill-rule=\"evenodd\" fill-opacity=\"1\" /><path clip-path=\"url(#clip9200)\" d=\"M 0 0 M139.593 383.338 Q136.26 383.338 134.339 385.121 Q132.441 386.903 132.441 390.028 Q132.441 393.153 134.339 394.936 Q136.26 396.718 139.593 396.718 Q142.927 396.718 144.848 394.936 Q146.769 393.13 146.769 390.028 Q146.769 386.903 144.848 385.121 Q142.95 383.338 139.593 383.338 M134.918 381.348 Q131.908 380.607 130.218 378.547 Q128.552 376.487 128.552 373.524 Q128.552 369.38 131.492 366.973 Q134.455 364.565 139.593 364.565 Q144.755 364.565 147.695 366.973 Q150.635 369.38 150.635 373.524 Q150.635 376.487 148.945 378.547 Q147.279 380.607 144.292 381.348 Q147.672 382.135 149.547 384.426 Q151.445 386.718 151.445 390.028 Q151.445 395.051 148.367 397.737 Q145.311 400.422 139.593 400.422 Q133.876 400.422 130.797 397.737 Q127.742 395.051 127.742 390.028 Q127.742 386.718 129.64 384.426 Q131.538 382.135 134.918 381.348 M133.205 373.964 Q133.205 376.649 134.871 378.153 Q136.561 379.658 139.593 379.658 Q142.603 379.658 144.292 378.153 Q146.005 376.649 146.005 373.964 Q146.005 371.278 144.292 369.774 Q142.603 368.269 139.593 368.269 Q136.561 368.269 134.871 369.774 Q133.205 371.278 133.205 373.964 Z\" fill=\"#000000\" fill-rule=\"evenodd\" fill-opacity=\"1\" /><path clip-path=\"url(#clip9200)\" d=\"M 0 0 M166.515 368.269 Q162.903 368.269 161.075 371.834 Q159.269 375.376 159.269 382.505 Q159.269 389.612 161.075 393.176 Q162.903 396.718 166.515 396.718 Q170.149 396.718 171.954 393.176 Q173.783 389.612 173.783 382.505 Q173.783 375.376 171.954 371.834 Q170.149 368.269 166.515 368.269 M166.515 364.565 Q172.325 364.565 175.38 369.172 Q178.459 373.755 178.459 382.505 Q178.459 391.232 175.38 395.838 Q172.325 400.422 166.515 400.422 Q160.704 400.422 157.626 395.838 Q154.57 391.232 154.57 382.505 Q154.57 373.755 157.626 369.172 Q160.704 364.565 166.515 364.565 Z\" fill=\"#000000\" fill-rule=\"evenodd\" fill-opacity=\"1\" /><path clip-path=\"url(#clip9200)\" d=\"M 0 0 M772.561 14.0809 L772.561 22.0612 Q767.902 19.8332 763.77 18.7395 Q759.639 17.6457 755.79 17.6457 Q749.106 17.6457 745.46 20.2383 Q741.855 22.8309 741.855 27.611 Q741.855 31.6214 744.245 33.6873 Q746.676 35.7128 753.4 36.9686 L758.342 37.9813 Q767.497 39.7232 771.832 44.1387 Q776.207 48.5136 776.207 55.8863 Q776.207 64.6767 770.292 69.2137 Q764.419 73.7508 753.036 73.7508 Q748.742 73.7508 743.881 72.7785 Q739.06 71.8063 733.875 69.9024 L733.875 61.4765 Q738.857 64.2716 743.637 65.6895 Q748.418 67.1073 753.036 67.1073 Q760.044 67.1073 763.852 64.3527 Q767.659 61.598 767.659 56.4939 Q767.659 52.0379 764.905 49.5264 Q762.191 47.0148 755.952 45.759 L750.97 44.7868 Q741.815 42.9639 737.723 39.075 Q733.632 35.1862 733.632 28.2591 Q733.632 20.2383 739.263 15.6203 Q744.934 11.0023 754.858 11.0023 Q759.112 11.0023 763.527 11.7719 Q767.943 12.5416 772.561 14.0809 Z\" fill=\"#000000\" fill-rule=\"evenodd\" fill-opacity=\"1\" /><path clip-path=\"url(#clip9200)\" d=\"M 0 0 M804.644 49.7694 Q795.611 49.7694 792.127 51.8354 Q788.643 53.9013 788.643 58.8839 Q788.643 62.8538 791.236 65.2034 Q793.869 67.5124 798.365 67.5124 Q804.563 67.5124 808.29 63.1374 Q812.057 58.7219 812.057 51.4303 L812.057 49.7694 L804.644 49.7694 M819.511 46.6907 L819.511 72.576 L812.057 72.576 L812.057 65.6895 Q809.505 69.8214 805.697 71.8063 Q801.889 73.7508 796.38 73.7508 Q789.413 73.7508 785.281 69.8619 Q781.189 65.9325 781.189 59.3701 Q781.189 51.7138 786.294 47.825 Q791.438 43.9361 801.606 43.9361 L812.057 43.9361 L812.057 43.2069 Q812.057 38.0623 808.655 35.2672 Q805.292 32.4315 799.175 32.4315 Q795.287 32.4315 791.6 33.3632 Q787.914 34.295 784.511 36.1584 L784.511 29.2718 Q788.603 27.692 792.451 26.9223 Q796.299 26.1121 799.945 26.1121 Q809.789 26.1121 814.65 31.2163 Q819.511 36.3204 819.511 46.6907 Z\" fill=\"#000000\" fill-rule=\"evenodd\" fill-opacity=\"1\" /><path clip-path=\"url(#clip9200)\" d=\"M 0 0 M827.329 9.54393 L834.783 9.54393 L834.783 72.576 L827.329 72.576 L827.329 9.54393 Z\" fill=\"#000000\" fill-rule=\"evenodd\" fill-opacity=\"1\" /><path clip-path=\"url(#clip9200)\" d=\"M 0 0 M881.409 48.0275 L881.409 51.6733 L847.138 51.6733 Q847.624 59.3701 851.756 63.421 Q855.929 67.4314 863.342 67.4314 Q867.636 67.4314 871.646 66.3781 Q875.697 65.3249 879.667 63.2184 L879.667 70.267 Q875.656 71.9684 871.444 72.8596 Q867.231 73.7508 862.896 73.7508 Q852.04 73.7508 845.68 67.4314 Q839.36 61.1119 839.36 50.3365 Q839.36 39.1965 845.356 32.6746 Q851.392 26.1121 861.6 26.1121 Q870.755 26.1121 876.062 32.0264 Q881.409 37.9003 881.409 48.0275 M873.955 45.84 Q873.874 39.7232 870.512 36.0774 Q867.19 32.4315 861.681 32.4315 Q855.442 32.4315 851.675 35.9558 Q847.948 39.4801 847.381 45.8805 L873.955 45.84 Z\" fill=\"#000000\" fill-rule=\"evenodd\" fill-opacity=\"1\" /><path clip-path=\"url(#clip9200)\" d=\"M 0 0 M948.168 49.9314 Q948.168 41.7081 944.765 37.0496 Q941.403 32.3505 935.488 32.3505 Q929.574 32.3505 926.171 37.0496 Q922.809 41.7081 922.809 49.9314 Q922.809 58.1548 926.171 62.8538 Q929.574 67.5124 935.488 67.5124 Q941.403 67.5124 944.765 62.8538 Q948.168 58.1548 948.168 49.9314 M922.809 34.0924 Q925.159 30.0415 928.723 28.0971 Q932.329 26.1121 937.311 26.1121 Q945.575 26.1121 950.72 32.6746 Q955.905 39.2371 955.905 49.9314 Q955.905 60.6258 950.72 67.1883 Q945.575 73.7508 937.311 73.7508 Q932.329 73.7508 928.723 71.8063 Q925.159 69.8214 922.809 65.7705 L922.809 72.576 L915.315 72.576 L915.315 9.54393 L922.809 9.54393 L922.809 34.0924 Z\" fill=\"#000000\" fill-rule=\"evenodd\" fill-opacity=\"1\" /><path clip-path=\"url(#clip9200)\" d=\"M 0 0 M1002.53 48.0275 L1002.53 51.6733 L968.26 51.6733 Q968.746 59.3701 972.878 63.421 Q977.051 67.4314 984.464 67.4314 Q988.758 67.4314 992.768 66.3781 Q996.819 65.3249 1000.79 63.2184 L1000.79 70.267 Q996.778 71.9684 992.566 72.8596 Q988.353 73.7508 984.018 73.7508 Q973.162 73.7508 966.802 67.4314 Q960.482 61.1119 960.482 50.3365 Q960.482 39.1965 966.478 32.6746 Q972.514 26.1121 982.722 26.1121 Q991.877 26.1121 997.184 32.0264 Q1002.53 37.9003 1002.53 48.0275 M995.077 45.84 Q994.996 39.7232 991.634 36.0774 Q988.312 32.4315 982.803 32.4315 Q976.564 32.4315 972.797 35.9558 Q969.07 39.4801 968.503 45.8805 L995.077 45.84 Z\" fill=\"#000000\" fill-rule=\"evenodd\" fill-opacity=\"1\" /><path clip-path=\"url(#clip9200)\" d=\"M 0 0 M1017.72 14.324 L1017.72 27.2059 L1033.07 27.2059 L1033.07 32.9987 L1017.72 32.9987 L1017.72 57.6282 Q1017.72 63.1779 1019.22 64.7578 Q1020.76 66.3376 1025.42 66.3376 L1033.07 66.3376 L1033.07 72.576 L1025.42 72.576 Q1016.79 72.576 1013.51 69.3758 Q1010.23 66.1351 1010.23 57.6282 L1010.23 32.9987 L1004.76 32.9987 L1004.76 27.2059 L1010.23 27.2059 L1010.23 14.324 L1017.72 14.324 Z\" fill=\"#000000\" fill-rule=\"evenodd\" fill-opacity=\"1\" /><path clip-path=\"url(#clip9200)\" d=\"M 0 0 M1036.56 27.2059 L1044.01 27.2059 L1053.33 62.6108 L1062.61 27.2059 L1071.4 27.2059 L1080.71 62.6108 L1089.99 27.2059 L1097.44 27.2059 L1085.57 72.576 L1076.78 72.576 L1067.02 35.3887 L1057.22 72.576 L1048.43 72.576 L1036.56 27.2059 Z\" fill=\"#000000\" fill-rule=\"evenodd\" fill-opacity=\"1\" /><path clip-path=\"url(#clip9200)\" d=\"M 0 0 M1144.07 48.0275 L1144.07 51.6733 L1109.8 51.6733 Q1110.28 59.3701 1114.42 63.421 Q1118.59 67.4314 1126 67.4314 Q1130.3 67.4314 1134.31 66.3781 Q1138.36 65.3249 1142.33 63.2184 L1142.33 70.267 Q1138.32 71.9684 1134.1 72.8596 Q1129.89 73.7508 1125.56 73.7508 Q1114.7 73.7508 1108.34 67.4314 Q1102.02 61.1119 1102.02 50.3365 Q1102.02 39.1965 1108.02 32.6746 Q1114.05 26.1121 1124.26 26.1121 Q1133.42 26.1121 1138.72 32.0264 Q1144.07 37.9003 1144.07 48.0275 M1136.62 45.84 Q1136.53 39.7232 1133.17 36.0774 Q1129.85 32.4315 1124.34 32.4315 Q1118.1 32.4315 1114.34 35.9558 Q1110.61 39.4801 1110.04 45.8805 L1136.62 45.84 Z\" fill=\"#000000\" fill-rule=\"evenodd\" fill-opacity=\"1\" /><path clip-path=\"url(#clip9200)\" d=\"M 0 0 M1190.7 48.0275 L1190.7 51.6733 L1156.42 51.6733 Q1156.91 59.3701 1161.04 63.421 Q1165.22 67.4314 1172.63 67.4314 Q1176.92 67.4314 1180.93 66.3781 Q1184.98 65.3249 1188.95 63.2184 L1188.95 70.267 Q1184.94 71.9684 1180.73 72.8596 Q1176.52 73.7508 1172.18 73.7508 Q1161.33 73.7508 1154.97 67.4314 Q1148.65 61.1119 1148.65 50.3365 Q1148.65 39.1965 1154.64 32.6746 Q1160.68 26.1121 1170.89 26.1121 Q1180.04 26.1121 1185.35 32.0264 Q1190.7 37.9003 1190.7 48.0275 M1183.24 45.84 Q1183.16 39.7232 1179.8 36.0774 Q1176.48 32.4315 1170.97 32.4315 Q1164.73 32.4315 1160.96 35.9558 Q1157.23 39.4801 1156.67 45.8805 L1183.24 45.84 Z\" fill=\"#000000\" fill-rule=\"evenodd\" fill-opacity=\"1\" /><path clip-path=\"url(#clip9200)\" d=\"M 0 0 M1236.23 45.1919 L1236.23 72.576 L1228.77 72.576 L1228.77 45.4349 Q1228.77 38.994 1226.26 35.7938 Q1223.75 32.5936 1218.73 32.5936 Q1212.69 32.5936 1209.21 36.4419 Q1205.72 40.2903 1205.72 46.9338 L1205.72 72.576 L1198.23 72.576 L1198.23 27.2059 L1205.72 27.2059 L1205.72 34.2544 Q1208.4 30.163 1212 28.1376 Q1215.65 26.1121 1220.39 26.1121 Q1228.21 26.1121 1232.22 30.9732 Q1236.23 35.7938 1236.23 45.1919 Z\" fill=\"#000000\" fill-rule=\"evenodd\" fill-opacity=\"1\" /><path clip-path=\"url(#clip9200)\" d=\"M 0 0 M1278.52 65.6895 L1307.08 65.6895 L1307.08 72.576 L1268.68 72.576 L1268.68 65.6895 Q1273.33 60.8689 1281.35 52.7671 Q1289.42 44.6248 1291.48 42.2752 Q1295.41 37.8598 1296.95 34.8216 Q1298.53 31.7429 1298.53 28.7857 Q1298.53 23.9651 1295.13 20.927 Q1291.77 17.8888 1286.34 17.8888 Q1282.49 17.8888 1278.19 19.2256 Q1273.94 20.5624 1269.08 23.2765 L1269.08 15.0127 Q1274.02 13.0277 1278.32 12.015 Q1282.61 11.0023 1286.18 11.0023 Q1295.57 11.0023 1301.16 15.7013 Q1306.75 20.4004 1306.75 28.2591 Q1306.75 31.9859 1305.34 35.3482 Q1303.96 38.6699 1300.27 43.2069 Q1299.26 44.3817 1293.83 50.0125 Q1288.4 55.6027 1278.52 65.6895 Z\" fill=\"#000000\" fill-rule=\"evenodd\" fill-opacity=\"1\" /><path clip-path=\"url(#clip9200)\" d=\"M 0 0 M1333.45 17.4837 Q1327.13 17.4837 1323.93 23.7221 Q1320.77 29.92 1320.77 42.3968 Q1320.77 54.833 1323.93 61.0714 Q1327.13 67.2693 1333.45 67.2693 Q1339.81 67.2693 1342.97 61.0714 Q1346.17 54.833 1346.17 42.3968 Q1346.17 29.92 1342.97 23.7221 Q1339.81 17.4837 1333.45 17.4837 M1333.45 11.0023 Q1343.62 11.0023 1348.96 19.0636 Q1354.35 27.0843 1354.35 42.3968 Q1354.35 57.6687 1348.96 65.73 Q1343.62 73.7508 1333.45 73.7508 Q1323.28 73.7508 1317.89 65.73 Q1312.55 57.6687 1312.55 42.3968 Q1312.55 27.0843 1317.89 19.0636 Q1323.28 11.0023 1333.45 11.0023 Z\" fill=\"#000000\" fill-rule=\"evenodd\" fill-opacity=\"1\" /><path clip-path=\"url(#clip9200)\" d=\"M 0 0 M1380.72 17.4837 Q1374.4 17.4837 1371.2 23.7221 Q1368.04 29.92 1368.04 42.3968 Q1368.04 54.833 1371.2 61.0714 Q1374.4 67.2693 1380.72 67.2693 Q1387.08 67.2693 1390.24 61.0714 Q1393.44 54.833 1393.44 42.3968 Q1393.44 29.92 1390.24 23.7221 Q1387.08 17.4837 1380.72 17.4837 M1380.72 11.0023 Q1390.89 11.0023 1396.24 19.0636 Q1401.63 27.0843 1401.63 42.3968 Q1401.63 57.6687 1396.24 65.73 Q1390.89 73.7508 1380.72 73.7508 Q1370.56 73.7508 1365.17 65.73 Q1359.82 57.6687 1359.82 42.3968 Q1359.82 27.0843 1365.17 19.0636 Q1370.56 11.0023 1380.72 11.0023 Z\" fill=\"#000000\" fill-rule=\"evenodd\" fill-opacity=\"1\" /><path clip-path=\"url(#clip9200)\" d=\"M 0 0 M1428 17.4837 Q1421.68 17.4837 1418.48 23.7221 Q1415.32 29.92 1415.32 42.3968 Q1415.32 54.833 1418.48 61.0714 Q1421.68 67.2693 1428 67.2693 Q1434.36 67.2693 1437.52 61.0714 Q1440.72 54.833 1440.72 42.3968 Q1440.72 29.92 1437.52 23.7221 Q1434.36 17.4837 1428 17.4837 M1428 11.0023 Q1438.17 11.0023 1443.51 19.0636 Q1448.9 27.0843 1448.9 42.3968 Q1448.9 57.6687 1443.51 65.73 Q1438.17 73.7508 1428 73.7508 Q1417.83 73.7508 1412.44 65.73 Q1407.09 57.6687 1407.09 42.3968 Q1407.09 27.0843 1412.44 19.0636 Q1417.83 11.0023 1428 11.0023 Z\" fill=\"#000000\" fill-rule=\"evenodd\" fill-opacity=\"1\" /><path clip-path=\"url(#clip9200)\" d=\"M 0 0 M1503.71 49.7694 Q1494.68 49.7694 1491.19 51.8354 Q1487.71 53.9013 1487.71 58.8839 Q1487.71 62.8538 1490.3 65.2034 Q1492.93 67.5124 1497.43 67.5124 Q1503.63 67.5124 1507.35 63.1374 Q1511.12 58.7219 1511.12 51.4303 L1511.12 49.7694 L1503.71 49.7694 M1518.58 46.6907 L1518.58 72.576 L1511.12 72.576 L1511.12 65.6895 Q1508.57 69.8214 1504.76 71.8063 Q1500.95 73.7508 1495.44 73.7508 Q1488.48 73.7508 1484.35 69.8619 Q1480.25 65.9325 1480.25 59.3701 Q1480.25 51.7138 1485.36 47.825 Q1490.5 43.9361 1500.67 43.9361 L1511.12 43.9361 L1511.12 43.2069 Q1511.12 38.0623 1507.72 35.2672 Q1504.36 32.4315 1498.24 32.4315 Q1494.35 32.4315 1490.66 33.3632 Q1486.98 34.295 1483.58 36.1584 L1483.58 29.2718 Q1487.67 27.692 1491.52 26.9223 Q1495.36 26.1121 1499.01 26.1121 Q1508.85 26.1121 1513.71 31.2163 Q1518.58 36.3204 1518.58 46.6907 Z\" fill=\"#000000\" fill-rule=\"evenodd\" fill-opacity=\"1\" /><path clip-path=\"url(#clip9200)\" d=\"M 0 0 M1564.11 45.1919 L1564.11 72.576 L1556.65 72.576 L1556.65 45.4349 Q1556.65 38.994 1554.14 35.7938 Q1551.63 32.5936 1546.61 32.5936 Q1540.57 32.5936 1537.09 36.4419 Q1533.6 40.2903 1533.6 46.9338 L1533.6 72.576 L1526.11 72.576 L1526.11 27.2059 L1533.6 27.2059 L1533.6 34.2544 Q1536.28 30.163 1539.88 28.1376 Q1543.53 26.1121 1548.27 26.1121 Q1556.09 26.1121 1560.1 30.9732 Q1564.11 35.7938 1564.11 45.1919 Z\" fill=\"#000000\" fill-rule=\"evenodd\" fill-opacity=\"1\" /><path clip-path=\"url(#clip9200)\" d=\"M 0 0 M1601.78 34.0924 L1601.78 9.54393 L1609.23 9.54393 L1609.23 72.576 L1601.78 72.576 L1601.78 65.7705 Q1599.43 69.8214 1595.83 71.8063 Q1592.26 73.7508 1587.24 73.7508 Q1579.01 73.7508 1573.83 67.1883 Q1568.69 60.6258 1568.69 49.9314 Q1568.69 39.2371 1573.83 32.6746 Q1579.01 26.1121 1587.24 26.1121 Q1592.26 26.1121 1595.83 28.0971 Q1599.43 30.0415 1601.78 34.0924 M1576.38 49.9314 Q1576.38 58.1548 1579.74 62.8538 Q1583.15 67.5124 1589.06 67.5124 Q1594.98 67.5124 1598.38 62.8538 Q1601.78 58.1548 1601.78 49.9314 Q1601.78 41.7081 1598.38 37.0496 Q1594.98 32.3505 1589.06 32.3505 Q1583.15 32.3505 1579.74 37.0496 Q1576.38 41.7081 1576.38 49.9314 Z\" fill=\"#000000\" fill-rule=\"evenodd\" fill-opacity=\"1\" /><path clip-path=\"url(#clip9200)\" d=\"M 0 0 M1651.53 65.6895 L1680.09 65.6895 L1680.09 72.576 L1641.68 72.576 L1641.68 65.6895 Q1646.34 60.8689 1654.36 52.7671 Q1662.42 44.6248 1664.49 42.2752 Q1668.42 37.8598 1669.96 34.8216 Q1671.54 31.7429 1671.54 28.7857 Q1671.54 23.9651 1668.13 20.927 Q1664.77 17.8888 1659.34 17.8888 Q1655.5 17.8888 1651.2 19.2256 Q1646.95 20.5624 1642.09 23.2765 L1642.09 15.0127 Q1647.03 13.0277 1651.32 12.015 Q1655.62 11.0023 1659.18 11.0023 Q1668.58 11.0023 1674.17 15.7013 Q1679.76 20.4004 1679.76 28.2591 Q1679.76 31.9859 1678.34 35.3482 Q1676.97 38.6699 1673.28 43.2069 Q1672.27 44.3817 1666.84 50.0125 Q1661.41 55.6027 1651.53 65.6895 Z\" fill=\"#000000\" fill-rule=\"evenodd\" fill-opacity=\"1\" /><path clip-path=\"url(#clip9200)\" d=\"M 0 0 M1706.46 17.4837 Q1700.14 17.4837 1696.94 23.7221 Q1693.78 29.92 1693.78 42.3968 Q1693.78 54.833 1696.94 61.0714 Q1700.14 67.2693 1706.46 67.2693 Q1712.82 67.2693 1715.98 61.0714 Q1719.18 54.833 1719.18 42.3968 Q1719.18 29.92 1715.98 23.7221 Q1712.82 17.4837 1706.46 17.4837 M1706.46 11.0023 Q1716.62 11.0023 1721.97 19.0636 Q1727.36 27.0843 1727.36 42.3968 Q1727.36 57.6687 1721.97 65.73 Q1716.62 73.7508 1706.46 73.7508 Q1696.29 73.7508 1690.9 65.73 Q1685.55 57.6687 1685.55 42.3968 Q1685.55 27.0843 1690.9 19.0636 Q1696.29 11.0023 1706.46 11.0023 Z\" fill=\"#000000\" fill-rule=\"evenodd\" fill-opacity=\"1\" /><path clip-path=\"url(#clip9200)\" d=\"M 0 0 M1753.73 17.4837 Q1747.41 17.4837 1744.21 23.7221 Q1741.05 29.92 1741.05 42.3968 Q1741.05 54.833 1744.21 61.0714 Q1747.41 67.2693 1753.73 67.2693 Q1760.09 67.2693 1763.25 61.0714 Q1766.45 54.833 1766.45 42.3968 Q1766.45 29.92 1763.25 23.7221 Q1760.09 17.4837 1753.73 17.4837 M1753.73 11.0023 Q1763.9 11.0023 1769.25 19.0636 Q1774.63 27.0843 1774.63 42.3968 Q1774.63 57.6687 1769.25 65.73 Q1763.9 73.7508 1753.73 73.7508 Q1743.56 73.7508 1738.17 65.73 Q1732.83 57.6687 1732.83 42.3968 Q1732.83 27.0843 1738.17 19.0636 Q1743.56 11.0023 1753.73 11.0023 Z\" fill=\"#000000\" fill-rule=\"evenodd\" fill-opacity=\"1\" /><path clip-path=\"url(#clip9200)\" d=\"M 0 0 M1783.75 71.3202 L1783.75 63.8666 Q1786.83 65.3249 1789.99 66.0946 Q1793.15 66.8642 1796.18 66.8642 Q1804.29 66.8642 1808.54 61.436 Q1812.83 55.9673 1813.44 44.8678 Q1811.09 48.3516 1807.49 50.215 Q1803.88 52.0784 1799.51 52.0784 Q1790.43 52.0784 1785.12 46.6097 Q1779.86 41.1005 1779.86 31.5808 Q1779.86 22.2638 1785.37 16.633 Q1790.88 11.0023 1800.03 11.0023 Q1810.52 11.0023 1816.03 19.0636 Q1821.58 27.0843 1821.58 42.3968 Q1821.58 56.6965 1814.78 65.2439 Q1808.01 73.7508 1796.55 73.7508 Q1793.47 73.7508 1790.31 73.1431 Q1787.15 72.5355 1783.75 71.3202 M1800.03 45.678 Q1805.54 45.678 1808.74 41.9107 Q1811.98 38.1433 1811.98 31.5808 Q1811.98 25.0589 1808.74 21.2916 Q1805.54 17.4837 1800.03 17.4837 Q1794.52 17.4837 1791.28 21.2916 Q1788.08 25.0589 1788.08 31.5808 Q1788.08 38.1433 1791.28 41.9107 Q1794.52 45.678 1800.03 45.678 Z\" fill=\"#000000\" fill-rule=\"evenodd\" fill-opacity=\"1\" /><path clip-path=\"url(#clip9200)\" d=\"M 0 0 M1213.17 1508.52 L1220.08 1508.52 L1233.25 1528.07 L1246.34 1508.52 L1253.24 1508.52 L1236.44 1533.41 L1236.44 1556.04 L1229.98 1556.04 L1229.98 1533.41 L1213.17 1508.52 Z\" fill=\"#000000\" fill-rule=\"evenodd\" fill-opacity=\"1\" /><path clip-path=\"url(#clip9200)\" d=\"M 0 0 M1281.22 1536.76 L1281.22 1539.62 L1254.29 1539.62 Q1254.67 1545.67 1257.92 1548.85 Q1261.2 1552 1267.02 1552 Q1270.4 1552 1273.55 1551.17 Q1276.73 1550.35 1279.85 1548.69 L1279.85 1554.23 Q1276.7 1555.57 1273.39 1556.27 Q1270.08 1556.97 1266.67 1556.97 Q1258.14 1556.97 1253.15 1552 Q1248.18 1547.04 1248.18 1538.57 Q1248.18 1529.82 1252.89 1524.69 Q1257.64 1519.54 1265.66 1519.54 Q1272.85 1519.54 1277.02 1524.18 Q1281.22 1528.8 1281.22 1536.76 M1275.36 1535.04 Q1275.3 1530.23 1272.66 1527.37 Q1270.05 1524.5 1265.72 1524.5 Q1260.82 1524.5 1257.86 1527.27 Q1254.93 1530.04 1254.48 1535.07 L1275.36 1535.04 Z\" fill=\"#000000\" fill-rule=\"evenodd\" fill-opacity=\"1\" /><path clip-path=\"url(#clip9200)\" d=\"M 0 0 M1303.56 1538.12 Q1296.47 1538.12 1293.73 1539.75 Q1290.99 1541.37 1290.99 1545.29 Q1290.99 1548.4 1293.03 1550.25 Q1295.1 1552.07 1298.63 1552.07 Q1303.5 1552.07 1306.43 1548.63 Q1309.39 1545.16 1309.39 1539.43 L1309.39 1538.12 L1303.56 1538.12 M1315.24 1535.71 L1315.24 1556.04 L1309.39 1556.04 L1309.39 1550.63 Q1307.38 1553.88 1304.39 1555.44 Q1301.4 1556.97 1297.07 1556.97 Q1291.6 1556.97 1288.35 1553.91 Q1285.13 1550.82 1285.13 1545.67 Q1285.13 1539.65 1289.15 1536.6 Q1293.19 1533.54 1301.18 1533.54 L1309.39 1533.54 L1309.39 1532.97 Q1309.39 1528.93 1306.71 1526.73 Q1304.07 1524.5 1299.27 1524.5 Q1296.21 1524.5 1293.31 1525.23 Q1290.42 1525.97 1287.74 1527.43 L1287.74 1522.02 Q1290.96 1520.78 1293.98 1520.17 Q1297.01 1519.54 1299.87 1519.54 Q1307.61 1519.54 1311.43 1523.55 Q1315.24 1527.56 1315.24 1535.71 Z\" fill=\"#000000\" fill-rule=\"evenodd\" fill-opacity=\"1\" /><path clip-path=\"url(#clip9200)\" d=\"M 0 0 M1342.04 1525.87 Q1341.06 1525.3 1339.88 1525.04 Q1338.73 1524.76 1337.33 1524.76 Q1332.37 1524.76 1329.69 1528 Q1327.05 1531.22 1327.05 1537.27 L1327.05 1556.04 L1321.16 1556.04 L1321.16 1520.4 L1327.05 1520.4 L1327.05 1525.93 Q1328.9 1522.69 1331.86 1521.13 Q1334.82 1519.54 1339.05 1519.54 Q1339.66 1519.54 1340.39 1519.63 Q1341.12 1519.7 1342.01 1519.85 L1342.04 1525.87 Z\" fill=\"#000000\" fill-rule=\"evenodd\" fill-opacity=\"1\" /><path clip-path=\"url(#clip9200)\" d=\"M 0 0 M42.0438 800.794 L48.314 800.794 Q46.5634 804.454 45.704 807.701 Q44.8447 810.947 44.8447 813.971 Q44.8447 819.223 46.8817 822.087 Q48.9187 824.92 52.6745 824.92 Q55.8255 824.92 57.4488 823.042 Q59.0402 821.132 60.0269 815.849 L60.8226 811.966 Q62.1912 804.773 65.6605 801.367 Q69.098 797.929 74.8908 797.929 Q81.7976 797.929 85.3624 802.576 Q88.9272 807.192 88.9272 816.135 Q88.9272 819.509 88.1633 823.329 Q87.3994 827.116 85.9035 831.19 L79.2831 831.19 Q81.4793 827.275 82.5933 823.52 Q83.7073 819.764 83.7073 816.135 Q83.7073 810.629 81.543 807.637 Q79.3786 804.645 75.3682 804.645 Q71.8671 804.645 69.8937 806.81 Q67.9204 808.942 66.9337 813.844 L66.1698 817.759 Q64.7375 824.952 61.682 828.167 Q58.6264 831.381 53.1837 831.381 Q46.8817 831.381 43.2532 826.957 Q39.6248 822.501 39.6248 814.703 Q39.6248 811.361 40.2295 807.892 Q40.8343 804.422 42.0438 800.794 Z\" fill=\"#000000\" fill-rule=\"evenodd\" fill-opacity=\"1\" /><path clip-path=\"url(#clip9200)\" d=\"M 0 0 M70.0847 775.586 Q70.0847 782.684 71.7079 785.421 Q73.3312 788.158 77.2461 788.158 Q80.3653 788.158 82.2114 786.121 Q84.0256 784.052 84.0256 780.519 Q84.0256 775.649 80.5881 772.721 Q77.1188 769.761 71.3897 769.761 L70.0847 769.761 L70.0847 775.586 M67.6657 763.905 L88.0042 763.905 L88.0042 769.761 L82.5933 769.761 Q85.8398 771.766 87.3994 774.758 Q88.9272 777.75 88.9272 782.079 Q88.9272 787.553 85.8716 790.8 Q82.7843 794.015 77.6281 794.015 Q71.6125 794.015 68.5569 790.004 Q65.5014 785.962 65.5014 777.973 L65.5014 769.761 L64.9285 769.761 Q60.8862 769.761 58.6901 772.435 Q56.4621 775.077 56.4621 779.883 Q56.4621 782.938 57.1941 785.835 Q57.9262 788.731 59.3903 791.405 L53.9795 791.405 Q52.7381 788.19 52.1334 785.166 Q51.4968 782.142 51.4968 779.278 Q51.4968 771.544 55.5072 767.724 Q59.5176 763.905 67.6657 763.905 Z\" fill=\"#000000\" fill-rule=\"evenodd\" fill-opacity=\"1\" /><path clip-path=\"url(#clip9200)\" d=\"M 0 0 M38.479 757.762 L38.479 751.905 L88.0042 751.905 L88.0042 757.762 L38.479 757.762 Z\" fill=\"#000000\" fill-rule=\"evenodd\" fill-opacity=\"1\" /><path clip-path=\"url(#clip9200)\" d=\"M 0 0 M68.7161 715.271 L71.5806 715.271 L71.5806 742.198 Q77.6281 741.816 80.8109 738.569 Q83.9619 735.291 83.9619 729.466 Q83.9619 726.092 83.1344 722.941 Q82.3069 719.759 80.6518 716.639 L86.1899 716.639 Q87.5267 719.79 88.227 723.101 Q88.9272 726.411 88.9272 729.816 Q88.9272 738.346 83.9619 743.344 Q78.9967 748.309 70.5303 748.309 Q61.7774 748.309 56.6531 743.598 Q51.4968 738.856 51.4968 730.835 Q51.4968 723.642 56.1438 719.472 Q60.7589 715.271 68.7161 715.271 M66.9973 721.127 Q62.1912 721.191 59.3266 723.833 Q56.4621 726.443 56.4621 730.771 Q56.4621 735.673 59.2312 738.633 Q62.0002 741.561 67.0292 742.007 L66.9973 721.127 Z\" fill=\"#000000\" fill-rule=\"evenodd\" fill-opacity=\"1\" /><polyline clip-path=\"url(#clip9202)\" style=\"stroke:#009af9; stroke-width:4; stroke-opacity:1; fill:none\" points=\"\n",
       "  263.316,1386.4 488.714,1342.74 714.112,852.684 939.51,685.146 1164.91,571.621 1390.31,740.114 1615.7,1001.4 1841.1,1295.63 2066.5,1207.96 2291.9,160.256 \n",
       "  \n",
       "  \"/>\n",
       "<circle clip-path=\"url(#clip9202)\" cx=\"263.316\" cy=\"1386.4\" r=\"14\" fill=\"#e26f46\" fill-rule=\"evenodd\" fill-opacity=\"1\" stroke=\"#000000\" stroke-opacity=\"1\" stroke-width=\"3.2\"/>\n",
       "<circle clip-path=\"url(#clip9202)\" cx=\"488.714\" cy=\"1342.74\" r=\"14\" fill=\"#e26f46\" fill-rule=\"evenodd\" fill-opacity=\"1\" stroke=\"#000000\" stroke-opacity=\"1\" stroke-width=\"3.2\"/>\n",
       "<circle clip-path=\"url(#clip9202)\" cx=\"714.112\" cy=\"852.684\" r=\"14\" fill=\"#e26f46\" fill-rule=\"evenodd\" fill-opacity=\"1\" stroke=\"#000000\" stroke-opacity=\"1\" stroke-width=\"3.2\"/>\n",
       "<circle clip-path=\"url(#clip9202)\" cx=\"939.51\" cy=\"685.146\" r=\"14\" fill=\"#e26f46\" fill-rule=\"evenodd\" fill-opacity=\"1\" stroke=\"#000000\" stroke-opacity=\"1\" stroke-width=\"3.2\"/>\n",
       "<circle clip-path=\"url(#clip9202)\" cx=\"1164.91\" cy=\"571.621\" r=\"14\" fill=\"#e26f46\" fill-rule=\"evenodd\" fill-opacity=\"1\" stroke=\"#000000\" stroke-opacity=\"1\" stroke-width=\"3.2\"/>\n",
       "<circle clip-path=\"url(#clip9202)\" cx=\"1390.31\" cy=\"740.114\" r=\"14\" fill=\"#e26f46\" fill-rule=\"evenodd\" fill-opacity=\"1\" stroke=\"#000000\" stroke-opacity=\"1\" stroke-width=\"3.2\"/>\n",
       "<circle clip-path=\"url(#clip9202)\" cx=\"1615.7\" cy=\"1001.4\" r=\"14\" fill=\"#e26f46\" fill-rule=\"evenodd\" fill-opacity=\"1\" stroke=\"#000000\" stroke-opacity=\"1\" stroke-width=\"3.2\"/>\n",
       "<circle clip-path=\"url(#clip9202)\" cx=\"1841.1\" cy=\"1295.63\" r=\"14\" fill=\"#e26f46\" fill-rule=\"evenodd\" fill-opacity=\"1\" stroke=\"#000000\" stroke-opacity=\"1\" stroke-width=\"3.2\"/>\n",
       "<circle clip-path=\"url(#clip9202)\" cx=\"2066.5\" cy=\"1207.96\" r=\"14\" fill=\"#e26f46\" fill-rule=\"evenodd\" fill-opacity=\"1\" stroke=\"#000000\" stroke-opacity=\"1\" stroke-width=\"3.2\"/>\n",
       "<circle clip-path=\"url(#clip9202)\" cx=\"2291.9\" cy=\"160.256\" r=\"14\" fill=\"#e26f46\" fill-rule=\"evenodd\" fill-opacity=\"1\" stroke=\"#000000\" stroke-opacity=\"1\" stroke-width=\"3.2\"/>\n",
       "<path clip-path=\"url(#clip9200)\" d=\"\n",
       "M1796.87 388.432 L2280.76 388.432 L2280.76 206.992 L1796.87 206.992  Z\n",
       "  \" fill=\"#ffffff\" fill-rule=\"evenodd\" fill-opacity=\"1\"/>\n",
       "<polyline clip-path=\"url(#clip9200)\" style=\"stroke:#000000; stroke-width:4; stroke-opacity:1; fill:none\" points=\"\n",
       "  1796.87,388.432 2280.76,388.432 2280.76,206.992 1796.87,206.992 1796.87,388.432 \n",
       "  \"/>\n",
       "<polyline clip-path=\"url(#clip9200)\" style=\"stroke:#009af9; stroke-width:4; stroke-opacity:1; fill:none\" points=\"\n",
       "  1820.87,267.472 1964.87,267.472 \n",
       "  \"/>\n",
       "<path clip-path=\"url(#clip9200)\" d=\"M 0 0 M1988.87 248.734 L1993.13 248.734 L1993.13 284.752 L1988.87 284.752 L1988.87 248.734 Z\" fill=\"#000000\" fill-rule=\"evenodd\" fill-opacity=\"1\" /><path clip-path=\"url(#clip9200)\" d=\"M 0 0 M1997.6 258.826 L2001.85 258.826 L2001.85 284.752 L1997.6 284.752 L1997.6 258.826 M1997.6 248.734 L2001.85 248.734 L2001.85 254.127 L1997.6 254.127 L1997.6 248.734 Z\" fill=\"#000000\" fill-rule=\"evenodd\" fill-opacity=\"1\" /><path clip-path=\"url(#clip9200)\" d=\"M 0 0 M2027.87 269.104 L2027.87 284.752 L2023.61 284.752 L2023.61 269.243 Q2023.61 265.562 2022.18 263.734 Q2020.74 261.905 2017.87 261.905 Q2014.42 261.905 2012.43 264.104 Q2010.44 266.303 2010.44 270.099 L2010.44 284.752 L2006.16 284.752 L2006.16 258.826 L2010.44 258.826 L2010.44 262.854 Q2011.97 260.516 2014.03 259.359 Q2016.11 258.201 2018.82 258.201 Q2023.29 258.201 2025.58 260.979 Q2027.87 263.734 2027.87 269.104 Z\" fill=\"#000000\" fill-rule=\"evenodd\" fill-opacity=\"1\" /><path clip-path=\"url(#clip9200)\" d=\"M 0 0 M2054.52 270.724 L2054.52 272.808 L2034.93 272.808 Q2035.21 277.206 2037.57 279.521 Q2039.96 281.812 2044.19 281.812 Q2046.65 281.812 2048.94 281.21 Q2051.25 280.609 2053.52 279.405 L2053.52 283.433 Q2051.23 284.405 2048.82 284.914 Q2046.41 285.423 2043.94 285.423 Q2037.73 285.423 2034.1 281.812 Q2030.49 278.201 2030.49 272.044 Q2030.49 265.678 2033.91 261.951 Q2037.36 258.201 2043.2 258.201 Q2048.43 258.201 2051.46 261.581 Q2054.52 264.937 2054.52 270.724 M2050.26 269.474 Q2050.21 265.979 2048.29 263.896 Q2046.39 261.812 2043.24 261.812 Q2039.68 261.812 2037.53 263.826 Q2035.4 265.84 2035.07 269.498 L2050.26 269.474 Z\" fill=\"#000000\" fill-rule=\"evenodd\" fill-opacity=\"1\" /><path clip-path=\"url(#clip9200)\" d=\"M 0 0 M2078.17 280.863 L2078.17 294.613 L2073.89 294.613 L2073.89 258.826 L2078.17 258.826 L2078.17 262.762 Q2079.52 260.447 2081.55 259.336 Q2083.61 258.201 2086.46 258.201 Q2091.18 258.201 2094.12 261.951 Q2097.09 265.701 2097.09 271.812 Q2097.09 277.923 2094.12 281.673 Q2091.18 285.423 2086.46 285.423 Q2083.61 285.423 2081.55 284.312 Q2079.52 283.178 2078.17 280.863 M2092.66 271.812 Q2092.66 267.113 2090.72 264.451 Q2088.8 261.766 2085.42 261.766 Q2082.04 261.766 2080.09 264.451 Q2078.17 267.113 2078.17 271.812 Q2078.17 276.511 2080.09 279.197 Q2082.04 281.859 2085.42 281.859 Q2088.8 281.859 2090.72 279.197 Q2092.66 276.511 2092.66 271.812 Z\" fill=\"#000000\" fill-rule=\"evenodd\" fill-opacity=\"1\" /><path clip-path=\"url(#clip9200)\" d=\"M 0 0 M2101.55 248.734 L2105.81 248.734 L2105.81 284.752 L2101.55 284.752 L2101.55 248.734 Z\" fill=\"#000000\" fill-rule=\"evenodd\" fill-opacity=\"1\" /><path clip-path=\"url(#clip9200)\" d=\"M 0 0 M2120.33 261.812 Q2116.9 261.812 2114.91 264.498 Q2112.92 267.16 2112.92 271.812 Q2112.92 276.465 2114.89 279.15 Q2116.88 281.812 2120.33 281.812 Q2123.73 281.812 2125.72 279.127 Q2127.71 276.442 2127.71 271.812 Q2127.71 267.206 2125.72 264.521 Q2123.73 261.812 2120.33 261.812 M2120.33 258.201 Q2125.88 258.201 2129.05 261.812 Q2132.22 265.424 2132.22 271.812 Q2132.22 278.178 2129.05 281.812 Q2125.88 285.423 2120.33 285.423 Q2114.75 285.423 2111.58 281.812 Q2108.43 278.178 2108.43 271.812 Q2108.43 265.424 2111.58 261.812 Q2114.75 258.201 2120.33 258.201 Z\" fill=\"#000000\" fill-rule=\"evenodd\" fill-opacity=\"1\" /><path clip-path=\"url(#clip9200)\" d=\"M 0 0 M2140.9 251.465 L2140.9 258.826 L2149.68 258.826 L2149.68 262.137 L2140.9 262.137 L2140.9 276.211 Q2140.9 279.382 2141.76 280.285 Q2142.64 281.187 2145.3 281.187 L2149.68 281.187 L2149.68 284.752 L2145.3 284.752 Q2140.37 284.752 2138.5 282.923 Q2136.62 281.072 2136.62 276.211 L2136.62 262.137 L2133.5 262.137 L2133.5 258.826 L2136.62 258.826 L2136.62 251.465 L2140.9 251.465 Z\" fill=\"#000000\" fill-rule=\"evenodd\" fill-opacity=\"1\" /><circle clip-path=\"url(#clip9200)\" cx=\"1904.87\" cy=\"327.952\" r=\"21\" fill=\"#e26f46\" fill-rule=\"evenodd\" fill-opacity=\"1\" stroke=\"#000000\" stroke-opacity=\"1\" stroke-width=\"3.2\"/>\n",
       "<path clip-path=\"url(#clip9200)\" d=\"M 0 0 M2007.29 320.07 L2007.29 324.098 Q2005.49 323.172 2003.54 322.709 Q2001.6 322.246 1999.52 322.246 Q1996.35 322.246 1994.75 323.218 Q1993.17 324.191 1993.17 326.135 Q1993.17 327.616 1994.31 328.473 Q1995.44 329.306 1998.87 330.07 L2000.33 330.394 Q2004.86 331.366 2006.76 333.149 Q2008.68 334.908 2008.68 338.079 Q2008.68 341.69 2005.81 343.797 Q2002.97 345.903 1997.97 345.903 Q1995.88 345.903 1993.61 345.487 Q1991.37 345.093 1988.87 344.283 L1988.87 339.885 Q1991.23 341.112 1993.52 341.737 Q1995.81 342.339 1998.06 342.339 Q2001.07 342.339 2002.69 341.32 Q2004.31 340.278 2004.31 338.403 Q2004.31 336.667 2003.13 335.741 Q2001.97 334.816 1998.01 333.959 L1996.53 333.612 Q1992.57 332.778 1990.81 331.066 Q1989.05 329.329 1989.05 326.32 Q1989.05 322.663 1991.65 320.672 Q1994.24 318.681 1999.01 318.681 Q2001.37 318.681 2003.45 319.029 Q2005.53 319.376 2007.29 320.07 Z\" fill=\"#000000\" fill-rule=\"evenodd\" fill-opacity=\"1\" /><path clip-path=\"url(#clip9200)\" d=\"M 0 0 M2031.81 320.302 L2031.81 324.283 Q2030 323.288 2028.17 322.802 Q2026.37 322.292 2024.52 322.292 Q2020.37 322.292 2018.08 324.931 Q2015.79 327.547 2015.79 332.292 Q2015.79 337.038 2018.08 339.677 Q2020.37 342.292 2024.52 342.292 Q2026.37 342.292 2028.17 341.806 Q2030 341.297 2031.81 340.302 L2031.81 344.237 Q2030.03 345.07 2028.1 345.487 Q2026.21 345.903 2024.05 345.903 Q2018.2 345.903 2014.75 342.223 Q2011.3 338.542 2011.3 332.292 Q2011.3 325.95 2014.77 322.316 Q2018.27 318.681 2024.33 318.681 Q2026.3 318.681 2028.17 319.098 Q2030.05 319.492 2031.81 320.302 Z\" fill=\"#000000\" fill-rule=\"evenodd\" fill-opacity=\"1\" /><path clip-path=\"url(#clip9200)\" d=\"M 0 0 M2048.06 332.2 Q2042.9 332.2 2040.91 333.38 Q2038.91 334.561 2038.91 337.408 Q2038.91 339.677 2040.4 341.019 Q2041.9 342.339 2044.47 342.339 Q2048.01 342.339 2050.14 339.839 Q2052.29 337.316 2052.29 333.149 L2052.29 332.2 L2048.06 332.2 M2056.55 330.441 L2056.55 345.232 L2052.29 345.232 L2052.29 341.297 Q2050.84 343.658 2048.66 344.792 Q2046.48 345.903 2043.34 345.903 Q2039.35 345.903 2036.99 343.681 Q2034.66 341.436 2034.66 337.686 Q2034.66 333.311 2037.57 331.089 Q2040.51 328.866 2046.32 328.866 L2052.29 328.866 L2052.29 328.45 Q2052.29 325.51 2050.35 323.913 Q2048.43 322.292 2044.93 322.292 Q2042.71 322.292 2040.6 322.825 Q2038.5 323.357 2036.55 324.422 L2036.55 320.487 Q2038.89 319.584 2041.09 319.144 Q2043.29 318.681 2045.37 318.681 Q2051 318.681 2053.78 321.598 Q2056.55 324.515 2056.55 330.441 Z\" fill=\"#000000\" fill-rule=\"evenodd\" fill-opacity=\"1\" /><path clip-path=\"url(#clip9200)\" d=\"M 0 0 M2065.23 311.945 L2065.23 319.306 L2074.01 319.306 L2074.01 322.617 L2065.23 322.617 L2065.23 336.691 Q2065.23 339.862 2066.09 340.765 Q2066.97 341.667 2069.63 341.667 L2074.01 341.667 L2074.01 345.232 L2069.63 345.232 Q2064.7 345.232 2062.83 343.403 Q2060.95 341.552 2060.95 336.691 L2060.95 322.617 L2057.83 322.617 L2057.83 319.306 L2060.95 319.306 L2060.95 311.945 L2065.23 311.945 Z\" fill=\"#000000\" fill-rule=\"evenodd\" fill-opacity=\"1\" /><path clip-path=\"url(#clip9200)\" d=\"M 0 0 M2082.69 311.945 L2082.69 319.306 L2091.46 319.306 L2091.46 322.617 L2082.69 322.617 L2082.69 336.691 Q2082.69 339.862 2083.54 340.765 Q2084.42 341.667 2087.09 341.667 L2091.46 341.667 L2091.46 345.232 L2087.09 345.232 Q2082.15 345.232 2080.28 343.403 Q2078.4 341.552 2078.4 336.691 L2078.4 322.617 L2075.28 322.617 L2075.28 319.306 L2078.4 319.306 L2078.4 311.945 L2082.69 311.945 Z\" fill=\"#000000\" fill-rule=\"evenodd\" fill-opacity=\"1\" /><path clip-path=\"url(#clip9200)\" d=\"M 0 0 M2118.1 331.204 L2118.1 333.288 L2098.52 333.288 Q2098.8 337.686 2101.16 340.001 Q2103.54 342.292 2107.78 342.292 Q2110.23 342.292 2112.53 341.69 Q2114.84 341.089 2117.11 339.885 L2117.11 343.913 Q2114.82 344.885 2112.41 345.394 Q2110 345.903 2107.53 345.903 Q2101.32 345.903 2097.69 342.292 Q2094.08 338.681 2094.08 332.524 Q2094.08 326.158 2097.5 322.431 Q2100.95 318.681 2106.78 318.681 Q2112.02 318.681 2115.05 322.061 Q2118.1 325.417 2118.1 331.204 M2113.84 329.954 Q2113.8 326.459 2111.88 324.376 Q2109.98 322.292 2106.83 322.292 Q2103.27 322.292 2101.11 324.306 Q2098.98 326.32 2098.66 329.978 L2113.84 329.954 Z\" fill=\"#000000\" fill-rule=\"evenodd\" fill-opacity=\"1\" /><path clip-path=\"url(#clip9200)\" d=\"M 0 0 M2137.59 323.288 Q2136.88 322.871 2136.02 322.686 Q2135.19 322.478 2134.17 322.478 Q2130.56 322.478 2128.61 324.839 Q2126.69 327.177 2126.69 331.575 L2126.69 345.232 L2122.41 345.232 L2122.41 319.306 L2126.69 319.306 L2126.69 323.334 Q2128.03 320.973 2130.19 319.839 Q2132.34 318.681 2135.42 318.681 Q2135.86 318.681 2136.39 318.751 Q2136.92 318.797 2137.57 318.913 L2137.59 323.288 Z\" fill=\"#000000\" fill-rule=\"evenodd\" fill-opacity=\"1\" /><path clip-path=\"url(#clip9200)\" d=\"M 0 0 M2161.25 341.343 L2161.25 355.093 L2156.97 355.093 L2156.97 319.306 L2161.25 319.306 L2161.25 323.242 Q2162.59 320.927 2164.63 319.816 Q2166.69 318.681 2169.54 318.681 Q2174.26 318.681 2177.2 322.431 Q2180.16 326.181 2180.16 332.292 Q2180.16 338.403 2177.2 342.153 Q2174.26 345.903 2169.54 345.903 Q2166.69 345.903 2164.63 344.792 Q2162.59 343.658 2161.25 341.343 M2175.74 332.292 Q2175.74 327.593 2173.8 324.931 Q2171.88 322.246 2168.5 322.246 Q2165.12 322.246 2163.17 324.931 Q2161.25 327.593 2161.25 332.292 Q2161.25 336.991 2163.17 339.677 Q2165.12 342.339 2168.5 342.339 Q2171.88 342.339 2173.8 339.677 Q2175.74 336.991 2175.74 332.292 Z\" fill=\"#000000\" fill-rule=\"evenodd\" fill-opacity=\"1\" /><path clip-path=\"url(#clip9200)\" d=\"M 0 0 M2184.63 309.214 L2188.89 309.214 L2188.89 345.232 L2184.63 345.232 L2184.63 309.214 Z\" fill=\"#000000\" fill-rule=\"evenodd\" fill-opacity=\"1\" /><path clip-path=\"url(#clip9200)\" d=\"M 0 0 M2203.4 322.292 Q2199.98 322.292 2197.99 324.978 Q2196 327.64 2196 332.292 Q2196 336.945 2197.96 339.63 Q2199.96 342.292 2203.4 342.292 Q2206.81 342.292 2208.8 339.607 Q2210.79 336.922 2210.79 332.292 Q2210.79 327.686 2208.8 325.001 Q2206.81 322.292 2203.4 322.292 M2203.4 318.681 Q2208.96 318.681 2212.13 322.292 Q2215.3 325.904 2215.3 332.292 Q2215.3 338.658 2212.13 342.292 Q2208.96 345.903 2203.4 345.903 Q2197.83 345.903 2194.65 342.292 Q2191.51 338.658 2191.51 332.292 Q2191.51 325.904 2194.65 322.292 Q2197.83 318.681 2203.4 318.681 Z\" fill=\"#000000\" fill-rule=\"evenodd\" fill-opacity=\"1\" /><path clip-path=\"url(#clip9200)\" d=\"M 0 0 M2223.98 311.945 L2223.98 319.306 L2232.76 319.306 L2232.76 322.617 L2223.98 322.617 L2223.98 336.691 Q2223.98 339.862 2224.84 340.765 Q2225.72 341.667 2228.38 341.667 L2232.76 341.667 L2232.76 345.232 L2228.38 345.232 Q2223.45 345.232 2221.58 343.403 Q2219.7 341.552 2219.7 336.691 L2219.7 322.617 L2216.58 322.617 L2216.58 319.306 L2219.7 319.306 L2219.7 311.945 L2223.98 311.945 Z\" fill=\"#000000\" fill-rule=\"evenodd\" fill-opacity=\"1\" /></svg>\n"
      ]
     },
     "execution_count": 166,
     "metadata": {},
     "output_type": "execute_result"
    }
   ],
   "source": [
    "### Solution\n",
    "\n",
    "plot(year, sale, labels=\"line plot\")\n",
    "scatter!(year, sale, labels=\"scatter plot\")\n",
    "xlabel!(\"Year\")\n",
    "ylabel!(\"Sale\")\n",
    "title!(\"Sale between 2000 and 2009\")"
   ]
  },
  {
   "cell_type": "code",
   "execution_count": 174,
   "metadata": {},
   "outputs": [
    {
     "data": {
      "image/svg+xml": [
       "<?xml version=\"1.0\" encoding=\"utf-8\"?>\n",
       "<svg xmlns=\"http://www.w3.org/2000/svg\" xmlns:xlink=\"http://www.w3.org/1999/xlink\" width=\"600\" height=\"400\" viewBox=\"0 0 2400 1600\">\n",
       "<defs>\n",
       "  <clipPath id=\"clip1600\">\n",
       "    <rect x=\"0\" y=\"0\" width=\"2400\" height=\"1600\"/>\n",
       "  </clipPath>\n",
       "</defs>\n",
       "<path clip-path=\"url(#clip1600)\" d=\"\n",
       "M0 1600 L2400 1600 L2400 0 L0 0  Z\n",
       "  \" fill=\"#ffffff\" fill-rule=\"evenodd\" fill-opacity=\"1\"/>\n",
       "<defs>\n",
       "  <clipPath id=\"clip1601\">\n",
       "    <rect x=\"480\" y=\"0\" width=\"1681\" height=\"1600\"/>\n",
       "  </clipPath>\n",
       "</defs>\n",
       "<path clip-path=\"url(#clip1600)\" d=\"\n",
       "M162.455 1486.45 L2352.76 1486.45 L2352.76 47.2441 L162.455 47.2441  Z\n",
       "  \" fill=\"#ffffff\" fill-rule=\"evenodd\" fill-opacity=\"1\"/>\n",
       "<defs>\n",
       "  <clipPath id=\"clip1602\">\n",
       "    <rect x=\"162\" y=\"47\" width=\"2191\" height=\"1440\"/>\n",
       "  </clipPath>\n",
       "</defs>\n",
       "<polyline clip-path=\"url(#clip1602)\" style=\"stroke:#000000; stroke-width:2; stroke-opacity:0.1; fill:none\" points=\"\n",
       "  431.077,1486.45 431.077,47.2441 \n",
       "  \"/>\n",
       "<polyline clip-path=\"url(#clip1602)\" style=\"stroke:#000000; stroke-width:2; stroke-opacity:0.1; fill:none\" points=\"\n",
       "  844.341,1486.45 844.341,47.2441 \n",
       "  \"/>\n",
       "<polyline clip-path=\"url(#clip1602)\" style=\"stroke:#000000; stroke-width:2; stroke-opacity:0.1; fill:none\" points=\"\n",
       "  1257.61,1486.45 1257.61,47.2441 \n",
       "  \"/>\n",
       "<polyline clip-path=\"url(#clip1602)\" style=\"stroke:#000000; stroke-width:2; stroke-opacity:0.1; fill:none\" points=\"\n",
       "  1670.87,1486.45 1670.87,47.2441 \n",
       "  \"/>\n",
       "<polyline clip-path=\"url(#clip1602)\" style=\"stroke:#000000; stroke-width:2; stroke-opacity:0.1; fill:none\" points=\"\n",
       "  2084.13,1486.45 2084.13,47.2441 \n",
       "  \"/>\n",
       "<polyline clip-path=\"url(#clip1602)\" style=\"stroke:#000000; stroke-width:2; stroke-opacity:0.1; fill:none\" points=\"\n",
       "  162.455,1446.87 2352.76,1446.87 \n",
       "  \"/>\n",
       "<polyline clip-path=\"url(#clip1602)\" style=\"stroke:#000000; stroke-width:2; stroke-opacity:0.1; fill:none\" points=\"\n",
       "  162.455,1107.15 2352.76,1107.15 \n",
       "  \"/>\n",
       "<polyline clip-path=\"url(#clip1602)\" style=\"stroke:#000000; stroke-width:2; stroke-opacity:0.1; fill:none\" points=\"\n",
       "  162.455,767.425 2352.76,767.425 \n",
       "  \"/>\n",
       "<polyline clip-path=\"url(#clip1602)\" style=\"stroke:#000000; stroke-width:2; stroke-opacity:0.1; fill:none\" points=\"\n",
       "  162.455,427.701 2352.76,427.701 \n",
       "  \"/>\n",
       "<polyline clip-path=\"url(#clip1602)\" style=\"stroke:#000000; stroke-width:2; stroke-opacity:0.1; fill:none\" points=\"\n",
       "  162.455,87.9763 2352.76,87.9763 \n",
       "  \"/>\n",
       "<polyline clip-path=\"url(#clip1600)\" style=\"stroke:#000000; stroke-width:4; stroke-opacity:1; fill:none\" points=\"\n",
       "  162.455,1486.45 2352.76,1486.45 \n",
       "  \"/>\n",
       "<polyline clip-path=\"url(#clip1600)\" style=\"stroke:#000000; stroke-width:4; stroke-opacity:1; fill:none\" points=\"\n",
       "  162.455,1486.45 162.455,47.2441 \n",
       "  \"/>\n",
       "<polyline clip-path=\"url(#clip1600)\" style=\"stroke:#000000; stroke-width:4; stroke-opacity:1; fill:none\" points=\"\n",
       "  431.077,1486.45 431.077,1469.18 \n",
       "  \"/>\n",
       "<polyline clip-path=\"url(#clip1600)\" style=\"stroke:#000000; stroke-width:4; stroke-opacity:1; fill:none\" points=\"\n",
       "  844.341,1486.45 844.341,1469.18 \n",
       "  \"/>\n",
       "<polyline clip-path=\"url(#clip1600)\" style=\"stroke:#000000; stroke-width:4; stroke-opacity:1; fill:none\" points=\"\n",
       "  1257.61,1486.45 1257.61,1469.18 \n",
       "  \"/>\n",
       "<polyline clip-path=\"url(#clip1600)\" style=\"stroke:#000000; stroke-width:4; stroke-opacity:1; fill:none\" points=\"\n",
       "  1670.87,1486.45 1670.87,1469.18 \n",
       "  \"/>\n",
       "<polyline clip-path=\"url(#clip1600)\" style=\"stroke:#000000; stroke-width:4; stroke-opacity:1; fill:none\" points=\"\n",
       "  2084.13,1486.45 2084.13,1469.18 \n",
       "  \"/>\n",
       "<polyline clip-path=\"url(#clip1600)\" style=\"stroke:#000000; stroke-width:4; stroke-opacity:1; fill:none\" points=\"\n",
       "  162.455,1446.87 188.738,1446.87 \n",
       "  \"/>\n",
       "<polyline clip-path=\"url(#clip1600)\" style=\"stroke:#000000; stroke-width:4; stroke-opacity:1; fill:none\" points=\"\n",
       "  162.455,1107.15 188.738,1107.15 \n",
       "  \"/>\n",
       "<polyline clip-path=\"url(#clip1600)\" style=\"stroke:#000000; stroke-width:4; stroke-opacity:1; fill:none\" points=\"\n",
       "  162.455,767.425 188.738,767.425 \n",
       "  \"/>\n",
       "<polyline clip-path=\"url(#clip1600)\" style=\"stroke:#000000; stroke-width:4; stroke-opacity:1; fill:none\" points=\"\n",
       "  162.455,427.701 188.738,427.701 \n",
       "  \"/>\n",
       "<polyline clip-path=\"url(#clip1600)\" style=\"stroke:#000000; stroke-width:4; stroke-opacity:1; fill:none\" points=\"\n",
       "  162.455,87.9763 188.738,87.9763 \n",
       "  \"/>\n",
       "<path clip-path=\"url(#clip1600)\" d=\"M 0 0 M411.088 1525.04 L423.565 1525.04 L423.565 1528.83 L411.088 1528.83 L411.088 1525.04 Z\" fill=\"#000000\" fill-rule=\"evenodd\" fill-opacity=\"1\" /><path clip-path=\"url(#clip1600)\" d=\"M 0 0 M441.482 1509.43 L429.676 1527.88 L441.482 1527.88 L441.482 1509.43 M440.255 1505.36 L446.134 1505.36 L446.134 1527.88 L451.065 1527.88 L451.065 1531.77 L446.134 1531.77 L446.134 1539.92 L441.482 1539.92 L441.482 1531.77 L425.88 1531.77 L425.88 1527.26 L440.255 1505.36 Z\" fill=\"#000000\" fill-rule=\"evenodd\" fill-opacity=\"1\" /><path clip-path=\"url(#clip1600)\" d=\"M 0 0 M825.394 1525.04 L837.871 1525.04 L837.871 1528.83 L825.394 1528.83 L825.394 1525.04 Z\" fill=\"#000000\" fill-rule=\"evenodd\" fill-opacity=\"1\" /><path clip-path=\"url(#clip1600)\" d=\"M 0 0 M846.968 1535.98 L863.288 1535.98 L863.288 1539.92 L841.343 1539.92 L841.343 1535.98 Q844.005 1533.23 848.589 1528.6 Q853.195 1523.95 854.376 1522.61 Q856.621 1520.08 857.501 1518.35 Q858.403 1516.59 858.403 1514.9 Q858.403 1512.14 856.459 1510.41 Q854.538 1508.67 851.436 1508.67 Q849.237 1508.67 846.783 1509.43 Q844.352 1510.2 841.575 1511.75 L841.575 1507.03 Q844.399 1505.89 846.852 1505.31 Q849.306 1504.73 851.343 1504.73 Q856.714 1504.73 859.908 1507.42 Q863.102 1510.11 863.102 1514.6 Q863.102 1516.73 862.292 1518.65 Q861.505 1520.54 859.399 1523.14 Q858.82 1523.81 855.718 1527.03 Q852.616 1530.22 846.968 1535.98 Z\" fill=\"#000000\" fill-rule=\"evenodd\" fill-opacity=\"1\" /><path clip-path=\"url(#clip1600)\" d=\"M 0 0 M1257.61 1508.44 Q1253.99 1508.44 1252.17 1512 Q1250.36 1515.55 1250.36 1522.67 Q1250.36 1529.78 1252.17 1533.35 Q1253.99 1536.89 1257.61 1536.89 Q1261.24 1536.89 1263.05 1533.35 Q1264.87 1529.78 1264.87 1522.67 Q1264.87 1515.55 1263.05 1512 Q1261.24 1508.44 1257.61 1508.44 M1257.61 1504.73 Q1263.42 1504.73 1266.47 1509.34 Q1269.55 1513.92 1269.55 1522.67 Q1269.55 1531.4 1266.47 1536.01 Q1263.42 1540.59 1257.61 1540.59 Q1251.8 1540.59 1248.72 1536.01 Q1245.66 1531.4 1245.66 1522.67 Q1245.66 1513.92 1248.72 1509.34 Q1251.8 1504.73 1257.61 1504.73 Z\" fill=\"#000000\" fill-rule=\"evenodd\" fill-opacity=\"1\" /><path clip-path=\"url(#clip1600)\" d=\"M 0 0 M1665.52 1535.98 L1681.84 1535.98 L1681.84 1539.92 L1659.9 1539.92 L1659.9 1535.98 Q1662.56 1533.23 1667.14 1528.6 Q1671.75 1523.95 1672.93 1522.61 Q1675.18 1520.08 1676.05 1518.35 Q1676.96 1516.59 1676.96 1514.9 Q1676.96 1512.14 1675.01 1510.41 Q1673.09 1508.67 1669.99 1508.67 Q1667.79 1508.67 1665.34 1509.43 Q1662.91 1510.2 1660.13 1511.75 L1660.13 1507.03 Q1662.95 1505.89 1665.41 1505.31 Q1667.86 1504.73 1669.9 1504.73 Q1675.27 1504.73 1678.46 1507.42 Q1681.66 1510.11 1681.66 1514.6 Q1681.66 1516.73 1680.85 1518.65 Q1680.06 1520.54 1677.95 1523.14 Q1677.37 1523.81 1674.27 1527.03 Q1671.17 1530.22 1665.52 1535.98 Z\" fill=\"#000000\" fill-rule=\"evenodd\" fill-opacity=\"1\" /><path clip-path=\"url(#clip1600)\" d=\"M 0 0 M2087.14 1509.43 L2075.34 1527.88 L2087.14 1527.88 L2087.14 1509.43 M2085.92 1505.36 L2091.8 1505.36 L2091.8 1527.88 L2096.73 1527.88 L2096.73 1531.77 L2091.8 1531.77 L2091.8 1539.92 L2087.14 1539.92 L2087.14 1531.77 L2071.54 1531.77 L2071.54 1527.26 L2085.92 1505.36 Z\" fill=\"#000000\" fill-rule=\"evenodd\" fill-opacity=\"1\" /><path clip-path=\"url(#clip1600)\" d=\"M 0 0 M63.2236 1449.27 L75.7004 1449.27 L75.7004 1453.07 L63.2236 1453.07 L63.2236 1449.27 Z\" fill=\"#000000\" fill-rule=\"evenodd\" fill-opacity=\"1\" /><path clip-path=\"url(#clip1600)\" d=\"M 0 0 M81.58 1460.22 L89.2188 1460.22 L89.2188 1433.85 L80.9087 1435.52 L80.9087 1431.26 L89.1725 1429.59 L93.8484 1429.59 L93.8484 1460.22 L101.487 1460.22 L101.487 1464.15 L81.58 1464.15 L81.58 1460.22 Z\" fill=\"#000000\" fill-rule=\"evenodd\" fill-opacity=\"1\" /><path clip-path=\"url(#clip1600)\" d=\"M 0 0 M106.557 1458.27 L111.441 1458.27 L111.441 1464.15 L106.557 1464.15 L106.557 1458.27 Z\" fill=\"#000000\" fill-rule=\"evenodd\" fill-opacity=\"1\" /><path clip-path=\"url(#clip1600)\" d=\"M 0 0 M126.51 1432.67 Q122.899 1432.67 121.071 1436.24 Q119.265 1439.78 119.265 1446.91 Q119.265 1454.02 121.071 1457.58 Q122.899 1461.12 126.51 1461.12 Q130.145 1461.12 131.95 1457.58 Q133.779 1454.02 133.779 1446.91 Q133.779 1439.78 131.95 1436.24 Q130.145 1432.67 126.51 1432.67 M126.51 1428.97 Q132.32 1428.97 135.376 1433.58 Q138.455 1438.16 138.455 1446.91 Q138.455 1455.64 135.376 1460.24 Q132.32 1464.83 126.51 1464.83 Q120.7 1464.83 117.621 1460.24 Q114.566 1455.64 114.566 1446.91 Q114.566 1438.16 117.621 1433.58 Q120.7 1428.97 126.51 1428.97 Z\" fill=\"#000000\" fill-rule=\"evenodd\" fill-opacity=\"1\" /><path clip-path=\"url(#clip1600)\" d=\"M 0 0 M62.9921 1109.55 L75.4689 1109.55 L75.4689 1113.34 L62.9921 1113.34 L62.9921 1109.55 Z\" fill=\"#000000\" fill-rule=\"evenodd\" fill-opacity=\"1\" /><path clip-path=\"url(#clip1600)\" d=\"M 0 0 M90.5383 1092.95 Q86.9272 1092.95 85.0985 1096.51 Q83.2929 1100.05 83.2929 1107.18 Q83.2929 1114.29 85.0985 1117.86 Q86.9272 1121.4 90.5383 1121.4 Q94.1725 1121.4 95.9781 1117.86 Q97.8068 1114.29 97.8068 1107.18 Q97.8068 1100.05 95.9781 1096.51 Q94.1725 1092.95 90.5383 1092.95 M90.5383 1089.24 Q96.3484 1089.24 99.404 1093.85 Q102.483 1098.43 102.483 1107.18 Q102.483 1115.91 99.404 1120.52 Q96.3484 1125.1 90.5383 1125.1 Q84.7281 1125.1 81.6494 1120.52 Q78.5939 1115.91 78.5939 1107.18 Q78.5939 1098.43 81.6494 1093.85 Q84.7281 1089.24 90.5383 1089.24 Z\" fill=\"#000000\" fill-rule=\"evenodd\" fill-opacity=\"1\" /><path clip-path=\"url(#clip1600)\" d=\"M 0 0 M107.552 1118.55 L112.436 1118.55 L112.436 1124.43 L107.552 1124.43 L107.552 1118.55 Z\" fill=\"#000000\" fill-rule=\"evenodd\" fill-opacity=\"1\" /><path clip-path=\"url(#clip1600)\" d=\"M 0 0 M117.552 1089.87 L135.908 1089.87 L135.908 1093.8 L121.834 1093.8 L121.834 1102.28 Q122.853 1101.93 123.871 1101.77 Q124.89 1101.58 125.908 1101.58 Q131.695 1101.58 135.075 1104.75 Q138.455 1107.93 138.455 1113.34 Q138.455 1118.92 134.982 1122.02 Q131.51 1125.1 125.191 1125.1 Q123.015 1125.1 120.746 1124.73 Q118.501 1124.36 116.094 1123.62 L116.094 1118.92 Q118.177 1120.05 120.399 1120.61 Q122.621 1121.17 125.098 1121.17 Q129.103 1121.17 131.441 1119.06 Q133.779 1116.95 133.779 1113.34 Q133.779 1109.73 131.441 1107.62 Q129.103 1105.52 125.098 1105.52 Q123.223 1105.52 121.348 1105.93 Q119.496 1106.35 117.552 1107.23 L117.552 1089.87 Z\" fill=\"#000000\" fill-rule=\"evenodd\" fill-opacity=\"1\" /><path clip-path=\"url(#clip1600)\" d=\"M 0 0 M89.5429 753.224 Q85.9318 753.224 84.1031 756.789 Q82.2976 760.33 82.2976 767.46 Q82.2976 774.566 84.1031 778.131 Q85.9318 781.673 89.5429 781.673 Q93.1771 781.673 94.9827 778.131 Q96.8114 774.566 96.8114 767.46 Q96.8114 760.33 94.9827 756.789 Q93.1771 753.224 89.5429 753.224 M89.5429 749.52 Q95.3531 749.52 98.4086 754.127 Q101.487 758.71 101.487 767.46 Q101.487 776.187 98.4086 780.793 Q95.3531 785.377 89.5429 785.377 Q83.7328 785.377 80.6541 780.793 Q77.5985 776.187 77.5985 767.46 Q77.5985 758.71 80.6541 754.127 Q83.7328 749.52 89.5429 749.52 Z\" fill=\"#000000\" fill-rule=\"evenodd\" fill-opacity=\"1\" /><path clip-path=\"url(#clip1600)\" d=\"M 0 0 M106.557 778.826 L111.441 778.826 L111.441 784.705 L106.557 784.705 L106.557 778.826 Z\" fill=\"#000000\" fill-rule=\"evenodd\" fill-opacity=\"1\" /><path clip-path=\"url(#clip1600)\" d=\"M 0 0 M126.51 753.224 Q122.899 753.224 121.071 756.789 Q119.265 760.33 119.265 767.46 Q119.265 774.566 121.071 778.131 Q122.899 781.673 126.51 781.673 Q130.145 781.673 131.95 778.131 Q133.779 774.566 133.779 767.46 Q133.779 760.33 131.95 756.789 Q130.145 753.224 126.51 753.224 M126.51 749.52 Q132.32 749.52 135.376 754.127 Q138.455 758.71 138.455 767.46 Q138.455 776.187 135.376 780.793 Q132.32 785.377 126.51 785.377 Q120.7 785.377 117.621 780.793 Q114.566 776.187 114.566 767.46 Q114.566 758.71 117.621 754.127 Q120.7 749.52 126.51 749.52 Z\" fill=\"#000000\" fill-rule=\"evenodd\" fill-opacity=\"1\" /><path clip-path=\"url(#clip1600)\" d=\"M 0 0 M90.5383 413.499 Q86.9272 413.499 85.0985 417.064 Q83.2929 420.606 83.2929 427.736 Q83.2929 434.842 85.0985 438.407 Q86.9272 441.948 90.5383 441.948 Q94.1725 441.948 95.9781 438.407 Q97.8068 434.842 97.8068 427.736 Q97.8068 420.606 95.9781 417.064 Q94.1725 413.499 90.5383 413.499 M90.5383 409.796 Q96.3484 409.796 99.404 414.402 Q102.483 418.986 102.483 427.736 Q102.483 436.462 99.404 441.069 Q96.3484 445.652 90.5383 445.652 Q84.7281 445.652 81.6494 441.069 Q78.5939 436.462 78.5939 427.736 Q78.5939 418.986 81.6494 414.402 Q84.7281 409.796 90.5383 409.796 Z\" fill=\"#000000\" fill-rule=\"evenodd\" fill-opacity=\"1\" /><path clip-path=\"url(#clip1600)\" d=\"M 0 0 M107.552 439.101 L112.436 439.101 L112.436 444.981 L107.552 444.981 L107.552 439.101 Z\" fill=\"#000000\" fill-rule=\"evenodd\" fill-opacity=\"1\" /><path clip-path=\"url(#clip1600)\" d=\"M 0 0 M117.552 410.421 L135.908 410.421 L135.908 414.356 L121.834 414.356 L121.834 422.828 Q122.853 422.481 123.871 422.319 Q124.89 422.134 125.908 422.134 Q131.695 422.134 135.075 425.305 Q138.455 428.476 138.455 433.893 Q138.455 439.472 134.982 442.573 Q131.51 445.652 125.191 445.652 Q123.015 445.652 120.746 445.282 Q118.501 444.911 116.094 444.171 L116.094 439.472 Q118.177 440.606 120.399 441.161 Q122.621 441.717 125.098 441.717 Q129.103 441.717 131.441 439.61 Q133.779 437.504 133.779 433.893 Q133.779 430.282 131.441 428.175 Q129.103 426.069 125.098 426.069 Q123.223 426.069 121.348 426.486 Q119.496 426.902 117.552 427.782 L117.552 410.421 Z\" fill=\"#000000\" fill-rule=\"evenodd\" fill-opacity=\"1\" /><path clip-path=\"url(#clip1600)\" d=\"M 0 0 M81.58 101.321 L89.2188 101.321 L89.2188 74.9555 L80.9087 76.6222 L80.9087 72.3629 L89.1725 70.6963 L93.8484 70.6963 L93.8484 101.321 L101.487 101.321 L101.487 105.256 L81.58 105.256 L81.58 101.321 Z\" fill=\"#000000\" fill-rule=\"evenodd\" fill-opacity=\"1\" /><path clip-path=\"url(#clip1600)\" d=\"M 0 0 M106.557 99.3767 L111.441 99.3767 L111.441 105.256 L106.557 105.256 L106.557 99.3767 Z\" fill=\"#000000\" fill-rule=\"evenodd\" fill-opacity=\"1\" /><path clip-path=\"url(#clip1600)\" d=\"M 0 0 M126.51 73.775 Q122.899 73.775 121.071 77.3398 Q119.265 80.8814 119.265 88.011 Q119.265 95.1174 121.071 98.6822 Q122.899 102.224 126.51 102.224 Q130.145 102.224 131.95 98.6822 Q133.779 95.1174 133.779 88.011 Q133.779 80.8814 131.95 77.3398 Q130.145 73.775 126.51 73.775 M126.51 70.0713 Q132.32 70.0713 135.376 74.6777 Q138.455 79.261 138.455 88.011 Q138.455 96.7378 135.376 101.344 Q132.32 105.928 126.51 105.928 Q120.7 105.928 117.621 101.344 Q114.566 96.7378 114.566 88.011 Q114.566 79.261 117.621 74.6777 Q120.7 70.0713 126.51 70.0713 Z\" fill=\"#000000\" fill-rule=\"evenodd\" fill-opacity=\"1\" /><polyline clip-path=\"url(#clip1602)\" style=\"stroke:#009af9; stroke-width:4; stroke-opacity:1; fill:none\" points=\"\n",
       "  224.444,574.691 265.771,707.974 307.097,843.627 348.424,976.242 389.75,1100.53 431.077,1211.54 472.403,1304.85 513.729,1376.73 555.056,1424.32 596.382,1445.72 \n",
       "  637.709,1440.07 679.035,1407.62 720.362,1349.64 761.688,1268.45 803.014,1167.28 844.341,1050.18 885.667,921.798 926.994,787.265 968.32,651.941 1009.65,521.222 \n",
       "  1050.97,400.317 1092.3,294.049 1133.63,206.652 1174.95,141.611 1216.28,101.52 1257.61,87.9763 1298.93,101.52 1340.26,141.611 1381.58,206.652 1422.91,294.049 \n",
       "  1464.24,400.317 1505.56,521.222 1546.89,651.941 1588.22,787.265 1629.54,921.798 1670.87,1050.18 1712.2,1167.28 1753.52,1268.45 1794.85,1349.64 1836.18,1407.62 \n",
       "  1877.5,1440.07 1918.83,1445.72 1960.15,1424.32 2001.48,1376.73 2042.81,1304.85 2084.13,1211.54 2125.46,1100.53 2166.79,976.242 2208.11,843.627 2249.44,707.974 \n",
       "  2290.77,574.691 \n",
       "  \"/>\n",
       "<path clip-path=\"url(#clip1600)\" d=\"\n",
       "M1989.74 251.724 L2280.76 251.724 L2280.76 130.764 L1989.74 130.764  Z\n",
       "  \" fill=\"#ffffff\" fill-rule=\"evenodd\" fill-opacity=\"1\"/>\n",
       "<polyline clip-path=\"url(#clip1600)\" style=\"stroke:#000000; stroke-width:4; stroke-opacity:1; fill:none\" points=\"\n",
       "  1989.74,251.724 2280.76,251.724 2280.76,130.764 1989.74,130.764 1989.74,251.724 \n",
       "  \"/>\n",
       "<polyline clip-path=\"url(#clip1600)\" style=\"stroke:#009af9; stroke-width:4; stroke-opacity:1; fill:none\" points=\"\n",
       "  2013.74,191.244 2157.74,191.244 \n",
       "  \"/>\n",
       "<path clip-path=\"url(#clip1600)\" d=\"M 0 0 M2195.58 210.931 Q2193.77 215.561 2192.06 216.973 Q2190.35 218.385 2187.48 218.385 L2184.08 218.385 L2184.08 214.82 L2186.58 214.82 Q2188.33 214.82 2189.31 213.987 Q2190.28 213.154 2191.46 210.052 L2192.22 208.107 L2181.74 182.598 L2186.25 182.598 L2194.35 202.876 L2202.46 182.598 L2206.97 182.598 L2195.58 210.931 Z\" fill=\"#000000\" fill-rule=\"evenodd\" fill-opacity=\"1\" /><path clip-path=\"url(#clip1600)\" d=\"M 0 0 M2212.85 204.589 L2220.49 204.589 L2220.49 178.223 L2212.18 179.89 L2212.18 175.631 L2220.44 173.964 L2225.12 173.964 L2225.12 204.589 L2232.76 204.589 L2232.76 208.524 L2212.85 208.524 L2212.85 204.589 Z\" fill=\"#000000\" fill-rule=\"evenodd\" fill-opacity=\"1\" /></svg>\n"
      ]
     },
     "execution_count": 174,
     "metadata": {},
     "output_type": "execute_result"
    }
   ],
   "source": [
    "x = -5:0.2:5\n",
    "y = x.^2\n",
    "p1 = plot(x,y)\n",
    "p2 = plot(x,x)\n",
    "p3 = plot(sin,x)\n",
    "p4 = plot(cos,x)\n",
    "\n",
    "### Question : Créez un dashboard avec les 4 graphes\n"
   ]
  },
  {
   "cell_type": "code",
   "execution_count": 173,
   "metadata": {},
   "outputs": [
    {
     "data": {
      "image/svg+xml": [
       "<?xml version=\"1.0\" encoding=\"utf-8\"?>\n",
       "<svg xmlns=\"http://www.w3.org/2000/svg\" xmlns:xlink=\"http://www.w3.org/1999/xlink\" width=\"600\" height=\"400\" viewBox=\"0 0 2400 1600\">\n",
       "<defs>\n",
       "  <clipPath id=\"clip1200\">\n",
       "    <rect x=\"0\" y=\"0\" width=\"2400\" height=\"1600\"/>\n",
       "  </clipPath>\n",
       "</defs>\n",
       "<path clip-path=\"url(#clip1200)\" d=\"\n",
       "M0 1600 L2400 1600 L2400 0 L0 0  Z\n",
       "  \" fill=\"#ffffff\" fill-rule=\"evenodd\" fill-opacity=\"1\"/>\n",
       "<defs>\n",
       "  <clipPath id=\"clip1201\">\n",
       "    <rect x=\"480\" y=\"0\" width=\"1681\" height=\"1600\"/>\n",
       "  </clipPath>\n",
       "</defs>\n",
       "<path clip-path=\"url(#clip1200)\" d=\"\n",
       "M135.95 1486.45 L541.749 1486.45 L541.749 47.2441 L135.95 47.2441  Z\n",
       "  \" fill=\"#ffffff\" fill-rule=\"evenodd\" fill-opacity=\"1\"/>\n",
       "<defs>\n",
       "  <clipPath id=\"clip1202\">\n",
       "    <rect x=\"135\" y=\"47\" width=\"407\" height=\"1440\"/>\n",
       "  </clipPath>\n",
       "</defs>\n",
       "<polyline clip-path=\"url(#clip1202)\" style=\"stroke:#000000; stroke-width:2; stroke-opacity:0.1; fill:none\" points=\"\n",
       "  185.718,1486.45 185.718,47.2441 \n",
       "  \"/>\n",
       "<polyline clip-path=\"url(#clip1202)\" style=\"stroke:#000000; stroke-width:2; stroke-opacity:0.1; fill:none\" points=\"\n",
       "  262.284,1486.45 262.284,47.2441 \n",
       "  \"/>\n",
       "<polyline clip-path=\"url(#clip1202)\" style=\"stroke:#000000; stroke-width:2; stroke-opacity:0.1; fill:none\" points=\"\n",
       "  338.85,1486.45 338.85,47.2441 \n",
       "  \"/>\n",
       "<polyline clip-path=\"url(#clip1202)\" style=\"stroke:#000000; stroke-width:2; stroke-opacity:0.1; fill:none\" points=\"\n",
       "  415.415,1486.45 415.415,47.2441 \n",
       "  \"/>\n",
       "<polyline clip-path=\"url(#clip1202)\" style=\"stroke:#000000; stroke-width:2; stroke-opacity:0.1; fill:none\" points=\"\n",
       "  491.981,1486.45 491.981,47.2441 \n",
       "  \"/>\n",
       "<polyline clip-path=\"url(#clip1202)\" style=\"stroke:#000000; stroke-width:2; stroke-opacity:0.1; fill:none\" points=\"\n",
       "  135.95,1445.72 541.749,1445.72 \n",
       "  \"/>\n",
       "<polyline clip-path=\"url(#clip1202)\" style=\"stroke:#000000; stroke-width:2; stroke-opacity:0.1; fill:none\" points=\"\n",
       "  135.95,1174.17 541.749,1174.17 \n",
       "  \"/>\n",
       "<polyline clip-path=\"url(#clip1202)\" style=\"stroke:#000000; stroke-width:2; stroke-opacity:0.1; fill:none\" points=\"\n",
       "  135.95,902.62 541.749,902.62 \n",
       "  \"/>\n",
       "<polyline clip-path=\"url(#clip1202)\" style=\"stroke:#000000; stroke-width:2; stroke-opacity:0.1; fill:none\" points=\"\n",
       "  135.95,631.072 541.749,631.072 \n",
       "  \"/>\n",
       "<polyline clip-path=\"url(#clip1202)\" style=\"stroke:#000000; stroke-width:2; stroke-opacity:0.1; fill:none\" points=\"\n",
       "  135.95,359.524 541.749,359.524 \n",
       "  \"/>\n",
       "<polyline clip-path=\"url(#clip1202)\" style=\"stroke:#000000; stroke-width:2; stroke-opacity:0.1; fill:none\" points=\"\n",
       "  135.95,87.9763 541.749,87.9763 \n",
       "  \"/>\n",
       "<polyline clip-path=\"url(#clip1200)\" style=\"stroke:#000000; stroke-width:4; stroke-opacity:1; fill:none\" points=\"\n",
       "  135.95,1486.45 541.749,1486.45 \n",
       "  \"/>\n",
       "<polyline clip-path=\"url(#clip1200)\" style=\"stroke:#000000; stroke-width:4; stroke-opacity:1; fill:none\" points=\"\n",
       "  135.95,1486.45 135.95,47.2441 \n",
       "  \"/>\n",
       "<polyline clip-path=\"url(#clip1200)\" style=\"stroke:#000000; stroke-width:4; stroke-opacity:1; fill:none\" points=\"\n",
       "  185.718,1486.45 185.718,1469.18 \n",
       "  \"/>\n",
       "<polyline clip-path=\"url(#clip1200)\" style=\"stroke:#000000; stroke-width:4; stroke-opacity:1; fill:none\" points=\"\n",
       "  262.284,1486.45 262.284,1469.18 \n",
       "  \"/>\n",
       "<polyline clip-path=\"url(#clip1200)\" style=\"stroke:#000000; stroke-width:4; stroke-opacity:1; fill:none\" points=\"\n",
       "  338.85,1486.45 338.85,1469.18 \n",
       "  \"/>\n",
       "<polyline clip-path=\"url(#clip1200)\" style=\"stroke:#000000; stroke-width:4; stroke-opacity:1; fill:none\" points=\"\n",
       "  415.415,1486.45 415.415,1469.18 \n",
       "  \"/>\n",
       "<polyline clip-path=\"url(#clip1200)\" style=\"stroke:#000000; stroke-width:4; stroke-opacity:1; fill:none\" points=\"\n",
       "  491.981,1486.45 491.981,1469.18 \n",
       "  \"/>\n",
       "<polyline clip-path=\"url(#clip1200)\" style=\"stroke:#000000; stroke-width:4; stroke-opacity:1; fill:none\" points=\"\n",
       "  135.95,1445.72 140.82,1445.72 \n",
       "  \"/>\n",
       "<polyline clip-path=\"url(#clip1200)\" style=\"stroke:#000000; stroke-width:4; stroke-opacity:1; fill:none\" points=\"\n",
       "  135.95,1174.17 140.82,1174.17 \n",
       "  \"/>\n",
       "<polyline clip-path=\"url(#clip1200)\" style=\"stroke:#000000; stroke-width:4; stroke-opacity:1; fill:none\" points=\"\n",
       "  135.95,902.62 140.82,902.62 \n",
       "  \"/>\n",
       "<polyline clip-path=\"url(#clip1200)\" style=\"stroke:#000000; stroke-width:4; stroke-opacity:1; fill:none\" points=\"\n",
       "  135.95,631.072 140.82,631.072 \n",
       "  \"/>\n",
       "<polyline clip-path=\"url(#clip1200)\" style=\"stroke:#000000; stroke-width:4; stroke-opacity:1; fill:none\" points=\"\n",
       "  135.95,359.524 140.82,359.524 \n",
       "  \"/>\n",
       "<polyline clip-path=\"url(#clip1200)\" style=\"stroke:#000000; stroke-width:4; stroke-opacity:1; fill:none\" points=\"\n",
       "  135.95,87.9763 140.82,87.9763 \n",
       "  \"/>\n",
       "<path clip-path=\"url(#clip1200)\" d=\"M 0 0 M165.73 1525.04 L178.206 1525.04 L178.206 1528.83 L165.73 1528.83 L165.73 1525.04 Z\" fill=\"#000000\" fill-rule=\"evenodd\" fill-opacity=\"1\" /><path clip-path=\"url(#clip1200)\" d=\"M 0 0 M196.123 1509.43 L184.318 1527.88 L196.123 1527.88 L196.123 1509.43 M194.896 1505.36 L200.776 1505.36 L200.776 1527.88 L205.706 1527.88 L205.706 1531.77 L200.776 1531.77 L200.776 1539.92 L196.123 1539.92 L196.123 1531.77 L180.521 1531.77 L180.521 1527.26 L194.896 1505.36 Z\" fill=\"#000000\" fill-rule=\"evenodd\" fill-opacity=\"1\" /><path clip-path=\"url(#clip1200)\" d=\"M 0 0 M243.337 1525.04 L255.814 1525.04 L255.814 1528.83 L243.337 1528.83 L243.337 1525.04 Z\" fill=\"#000000\" fill-rule=\"evenodd\" fill-opacity=\"1\" /><path clip-path=\"url(#clip1200)\" d=\"M 0 0 M264.911 1535.98 L281.23 1535.98 L281.23 1539.92 L259.286 1539.92 L259.286 1535.98 Q261.948 1533.23 266.531 1528.6 Q271.138 1523.95 272.318 1522.61 Q274.564 1520.08 275.443 1518.35 Q276.346 1516.59 276.346 1514.9 Q276.346 1512.14 274.402 1510.41 Q272.48 1508.67 269.379 1508.67 Q267.18 1508.67 264.726 1509.43 Q262.295 1510.2 259.518 1511.75 L259.518 1507.03 Q262.342 1505.89 264.795 1505.31 Q267.249 1504.73 269.286 1504.73 Q274.656 1504.73 277.851 1507.42 Q281.045 1510.11 281.045 1514.6 Q281.045 1516.73 280.235 1518.65 Q279.448 1520.54 277.342 1523.14 Q276.763 1523.81 273.661 1527.03 Q270.559 1530.22 264.911 1535.98 Z\" fill=\"#000000\" fill-rule=\"evenodd\" fill-opacity=\"1\" /><path clip-path=\"url(#clip1200)\" d=\"M 0 0 M338.85 1508.44 Q335.239 1508.44 333.41 1512 Q331.604 1515.55 331.604 1522.67 Q331.604 1529.78 333.41 1533.35 Q335.239 1536.89 338.85 1536.89 Q342.484 1536.89 344.289 1533.35 Q346.118 1529.78 346.118 1522.67 Q346.118 1515.55 344.289 1512 Q342.484 1508.44 338.85 1508.44 M338.85 1504.73 Q344.66 1504.73 347.715 1509.34 Q350.794 1513.92 350.794 1522.67 Q350.794 1531.4 347.715 1536.01 Q344.66 1540.59 338.85 1540.59 Q333.039 1540.59 329.961 1536.01 Q326.905 1531.4 326.905 1522.67 Q326.905 1513.92 329.961 1509.34 Q333.039 1504.73 338.85 1504.73 Z\" fill=\"#000000\" fill-rule=\"evenodd\" fill-opacity=\"1\" /><path clip-path=\"url(#clip1200)\" d=\"M 0 0 M410.068 1535.98 L426.388 1535.98 L426.388 1539.92 L404.443 1539.92 L404.443 1535.98 Q407.105 1533.23 411.689 1528.6 Q416.295 1523.95 417.476 1522.61 Q419.721 1520.08 420.601 1518.35 Q421.503 1516.59 421.503 1514.9 Q421.503 1512.14 419.559 1510.41 Q417.638 1508.67 414.536 1508.67 Q412.337 1508.67 409.883 1509.43 Q407.453 1510.2 404.675 1511.75 L404.675 1507.03 Q407.499 1505.89 409.952 1505.31 Q412.406 1504.73 414.443 1504.73 Q419.814 1504.73 423.008 1507.42 Q426.202 1510.11 426.202 1514.6 Q426.202 1516.73 425.392 1518.65 Q424.605 1520.54 422.499 1523.14 Q421.92 1523.81 418.818 1527.03 Q415.716 1530.22 410.068 1535.98 Z\" fill=\"#000000\" fill-rule=\"evenodd\" fill-opacity=\"1\" /><path clip-path=\"url(#clip1200)\" d=\"M 0 0 M494.99 1509.43 L483.185 1527.88 L494.99 1527.88 L494.99 1509.43 M493.764 1505.36 L499.643 1505.36 L499.643 1527.88 L504.574 1527.88 L504.574 1531.77 L499.643 1531.77 L499.643 1539.92 L494.99 1539.92 L494.99 1531.77 L479.389 1531.77 L479.389 1527.26 L493.764 1505.36 Z\" fill=\"#000000\" fill-rule=\"evenodd\" fill-opacity=\"1\" /><path clip-path=\"url(#clip1200)\" d=\"M 0 0 M100.006 1431.51 Q96.3947 1431.51 94.566 1435.08 Q92.7605 1438.62 92.7605 1445.75 Q92.7605 1452.86 94.566 1456.42 Q96.3947 1459.96 100.006 1459.96 Q103.64 1459.96 105.446 1456.42 Q107.274 1452.86 107.274 1445.75 Q107.274 1438.62 105.446 1435.08 Q103.64 1431.51 100.006 1431.51 M100.006 1427.81 Q105.816 1427.81 108.872 1432.42 Q111.95 1437 111.95 1445.75 Q111.95 1454.48 108.872 1459.08 Q105.816 1463.67 100.006 1463.67 Q94.1957 1463.67 91.117 1459.08 Q88.0614 1454.48 88.0614 1445.75 Q88.0614 1437 91.117 1432.42 Q94.1957 1427.81 100.006 1427.81 Z\" fill=\"#000000\" fill-rule=\"evenodd\" fill-opacity=\"1\" /><path clip-path=\"url(#clip1200)\" d=\"M 0 0 M91.0475 1156.89 L109.404 1156.89 L109.404 1160.82 L95.3299 1160.82 L95.3299 1169.3 Q96.3484 1168.95 97.3669 1168.79 Q98.3855 1168.6 99.404 1168.6 Q105.191 1168.6 108.571 1171.77 Q111.95 1174.94 111.95 1180.36 Q111.95 1185.94 108.478 1189.04 Q105.006 1192.12 98.6864 1192.12 Q96.5105 1192.12 94.242 1191.75 Q91.9966 1191.38 89.5892 1190.64 L89.5892 1185.94 Q91.6725 1187.07 93.8947 1187.63 Q96.1169 1188.18 98.5938 1188.18 Q102.598 1188.18 104.936 1186.08 Q107.274 1183.97 107.274 1180.36 Q107.274 1176.75 104.936 1174.64 Q102.598 1172.54 98.5938 1172.54 Q96.7188 1172.54 94.8438 1172.95 Q92.992 1173.37 91.0475 1174.25 L91.0475 1156.89 Z\" fill=\"#000000\" fill-rule=\"evenodd\" fill-opacity=\"1\" /><path clip-path=\"url(#clip1200)\" d=\"M 0 0 M65.0292 915.965 L72.668 915.965 L72.668 889.599 L64.3579 891.266 L64.3579 887.007 L72.6217 885.34 L77.2976 885.34 L77.2976 915.965 L84.9365 915.965 L84.9365 919.9 L65.0292 919.9 L65.0292 915.965 Z\" fill=\"#000000\" fill-rule=\"evenodd\" fill-opacity=\"1\" /><path clip-path=\"url(#clip1200)\" d=\"M 0 0 M100.006 888.419 Q96.3947 888.419 94.566 891.983 Q92.7605 895.525 92.7605 902.655 Q92.7605 909.761 94.566 913.326 Q96.3947 916.868 100.006 916.868 Q103.64 916.868 105.446 913.326 Q107.274 909.761 107.274 902.655 Q107.274 895.525 105.446 891.983 Q103.64 888.419 100.006 888.419 M100.006 884.715 Q105.816 884.715 108.872 889.321 Q111.95 893.905 111.95 902.655 Q111.95 911.381 108.872 915.988 Q105.816 920.571 100.006 920.571 Q94.1957 920.571 91.117 915.988 Q88.0614 911.381 88.0614 902.655 Q88.0614 893.905 91.117 889.321 Q94.1957 884.715 100.006 884.715 Z\" fill=\"#000000\" fill-rule=\"evenodd\" fill-opacity=\"1\" /><path clip-path=\"url(#clip1200)\" d=\"M 0 0 M66.0245 644.417 L73.6634 644.417 L73.6634 618.051 L65.3532 619.718 L65.3532 615.459 L73.6171 613.792 L78.293 613.792 L78.293 644.417 L85.9318 644.417 L85.9318 648.352 L66.0245 648.352 L66.0245 644.417 Z\" fill=\"#000000\" fill-rule=\"evenodd\" fill-opacity=\"1\" /><path clip-path=\"url(#clip1200)\" d=\"M 0 0 M91.0475 613.792 L109.404 613.792 L109.404 617.727 L95.3299 617.727 L95.3299 626.199 Q96.3484 625.852 97.3669 625.69 Q98.3855 625.505 99.404 625.505 Q105.191 625.505 108.571 628.676 Q111.95 631.848 111.95 637.264 Q111.95 642.843 108.478 645.945 Q105.006 649.023 98.6864 649.023 Q96.5105 649.023 94.242 648.653 Q91.9966 648.283 89.5892 647.542 L89.5892 642.843 Q91.6725 643.977 93.8947 644.533 Q96.1169 645.088 98.5938 645.088 Q102.598 645.088 104.936 642.982 Q107.274 640.875 107.274 637.264 Q107.274 633.653 104.936 631.547 Q102.598 629.44 98.5938 629.44 Q96.7188 629.44 94.8438 629.857 Q92.992 630.273 91.0475 631.153 L91.0475 613.792 Z\" fill=\"#000000\" fill-rule=\"evenodd\" fill-opacity=\"1\" /><path clip-path=\"url(#clip1200)\" d=\"M 0 0 M68.6171 372.869 L84.9365 372.869 L84.9365 376.804 L62.9921 376.804 L62.9921 372.869 Q65.6541 370.114 70.2375 365.485 Q74.8439 360.832 76.0245 359.489 Q78.2698 356.966 79.1494 355.23 Q80.0522 353.471 80.0522 351.781 Q80.0522 349.027 78.1078 347.29 Q76.1865 345.554 73.0847 345.554 Q70.8856 345.554 68.4319 346.318 Q66.0014 347.082 63.2236 348.633 L63.2236 343.911 Q66.0477 342.777 68.5014 342.198 Q70.955 341.619 72.9921 341.619 Q78.3624 341.619 81.5568 344.304 Q84.7513 346.99 84.7513 351.48 Q84.7513 353.61 83.9411 355.531 Q83.1541 357.429 81.0476 360.022 Q80.4689 360.693 77.367 363.911 Q74.2652 367.105 68.6171 372.869 Z\" fill=\"#000000\" fill-rule=\"evenodd\" fill-opacity=\"1\" /><path clip-path=\"url(#clip1200)\" d=\"M 0 0 M100.006 345.323 Q96.3947 345.323 94.566 348.888 Q92.7605 352.429 92.7605 359.559 Q92.7605 366.665 94.566 370.23 Q96.3947 373.772 100.006 373.772 Q103.64 373.772 105.446 370.23 Q107.274 366.665 107.274 359.559 Q107.274 352.429 105.446 348.888 Q103.64 345.323 100.006 345.323 M100.006 341.619 Q105.816 341.619 108.872 346.226 Q111.95 350.809 111.95 359.559 Q111.95 368.286 108.872 372.892 Q105.816 377.475 100.006 377.475 Q94.1957 377.475 91.117 372.892 Q88.0614 368.286 88.0614 359.559 Q88.0614 350.809 91.117 346.226 Q94.1957 341.619 100.006 341.619 Z\" fill=\"#000000\" fill-rule=\"evenodd\" fill-opacity=\"1\" /><path clip-path=\"url(#clip1200)\" d=\"M 0 0 M69.6125 101.321 L85.9318 101.321 L85.9318 105.256 L63.9875 105.256 L63.9875 101.321 Q66.6495 98.5665 71.2328 93.9369 Q75.8393 89.2841 77.0198 87.9416 Q79.2652 85.4184 80.1448 83.6823 Q81.0476 81.9231 81.0476 80.2333 Q81.0476 77.4786 79.1032 75.7425 Q77.1819 74.0064 74.08 74.0064 Q71.881 74.0064 69.4273 74.7703 Q66.9967 75.5342 64.219 77.0851 L64.219 72.3629 Q67.043 71.2287 69.4967 70.65 Q71.9504 70.0713 73.9874 70.0713 Q79.3578 70.0713 82.5522 72.7565 Q85.7466 75.4416 85.7466 79.9323 Q85.7466 82.062 84.9365 83.9832 Q84.1494 85.8814 82.0429 88.474 Q81.4642 89.1453 78.3624 92.3628 Q75.2606 95.5573 69.6125 101.321 Z\" fill=\"#000000\" fill-rule=\"evenodd\" fill-opacity=\"1\" /><path clip-path=\"url(#clip1200)\" d=\"M 0 0 M91.0475 70.6963 L109.404 70.6963 L109.404 74.6314 L95.3299 74.6314 L95.3299 83.1036 Q96.3484 82.7564 97.3669 82.5944 Q98.3855 82.4092 99.404 82.4092 Q105.191 82.4092 108.571 85.5805 Q111.95 88.7517 111.95 94.1684 Q111.95 99.747 108.478 102.849 Q105.006 105.928 98.6864 105.928 Q96.5105 105.928 94.242 105.557 Q91.9966 105.187 89.5892 104.446 L89.5892 99.747 Q91.6725 100.881 93.8947 101.437 Q96.1169 101.992 98.5938 101.992 Q102.598 101.992 104.936 99.8859 Q107.274 97.7795 107.274 94.1684 Q107.274 90.5573 104.936 88.4508 Q102.598 86.3443 98.5938 86.3443 Q96.7188 86.3443 94.8438 86.761 Q92.992 87.1777 91.0475 88.0573 L91.0475 70.6963 Z\" fill=\"#000000\" fill-rule=\"evenodd\" fill-opacity=\"1\" /><polyline clip-path=\"url(#clip1202)\" style=\"stroke:#009af9; stroke-width:4; stroke-opacity:1; fill:none\" points=\"\n",
       "  147.435,87.9763 155.092,194.423 162.748,296.525 170.405,394.282 178.061,487.695 185.718,576.762 193.375,661.485 201.031,741.864 208.688,817.897 216.344,889.586 \n",
       "  224.001,956.93 231.657,1019.93 239.314,1078.58 246.971,1132.89 254.627,1182.86 262.284,1228.48 269.94,1269.75 277.597,1306.68 285.254,1339.27 292.91,1367.51 \n",
       "  300.567,1391.41 308.223,1410.96 315.88,1426.16 323.536,1437.03 331.193,1443.54 338.85,1445.72 346.506,1443.54 354.163,1437.03 361.819,1426.16 369.476,1410.96 \n",
       "  377.133,1391.41 384.789,1367.51 392.446,1339.27 400.102,1306.68 407.759,1269.75 415.415,1228.48 423.072,1182.86 430.729,1132.89 438.385,1078.58 446.042,1019.93 \n",
       "  453.698,956.93 461.355,889.586 469.011,817.897 476.668,741.864 484.325,661.485 491.981,576.762 499.638,487.695 507.294,394.282 514.951,296.525 522.608,194.423 \n",
       "  530.264,87.9763 \n",
       "  \"/>\n",
       "<path clip-path=\"url(#clip1200)\" d=\"\n",
       "M178.731 251.724 L469.749 251.724 L469.749 130.764 L178.731 130.764  Z\n",
       "  \" fill=\"#ffffff\" fill-rule=\"evenodd\" fill-opacity=\"1\"/>\n",
       "<polyline clip-path=\"url(#clip1200)\" style=\"stroke:#000000; stroke-width:4; stroke-opacity:1; fill:none\" points=\"\n",
       "  178.731,251.724 469.749,251.724 469.749,130.764 178.731,130.764 178.731,251.724 \n",
       "  \"/>\n",
       "<polyline clip-path=\"url(#clip1200)\" style=\"stroke:#009af9; stroke-width:4; stroke-opacity:1; fill:none\" points=\"\n",
       "  202.731,191.244 346.731,191.244 \n",
       "  \"/>\n",
       "<path clip-path=\"url(#clip1200)\" d=\"M 0 0 M384.573 210.931 Q382.768 215.561 381.055 216.973 Q379.342 218.385 376.471 218.385 L373.069 218.385 L373.069 214.82 L375.569 214.82 Q377.328 214.82 378.3 213.987 Q379.272 213.154 380.453 210.052 L381.217 208.107 L370.731 182.598 L375.245 182.598 L383.346 202.876 L391.448 182.598 L395.962 182.598 L384.573 210.931 Z\" fill=\"#000000\" fill-rule=\"evenodd\" fill-opacity=\"1\" /><path clip-path=\"url(#clip1200)\" d=\"M 0 0 M401.842 204.589 L409.481 204.589 L409.481 178.223 L401.17 179.89 L401.17 175.631 L409.434 173.964 L414.11 173.964 L414.11 204.589 L421.749 204.589 L421.749 208.524 L401.842 208.524 L401.842 204.589 Z\" fill=\"#000000\" fill-rule=\"evenodd\" fill-opacity=\"1\" /><path clip-path=\"url(#clip1200)\" d=\"\n",
       "M715.962 1486.45 L1121.76 1486.45 L1121.76 47.2441 L715.962 47.2441  Z\n",
       "  \" fill=\"#ffffff\" fill-rule=\"evenodd\" fill-opacity=\"1\"/>\n",
       "<defs>\n",
       "  <clipPath id=\"clip1203\">\n",
       "    <rect x=\"715\" y=\"47\" width=\"407\" height=\"1440\"/>\n",
       "  </clipPath>\n",
       "</defs>\n",
       "<polyline clip-path=\"url(#clip1203)\" style=\"stroke:#000000; stroke-width:2; stroke-opacity:0.1; fill:none\" points=\"\n",
       "  765.73,1486.45 765.73,47.2441 \n",
       "  \"/>\n",
       "<polyline clip-path=\"url(#clip1203)\" style=\"stroke:#000000; stroke-width:2; stroke-opacity:0.1; fill:none\" points=\"\n",
       "  842.295,1486.45 842.295,47.2441 \n",
       "  \"/>\n",
       "<polyline clip-path=\"url(#clip1203)\" style=\"stroke:#000000; stroke-width:2; stroke-opacity:0.1; fill:none\" points=\"\n",
       "  918.861,1486.45 918.861,47.2441 \n",
       "  \"/>\n",
       "<polyline clip-path=\"url(#clip1203)\" style=\"stroke:#000000; stroke-width:2; stroke-opacity:0.1; fill:none\" points=\"\n",
       "  995.427,1486.45 995.427,47.2441 \n",
       "  \"/>\n",
       "<polyline clip-path=\"url(#clip1203)\" style=\"stroke:#000000; stroke-width:2; stroke-opacity:0.1; fill:none\" points=\"\n",
       "  1071.99,1486.45 1071.99,47.2441 \n",
       "  \"/>\n",
       "<polyline clip-path=\"url(#clip1203)\" style=\"stroke:#000000; stroke-width:2; stroke-opacity:0.1; fill:none\" points=\"\n",
       "  715.962,1309.94 1121.76,1309.94 \n",
       "  \"/>\n",
       "<polyline clip-path=\"url(#clip1203)\" style=\"stroke:#000000; stroke-width:2; stroke-opacity:0.1; fill:none\" points=\"\n",
       "  715.962,1038.39 1121.76,1038.39 \n",
       "  \"/>\n",
       "<polyline clip-path=\"url(#clip1203)\" style=\"stroke:#000000; stroke-width:2; stroke-opacity:0.1; fill:none\" points=\"\n",
       "  715.962,766.846 1121.76,766.846 \n",
       "  \"/>\n",
       "<polyline clip-path=\"url(#clip1203)\" style=\"stroke:#000000; stroke-width:2; stroke-opacity:0.1; fill:none\" points=\"\n",
       "  715.962,495.298 1121.76,495.298 \n",
       "  \"/>\n",
       "<polyline clip-path=\"url(#clip1203)\" style=\"stroke:#000000; stroke-width:2; stroke-opacity:0.1; fill:none\" points=\"\n",
       "  715.962,223.75 1121.76,223.75 \n",
       "  \"/>\n",
       "<polyline clip-path=\"url(#clip1200)\" style=\"stroke:#000000; stroke-width:4; stroke-opacity:1; fill:none\" points=\"\n",
       "  715.962,1486.45 1121.76,1486.45 \n",
       "  \"/>\n",
       "<polyline clip-path=\"url(#clip1200)\" style=\"stroke:#000000; stroke-width:4; stroke-opacity:1; fill:none\" points=\"\n",
       "  715.962,1486.45 715.962,47.2441 \n",
       "  \"/>\n",
       "<polyline clip-path=\"url(#clip1200)\" style=\"stroke:#000000; stroke-width:4; stroke-opacity:1; fill:none\" points=\"\n",
       "  765.73,1486.45 765.73,1469.18 \n",
       "  \"/>\n",
       "<polyline clip-path=\"url(#clip1200)\" style=\"stroke:#000000; stroke-width:4; stroke-opacity:1; fill:none\" points=\"\n",
       "  842.295,1486.45 842.295,1469.18 \n",
       "  \"/>\n",
       "<polyline clip-path=\"url(#clip1200)\" style=\"stroke:#000000; stroke-width:4; stroke-opacity:1; fill:none\" points=\"\n",
       "  918.861,1486.45 918.861,1469.18 \n",
       "  \"/>\n",
       "<polyline clip-path=\"url(#clip1200)\" style=\"stroke:#000000; stroke-width:4; stroke-opacity:1; fill:none\" points=\"\n",
       "  995.427,1486.45 995.427,1469.18 \n",
       "  \"/>\n",
       "<polyline clip-path=\"url(#clip1200)\" style=\"stroke:#000000; stroke-width:4; stroke-opacity:1; fill:none\" points=\"\n",
       "  1071.99,1486.45 1071.99,1469.18 \n",
       "  \"/>\n",
       "<polyline clip-path=\"url(#clip1200)\" style=\"stroke:#000000; stroke-width:4; stroke-opacity:1; fill:none\" points=\"\n",
       "  715.962,1309.94 720.831,1309.94 \n",
       "  \"/>\n",
       "<polyline clip-path=\"url(#clip1200)\" style=\"stroke:#000000; stroke-width:4; stroke-opacity:1; fill:none\" points=\"\n",
       "  715.962,1038.39 720.831,1038.39 \n",
       "  \"/>\n",
       "<polyline clip-path=\"url(#clip1200)\" style=\"stroke:#000000; stroke-width:4; stroke-opacity:1; fill:none\" points=\"\n",
       "  715.962,766.846 720.831,766.846 \n",
       "  \"/>\n",
       "<polyline clip-path=\"url(#clip1200)\" style=\"stroke:#000000; stroke-width:4; stroke-opacity:1; fill:none\" points=\"\n",
       "  715.962,495.298 720.831,495.298 \n",
       "  \"/>\n",
       "<polyline clip-path=\"url(#clip1200)\" style=\"stroke:#000000; stroke-width:4; stroke-opacity:1; fill:none\" points=\"\n",
       "  715.962,223.75 720.831,223.75 \n",
       "  \"/>\n",
       "<path clip-path=\"url(#clip1200)\" d=\"M 0 0 M745.741 1525.04 L758.218 1525.04 L758.218 1528.83 L745.741 1528.83 L745.741 1525.04 Z\" fill=\"#000000\" fill-rule=\"evenodd\" fill-opacity=\"1\" /><path clip-path=\"url(#clip1200)\" d=\"M 0 0 M776.135 1509.43 L764.329 1527.88 L776.135 1527.88 L776.135 1509.43 M774.908 1505.36 L780.787 1505.36 L780.787 1527.88 L785.718 1527.88 L785.718 1531.77 L780.787 1531.77 L780.787 1539.92 L776.135 1539.92 L776.135 1531.77 L760.533 1531.77 L760.533 1527.26 L774.908 1505.36 Z\" fill=\"#000000\" fill-rule=\"evenodd\" fill-opacity=\"1\" /><path clip-path=\"url(#clip1200)\" d=\"M 0 0 M823.349 1525.04 L835.826 1525.04 L835.826 1528.83 L823.349 1528.83 L823.349 1525.04 Z\" fill=\"#000000\" fill-rule=\"evenodd\" fill-opacity=\"1\" /><path clip-path=\"url(#clip1200)\" d=\"M 0 0 M844.923 1535.98 L861.242 1535.98 L861.242 1539.92 L839.298 1539.92 L839.298 1535.98 Q841.96 1533.23 846.543 1528.6 Q851.15 1523.95 852.33 1522.61 Q854.576 1520.08 855.455 1518.35 Q856.358 1516.59 856.358 1514.9 Q856.358 1512.14 854.413 1510.41 Q852.492 1508.67 849.39 1508.67 Q847.191 1508.67 844.738 1509.43 Q842.307 1510.2 839.529 1511.75 L839.529 1507.03 Q842.353 1505.89 844.807 1505.31 Q847.261 1504.73 849.298 1504.73 Q854.668 1504.73 857.863 1507.42 Q861.057 1510.11 861.057 1514.6 Q861.057 1516.73 860.247 1518.65 Q859.46 1520.54 857.353 1523.14 Q856.775 1523.81 853.673 1527.03 Q850.571 1530.22 844.923 1535.98 Z\" fill=\"#000000\" fill-rule=\"evenodd\" fill-opacity=\"1\" /><path clip-path=\"url(#clip1200)\" d=\"M 0 0 M918.861 1508.44 Q915.25 1508.44 913.422 1512 Q911.616 1515.55 911.616 1522.67 Q911.616 1529.78 913.422 1533.35 Q915.25 1536.89 918.861 1536.89 Q922.496 1536.89 924.301 1533.35 Q926.13 1529.78 926.13 1522.67 Q926.13 1515.55 924.301 1512 Q922.496 1508.44 918.861 1508.44 M918.861 1504.73 Q924.671 1504.73 927.727 1509.34 Q930.806 1513.92 930.806 1522.67 Q930.806 1531.4 927.727 1536.01 Q924.671 1540.59 918.861 1540.59 Q913.051 1540.59 909.972 1536.01 Q906.917 1531.4 906.917 1522.67 Q906.917 1513.92 909.972 1509.34 Q913.051 1504.73 918.861 1504.73 Z\" fill=\"#000000\" fill-rule=\"evenodd\" fill-opacity=\"1\" /><path clip-path=\"url(#clip1200)\" d=\"M 0 0 M990.08 1535.98 L1006.4 1535.98 L1006.4 1539.92 L984.455 1539.92 L984.455 1535.98 Q987.117 1533.23 991.7 1528.6 Q996.307 1523.95 997.487 1522.61 Q999.733 1520.08 1000.61 1518.35 Q1001.52 1516.59 1001.52 1514.9 Q1001.52 1512.14 999.571 1510.41 Q997.649 1508.67 994.547 1508.67 Q992.348 1508.67 989.895 1509.43 Q987.464 1510.2 984.686 1511.75 L984.686 1507.03 Q987.51 1505.89 989.964 1505.31 Q992.418 1504.73 994.455 1504.73 Q999.825 1504.73 1003.02 1507.42 Q1006.21 1510.11 1006.21 1514.6 Q1006.21 1516.73 1005.4 1518.65 Q1004.62 1520.54 1002.51 1523.14 Q1001.93 1523.81 998.83 1527.03 Q995.728 1530.22 990.08 1535.98 Z\" fill=\"#000000\" fill-rule=\"evenodd\" fill-opacity=\"1\" /><path clip-path=\"url(#clip1200)\" d=\"M 0 0 M1075 1509.43 L1063.2 1527.88 L1075 1527.88 L1075 1509.43 M1073.78 1505.36 L1079.65 1505.36 L1079.65 1527.88 L1084.59 1527.88 L1084.59 1531.77 L1079.65 1531.77 L1079.65 1539.92 L1075 1539.92 L1075 1531.77 L1059.4 1531.77 L1059.4 1527.26 L1073.78 1505.36 Z\" fill=\"#000000\" fill-rule=\"evenodd\" fill-opacity=\"1\" /><path clip-path=\"url(#clip1200)\" d=\"M 0 0 M651.985 1312.34 L664.462 1312.34 L664.462 1316.13 L651.985 1316.13 L651.985 1312.34 Z\" fill=\"#000000\" fill-rule=\"evenodd\" fill-opacity=\"1\" /><path clip-path=\"url(#clip1200)\" d=\"M 0 0 M682.379 1296.74 L670.573 1315.18 L682.379 1315.18 L682.379 1296.74 M681.152 1292.66 L687.031 1292.66 L687.031 1315.18 L691.962 1315.18 L691.962 1319.07 L687.031 1319.07 L687.031 1327.22 L682.379 1327.22 L682.379 1319.07 L666.777 1319.07 L666.777 1314.56 L681.152 1292.66 Z\" fill=\"#000000\" fill-rule=\"evenodd\" fill-opacity=\"1\" /><path clip-path=\"url(#clip1200)\" d=\"M 0 0 M654.069 1040.79 L666.545 1040.79 L666.545 1044.59 L654.069 1044.59 L654.069 1040.79 Z\" fill=\"#000000\" fill-rule=\"evenodd\" fill-opacity=\"1\" /><path clip-path=\"url(#clip1200)\" d=\"M 0 0 M675.643 1051.74 L691.962 1051.74 L691.962 1055.67 L670.018 1055.67 L670.018 1051.74 Q672.68 1048.98 677.263 1044.35 Q681.869 1039.7 683.05 1038.36 Q685.295 1035.84 686.175 1034.1 Q687.078 1032.34 687.078 1030.65 Q687.078 1027.9 685.133 1026.16 Q683.212 1024.42 680.11 1024.42 Q677.911 1024.42 675.457 1025.19 Q673.027 1025.95 670.249 1027.5 L670.249 1022.78 Q673.073 1021.65 675.527 1021.07 Q677.98 1020.49 680.017 1020.49 Q685.388 1020.49 688.582 1023.17 Q691.777 1025.86 691.777 1030.35 Q691.777 1032.48 690.967 1034.4 Q690.179 1036.3 688.073 1038.89 Q687.494 1039.56 684.392 1042.78 Q681.291 1045.97 675.643 1051.74 Z\" fill=\"#000000\" fill-rule=\"evenodd\" fill-opacity=\"1\" /><path clip-path=\"url(#clip1200)\" d=\"M 0 0 M680.017 752.645 Q676.406 752.645 674.578 756.209 Q672.772 759.751 672.772 766.881 Q672.772 773.987 674.578 777.552 Q676.406 781.094 680.017 781.094 Q683.652 781.094 685.457 777.552 Q687.286 773.987 687.286 766.881 Q687.286 759.751 685.457 756.209 Q683.652 752.645 680.017 752.645 M680.017 748.941 Q685.828 748.941 688.883 753.547 Q691.962 758.131 691.962 766.881 Q691.962 775.608 688.883 780.214 Q685.828 784.797 680.017 784.797 Q674.207 784.797 671.129 780.214 Q668.073 775.608 668.073 766.881 Q668.073 758.131 671.129 753.547 Q674.207 748.941 680.017 748.941 Z\" fill=\"#000000\" fill-rule=\"evenodd\" fill-opacity=\"1\" /><path clip-path=\"url(#clip1200)\" d=\"M 0 0 M675.643 508.643 L691.962 508.643 L691.962 512.578 L670.018 512.578 L670.018 508.643 Q672.68 505.888 677.263 501.259 Q681.869 496.606 683.05 495.263 Q685.295 492.74 686.175 491.004 Q687.078 489.245 687.078 487.555 Q687.078 484.8 685.133 483.064 Q683.212 481.328 680.11 481.328 Q677.911 481.328 675.457 482.092 Q673.027 482.856 670.249 484.407 L670.249 479.685 Q673.073 478.551 675.527 477.972 Q677.98 477.393 680.017 477.393 Q685.388 477.393 688.582 480.078 Q691.777 482.763 691.777 487.254 Q691.777 489.384 690.967 491.305 Q690.179 493.203 688.073 495.796 Q687.494 496.467 684.392 499.685 Q681.291 502.879 675.643 508.643 Z\" fill=\"#000000\" fill-rule=\"evenodd\" fill-opacity=\"1\" /><path clip-path=\"url(#clip1200)\" d=\"M 0 0 M682.379 210.544 L670.573 228.993 L682.379 228.993 L682.379 210.544 M681.152 206.47 L687.031 206.47 L687.031 228.993 L691.962 228.993 L691.962 232.882 L687.031 232.882 L687.031 241.03 L682.379 241.03 L682.379 232.882 L666.777 232.882 L666.777 228.368 L681.152 206.47 Z\" fill=\"#000000\" fill-rule=\"evenodd\" fill-opacity=\"1\" /><polyline clip-path=\"url(#clip1203)\" style=\"stroke:#009af9; stroke-width:4; stroke-opacity:1; fill:none\" points=\"\n",
       "  727.447,1445.72 735.103,1418.56 742.76,1391.41 750.416,1364.25 758.073,1337.1 765.73,1309.94 773.386,1282.79 781.043,1255.63 788.699,1228.48 796.356,1201.32 \n",
       "  804.013,1174.17 811.669,1147.01 819.326,1119.86 826.982,1092.7 834.639,1065.55 842.295,1038.39 849.952,1011.24 857.609,984.084 865.265,956.93 872.922,929.775 \n",
       "  880.578,902.62 888.235,875.465 895.892,848.31 903.548,821.156 911.205,794.001 918.861,766.846 926.518,739.691 934.174,712.536 941.831,685.382 949.488,658.227 \n",
       "  957.144,631.072 964.801,603.917 972.457,576.762 980.114,549.608 987.771,522.453 995.427,495.298 1003.08,468.143 1010.74,440.989 1018.4,413.834 1026.05,386.679 \n",
       "  1033.71,359.524 1041.37,332.369 1049.02,305.215 1056.68,278.06 1064.34,250.905 1071.99,223.75 1079.65,196.595 1087.31,169.441 1094.96,142.286 1102.62,115.131 \n",
       "  1110.28,87.9763 \n",
       "  \"/>\n",
       "<path clip-path=\"url(#clip1200)\" d=\"\n",
       "M758.742 251.724 L1049.76 251.724 L1049.76 130.764 L758.742 130.764  Z\n",
       "  \" fill=\"#ffffff\" fill-rule=\"evenodd\" fill-opacity=\"1\"/>\n",
       "<polyline clip-path=\"url(#clip1200)\" style=\"stroke:#000000; stroke-width:4; stroke-opacity:1; fill:none\" points=\"\n",
       "  758.742,251.724 1049.76,251.724 1049.76,130.764 758.742,130.764 758.742,251.724 \n",
       "  \"/>\n",
       "<polyline clip-path=\"url(#clip1200)\" style=\"stroke:#009af9; stroke-width:4; stroke-opacity:1; fill:none\" points=\"\n",
       "  782.742,191.244 926.742,191.244 \n",
       "  \"/>\n",
       "<path clip-path=\"url(#clip1200)\" d=\"M 0 0 M964.585 210.931 Q962.779 215.561 961.066 216.973 Q959.354 218.385 956.483 218.385 L953.08 218.385 L953.08 214.82 L955.58 214.82 Q957.34 214.82 958.312 213.987 Q959.284 213.154 960.465 210.052 L961.229 208.107 L950.742 182.598 L955.256 182.598 L963.358 202.876 L971.46 182.598 L975.974 182.598 L964.585 210.931 Z\" fill=\"#000000\" fill-rule=\"evenodd\" fill-opacity=\"1\" /><path clip-path=\"url(#clip1200)\" d=\"M 0 0 M981.853 204.589 L989.492 204.589 L989.492 178.223 L981.182 179.89 L981.182 175.631 L989.446 173.964 L994.122 173.964 L994.122 204.589 L1001.76 204.589 L1001.76 208.524 L981.853 208.524 L981.853 204.589 Z\" fill=\"#000000\" fill-rule=\"evenodd\" fill-opacity=\"1\" /><path clip-path=\"url(#clip1200)\" d=\"\n",
       "M1331.46 1486.45 L1737.26 1486.45 L1737.26 47.2441 L1331.46 47.2441  Z\n",
       "  \" fill=\"#ffffff\" fill-rule=\"evenodd\" fill-opacity=\"1\"/>\n",
       "<defs>\n",
       "  <clipPath id=\"clip1204\">\n",
       "    <rect x=\"1331\" y=\"47\" width=\"407\" height=\"1440\"/>\n",
       "  </clipPath>\n",
       "</defs>\n",
       "<polyline clip-path=\"url(#clip1204)\" style=\"stroke:#000000; stroke-width:2; stroke-opacity:0.1; fill:none\" points=\"\n",
       "  1381.23,1486.45 1381.23,47.2441 \n",
       "  \"/>\n",
       "<polyline clip-path=\"url(#clip1204)\" style=\"stroke:#000000; stroke-width:2; stroke-opacity:0.1; fill:none\" points=\"\n",
       "  1457.79,1486.45 1457.79,47.2441 \n",
       "  \"/>\n",
       "<polyline clip-path=\"url(#clip1204)\" style=\"stroke:#000000; stroke-width:2; stroke-opacity:0.1; fill:none\" points=\"\n",
       "  1534.36,1486.45 1534.36,47.2441 \n",
       "  \"/>\n",
       "<polyline clip-path=\"url(#clip1204)\" style=\"stroke:#000000; stroke-width:2; stroke-opacity:0.1; fill:none\" points=\"\n",
       "  1610.92,1486.45 1610.92,47.2441 \n",
       "  \"/>\n",
       "<polyline clip-path=\"url(#clip1204)\" style=\"stroke:#000000; stroke-width:2; stroke-opacity:0.1; fill:none\" points=\"\n",
       "  1687.49,1486.45 1687.49,47.2441 \n",
       "  \"/>\n",
       "<polyline clip-path=\"url(#clip1204)\" style=\"stroke:#000000; stroke-width:2; stroke-opacity:0.1; fill:none\" points=\"\n",
       "  1331.46,1446.01 1737.26,1446.01 \n",
       "  \"/>\n",
       "<polyline clip-path=\"url(#clip1204)\" style=\"stroke:#000000; stroke-width:2; stroke-opacity:0.1; fill:none\" points=\"\n",
       "  1331.46,1106.43 1737.26,1106.43 \n",
       "  \"/>\n",
       "<polyline clip-path=\"url(#clip1204)\" style=\"stroke:#000000; stroke-width:2; stroke-opacity:0.1; fill:none\" points=\"\n",
       "  1331.46,766.846 1737.26,766.846 \n",
       "  \"/>\n",
       "<polyline clip-path=\"url(#clip1204)\" style=\"stroke:#000000; stroke-width:2; stroke-opacity:0.1; fill:none\" points=\"\n",
       "  1331.46,427.266 1737.26,427.266 \n",
       "  \"/>\n",
       "<polyline clip-path=\"url(#clip1204)\" style=\"stroke:#000000; stroke-width:2; stroke-opacity:0.1; fill:none\" points=\"\n",
       "  1331.46,87.6867 1737.26,87.6867 \n",
       "  \"/>\n",
       "<polyline clip-path=\"url(#clip1200)\" style=\"stroke:#000000; stroke-width:4; stroke-opacity:1; fill:none\" points=\"\n",
       "  1331.46,1486.45 1737.26,1486.45 \n",
       "  \"/>\n",
       "<polyline clip-path=\"url(#clip1200)\" style=\"stroke:#000000; stroke-width:4; stroke-opacity:1; fill:none\" points=\"\n",
       "  1331.46,1486.45 1331.46,47.2441 \n",
       "  \"/>\n",
       "<polyline clip-path=\"url(#clip1200)\" style=\"stroke:#000000; stroke-width:4; stroke-opacity:1; fill:none\" points=\"\n",
       "  1381.23,1486.45 1381.23,1469.18 \n",
       "  \"/>\n",
       "<polyline clip-path=\"url(#clip1200)\" style=\"stroke:#000000; stroke-width:4; stroke-opacity:1; fill:none\" points=\"\n",
       "  1457.79,1486.45 1457.79,1469.18 \n",
       "  \"/>\n",
       "<polyline clip-path=\"url(#clip1200)\" style=\"stroke:#000000; stroke-width:4; stroke-opacity:1; fill:none\" points=\"\n",
       "  1534.36,1486.45 1534.36,1469.18 \n",
       "  \"/>\n",
       "<polyline clip-path=\"url(#clip1200)\" style=\"stroke:#000000; stroke-width:4; stroke-opacity:1; fill:none\" points=\"\n",
       "  1610.92,1486.45 1610.92,1469.18 \n",
       "  \"/>\n",
       "<polyline clip-path=\"url(#clip1200)\" style=\"stroke:#000000; stroke-width:4; stroke-opacity:1; fill:none\" points=\"\n",
       "  1687.49,1486.45 1687.49,1469.18 \n",
       "  \"/>\n",
       "<polyline clip-path=\"url(#clip1200)\" style=\"stroke:#000000; stroke-width:4; stroke-opacity:1; fill:none\" points=\"\n",
       "  1331.46,1446.01 1336.33,1446.01 \n",
       "  \"/>\n",
       "<polyline clip-path=\"url(#clip1200)\" style=\"stroke:#000000; stroke-width:4; stroke-opacity:1; fill:none\" points=\"\n",
       "  1331.46,1106.43 1336.33,1106.43 \n",
       "  \"/>\n",
       "<polyline clip-path=\"url(#clip1200)\" style=\"stroke:#000000; stroke-width:4; stroke-opacity:1; fill:none\" points=\"\n",
       "  1331.46,766.846 1336.33,766.846 \n",
       "  \"/>\n",
       "<polyline clip-path=\"url(#clip1200)\" style=\"stroke:#000000; stroke-width:4; stroke-opacity:1; fill:none\" points=\"\n",
       "  1331.46,427.266 1336.33,427.266 \n",
       "  \"/>\n",
       "<polyline clip-path=\"url(#clip1200)\" style=\"stroke:#000000; stroke-width:4; stroke-opacity:1; fill:none\" points=\"\n",
       "  1331.46,87.6867 1336.33,87.6867 \n",
       "  \"/>\n",
       "<path clip-path=\"url(#clip1200)\" d=\"M 0 0 M1361.24 1525.04 L1373.72 1525.04 L1373.72 1528.83 L1361.24 1528.83 L1361.24 1525.04 Z\" fill=\"#000000\" fill-rule=\"evenodd\" fill-opacity=\"1\" /><path clip-path=\"url(#clip1200)\" d=\"M 0 0 M1391.63 1509.43 L1379.83 1527.88 L1391.63 1527.88 L1391.63 1509.43 M1390.41 1505.36 L1396.29 1505.36 L1396.29 1527.88 L1401.22 1527.88 L1401.22 1531.77 L1396.29 1531.77 L1396.29 1539.92 L1391.63 1539.92 L1391.63 1531.77 L1376.03 1531.77 L1376.03 1527.26 L1390.41 1505.36 Z\" fill=\"#000000\" fill-rule=\"evenodd\" fill-opacity=\"1\" /><path clip-path=\"url(#clip1200)\" d=\"M 0 0 M1438.85 1525.04 L1451.32 1525.04 L1451.32 1528.83 L1438.85 1528.83 L1438.85 1525.04 Z\" fill=\"#000000\" fill-rule=\"evenodd\" fill-opacity=\"1\" /><path clip-path=\"url(#clip1200)\" d=\"M 0 0 M1460.42 1535.98 L1476.74 1535.98 L1476.74 1539.92 L1454.8 1539.92 L1454.8 1535.98 Q1457.46 1533.23 1462.04 1528.6 Q1466.65 1523.95 1467.83 1522.61 Q1470.07 1520.08 1470.95 1518.35 Q1471.86 1516.59 1471.86 1514.9 Q1471.86 1512.14 1469.91 1510.41 Q1467.99 1508.67 1464.89 1508.67 Q1462.69 1508.67 1460.24 1509.43 Q1457.8 1510.2 1455.03 1511.75 L1455.03 1507.03 Q1457.85 1505.89 1460.3 1505.31 Q1462.76 1504.73 1464.8 1504.73 Q1470.17 1504.73 1473.36 1507.42 Q1476.55 1510.11 1476.55 1514.6 Q1476.55 1516.73 1475.74 1518.65 Q1474.96 1520.54 1472.85 1523.14 Q1472.27 1523.81 1469.17 1527.03 Q1466.07 1530.22 1460.42 1535.98 Z\" fill=\"#000000\" fill-rule=\"evenodd\" fill-opacity=\"1\" /><path clip-path=\"url(#clip1200)\" d=\"M 0 0 M1534.36 1508.44 Q1530.75 1508.44 1528.92 1512 Q1527.11 1515.55 1527.11 1522.67 Q1527.11 1529.78 1528.92 1533.35 Q1530.75 1536.89 1534.36 1536.89 Q1537.99 1536.89 1539.8 1533.35 Q1541.63 1529.78 1541.63 1522.67 Q1541.63 1515.55 1539.8 1512 Q1537.99 1508.44 1534.36 1508.44 M1534.36 1504.73 Q1540.17 1504.73 1543.22 1509.34 Q1546.3 1513.92 1546.3 1522.67 Q1546.3 1531.4 1543.22 1536.01 Q1540.17 1540.59 1534.36 1540.59 Q1528.55 1540.59 1525.47 1536.01 Q1522.41 1531.4 1522.41 1522.67 Q1522.41 1513.92 1525.47 1509.34 Q1528.55 1504.73 1534.36 1504.73 Z\" fill=\"#000000\" fill-rule=\"evenodd\" fill-opacity=\"1\" /><path clip-path=\"url(#clip1200)\" d=\"M 0 0 M1605.58 1535.98 L1621.9 1535.98 L1621.9 1539.92 L1599.95 1539.92 L1599.95 1535.98 Q1602.61 1533.23 1607.2 1528.6 Q1611.8 1523.95 1612.98 1522.61 Q1615.23 1520.08 1616.11 1518.35 Q1617.01 1516.59 1617.01 1514.9 Q1617.01 1512.14 1615.07 1510.41 Q1613.15 1508.67 1610.05 1508.67 Q1607.85 1508.67 1605.39 1509.43 Q1602.96 1510.2 1600.18 1511.75 L1600.18 1507.03 Q1603.01 1505.89 1605.46 1505.31 Q1607.92 1504.73 1609.95 1504.73 Q1615.32 1504.73 1618.52 1507.42 Q1621.71 1510.11 1621.71 1514.6 Q1621.71 1516.73 1620.9 1518.65 Q1620.11 1520.54 1618.01 1523.14 Q1617.43 1523.81 1614.33 1527.03 Q1611.23 1530.22 1605.58 1535.98 Z\" fill=\"#000000\" fill-rule=\"evenodd\" fill-opacity=\"1\" /><path clip-path=\"url(#clip1200)\" d=\"M 0 0 M1690.5 1509.43 L1678.69 1527.88 L1690.5 1527.88 L1690.5 1509.43 M1689.27 1505.36 L1695.15 1505.36 L1695.15 1527.88 L1700.08 1527.88 L1700.08 1531.77 L1695.15 1531.77 L1695.15 1539.92 L1690.5 1539.92 L1690.5 1531.77 L1674.9 1531.77 L1674.9 1527.26 L1689.27 1505.36 Z\" fill=\"#000000\" fill-rule=\"evenodd\" fill-opacity=\"1\" /><path clip-path=\"url(#clip1200)\" d=\"M 0 0 M1232.23 1448.4 L1244.71 1448.4 L1244.71 1452.2 L1232.23 1452.2 L1232.23 1448.4 Z\" fill=\"#000000\" fill-rule=\"evenodd\" fill-opacity=\"1\" /><path clip-path=\"url(#clip1200)\" d=\"M 0 0 M1250.58 1459.35 L1258.22 1459.35 L1258.22 1432.98 L1249.91 1434.65 L1249.91 1430.39 L1258.18 1428.73 L1262.85 1428.73 L1262.85 1459.35 L1270.49 1459.35 L1270.49 1463.29 L1250.58 1463.29 L1250.58 1459.35 Z\" fill=\"#000000\" fill-rule=\"evenodd\" fill-opacity=\"1\" /><path clip-path=\"url(#clip1200)\" d=\"M 0 0 M1275.56 1457.41 L1280.45 1457.41 L1280.45 1463.29 L1275.56 1463.29 L1275.56 1457.41 Z\" fill=\"#000000\" fill-rule=\"evenodd\" fill-opacity=\"1\" /><path clip-path=\"url(#clip1200)\" d=\"M 0 0 M1295.52 1431.8 Q1291.9 1431.8 1290.08 1435.37 Q1288.27 1438.91 1288.27 1446.04 Q1288.27 1453.15 1290.08 1456.71 Q1291.9 1460.25 1295.52 1460.25 Q1299.15 1460.25 1300.95 1456.71 Q1302.78 1453.15 1302.78 1446.04 Q1302.78 1438.91 1300.95 1435.37 Q1299.15 1431.8 1295.52 1431.8 M1295.52 1428.1 Q1301.33 1428.1 1304.38 1432.71 Q1307.46 1437.29 1307.46 1446.04 Q1307.46 1454.77 1304.38 1459.37 Q1301.33 1463.96 1295.52 1463.96 Q1289.7 1463.96 1286.63 1459.37 Q1283.57 1454.77 1283.57 1446.04 Q1283.57 1437.29 1286.63 1432.71 Q1289.7 1428.1 1295.52 1428.1 Z\" fill=\"#000000\" fill-rule=\"evenodd\" fill-opacity=\"1\" /><path clip-path=\"url(#clip1200)\" d=\"M 0 0 M1232 1108.82 L1244.47 1108.82 L1244.47 1112.62 L1232 1112.62 L1232 1108.82 Z\" fill=\"#000000\" fill-rule=\"evenodd\" fill-opacity=\"1\" /><path clip-path=\"url(#clip1200)\" d=\"M 0 0 M1259.54 1092.22 Q1255.93 1092.22 1254.1 1095.79 Q1252.3 1099.33 1252.3 1106.46 Q1252.3 1113.57 1254.1 1117.13 Q1255.93 1120.67 1259.54 1120.67 Q1263.18 1120.67 1264.98 1117.13 Q1266.81 1113.57 1266.81 1106.46 Q1266.81 1099.33 1264.98 1095.79 Q1263.18 1092.22 1259.54 1092.22 M1259.54 1088.52 Q1265.35 1088.52 1268.41 1093.13 Q1271.49 1097.71 1271.49 1106.46 Q1271.49 1115.19 1268.41 1119.79 Q1265.35 1124.38 1259.54 1124.38 Q1253.73 1124.38 1250.65 1119.79 Q1247.6 1115.19 1247.6 1106.46 Q1247.6 1097.71 1250.65 1093.13 Q1253.73 1088.52 1259.54 1088.52 Z\" fill=\"#000000\" fill-rule=\"evenodd\" fill-opacity=\"1\" /><path clip-path=\"url(#clip1200)\" d=\"M 0 0 M1276.56 1117.83 L1281.44 1117.83 L1281.44 1123.71 L1276.56 1123.71 L1276.56 1117.83 Z\" fill=\"#000000\" fill-rule=\"evenodd\" fill-opacity=\"1\" /><path clip-path=\"url(#clip1200)\" d=\"M 0 0 M1286.56 1089.15 L1304.91 1089.15 L1304.91 1093.08 L1290.84 1093.08 L1290.84 1101.55 Q1291.86 1101.21 1292.88 1101.04 Q1293.89 1100.86 1294.91 1100.86 Q1300.7 1100.86 1304.08 1104.03 Q1307.46 1107.2 1307.46 1112.62 Q1307.46 1118.2 1303.99 1121.3 Q1300.52 1124.38 1294.2 1124.38 Q1292.02 1124.38 1289.75 1124.01 Q1287.51 1123.64 1285.1 1122.9 L1285.1 1118.2 Q1287.18 1119.33 1289.4 1119.89 Q1291.63 1120.44 1294.1 1120.44 Q1298.11 1120.44 1300.45 1118.34 Q1302.78 1116.23 1302.78 1112.62 Q1302.78 1109.01 1300.45 1106.9 Q1298.11 1104.79 1294.1 1104.79 Q1292.23 1104.79 1290.35 1105.21 Q1288.5 1105.63 1286.56 1106.51 L1286.56 1089.15 Z\" fill=\"#000000\" fill-rule=\"evenodd\" fill-opacity=\"1\" /><path clip-path=\"url(#clip1200)\" d=\"M 0 0 M1258.55 752.645 Q1254.94 752.645 1253.11 756.209 Q1251.3 759.751 1251.3 766.881 Q1251.3 773.987 1253.11 777.552 Q1254.94 781.094 1258.55 781.094 Q1262.18 781.094 1263.99 777.552 Q1265.82 773.987 1265.82 766.881 Q1265.82 759.751 1263.99 756.209 Q1262.18 752.645 1258.55 752.645 M1258.55 748.941 Q1264.36 748.941 1267.41 753.547 Q1270.49 758.131 1270.49 766.881 Q1270.49 775.608 1267.41 780.214 Q1264.36 784.797 1258.55 784.797 Q1252.74 784.797 1249.66 780.214 Q1246.6 775.608 1246.6 766.881 Q1246.6 758.131 1249.66 753.547 Q1252.74 748.941 1258.55 748.941 Z\" fill=\"#000000\" fill-rule=\"evenodd\" fill-opacity=\"1\" /><path clip-path=\"url(#clip1200)\" d=\"M 0 0 M1275.56 778.246 L1280.45 778.246 L1280.45 784.126 L1275.56 784.126 L1275.56 778.246 Z\" fill=\"#000000\" fill-rule=\"evenodd\" fill-opacity=\"1\" /><path clip-path=\"url(#clip1200)\" d=\"M 0 0 M1295.52 752.645 Q1291.9 752.645 1290.08 756.209 Q1288.27 759.751 1288.27 766.881 Q1288.27 773.987 1290.08 777.552 Q1291.9 781.094 1295.52 781.094 Q1299.15 781.094 1300.95 777.552 Q1302.78 773.987 1302.78 766.881 Q1302.78 759.751 1300.95 756.209 Q1299.15 752.645 1295.52 752.645 M1295.52 748.941 Q1301.33 748.941 1304.38 753.547 Q1307.46 758.131 1307.46 766.881 Q1307.46 775.608 1304.38 780.214 Q1301.33 784.797 1295.52 784.797 Q1289.7 784.797 1286.63 780.214 Q1283.57 775.608 1283.57 766.881 Q1283.57 758.131 1286.63 753.547 Q1289.7 748.941 1295.52 748.941 Z\" fill=\"#000000\" fill-rule=\"evenodd\" fill-opacity=\"1\" /><path clip-path=\"url(#clip1200)\" d=\"M 0 0 M1259.54 413.065 Q1255.93 413.065 1254.1 416.63 Q1252.3 420.171 1252.3 427.301 Q1252.3 434.408 1254.1 437.972 Q1255.93 441.514 1259.54 441.514 Q1263.18 441.514 1264.98 437.972 Q1266.81 434.408 1266.81 427.301 Q1266.81 420.171 1264.98 416.63 Q1263.18 413.065 1259.54 413.065 M1259.54 409.361 Q1265.35 409.361 1268.41 413.968 Q1271.49 418.551 1271.49 427.301 Q1271.49 436.028 1268.41 440.634 Q1265.35 445.218 1259.54 445.218 Q1253.73 445.218 1250.65 440.634 Q1247.6 436.028 1247.6 427.301 Q1247.6 418.551 1250.65 413.968 Q1253.73 409.361 1259.54 409.361 Z\" fill=\"#000000\" fill-rule=\"evenodd\" fill-opacity=\"1\" /><path clip-path=\"url(#clip1200)\" d=\"M 0 0 M1276.56 438.667 L1281.44 438.667 L1281.44 444.546 L1276.56 444.546 L1276.56 438.667 Z\" fill=\"#000000\" fill-rule=\"evenodd\" fill-opacity=\"1\" /><path clip-path=\"url(#clip1200)\" d=\"M 0 0 M1286.56 409.986 L1304.91 409.986 L1304.91 413.921 L1290.84 413.921 L1290.84 422.394 Q1291.86 422.046 1292.88 421.884 Q1293.89 421.699 1294.91 421.699 Q1300.7 421.699 1304.08 424.871 Q1307.46 428.042 1307.46 433.458 Q1307.46 439.037 1303.99 442.139 Q1300.52 445.218 1294.2 445.218 Q1292.02 445.218 1289.75 444.847 Q1287.51 444.477 1285.1 443.736 L1285.1 439.037 Q1287.18 440.171 1289.4 440.727 Q1291.63 441.282 1294.1 441.282 Q1298.11 441.282 1300.45 439.176 Q1302.78 437.07 1302.78 433.458 Q1302.78 429.847 1300.45 427.741 Q1298.11 425.634 1294.1 425.634 Q1292.23 425.634 1290.35 426.051 Q1288.5 426.468 1286.56 427.347 L1286.56 409.986 Z\" fill=\"#000000\" fill-rule=\"evenodd\" fill-opacity=\"1\" /><path clip-path=\"url(#clip1200)\" d=\"M 0 0 M1250.58 101.032 L1258.22 101.032 L1258.22 74.6659 L1249.91 76.3326 L1249.91 72.0733 L1258.18 70.4067 L1262.85 70.4067 L1262.85 101.032 L1270.49 101.032 L1270.49 104.967 L1250.58 104.967 L1250.58 101.032 Z\" fill=\"#000000\" fill-rule=\"evenodd\" fill-opacity=\"1\" /><path clip-path=\"url(#clip1200)\" d=\"M 0 0 M1275.56 99.0871 L1280.45 99.0871 L1280.45 104.967 L1275.56 104.967 L1275.56 99.0871 Z\" fill=\"#000000\" fill-rule=\"evenodd\" fill-opacity=\"1\" /><path clip-path=\"url(#clip1200)\" d=\"M 0 0 M1295.52 73.4854 Q1291.9 73.4854 1290.08 77.0502 Q1288.27 80.5918 1288.27 87.7214 Q1288.27 94.8279 1290.08 98.3926 Q1291.9 101.934 1295.52 101.934 Q1299.15 101.934 1300.95 98.3926 Q1302.78 94.8279 1302.78 87.7214 Q1302.78 80.5918 1300.95 77.0502 Q1299.15 73.4854 1295.52 73.4854 M1295.52 69.7817 Q1301.33 69.7817 1304.38 74.3881 Q1307.46 78.9715 1307.46 87.7214 Q1307.46 96.4482 1304.38 101.055 Q1301.33 105.638 1295.52 105.638 Q1289.7 105.638 1286.63 101.055 Q1283.57 96.4482 1283.57 87.7214 Q1283.57 78.9715 1286.63 74.3881 Q1289.7 69.7817 1295.52 69.7817 Z\" fill=\"#000000\" fill-rule=\"evenodd\" fill-opacity=\"1\" /><polyline clip-path=\"url(#clip1204)\" style=\"stroke:#009af9; stroke-width:4; stroke-opacity:1; fill:none\" points=\"\n",
       "  1342.94,115.584 1350.6,90.2915 1358.26,91.9715 1365.91,120.557 1373.57,174.907 1381.23,252.857 1388.88,351.297 1396.54,466.304 1404.2,593.293 1411.85,727.201 \n",
       "  1419.51,862.689 1427.17,994.356 1434.82,1116.95 1442.48,1225.59 1450.14,1315.94 1457.79,1384.4 1465.45,1428.24 1473.11,1445.72 1480.76,1436.12 1488.42,1399.85 \n",
       "  1496.08,1338.34 1503.73,1254.05 1511.39,1150.33 1519.05,1031.32 1526.7,901.774 1534.36,766.846 1542.02,631.918 1549.67,502.369 1557.33,383.364 1564.99,279.647 \n",
       "  1572.64,195.353 1580.3,133.843 1587.95,97.5686 1595.61,87.9763 1603.27,105.448 1610.92,149.288 1618.58,217.748 1626.24,308.099 1633.89,416.738 1641.55,539.336 \n",
       "  1649.21,671.003 1656.86,806.491 1664.52,940.399 1672.18,1067.39 1679.83,1182.39 1687.49,1280.84 1695.15,1358.78 1702.8,1413.14 1710.46,1441.72 1718.12,1443.4 \n",
       "  1725.77,1418.11 \n",
       "  \"/>\n",
       "<path clip-path=\"url(#clip1200)\" d=\"\n",
       "M1374.24 251.724 L1665.26 251.724 L1665.26 130.764 L1374.24 130.764  Z\n",
       "  \" fill=\"#ffffff\" fill-rule=\"evenodd\" fill-opacity=\"1\"/>\n",
       "<polyline clip-path=\"url(#clip1200)\" style=\"stroke:#000000; stroke-width:4; stroke-opacity:1; fill:none\" points=\"\n",
       "  1374.24,251.724 1665.26,251.724 1665.26,130.764 1374.24,130.764 1374.24,251.724 \n",
       "  \"/>\n",
       "<polyline clip-path=\"url(#clip1200)\" style=\"stroke:#009af9; stroke-width:4; stroke-opacity:1; fill:none\" points=\"\n",
       "  1398.24,191.244 1542.24,191.244 \n",
       "  \"/>\n",
       "<path clip-path=\"url(#clip1200)\" d=\"M 0 0 M1580.08 210.931 Q1578.28 215.561 1576.56 216.973 Q1574.85 218.385 1571.98 218.385 L1568.58 218.385 L1568.58 214.82 L1571.08 214.82 Q1572.84 214.82 1573.81 213.987 Q1574.78 213.154 1575.96 210.052 L1576.73 208.107 L1566.24 182.598 L1570.75 182.598 L1578.86 202.876 L1586.96 182.598 L1591.47 182.598 L1580.08 210.931 Z\" fill=\"#000000\" fill-rule=\"evenodd\" fill-opacity=\"1\" /><path clip-path=\"url(#clip1200)\" d=\"M 0 0 M1597.35 204.589 L1604.99 204.589 L1604.99 178.223 L1596.68 179.89 L1596.68 175.631 L1604.94 173.964 L1609.62 173.964 L1609.62 204.589 L1617.26 204.589 L1617.26 208.524 L1597.35 208.524 L1597.35 204.589 Z\" fill=\"#000000\" fill-rule=\"evenodd\" fill-opacity=\"1\" /><path clip-path=\"url(#clip1200)\" d=\"\n",
       "M1946.96 1486.45 L2352.76 1486.45 L2352.76 47.2441 L1946.96 47.2441  Z\n",
       "  \" fill=\"#ffffff\" fill-rule=\"evenodd\" fill-opacity=\"1\"/>\n",
       "<defs>\n",
       "  <clipPath id=\"clip1205\">\n",
       "    <rect x=\"1946\" y=\"47\" width=\"407\" height=\"1440\"/>\n",
       "  </clipPath>\n",
       "</defs>\n",
       "<polyline clip-path=\"url(#clip1205)\" style=\"stroke:#000000; stroke-width:2; stroke-opacity:0.1; fill:none\" points=\"\n",
       "  1996.72,1486.45 1996.72,47.2441 \n",
       "  \"/>\n",
       "<polyline clip-path=\"url(#clip1205)\" style=\"stroke:#000000; stroke-width:2; stroke-opacity:0.1; fill:none\" points=\"\n",
       "  2073.29,1486.45 2073.29,47.2441 \n",
       "  \"/>\n",
       "<polyline clip-path=\"url(#clip1205)\" style=\"stroke:#000000; stroke-width:2; stroke-opacity:0.1; fill:none\" points=\"\n",
       "  2149.86,1486.45 2149.86,47.2441 \n",
       "  \"/>\n",
       "<polyline clip-path=\"url(#clip1205)\" style=\"stroke:#000000; stroke-width:2; stroke-opacity:0.1; fill:none\" points=\"\n",
       "  2226.42,1486.45 2226.42,47.2441 \n",
       "  \"/>\n",
       "<polyline clip-path=\"url(#clip1205)\" style=\"stroke:#000000; stroke-width:2; stroke-opacity:0.1; fill:none\" points=\"\n",
       "  2302.99,1486.45 2302.99,47.2441 \n",
       "  \"/>\n",
       "<polyline clip-path=\"url(#clip1205)\" style=\"stroke:#000000; stroke-width:2; stroke-opacity:0.1; fill:none\" points=\"\n",
       "  1946.96,1446.87 2352.76,1446.87 \n",
       "  \"/>\n",
       "<polyline clip-path=\"url(#clip1205)\" style=\"stroke:#000000; stroke-width:2; stroke-opacity:0.1; fill:none\" points=\"\n",
       "  1946.96,1107.15 2352.76,1107.15 \n",
       "  \"/>\n",
       "<polyline clip-path=\"url(#clip1205)\" style=\"stroke:#000000; stroke-width:2; stroke-opacity:0.1; fill:none\" points=\"\n",
       "  1946.96,767.425 2352.76,767.425 \n",
       "  \"/>\n",
       "<polyline clip-path=\"url(#clip1205)\" style=\"stroke:#000000; stroke-width:2; stroke-opacity:0.1; fill:none\" points=\"\n",
       "  1946.96,427.701 2352.76,427.701 \n",
       "  \"/>\n",
       "<polyline clip-path=\"url(#clip1205)\" style=\"stroke:#000000; stroke-width:2; stroke-opacity:0.1; fill:none\" points=\"\n",
       "  1946.96,87.9763 2352.76,87.9763 \n",
       "  \"/>\n",
       "<polyline clip-path=\"url(#clip1200)\" style=\"stroke:#000000; stroke-width:4; stroke-opacity:1; fill:none\" points=\"\n",
       "  1946.96,1486.45 2352.76,1486.45 \n",
       "  \"/>\n",
       "<polyline clip-path=\"url(#clip1200)\" style=\"stroke:#000000; stroke-width:4; stroke-opacity:1; fill:none\" points=\"\n",
       "  1946.96,1486.45 1946.96,47.2441 \n",
       "  \"/>\n",
       "<polyline clip-path=\"url(#clip1200)\" style=\"stroke:#000000; stroke-width:4; stroke-opacity:1; fill:none\" points=\"\n",
       "  1996.72,1486.45 1996.72,1469.18 \n",
       "  \"/>\n",
       "<polyline clip-path=\"url(#clip1200)\" style=\"stroke:#000000; stroke-width:4; stroke-opacity:1; fill:none\" points=\"\n",
       "  2073.29,1486.45 2073.29,1469.18 \n",
       "  \"/>\n",
       "<polyline clip-path=\"url(#clip1200)\" style=\"stroke:#000000; stroke-width:4; stroke-opacity:1; fill:none\" points=\"\n",
       "  2149.86,1486.45 2149.86,1469.18 \n",
       "  \"/>\n",
       "<polyline clip-path=\"url(#clip1200)\" style=\"stroke:#000000; stroke-width:4; stroke-opacity:1; fill:none\" points=\"\n",
       "  2226.42,1486.45 2226.42,1469.18 \n",
       "  \"/>\n",
       "<polyline clip-path=\"url(#clip1200)\" style=\"stroke:#000000; stroke-width:4; stroke-opacity:1; fill:none\" points=\"\n",
       "  2302.99,1486.45 2302.99,1469.18 \n",
       "  \"/>\n",
       "<polyline clip-path=\"url(#clip1200)\" style=\"stroke:#000000; stroke-width:4; stroke-opacity:1; fill:none\" points=\"\n",
       "  1946.96,1446.87 1951.83,1446.87 \n",
       "  \"/>\n",
       "<polyline clip-path=\"url(#clip1200)\" style=\"stroke:#000000; stroke-width:4; stroke-opacity:1; fill:none\" points=\"\n",
       "  1946.96,1107.15 1951.83,1107.15 \n",
       "  \"/>\n",
       "<polyline clip-path=\"url(#clip1200)\" style=\"stroke:#000000; stroke-width:4; stroke-opacity:1; fill:none\" points=\"\n",
       "  1946.96,767.425 1951.83,767.425 \n",
       "  \"/>\n",
       "<polyline clip-path=\"url(#clip1200)\" style=\"stroke:#000000; stroke-width:4; stroke-opacity:1; fill:none\" points=\"\n",
       "  1946.96,427.701 1951.83,427.701 \n",
       "  \"/>\n",
       "<polyline clip-path=\"url(#clip1200)\" style=\"stroke:#000000; stroke-width:4; stroke-opacity:1; fill:none\" points=\"\n",
       "  1946.96,87.9763 1951.83,87.9763 \n",
       "  \"/>\n",
       "<path clip-path=\"url(#clip1200)\" d=\"M 0 0 M1976.74 1525.04 L1989.21 1525.04 L1989.21 1528.83 L1976.74 1528.83 L1976.74 1525.04 Z\" fill=\"#000000\" fill-rule=\"evenodd\" fill-opacity=\"1\" /><path clip-path=\"url(#clip1200)\" d=\"M 0 0 M2007.13 1509.43 L1995.32 1527.88 L2007.13 1527.88 L2007.13 1509.43 M2005.9 1505.36 L2011.78 1505.36 L2011.78 1527.88 L2016.71 1527.88 L2016.71 1531.77 L2011.78 1531.77 L2011.78 1539.92 L2007.13 1539.92 L2007.13 1531.77 L1991.53 1531.77 L1991.53 1527.26 L2005.9 1505.36 Z\" fill=\"#000000\" fill-rule=\"evenodd\" fill-opacity=\"1\" /><path clip-path=\"url(#clip1200)\" d=\"M 0 0 M2054.34 1525.04 L2066.82 1525.04 L2066.82 1528.83 L2054.34 1528.83 L2054.34 1525.04 Z\" fill=\"#000000\" fill-rule=\"evenodd\" fill-opacity=\"1\" /><path clip-path=\"url(#clip1200)\" d=\"M 0 0 M2075.92 1535.98 L2092.24 1535.98 L2092.24 1539.92 L2070.29 1539.92 L2070.29 1535.98 Q2072.96 1533.23 2077.54 1528.6 Q2082.14 1523.95 2083.33 1522.61 Q2085.57 1520.08 2086.45 1518.35 Q2087.35 1516.59 2087.35 1514.9 Q2087.35 1512.14 2085.41 1510.41 Q2083.49 1508.67 2080.39 1508.67 Q2078.19 1508.67 2075.73 1509.43 Q2073.3 1510.2 2070.52 1511.75 L2070.52 1507.03 Q2073.35 1505.89 2075.8 1505.31 Q2078.26 1504.73 2080.29 1504.73 Q2085.66 1504.73 2088.86 1507.42 Q2092.05 1510.11 2092.05 1514.6 Q2092.05 1516.73 2091.24 1518.65 Q2090.45 1520.54 2088.35 1523.14 Q2087.77 1523.81 2084.67 1527.03 Q2081.57 1530.22 2075.92 1535.98 Z\" fill=\"#000000\" fill-rule=\"evenodd\" fill-opacity=\"1\" /><path clip-path=\"url(#clip1200)\" d=\"M 0 0 M2149.86 1508.44 Q2146.25 1508.44 2144.42 1512 Q2142.61 1515.55 2142.61 1522.67 Q2142.61 1529.78 2144.42 1533.35 Q2146.25 1536.89 2149.86 1536.89 Q2153.49 1536.89 2155.3 1533.35 Q2157.12 1529.78 2157.12 1522.67 Q2157.12 1515.55 2155.3 1512 Q2153.49 1508.44 2149.86 1508.44 M2149.86 1504.73 Q2155.67 1504.73 2158.72 1509.34 Q2161.8 1513.92 2161.8 1522.67 Q2161.8 1531.4 2158.72 1536.01 Q2155.67 1540.59 2149.86 1540.59 Q2144.05 1540.59 2140.97 1536.01 Q2137.91 1531.4 2137.91 1522.67 Q2137.91 1513.92 2140.97 1509.34 Q2144.05 1504.73 2149.86 1504.73 Z\" fill=\"#000000\" fill-rule=\"evenodd\" fill-opacity=\"1\" /><path clip-path=\"url(#clip1200)\" d=\"M 0 0 M2221.08 1535.98 L2237.39 1535.98 L2237.39 1539.92 L2215.45 1539.92 L2215.45 1535.98 Q2218.11 1533.23 2222.7 1528.6 Q2227.3 1523.95 2228.48 1522.61 Q2230.73 1520.08 2231.61 1518.35 Q2232.51 1516.59 2232.51 1514.9 Q2232.51 1512.14 2230.57 1510.41 Q2228.64 1508.67 2225.54 1508.67 Q2223.34 1508.67 2220.89 1509.43 Q2218.46 1510.2 2215.68 1511.75 L2215.68 1507.03 Q2218.51 1505.89 2220.96 1505.31 Q2223.41 1504.73 2225.45 1504.73 Q2230.82 1504.73 2234.01 1507.42 Q2237.21 1510.11 2237.21 1514.6 Q2237.21 1516.73 2236.4 1518.65 Q2235.61 1520.54 2233.51 1523.14 Q2232.93 1523.81 2229.83 1527.03 Q2226.72 1530.22 2221.08 1535.98 Z\" fill=\"#000000\" fill-rule=\"evenodd\" fill-opacity=\"1\" /><path clip-path=\"url(#clip1200)\" d=\"M 0 0 M2306 1509.43 L2294.19 1527.88 L2306 1527.88 L2306 1509.43 M2304.77 1505.36 L2310.65 1505.36 L2310.65 1527.88 L2315.58 1527.88 L2315.58 1531.77 L2310.65 1531.77 L2310.65 1539.92 L2306 1539.92 L2306 1531.77 L2290.4 1531.77 L2290.4 1527.26 L2304.77 1505.36 Z\" fill=\"#000000\" fill-rule=\"evenodd\" fill-opacity=\"1\" /><path clip-path=\"url(#clip1200)\" d=\"M 0 0 M1847.73 1449.27 L1860.2 1449.27 L1860.2 1453.07 L1847.73 1453.07 L1847.73 1449.27 Z\" fill=\"#000000\" fill-rule=\"evenodd\" fill-opacity=\"1\" /><path clip-path=\"url(#clip1200)\" d=\"M 0 0 M1866.08 1460.22 L1873.72 1460.22 L1873.72 1433.85 L1865.41 1435.52 L1865.41 1431.26 L1873.67 1429.59 L1878.35 1429.59 L1878.35 1460.22 L1885.99 1460.22 L1885.99 1464.15 L1866.08 1464.15 L1866.08 1460.22 Z\" fill=\"#000000\" fill-rule=\"evenodd\" fill-opacity=\"1\" /><path clip-path=\"url(#clip1200)\" d=\"M 0 0 M1891.06 1458.27 L1895.94 1458.27 L1895.94 1464.15 L1891.06 1464.15 L1891.06 1458.27 Z\" fill=\"#000000\" fill-rule=\"evenodd\" fill-opacity=\"1\" /><path clip-path=\"url(#clip1200)\" d=\"M 0 0 M1911.01 1432.67 Q1907.4 1432.67 1905.57 1436.24 Q1903.77 1439.78 1903.77 1446.91 Q1903.77 1454.02 1905.57 1457.58 Q1907.4 1461.12 1911.01 1461.12 Q1914.65 1461.12 1916.45 1457.58 Q1918.28 1454.02 1918.28 1446.91 Q1918.28 1439.78 1916.45 1436.24 Q1914.65 1432.67 1911.01 1432.67 M1911.01 1428.97 Q1916.82 1428.97 1919.88 1433.58 Q1922.96 1438.16 1922.96 1446.91 Q1922.96 1455.64 1919.88 1460.24 Q1916.82 1464.83 1911.01 1464.83 Q1905.2 1464.83 1902.12 1460.24 Q1899.07 1455.64 1899.07 1446.91 Q1899.07 1438.16 1902.12 1433.58 Q1905.2 1428.97 1911.01 1428.97 Z\" fill=\"#000000\" fill-rule=\"evenodd\" fill-opacity=\"1\" /><path clip-path=\"url(#clip1200)\" d=\"M 0 0 M1847.49 1109.55 L1859.97 1109.55 L1859.97 1113.34 L1847.49 1113.34 L1847.49 1109.55 Z\" fill=\"#000000\" fill-rule=\"evenodd\" fill-opacity=\"1\" /><path clip-path=\"url(#clip1200)\" d=\"M 0 0 M1875.04 1092.95 Q1871.43 1092.95 1869.6 1096.51 Q1867.8 1100.05 1867.8 1107.18 Q1867.8 1114.29 1869.6 1117.86 Q1871.43 1121.4 1875.04 1121.4 Q1878.67 1121.4 1880.48 1117.86 Q1882.31 1114.29 1882.31 1107.18 Q1882.31 1100.05 1880.48 1096.51 Q1878.67 1092.95 1875.04 1092.95 M1875.04 1089.24 Q1880.85 1089.24 1883.91 1093.85 Q1886.99 1098.43 1886.99 1107.18 Q1886.99 1115.91 1883.91 1120.52 Q1880.85 1125.1 1875.04 1125.1 Q1869.23 1125.1 1866.15 1120.52 Q1863.1 1115.91 1863.1 1107.18 Q1863.1 1098.43 1866.15 1093.85 Q1869.23 1089.24 1875.04 1089.24 Z\" fill=\"#000000\" fill-rule=\"evenodd\" fill-opacity=\"1\" /><path clip-path=\"url(#clip1200)\" d=\"M 0 0 M1892.05 1118.55 L1896.94 1118.55 L1896.94 1124.43 L1892.05 1124.43 L1892.05 1118.55 Z\" fill=\"#000000\" fill-rule=\"evenodd\" fill-opacity=\"1\" /><path clip-path=\"url(#clip1200)\" d=\"M 0 0 M1902.05 1089.87 L1920.41 1089.87 L1920.41 1093.8 L1906.34 1093.8 L1906.34 1102.28 Q1907.36 1101.93 1908.37 1101.77 Q1909.39 1101.58 1910.41 1101.58 Q1916.2 1101.58 1919.58 1104.75 Q1922.96 1107.93 1922.96 1113.34 Q1922.96 1118.92 1919.48 1122.02 Q1916.01 1125.1 1909.69 1125.1 Q1907.52 1125.1 1905.25 1124.73 Q1903 1124.36 1900.6 1123.62 L1900.6 1118.92 Q1902.68 1120.05 1904.9 1120.61 Q1907.12 1121.17 1909.6 1121.17 Q1913.61 1121.17 1915.94 1119.06 Q1918.28 1116.95 1918.28 1113.34 Q1918.28 1109.73 1915.94 1107.62 Q1913.61 1105.52 1909.6 1105.52 Q1907.73 1105.52 1905.85 1105.93 Q1904 1106.35 1902.05 1107.23 L1902.05 1089.87 Z\" fill=\"#000000\" fill-rule=\"evenodd\" fill-opacity=\"1\" /><path clip-path=\"url(#clip1200)\" d=\"M 0 0 M1874.05 753.224 Q1870.43 753.224 1868.61 756.789 Q1866.8 760.33 1866.8 767.46 Q1866.8 774.566 1868.61 778.131 Q1870.43 781.673 1874.05 781.673 Q1877.68 781.673 1879.49 778.131 Q1881.31 774.566 1881.31 767.46 Q1881.31 760.33 1879.49 756.789 Q1877.68 753.224 1874.05 753.224 M1874.05 749.52 Q1879.86 749.52 1882.91 754.127 Q1885.99 758.71 1885.99 767.46 Q1885.99 776.187 1882.91 780.793 Q1879.86 785.377 1874.05 785.377 Q1868.24 785.377 1865.16 780.793 Q1862.1 776.187 1862.1 767.46 Q1862.1 758.71 1865.16 754.127 Q1868.24 749.52 1874.05 749.52 Z\" fill=\"#000000\" fill-rule=\"evenodd\" fill-opacity=\"1\" /><path clip-path=\"url(#clip1200)\" d=\"M 0 0 M1891.06 778.826 L1895.94 778.826 L1895.94 784.705 L1891.06 784.705 L1891.06 778.826 Z\" fill=\"#000000\" fill-rule=\"evenodd\" fill-opacity=\"1\" /><path clip-path=\"url(#clip1200)\" d=\"M 0 0 M1911.01 753.224 Q1907.4 753.224 1905.57 756.789 Q1903.77 760.33 1903.77 767.46 Q1903.77 774.566 1905.57 778.131 Q1907.4 781.673 1911.01 781.673 Q1914.65 781.673 1916.45 778.131 Q1918.28 774.566 1918.28 767.46 Q1918.28 760.33 1916.45 756.789 Q1914.65 753.224 1911.01 753.224 M1911.01 749.52 Q1916.82 749.52 1919.88 754.127 Q1922.96 758.71 1922.96 767.46 Q1922.96 776.187 1919.88 780.793 Q1916.82 785.377 1911.01 785.377 Q1905.2 785.377 1902.12 780.793 Q1899.07 776.187 1899.07 767.46 Q1899.07 758.71 1902.12 754.127 Q1905.2 749.52 1911.01 749.52 Z\" fill=\"#000000\" fill-rule=\"evenodd\" fill-opacity=\"1\" /><path clip-path=\"url(#clip1200)\" d=\"M 0 0 M1875.04 413.499 Q1871.43 413.499 1869.6 417.064 Q1867.8 420.606 1867.8 427.736 Q1867.8 434.842 1869.6 438.407 Q1871.43 441.948 1875.04 441.948 Q1878.67 441.948 1880.48 438.407 Q1882.31 434.842 1882.31 427.736 Q1882.31 420.606 1880.48 417.064 Q1878.67 413.499 1875.04 413.499 M1875.04 409.796 Q1880.85 409.796 1883.91 414.402 Q1886.99 418.986 1886.99 427.736 Q1886.99 436.462 1883.91 441.069 Q1880.85 445.652 1875.04 445.652 Q1869.23 445.652 1866.15 441.069 Q1863.1 436.462 1863.1 427.736 Q1863.1 418.986 1866.15 414.402 Q1869.23 409.796 1875.04 409.796 Z\" fill=\"#000000\" fill-rule=\"evenodd\" fill-opacity=\"1\" /><path clip-path=\"url(#clip1200)\" d=\"M 0 0 M1892.05 439.101 L1896.94 439.101 L1896.94 444.981 L1892.05 444.981 L1892.05 439.101 Z\" fill=\"#000000\" fill-rule=\"evenodd\" fill-opacity=\"1\" /><path clip-path=\"url(#clip1200)\" d=\"M 0 0 M1902.05 410.421 L1920.41 410.421 L1920.41 414.356 L1906.34 414.356 L1906.34 422.828 Q1907.36 422.481 1908.37 422.319 Q1909.39 422.134 1910.41 422.134 Q1916.2 422.134 1919.58 425.305 Q1922.96 428.476 1922.96 433.893 Q1922.96 439.472 1919.48 442.573 Q1916.01 445.652 1909.69 445.652 Q1907.52 445.652 1905.25 445.282 Q1903 444.911 1900.6 444.171 L1900.6 439.472 Q1902.68 440.606 1904.9 441.161 Q1907.12 441.717 1909.6 441.717 Q1913.61 441.717 1915.94 439.61 Q1918.28 437.504 1918.28 433.893 Q1918.28 430.282 1915.94 428.175 Q1913.61 426.069 1909.6 426.069 Q1907.73 426.069 1905.85 426.486 Q1904 426.902 1902.05 427.782 L1902.05 410.421 Z\" fill=\"#000000\" fill-rule=\"evenodd\" fill-opacity=\"1\" /><path clip-path=\"url(#clip1200)\" d=\"M 0 0 M1866.08 101.321 L1873.72 101.321 L1873.72 74.9555 L1865.41 76.6222 L1865.41 72.3629 L1873.67 70.6963 L1878.35 70.6963 L1878.35 101.321 L1885.99 101.321 L1885.99 105.256 L1866.08 105.256 L1866.08 101.321 Z\" fill=\"#000000\" fill-rule=\"evenodd\" fill-opacity=\"1\" /><path clip-path=\"url(#clip1200)\" d=\"M 0 0 M1891.06 99.3767 L1895.94 99.3767 L1895.94 105.256 L1891.06 105.256 L1891.06 99.3767 Z\" fill=\"#000000\" fill-rule=\"evenodd\" fill-opacity=\"1\" /><path clip-path=\"url(#clip1200)\" d=\"M 0 0 M1911.01 73.775 Q1907.4 73.775 1905.57 77.3398 Q1903.77 80.8814 1903.77 88.011 Q1903.77 95.1174 1905.57 98.6822 Q1907.4 102.224 1911.01 102.224 Q1914.65 102.224 1916.45 98.6822 Q1918.28 95.1174 1918.28 88.011 Q1918.28 80.8814 1916.45 77.3398 Q1914.65 73.775 1911.01 73.775 M1911.01 70.0713 Q1916.82 70.0713 1919.88 74.6777 Q1922.96 79.261 1922.96 88.011 Q1922.96 96.7378 1919.88 101.344 Q1916.82 105.928 1911.01 105.928 Q1905.2 105.928 1902.12 101.344 Q1899.07 96.7378 1899.07 88.011 Q1899.07 79.261 1902.12 74.6777 Q1905.2 70.0713 1911.01 70.0713 Z\" fill=\"#000000\" fill-rule=\"evenodd\" fill-opacity=\"1\" /><polyline clip-path=\"url(#clip1205)\" style=\"stroke:#009af9; stroke-width:4; stroke-opacity:1; fill:none\" points=\"\n",
       "  1958.44,574.691 1966.1,707.974 1973.76,843.627 1981.41,976.242 1989.07,1100.53 1996.72,1211.54 2004.38,1304.85 2012.04,1376.73 2019.69,1424.32 2027.35,1445.72 \n",
       "  2035.01,1440.07 2042.66,1407.62 2050.32,1349.64 2057.98,1268.45 2065.63,1167.28 2073.29,1050.18 2080.95,921.798 2088.6,787.265 2096.26,651.941 2103.92,521.222 \n",
       "  2111.57,400.317 2119.23,294.049 2126.89,206.652 2134.54,141.611 2142.2,101.52 2149.86,87.9763 2157.51,101.52 2165.17,141.611 2172.83,206.652 2180.48,294.049 \n",
       "  2188.14,400.317 2195.8,521.222 2203.45,651.941 2211.11,787.265 2218.77,921.798 2226.42,1050.18 2234.08,1167.28 2241.74,1268.45 2249.39,1349.64 2257.05,1407.62 \n",
       "  2264.71,1440.07 2272.36,1445.72 2280.02,1424.32 2287.67,1376.73 2295.33,1304.85 2302.99,1211.54 2310.64,1100.53 2318.3,976.242 2325.96,843.627 2333.61,707.974 \n",
       "  2341.27,574.691 \n",
       "  \"/>\n",
       "<path clip-path=\"url(#clip1200)\" d=\"\n",
       "M1989.74 251.724 L2280.76 251.724 L2280.76 130.764 L1989.74 130.764  Z\n",
       "  \" fill=\"#ffffff\" fill-rule=\"evenodd\" fill-opacity=\"1\"/>\n",
       "<polyline clip-path=\"url(#clip1200)\" style=\"stroke:#000000; stroke-width:4; stroke-opacity:1; fill:none\" points=\"\n",
       "  1989.74,251.724 2280.76,251.724 2280.76,130.764 1989.74,130.764 1989.74,251.724 \n",
       "  \"/>\n",
       "<polyline clip-path=\"url(#clip1200)\" style=\"stroke:#009af9; stroke-width:4; stroke-opacity:1; fill:none\" points=\"\n",
       "  2013.74,191.244 2157.74,191.244 \n",
       "  \"/>\n",
       "<path clip-path=\"url(#clip1200)\" d=\"M 0 0 M2195.58 210.931 Q2193.77 215.561 2192.06 216.973 Q2190.35 218.385 2187.48 218.385 L2184.08 218.385 L2184.08 214.82 L2186.58 214.82 Q2188.33 214.82 2189.31 213.987 Q2190.28 213.154 2191.46 210.052 L2192.22 208.107 L2181.74 182.598 L2186.25 182.598 L2194.35 202.876 L2202.46 182.598 L2206.97 182.598 L2195.58 210.931 Z\" fill=\"#000000\" fill-rule=\"evenodd\" fill-opacity=\"1\" /><path clip-path=\"url(#clip1200)\" d=\"M 0 0 M2212.85 204.589 L2220.49 204.589 L2220.49 178.223 L2212.18 179.89 L2212.18 175.631 L2220.44 173.964 L2225.12 173.964 L2225.12 204.589 L2232.76 204.589 L2232.76 208.524 L2212.85 208.524 L2212.85 204.589 Z\" fill=\"#000000\" fill-rule=\"evenodd\" fill-opacity=\"1\" /></svg>\n"
      ]
     },
     "execution_count": 173,
     "metadata": {},
     "output_type": "execute_result"
    }
   ],
   "source": [
    "### Solution\n",
    "plot(p1,p2,p3,p4)\n",
    "#plot(p1,p2,p3,p4, layout=(1,4))"
   ]
  },
  {
   "cell_type": "code",
   "execution_count": null,
   "metadata": {},
   "outputs": [],
   "source": [
    "### Question : mettre cos et sin de x sur un même graphique"
   ]
  },
  {
   "cell_type": "code",
   "execution_count": null,
   "metadata": {},
   "outputs": [],
   "source": [
    "\n",
    "\n",
    "\n",
    "\n",
    "\n",
    "\n",
    "\n"
   ]
  },
  {
   "cell_type": "code",
   "execution_count": 176,
   "metadata": {},
   "outputs": [
    {
     "data": {
      "image/svg+xml": [
       "<?xml version=\"1.0\" encoding=\"utf-8\"?>\n",
       "<svg xmlns=\"http://www.w3.org/2000/svg\" xmlns:xlink=\"http://www.w3.org/1999/xlink\" width=\"600\" height=\"400\" viewBox=\"0 0 2400 1600\">\n",
       "<defs>\n",
       "  <clipPath id=\"clip2400\">\n",
       "    <rect x=\"0\" y=\"0\" width=\"2400\" height=\"1600\"/>\n",
       "  </clipPath>\n",
       "</defs>\n",
       "<path clip-path=\"url(#clip2400)\" d=\"\n",
       "M0 1600 L2400 1600 L2400 0 L0 0  Z\n",
       "  \" fill=\"#ffffff\" fill-rule=\"evenodd\" fill-opacity=\"1\"/>\n",
       "<defs>\n",
       "  <clipPath id=\"clip2401\">\n",
       "    <rect x=\"480\" y=\"0\" width=\"1681\" height=\"1600\"/>\n",
       "  </clipPath>\n",
       "</defs>\n",
       "<path clip-path=\"url(#clip2400)\" d=\"\n",
       "M162.455 1486.45 L2352.76 1486.45 L2352.76 47.2441 L162.455 47.2441  Z\n",
       "  \" fill=\"#ffffff\" fill-rule=\"evenodd\" fill-opacity=\"1\"/>\n",
       "<defs>\n",
       "  <clipPath id=\"clip2402\">\n",
       "    <rect x=\"162\" y=\"47\" width=\"2191\" height=\"1440\"/>\n",
       "  </clipPath>\n",
       "</defs>\n",
       "<polyline clip-path=\"url(#clip2402)\" style=\"stroke:#000000; stroke-width:2; stroke-opacity:0.1; fill:none\" points=\"\n",
       "  431.077,1486.45 431.077,47.2441 \n",
       "  \"/>\n",
       "<polyline clip-path=\"url(#clip2402)\" style=\"stroke:#000000; stroke-width:2; stroke-opacity:0.1; fill:none\" points=\"\n",
       "  844.341,1486.45 844.341,47.2441 \n",
       "  \"/>\n",
       "<polyline clip-path=\"url(#clip2402)\" style=\"stroke:#000000; stroke-width:2; stroke-opacity:0.1; fill:none\" points=\"\n",
       "  1257.61,1486.45 1257.61,47.2441 \n",
       "  \"/>\n",
       "<polyline clip-path=\"url(#clip2402)\" style=\"stroke:#000000; stroke-width:2; stroke-opacity:0.1; fill:none\" points=\"\n",
       "  1670.87,1486.45 1670.87,47.2441 \n",
       "  \"/>\n",
       "<polyline clip-path=\"url(#clip2402)\" style=\"stroke:#000000; stroke-width:2; stroke-opacity:0.1; fill:none\" points=\"\n",
       "  2084.13,1486.45 2084.13,47.2441 \n",
       "  \"/>\n",
       "<polyline clip-path=\"url(#clip2402)\" style=\"stroke:#000000; stroke-width:2; stroke-opacity:0.1; fill:none\" points=\"\n",
       "  162.455,1446.01 2352.76,1446.01 \n",
       "  \"/>\n",
       "<polyline clip-path=\"url(#clip2402)\" style=\"stroke:#000000; stroke-width:2; stroke-opacity:0.1; fill:none\" points=\"\n",
       "  162.455,1106.5 2352.76,1106.5 \n",
       "  \"/>\n",
       "<polyline clip-path=\"url(#clip2402)\" style=\"stroke:#000000; stroke-width:2; stroke-opacity:0.1; fill:none\" points=\"\n",
       "  162.455,766.991 2352.76,766.991 \n",
       "  \"/>\n",
       "<polyline clip-path=\"url(#clip2402)\" style=\"stroke:#000000; stroke-width:2; stroke-opacity:0.1; fill:none\" points=\"\n",
       "  162.455,427.484 2352.76,427.484 \n",
       "  \"/>\n",
       "<polyline clip-path=\"url(#clip2402)\" style=\"stroke:#000000; stroke-width:2; stroke-opacity:0.1; fill:none\" points=\"\n",
       "  162.455,87.9763 2352.76,87.9763 \n",
       "  \"/>\n",
       "<polyline clip-path=\"url(#clip2400)\" style=\"stroke:#000000; stroke-width:4; stroke-opacity:1; fill:none\" points=\"\n",
       "  162.455,1486.45 2352.76,1486.45 \n",
       "  \"/>\n",
       "<polyline clip-path=\"url(#clip2400)\" style=\"stroke:#000000; stroke-width:4; stroke-opacity:1; fill:none\" points=\"\n",
       "  162.455,1486.45 162.455,47.2441 \n",
       "  \"/>\n",
       "<polyline clip-path=\"url(#clip2400)\" style=\"stroke:#000000; stroke-width:4; stroke-opacity:1; fill:none\" points=\"\n",
       "  431.077,1486.45 431.077,1469.18 \n",
       "  \"/>\n",
       "<polyline clip-path=\"url(#clip2400)\" style=\"stroke:#000000; stroke-width:4; stroke-opacity:1; fill:none\" points=\"\n",
       "  844.341,1486.45 844.341,1469.18 \n",
       "  \"/>\n",
       "<polyline clip-path=\"url(#clip2400)\" style=\"stroke:#000000; stroke-width:4; stroke-opacity:1; fill:none\" points=\"\n",
       "  1257.61,1486.45 1257.61,1469.18 \n",
       "  \"/>\n",
       "<polyline clip-path=\"url(#clip2400)\" style=\"stroke:#000000; stroke-width:4; stroke-opacity:1; fill:none\" points=\"\n",
       "  1670.87,1486.45 1670.87,1469.18 \n",
       "  \"/>\n",
       "<polyline clip-path=\"url(#clip2400)\" style=\"stroke:#000000; stroke-width:4; stroke-opacity:1; fill:none\" points=\"\n",
       "  2084.13,1486.45 2084.13,1469.18 \n",
       "  \"/>\n",
       "<polyline clip-path=\"url(#clip2400)\" style=\"stroke:#000000; stroke-width:4; stroke-opacity:1; fill:none\" points=\"\n",
       "  162.455,1446.01 188.738,1446.01 \n",
       "  \"/>\n",
       "<polyline clip-path=\"url(#clip2400)\" style=\"stroke:#000000; stroke-width:4; stroke-opacity:1; fill:none\" points=\"\n",
       "  162.455,1106.5 188.738,1106.5 \n",
       "  \"/>\n",
       "<polyline clip-path=\"url(#clip2400)\" style=\"stroke:#000000; stroke-width:4; stroke-opacity:1; fill:none\" points=\"\n",
       "  162.455,766.991 188.738,766.991 \n",
       "  \"/>\n",
       "<polyline clip-path=\"url(#clip2400)\" style=\"stroke:#000000; stroke-width:4; stroke-opacity:1; fill:none\" points=\"\n",
       "  162.455,427.484 188.738,427.484 \n",
       "  \"/>\n",
       "<polyline clip-path=\"url(#clip2400)\" style=\"stroke:#000000; stroke-width:4; stroke-opacity:1; fill:none\" points=\"\n",
       "  162.455,87.9763 188.738,87.9763 \n",
       "  \"/>\n",
       "<path clip-path=\"url(#clip2400)\" d=\"M 0 0 M411.088 1525.04 L423.565 1525.04 L423.565 1528.83 L411.088 1528.83 L411.088 1525.04 Z\" fill=\"#000000\" fill-rule=\"evenodd\" fill-opacity=\"1\" /><path clip-path=\"url(#clip2400)\" d=\"M 0 0 M441.482 1509.43 L429.676 1527.88 L441.482 1527.88 L441.482 1509.43 M440.255 1505.36 L446.134 1505.36 L446.134 1527.88 L451.065 1527.88 L451.065 1531.77 L446.134 1531.77 L446.134 1539.92 L441.482 1539.92 L441.482 1531.77 L425.88 1531.77 L425.88 1527.26 L440.255 1505.36 Z\" fill=\"#000000\" fill-rule=\"evenodd\" fill-opacity=\"1\" /><path clip-path=\"url(#clip2400)\" d=\"M 0 0 M825.394 1525.04 L837.871 1525.04 L837.871 1528.83 L825.394 1528.83 L825.394 1525.04 Z\" fill=\"#000000\" fill-rule=\"evenodd\" fill-opacity=\"1\" /><path clip-path=\"url(#clip2400)\" d=\"M 0 0 M846.968 1535.98 L863.288 1535.98 L863.288 1539.92 L841.343 1539.92 L841.343 1535.98 Q844.005 1533.23 848.589 1528.6 Q853.195 1523.95 854.376 1522.61 Q856.621 1520.08 857.501 1518.35 Q858.403 1516.59 858.403 1514.9 Q858.403 1512.14 856.459 1510.41 Q854.538 1508.67 851.436 1508.67 Q849.237 1508.67 846.783 1509.43 Q844.352 1510.2 841.575 1511.75 L841.575 1507.03 Q844.399 1505.89 846.852 1505.31 Q849.306 1504.73 851.343 1504.73 Q856.714 1504.73 859.908 1507.42 Q863.102 1510.11 863.102 1514.6 Q863.102 1516.73 862.292 1518.65 Q861.505 1520.54 859.399 1523.14 Q858.82 1523.81 855.718 1527.03 Q852.616 1530.22 846.968 1535.98 Z\" fill=\"#000000\" fill-rule=\"evenodd\" fill-opacity=\"1\" /><path clip-path=\"url(#clip2400)\" d=\"M 0 0 M1257.61 1508.44 Q1253.99 1508.44 1252.17 1512 Q1250.36 1515.55 1250.36 1522.67 Q1250.36 1529.78 1252.17 1533.35 Q1253.99 1536.89 1257.61 1536.89 Q1261.24 1536.89 1263.05 1533.35 Q1264.87 1529.78 1264.87 1522.67 Q1264.87 1515.55 1263.05 1512 Q1261.24 1508.44 1257.61 1508.44 M1257.61 1504.73 Q1263.42 1504.73 1266.47 1509.34 Q1269.55 1513.92 1269.55 1522.67 Q1269.55 1531.4 1266.47 1536.01 Q1263.42 1540.59 1257.61 1540.59 Q1251.8 1540.59 1248.72 1536.01 Q1245.66 1531.4 1245.66 1522.67 Q1245.66 1513.92 1248.72 1509.34 Q1251.8 1504.73 1257.61 1504.73 Z\" fill=\"#000000\" fill-rule=\"evenodd\" fill-opacity=\"1\" /><path clip-path=\"url(#clip2400)\" d=\"M 0 0 M1665.52 1535.98 L1681.84 1535.98 L1681.84 1539.92 L1659.9 1539.92 L1659.9 1535.98 Q1662.56 1533.23 1667.14 1528.6 Q1671.75 1523.95 1672.93 1522.61 Q1675.18 1520.08 1676.05 1518.35 Q1676.96 1516.59 1676.96 1514.9 Q1676.96 1512.14 1675.01 1510.41 Q1673.09 1508.67 1669.99 1508.67 Q1667.79 1508.67 1665.34 1509.43 Q1662.91 1510.2 1660.13 1511.75 L1660.13 1507.03 Q1662.95 1505.89 1665.41 1505.31 Q1667.86 1504.73 1669.9 1504.73 Q1675.27 1504.73 1678.46 1507.42 Q1681.66 1510.11 1681.66 1514.6 Q1681.66 1516.73 1680.85 1518.65 Q1680.06 1520.54 1677.95 1523.14 Q1677.37 1523.81 1674.27 1527.03 Q1671.17 1530.22 1665.52 1535.98 Z\" fill=\"#000000\" fill-rule=\"evenodd\" fill-opacity=\"1\" /><path clip-path=\"url(#clip2400)\" d=\"M 0 0 M2087.14 1509.43 L2075.34 1527.88 L2087.14 1527.88 L2087.14 1509.43 M2085.92 1505.36 L2091.8 1505.36 L2091.8 1527.88 L2096.73 1527.88 L2096.73 1531.77 L2091.8 1531.77 L2091.8 1539.92 L2087.14 1539.92 L2087.14 1531.77 L2071.54 1531.77 L2071.54 1527.26 L2085.92 1505.36 Z\" fill=\"#000000\" fill-rule=\"evenodd\" fill-opacity=\"1\" /><path clip-path=\"url(#clip2400)\" d=\"M 0 0 M63.2236 1448.4 L75.7004 1448.4 L75.7004 1452.2 L63.2236 1452.2 L63.2236 1448.4 Z\" fill=\"#000000\" fill-rule=\"evenodd\" fill-opacity=\"1\" /><path clip-path=\"url(#clip2400)\" d=\"M 0 0 M81.58 1459.35 L89.2188 1459.35 L89.2188 1432.98 L80.9087 1434.65 L80.9087 1430.39 L89.1725 1428.73 L93.8484 1428.73 L93.8484 1459.35 L101.487 1459.35 L101.487 1463.29 L81.58 1463.29 L81.58 1459.35 Z\" fill=\"#000000\" fill-rule=\"evenodd\" fill-opacity=\"1\" /><path clip-path=\"url(#clip2400)\" d=\"M 0 0 M106.557 1457.41 L111.441 1457.41 L111.441 1463.29 L106.557 1463.29 L106.557 1457.41 Z\" fill=\"#000000\" fill-rule=\"evenodd\" fill-opacity=\"1\" /><path clip-path=\"url(#clip2400)\" d=\"M 0 0 M126.51 1431.8 Q122.899 1431.8 121.071 1435.37 Q119.265 1438.91 119.265 1446.04 Q119.265 1453.15 121.071 1456.71 Q122.899 1460.25 126.51 1460.25 Q130.145 1460.25 131.95 1456.71 Q133.779 1453.15 133.779 1446.04 Q133.779 1438.91 131.95 1435.37 Q130.145 1431.8 126.51 1431.8 M126.51 1428.1 Q132.32 1428.1 135.376 1432.71 Q138.455 1437.29 138.455 1446.04 Q138.455 1454.77 135.376 1459.37 Q132.32 1463.96 126.51 1463.96 Q120.7 1463.96 117.621 1459.37 Q114.566 1454.77 114.566 1446.04 Q114.566 1437.29 117.621 1432.71 Q120.7 1428.1 126.51 1428.1 Z\" fill=\"#000000\" fill-rule=\"evenodd\" fill-opacity=\"1\" /><path clip-path=\"url(#clip2400)\" d=\"M 0 0 M62.9921 1108.89 L75.4689 1108.89 L75.4689 1112.69 L62.9921 1112.69 L62.9921 1108.89 Z\" fill=\"#000000\" fill-rule=\"evenodd\" fill-opacity=\"1\" /><path clip-path=\"url(#clip2400)\" d=\"M 0 0 M90.5383 1092.3 Q86.9272 1092.3 85.0985 1095.86 Q83.2929 1099.4 83.2929 1106.53 Q83.2929 1113.64 85.0985 1117.2 Q86.9272 1120.75 90.5383 1120.75 Q94.1725 1120.75 95.9781 1117.2 Q97.8068 1113.64 97.8068 1106.53 Q97.8068 1099.4 95.9781 1095.86 Q94.1725 1092.3 90.5383 1092.3 M90.5383 1088.59 Q96.3484 1088.59 99.404 1093.2 Q102.483 1097.78 102.483 1106.53 Q102.483 1115.26 99.404 1119.87 Q96.3484 1124.45 90.5383 1124.45 Q84.7281 1124.45 81.6494 1119.87 Q78.5939 1115.26 78.5939 1106.53 Q78.5939 1097.78 81.6494 1093.2 Q84.7281 1088.59 90.5383 1088.59 Z\" fill=\"#000000\" fill-rule=\"evenodd\" fill-opacity=\"1\" /><path clip-path=\"url(#clip2400)\" d=\"M 0 0 M107.552 1117.9 L112.436 1117.9 L112.436 1123.78 L107.552 1123.78 L107.552 1117.9 Z\" fill=\"#000000\" fill-rule=\"evenodd\" fill-opacity=\"1\" /><path clip-path=\"url(#clip2400)\" d=\"M 0 0 M117.552 1089.22 L135.908 1089.22 L135.908 1093.15 L121.834 1093.15 L121.834 1101.63 Q122.853 1101.28 123.871 1101.12 Q124.89 1100.93 125.908 1100.93 Q131.695 1100.93 135.075 1104.1 Q138.455 1107.27 138.455 1112.69 Q138.455 1118.27 134.982 1121.37 Q131.51 1124.45 125.191 1124.45 Q123.015 1124.45 120.746 1124.08 Q118.501 1123.71 116.094 1122.97 L116.094 1118.27 Q118.177 1119.4 120.399 1119.96 Q122.621 1120.51 125.098 1120.51 Q129.103 1120.51 131.441 1118.41 Q133.779 1116.3 133.779 1112.69 Q133.779 1109.08 131.441 1106.97 Q129.103 1104.87 125.098 1104.87 Q123.223 1104.87 121.348 1105.28 Q119.496 1105.7 117.552 1106.58 L117.552 1089.22 Z\" fill=\"#000000\" fill-rule=\"evenodd\" fill-opacity=\"1\" /><path clip-path=\"url(#clip2400)\" d=\"M 0 0 M89.5429 752.789 Q85.9318 752.789 84.1031 756.354 Q82.2976 759.896 82.2976 767.025 Q82.2976 774.132 84.1031 777.697 Q85.9318 781.238 89.5429 781.238 Q93.1771 781.238 94.9827 777.697 Q96.8114 774.132 96.8114 767.025 Q96.8114 759.896 94.9827 756.354 Q93.1771 752.789 89.5429 752.789 M89.5429 749.086 Q95.3531 749.086 98.4086 753.692 Q101.487 758.276 101.487 767.025 Q101.487 775.752 98.4086 780.359 Q95.3531 784.942 89.5429 784.942 Q83.7328 784.942 80.6541 780.359 Q77.5985 775.752 77.5985 767.025 Q77.5985 758.276 80.6541 753.692 Q83.7328 749.086 89.5429 749.086 Z\" fill=\"#000000\" fill-rule=\"evenodd\" fill-opacity=\"1\" /><path clip-path=\"url(#clip2400)\" d=\"M 0 0 M106.557 778.391 L111.441 778.391 L111.441 784.271 L106.557 784.271 L106.557 778.391 Z\" fill=\"#000000\" fill-rule=\"evenodd\" fill-opacity=\"1\" /><path clip-path=\"url(#clip2400)\" d=\"M 0 0 M126.51 752.789 Q122.899 752.789 121.071 756.354 Q119.265 759.896 119.265 767.025 Q119.265 774.132 121.071 777.697 Q122.899 781.238 126.51 781.238 Q130.145 781.238 131.95 777.697 Q133.779 774.132 133.779 767.025 Q133.779 759.896 131.95 756.354 Q130.145 752.789 126.51 752.789 M126.51 749.086 Q132.32 749.086 135.376 753.692 Q138.455 758.276 138.455 767.025 Q138.455 775.752 135.376 780.359 Q132.32 784.942 126.51 784.942 Q120.7 784.942 117.621 780.359 Q114.566 775.752 114.566 767.025 Q114.566 758.276 117.621 753.692 Q120.7 749.086 126.51 749.086 Z\" fill=\"#000000\" fill-rule=\"evenodd\" fill-opacity=\"1\" /><path clip-path=\"url(#clip2400)\" d=\"M 0 0 M90.5383 413.282 Q86.9272 413.282 85.0985 416.847 Q83.2929 420.389 83.2929 427.518 Q83.2929 434.625 85.0985 438.189 Q86.9272 441.731 90.5383 441.731 Q94.1725 441.731 95.9781 438.189 Q97.8068 434.625 97.8068 427.518 Q97.8068 420.389 95.9781 416.847 Q94.1725 413.282 90.5383 413.282 M90.5383 409.579 Q96.3484 409.579 99.404 414.185 Q102.483 418.768 102.483 427.518 Q102.483 436.245 99.404 440.851 Q96.3484 445.435 90.5383 445.435 Q84.7281 445.435 81.6494 440.851 Q78.5939 436.245 78.5939 427.518 Q78.5939 418.768 81.6494 414.185 Q84.7281 409.579 90.5383 409.579 Z\" fill=\"#000000\" fill-rule=\"evenodd\" fill-opacity=\"1\" /><path clip-path=\"url(#clip2400)\" d=\"M 0 0 M107.552 438.884 L112.436 438.884 L112.436 444.764 L107.552 444.764 L107.552 438.884 Z\" fill=\"#000000\" fill-rule=\"evenodd\" fill-opacity=\"1\" /><path clip-path=\"url(#clip2400)\" d=\"M 0 0 M117.552 410.204 L135.908 410.204 L135.908 414.139 L121.834 414.139 L121.834 422.611 Q122.853 422.264 123.871 422.102 Q124.89 421.916 125.908 421.916 Q131.695 421.916 135.075 425.088 Q138.455 428.259 138.455 433.676 Q138.455 439.254 134.982 442.356 Q131.51 445.435 125.191 445.435 Q123.015 445.435 120.746 445.064 Q118.501 444.694 116.094 443.953 L116.094 439.254 Q118.177 440.389 120.399 440.944 Q122.621 441.5 125.098 441.5 Q129.103 441.5 131.441 439.393 Q133.779 437.287 133.779 433.676 Q133.779 430.065 131.441 427.958 Q129.103 425.852 125.098 425.852 Q123.223 425.852 121.348 426.268 Q119.496 426.685 117.552 427.565 L117.552 410.204 Z\" fill=\"#000000\" fill-rule=\"evenodd\" fill-opacity=\"1\" /><path clip-path=\"url(#clip2400)\" d=\"M 0 0 M81.58 101.321 L89.2188 101.321 L89.2188 74.9555 L80.9087 76.6222 L80.9087 72.3629 L89.1725 70.6963 L93.8484 70.6963 L93.8484 101.321 L101.487 101.321 L101.487 105.256 L81.58 105.256 L81.58 101.321 Z\" fill=\"#000000\" fill-rule=\"evenodd\" fill-opacity=\"1\" /><path clip-path=\"url(#clip2400)\" d=\"M 0 0 M106.557 99.3767 L111.441 99.3767 L111.441 105.256 L106.557 105.256 L106.557 99.3767 Z\" fill=\"#000000\" fill-rule=\"evenodd\" fill-opacity=\"1\" /><path clip-path=\"url(#clip2400)\" d=\"M 0 0 M126.51 73.775 Q122.899 73.775 121.071 77.3398 Q119.265 80.8814 119.265 88.011 Q119.265 95.1174 121.071 98.6822 Q122.899 102.224 126.51 102.224 Q130.145 102.224 131.95 98.6822 Q133.779 95.1174 133.779 88.011 Q133.779 80.8814 131.95 77.3398 Q130.145 73.775 126.51 73.775 M126.51 70.0713 Q132.32 70.0713 135.376 74.6777 Q138.455 79.261 138.455 88.011 Q138.455 96.7378 135.376 101.344 Q132.32 105.928 126.51 105.928 Q120.7 105.928 117.621 101.344 Q114.566 96.7378 114.566 88.011 Q114.566 79.261 117.621 74.6777 Q120.7 70.0713 126.51 70.0713 Z\" fill=\"#000000\" fill-rule=\"evenodd\" fill-opacity=\"1\" /><polyline clip-path=\"url(#clip2402)\" style=\"stroke:#009af9; stroke-width:4; stroke-opacity:1; fill:none\" points=\"\n",
       "  224.444,115.867 265.771,90.5806 307.097,92.2602 348.424,120.839 389.75,175.178 431.077,253.111 472.403,351.53 513.729,466.513 555.056,593.475 596.382,727.354 \n",
       "  637.709,862.813 679.035,994.453 720.362,1117.02 761.688,1225.64 803.014,1315.97 844.341,1384.42 885.667,1428.25 926.994,1445.72 968.32,1436.13 1009.65,1399.86 \n",
       "  1050.97,1338.36 1092.3,1254.09 1133.63,1150.39 1174.95,1031.41 1216.28,901.89 1257.61,766.991 1298.93,632.091 1340.26,502.57 1381.58,383.59 1422.91,279.896 \n",
       "  1464.24,195.62 1505.56,134.123 1546.89,97.8561 1588.22,88.2658 1629.54,105.734 1670.87,149.565 1712.2,218.01 1753.52,308.341 1794.85,416.958 1836.18,539.529 \n",
       "  1877.5,671.168 1918.83,806.628 1960.15,940.507 2001.48,1067.47 2042.81,1182.45 2084.13,1280.87 2125.46,1358.8 2166.79,1413.14 2208.11,1441.72 2249.44,1443.4 \n",
       "  2290.77,1418.11 \n",
       "  \"/>\n",
       "<polyline clip-path=\"url(#clip2402)\" style=\"stroke:#e26f46; stroke-width:4; stroke-opacity:1; fill:none\" points=\"\n",
       "  224.444,574.38 265.771,707.578 307.097,843.144 348.424,975.674 389.75,1099.88 431.077,1210.82 472.403,1304.07 513.729,1375.9 555.056,1423.46 596.382,1444.85 \n",
       "  637.709,1439.21 679.035,1406.77 720.362,1348.83 761.688,1267.69 803.014,1166.59 844.341,1049.56 885.667,921.264 926.994,786.818 968.32,651.581 1009.65,520.945 \n",
       "  1050.97,400.118 1092.3,293.917 1133.63,206.576 1174.95,141.577 1216.28,101.511 1257.61,87.9763 1298.93,101.511 1340.26,141.577 1381.58,206.576 1422.91,293.917 \n",
       "  1464.24,400.118 1505.56,520.945 1546.89,651.581 1588.22,786.818 1629.54,921.264 1670.87,1049.56 1712.2,1166.59 1753.52,1267.69 1794.85,1348.83 1836.18,1406.77 \n",
       "  1877.5,1439.21 1918.83,1444.85 1960.15,1423.46 2001.48,1375.9 2042.81,1304.07 2084.13,1210.82 2125.46,1099.88 2166.79,975.674 2208.11,843.144 2249.44,707.578 \n",
       "  2290.77,574.38 \n",
       "  \"/>\n",
       "<path clip-path=\"url(#clip2400)\" d=\"\n",
       "M1989.74 312.204 L2280.76 312.204 L2280.76 130.764 L1989.74 130.764  Z\n",
       "  \" fill=\"#ffffff\" fill-rule=\"evenodd\" fill-opacity=\"1\"/>\n",
       "<polyline clip-path=\"url(#clip2400)\" style=\"stroke:#000000; stroke-width:4; stroke-opacity:1; fill:none\" points=\"\n",
       "  1989.74,312.204 2280.76,312.204 2280.76,130.764 1989.74,130.764 1989.74,312.204 \n",
       "  \"/>\n",
       "<polyline clip-path=\"url(#clip2400)\" style=\"stroke:#009af9; stroke-width:4; stroke-opacity:1; fill:none\" points=\"\n",
       "  2013.74,191.244 2157.74,191.244 \n",
       "  \"/>\n",
       "<path clip-path=\"url(#clip2400)\" d=\"M 0 0 M2195.58 210.931 Q2193.77 215.561 2192.06 216.973 Q2190.35 218.385 2187.48 218.385 L2184.08 218.385 L2184.08 214.82 L2186.58 214.82 Q2188.33 214.82 2189.31 213.987 Q2190.28 213.154 2191.46 210.052 L2192.22 208.107 L2181.74 182.598 L2186.25 182.598 L2194.35 202.876 L2202.46 182.598 L2206.97 182.598 L2195.58 210.931 Z\" fill=\"#000000\" fill-rule=\"evenodd\" fill-opacity=\"1\" /><path clip-path=\"url(#clip2400)\" d=\"M 0 0 M2212.85 204.589 L2220.49 204.589 L2220.49 178.223 L2212.18 179.89 L2212.18 175.631 L2220.44 173.964 L2225.12 173.964 L2225.12 204.589 L2232.76 204.589 L2232.76 208.524 L2212.85 208.524 L2212.85 204.589 Z\" fill=\"#000000\" fill-rule=\"evenodd\" fill-opacity=\"1\" /><polyline clip-path=\"url(#clip2400)\" style=\"stroke:#e26f46; stroke-width:4; stroke-opacity:1; fill:none\" points=\"\n",
       "  2013.74,251.724 2157.74,251.724 \n",
       "  \"/>\n",
       "<path clip-path=\"url(#clip2400)\" d=\"M 0 0 M2195.58 271.411 Q2193.77 276.041 2192.06 277.453 Q2190.35 278.865 2187.48 278.865 L2184.08 278.865 L2184.08 275.3 L2186.58 275.3 Q2188.33 275.3 2189.31 274.467 Q2190.28 273.634 2191.46 270.532 L2192.22 268.587 L2181.74 243.078 L2186.25 243.078 L2194.35 263.356 L2202.46 243.078 L2206.97 243.078 L2195.58 271.411 Z\" fill=\"#000000\" fill-rule=\"evenodd\" fill-opacity=\"1\" /><path clip-path=\"url(#clip2400)\" d=\"M 0 0 M2216.07 265.069 L2232.39 265.069 L2232.39 269.004 L2210.44 269.004 L2210.44 265.069 Q2213.1 262.314 2217.69 257.685 Q2222.29 253.032 2223.47 251.689 Q2225.72 249.166 2226.6 247.43 Q2227.5 245.671 2227.5 243.981 Q2227.5 241.226 2225.56 239.49 Q2223.64 237.754 2220.53 237.754 Q2218.33 237.754 2215.88 238.518 Q2213.45 239.282 2210.67 240.833 L2210.67 236.111 Q2213.5 234.976 2215.95 234.398 Q2218.4 233.819 2220.44 233.819 Q2225.81 233.819 2229.01 236.504 Q2232.2 239.189 2232.2 243.68 Q2232.2 245.81 2231.39 247.731 Q2230.6 249.629 2228.5 252.222 Q2227.92 252.893 2224.82 256.111 Q2221.71 259.305 2216.07 265.069 Z\" fill=\"#000000\" fill-rule=\"evenodd\" fill-opacity=\"1\" /></svg>\n"
      ]
     },
     "execution_count": 176,
     "metadata": {},
     "output_type": "execute_result"
    }
   ],
   "source": [
    "### Solution\n",
    "\n",
    "plot(sin,x)\n",
    "plot!(cos,x)"
   ]
  },
  {
   "cell_type": "code",
   "execution_count": 179,
   "metadata": {},
   "outputs": [
    {
     "data": {
      "image/svg+xml": [
       "<?xml version=\"1.0\" encoding=\"utf-8\"?>\n",
       "<svg xmlns=\"http://www.w3.org/2000/svg\" xmlns:xlink=\"http://www.w3.org/1999/xlink\" width=\"600\" height=\"400\" viewBox=\"0 0 2400 1600\">\n",
       "<defs>\n",
       "  <clipPath id=\"clip3600\">\n",
       "    <rect x=\"0\" y=\"0\" width=\"2400\" height=\"1600\"/>\n",
       "  </clipPath>\n",
       "</defs>\n",
       "<path clip-path=\"url(#clip3600)\" d=\"\n",
       "M0 1600 L2400 1600 L2400 0 L0 0  Z\n",
       "  \" fill=\"#ffffff\" fill-rule=\"evenodd\" fill-opacity=\"1\"/>\n",
       "<defs>\n",
       "  <clipPath id=\"clip3601\">\n",
       "    <rect x=\"480\" y=\"0\" width=\"1681\" height=\"1600\"/>\n",
       "  </clipPath>\n",
       "</defs>\n",
       "<path clip-path=\"url(#clip3600)\" d=\"\n",
       "M139.191 1486.45 L2352.76 1486.45 L2352.76 47.2441 L139.191 47.2441  Z\n",
       "  \" fill=\"#ffffff\" fill-rule=\"evenodd\" fill-opacity=\"1\"/>\n",
       "<defs>\n",
       "  <clipPath id=\"clip3602\">\n",
       "    <rect x=\"139\" y=\"47\" width=\"2215\" height=\"1440\"/>\n",
       "  </clipPath>\n",
       "</defs>\n",
       "<polyline clip-path=\"url(#clip3602)\" style=\"stroke:#000000; stroke-width:2; stroke-opacity:0.1; fill:none\" points=\"\n",
       "  260.941,1486.45 260.941,47.2441 \n",
       "  \"/>\n",
       "<polyline clip-path=\"url(#clip3602)\" style=\"stroke:#000000; stroke-width:2; stroke-opacity:0.1; fill:none\" points=\"\n",
       "  823.817,1486.45 823.817,47.2441 \n",
       "  \"/>\n",
       "<polyline clip-path=\"url(#clip3602)\" style=\"stroke:#000000; stroke-width:2; stroke-opacity:0.1; fill:none\" points=\"\n",
       "  1386.69,1486.45 1386.69,47.2441 \n",
       "  \"/>\n",
       "<polyline clip-path=\"url(#clip3602)\" style=\"stroke:#000000; stroke-width:2; stroke-opacity:0.1; fill:none\" points=\"\n",
       "  1949.57,1486.45 1949.57,47.2441 \n",
       "  \"/>\n",
       "<polyline clip-path=\"url(#clip3602)\" style=\"stroke:#000000; stroke-width:2; stroke-opacity:0.1; fill:none\" points=\"\n",
       "  139.191,1445.72 2352.76,1445.72 \n",
       "  \"/>\n",
       "<polyline clip-path=\"url(#clip3602)\" style=\"stroke:#000000; stroke-width:2; stroke-opacity:0.1; fill:none\" points=\"\n",
       "  139.191,1114.56 2352.76,1114.56 \n",
       "  \"/>\n",
       "<polyline clip-path=\"url(#clip3602)\" style=\"stroke:#000000; stroke-width:2; stroke-opacity:0.1; fill:none\" points=\"\n",
       "  139.191,783.404 2352.76,783.404 \n",
       "  \"/>\n",
       "<polyline clip-path=\"url(#clip3602)\" style=\"stroke:#000000; stroke-width:2; stroke-opacity:0.1; fill:none\" points=\"\n",
       "  139.191,452.248 2352.76,452.248 \n",
       "  \"/>\n",
       "<polyline clip-path=\"url(#clip3602)\" style=\"stroke:#000000; stroke-width:2; stroke-opacity:0.1; fill:none\" points=\"\n",
       "  139.191,121.092 2352.76,121.092 \n",
       "  \"/>\n",
       "<polyline clip-path=\"url(#clip3600)\" style=\"stroke:#000000; stroke-width:4; stroke-opacity:1; fill:none\" points=\"\n",
       "  139.191,1486.45 2352.76,1486.45 \n",
       "  \"/>\n",
       "<polyline clip-path=\"url(#clip3600)\" style=\"stroke:#000000; stroke-width:4; stroke-opacity:1; fill:none\" points=\"\n",
       "  139.191,1486.45 139.191,47.2441 \n",
       "  \"/>\n",
       "<polyline clip-path=\"url(#clip3600)\" style=\"stroke:#000000; stroke-width:4; stroke-opacity:1; fill:none\" points=\"\n",
       "  260.941,1486.45 260.941,1469.18 \n",
       "  \"/>\n",
       "<polyline clip-path=\"url(#clip3600)\" style=\"stroke:#000000; stroke-width:4; stroke-opacity:1; fill:none\" points=\"\n",
       "  823.817,1486.45 823.817,1469.18 \n",
       "  \"/>\n",
       "<polyline clip-path=\"url(#clip3600)\" style=\"stroke:#000000; stroke-width:4; stroke-opacity:1; fill:none\" points=\"\n",
       "  1386.69,1486.45 1386.69,1469.18 \n",
       "  \"/>\n",
       "<polyline clip-path=\"url(#clip3600)\" style=\"stroke:#000000; stroke-width:4; stroke-opacity:1; fill:none\" points=\"\n",
       "  1949.57,1486.45 1949.57,1469.18 \n",
       "  \"/>\n",
       "<polyline clip-path=\"url(#clip3600)\" style=\"stroke:#000000; stroke-width:4; stroke-opacity:1; fill:none\" points=\"\n",
       "  139.191,1445.72 165.754,1445.72 \n",
       "  \"/>\n",
       "<polyline clip-path=\"url(#clip3600)\" style=\"stroke:#000000; stroke-width:4; stroke-opacity:1; fill:none\" points=\"\n",
       "  139.191,1114.56 165.754,1114.56 \n",
       "  \"/>\n",
       "<polyline clip-path=\"url(#clip3600)\" style=\"stroke:#000000; stroke-width:4; stroke-opacity:1; fill:none\" points=\"\n",
       "  139.191,783.404 165.754,783.404 \n",
       "  \"/>\n",
       "<polyline clip-path=\"url(#clip3600)\" style=\"stroke:#000000; stroke-width:4; stroke-opacity:1; fill:none\" points=\"\n",
       "  139.191,452.248 165.754,452.248 \n",
       "  \"/>\n",
       "<polyline clip-path=\"url(#clip3600)\" style=\"stroke:#000000; stroke-width:4; stroke-opacity:1; fill:none\" points=\"\n",
       "  139.191,121.092 165.754,121.092 \n",
       "  \"/>\n",
       "<path clip-path=\"url(#clip3600)\" d=\"M 0 0 M240.953 1525.04 L253.429 1525.04 L253.429 1528.83 L240.953 1528.83 L240.953 1525.04 Z\" fill=\"#000000\" fill-rule=\"evenodd\" fill-opacity=\"1\" /><path clip-path=\"url(#clip3600)\" d=\"M 0 0 M271.346 1509.43 L259.54 1527.88 L271.346 1527.88 L271.346 1509.43 M270.119 1505.36 L275.999 1505.36 L275.999 1527.88 L280.929 1527.88 L280.929 1531.77 L275.999 1531.77 L275.999 1539.92 L271.346 1539.92 L271.346 1531.77 L255.744 1531.77 L255.744 1527.26 L270.119 1505.36 Z\" fill=\"#000000\" fill-rule=\"evenodd\" fill-opacity=\"1\" /><path clip-path=\"url(#clip3600)\" d=\"M 0 0 M804.87 1525.04 L817.347 1525.04 L817.347 1528.83 L804.87 1528.83 L804.87 1525.04 Z\" fill=\"#000000\" fill-rule=\"evenodd\" fill-opacity=\"1\" /><path clip-path=\"url(#clip3600)\" d=\"M 0 0 M826.444 1535.98 L842.763 1535.98 L842.763 1539.92 L820.819 1539.92 L820.819 1535.98 Q823.481 1533.23 828.064 1528.6 Q832.671 1523.95 833.851 1522.61 Q836.097 1520.08 836.976 1518.35 Q837.879 1516.59 837.879 1514.9 Q837.879 1512.14 835.935 1510.41 Q834.013 1508.67 830.912 1508.67 Q828.712 1508.67 826.259 1509.43 Q823.828 1510.2 821.05 1511.75 L821.05 1507.03 Q823.875 1505.89 826.328 1505.31 Q828.782 1504.73 830.819 1504.73 Q836.189 1504.73 839.384 1507.42 Q842.578 1510.11 842.578 1514.6 Q842.578 1516.73 841.768 1518.65 Q840.981 1520.54 838.874 1523.14 Q838.296 1523.81 835.194 1527.03 Q832.092 1530.22 826.444 1535.98 Z\" fill=\"#000000\" fill-rule=\"evenodd\" fill-opacity=\"1\" /><path clip-path=\"url(#clip3600)\" d=\"M 0 0 M1386.69 1508.44 Q1383.08 1508.44 1381.25 1512 Q1379.45 1515.55 1379.45 1522.67 Q1379.45 1529.78 1381.25 1533.35 Q1383.08 1536.89 1386.69 1536.89 Q1390.33 1536.89 1392.13 1533.35 Q1393.96 1529.78 1393.96 1522.67 Q1393.96 1515.55 1392.13 1512 Q1390.33 1508.44 1386.69 1508.44 M1386.69 1504.73 Q1392.5 1504.73 1395.56 1509.34 Q1398.64 1513.92 1398.64 1522.67 Q1398.64 1531.4 1395.56 1536.01 Q1392.5 1540.59 1386.69 1540.59 Q1380.88 1540.59 1377.8 1536.01 Q1374.75 1531.4 1374.75 1522.67 Q1374.75 1513.92 1377.8 1509.34 Q1380.88 1504.73 1386.69 1504.73 Z\" fill=\"#000000\" fill-rule=\"evenodd\" fill-opacity=\"1\" /><path clip-path=\"url(#clip3600)\" d=\"M 0 0 M1944.22 1535.98 L1960.54 1535.98 L1960.54 1539.92 L1938.6 1539.92 L1938.6 1535.98 Q1941.26 1533.23 1945.84 1528.6 Q1950.45 1523.95 1951.63 1522.61 Q1953.87 1520.08 1954.75 1518.35 Q1955.66 1516.59 1955.66 1514.9 Q1955.66 1512.14 1953.71 1510.41 Q1951.79 1508.67 1948.69 1508.67 Q1946.49 1508.67 1944.04 1509.43 Q1941.61 1510.2 1938.83 1511.75 L1938.83 1507.03 Q1941.65 1505.89 1944.11 1505.31 Q1946.56 1504.73 1948.6 1504.73 Q1953.97 1504.73 1957.16 1507.42 Q1960.36 1510.11 1960.36 1514.6 Q1960.36 1516.73 1959.54 1518.65 Q1958.76 1520.54 1956.65 1523.14 Q1956.07 1523.81 1952.97 1527.03 Q1949.87 1530.22 1944.22 1535.98 Z\" fill=\"#000000\" fill-rule=\"evenodd\" fill-opacity=\"1\" /><path clip-path=\"url(#clip3600)\" d=\"M 0 0 M103.247 1431.51 Q99.6354 1431.51 97.8068 1435.08 Q96.0012 1438.62 96.0012 1445.75 Q96.0012 1452.86 97.8068 1456.42 Q99.6354 1459.96 103.247 1459.96 Q106.881 1459.96 108.686 1456.42 Q110.515 1452.86 110.515 1445.75 Q110.515 1438.62 108.686 1435.08 Q106.881 1431.51 103.247 1431.51 M103.247 1427.81 Q109.057 1427.81 112.112 1432.42 Q115.191 1437 115.191 1445.75 Q115.191 1454.48 112.112 1459.08 Q109.057 1463.67 103.247 1463.67 Q97.4364 1463.67 94.3577 1459.08 Q91.3022 1454.48 91.3022 1445.75 Q91.3022 1437 94.3577 1432.42 Q97.4364 1427.81 103.247 1427.81 Z\" fill=\"#000000\" fill-rule=\"evenodd\" fill-opacity=\"1\" /><path clip-path=\"url(#clip3600)\" d=\"M 0 0 M68.2699 1127.9 L75.9087 1127.9 L75.9087 1101.54 L67.5986 1103.21 L67.5986 1098.95 L75.8624 1097.28 L80.5383 1097.28 L80.5383 1127.9 L88.1772 1127.9 L88.1772 1131.84 L68.2699 1131.84 L68.2699 1127.9 Z\" fill=\"#000000\" fill-rule=\"evenodd\" fill-opacity=\"1\" /><path clip-path=\"url(#clip3600)\" d=\"M 0 0 M103.247 1100.36 Q99.6354 1100.36 97.8068 1103.92 Q96.0012 1107.46 96.0012 1114.59 Q96.0012 1121.7 97.8068 1125.27 Q99.6354 1128.81 103.247 1128.81 Q106.881 1128.81 108.686 1125.27 Q110.515 1121.7 110.515 1114.59 Q110.515 1107.46 108.686 1103.92 Q106.881 1100.36 103.247 1100.36 M103.247 1096.65 Q109.057 1096.65 112.112 1101.26 Q115.191 1105.84 115.191 1114.59 Q115.191 1123.32 112.112 1127.93 Q109.057 1132.51 103.247 1132.51 Q97.4364 1132.51 94.3577 1127.93 Q91.3022 1123.32 91.3022 1114.59 Q91.3022 1105.84 94.3577 1101.26 Q97.4364 1096.65 103.247 1096.65 Z\" fill=\"#000000\" fill-rule=\"evenodd\" fill-opacity=\"1\" /><path clip-path=\"url(#clip3600)\" d=\"M 0 0 M71.8578 796.749 L88.1772 796.749 L88.1772 800.684 L66.2328 800.684 L66.2328 796.749 Q68.8949 793.994 73.4782 789.364 Q78.0846 784.712 79.2652 783.369 Q81.5105 780.846 82.3902 779.11 Q83.2929 777.351 83.2929 775.661 Q83.2929 772.906 81.3485 771.17 Q79.4272 769.434 76.3254 769.434 Q74.1263 769.434 71.6726 770.198 Q69.2421 770.962 66.4643 772.513 L66.4643 767.79 Q69.2884 766.656 71.7421 766.077 Q74.1958 765.499 76.2328 765.499 Q81.6031 765.499 84.7976 768.184 Q87.992 770.869 87.992 775.36 Q87.992 777.489 87.1818 779.411 Q86.3948 781.309 84.2883 783.901 Q83.7096 784.573 80.6078 787.79 Q77.5059 790.985 71.8578 796.749 Z\" fill=\"#000000\" fill-rule=\"evenodd\" fill-opacity=\"1\" /><path clip-path=\"url(#clip3600)\" d=\"M 0 0 M103.247 769.202 Q99.6354 769.202 97.8068 772.767 Q96.0012 776.309 96.0012 783.439 Q96.0012 790.545 97.8068 794.11 Q99.6354 797.651 103.247 797.651 Q106.881 797.651 108.686 794.11 Q110.515 790.545 110.515 783.439 Q110.515 776.309 108.686 772.767 Q106.881 769.202 103.247 769.202 M103.247 765.499 Q109.057 765.499 112.112 770.105 Q115.191 774.689 115.191 783.439 Q115.191 792.165 112.112 796.772 Q109.057 801.355 103.247 801.355 Q97.4364 801.355 94.3577 796.772 Q91.3022 792.165 91.3022 783.439 Q91.3022 774.689 94.3577 770.105 Q97.4364 765.499 103.247 765.499 Z\" fill=\"#000000\" fill-rule=\"evenodd\" fill-opacity=\"1\" /><path clip-path=\"url(#clip3600)\" d=\"M 0 0 M81.0476 450.894 Q84.404 451.611 86.279 453.88 Q88.1772 456.148 88.1772 459.482 Q88.1772 464.597 84.6587 467.398 Q81.1402 470.199 74.6587 470.199 Q72.4828 470.199 70.168 469.759 Q67.8764 469.343 65.4227 468.486 L65.4227 463.972 Q67.3671 465.107 69.6819 465.685 Q71.9967 466.264 74.5198 466.264 Q78.918 466.264 81.2096 464.528 Q83.5244 462.792 83.5244 459.482 Q83.5244 456.426 81.3717 454.713 Q79.242 452.977 75.4226 452.977 L71.3949 452.977 L71.3949 449.134 L75.6078 449.134 Q79.0569 449.134 80.8855 447.769 Q82.7142 446.38 82.7142 443.787 Q82.7142 441.125 80.8161 439.713 Q78.9411 438.278 75.4226 438.278 Q73.5013 438.278 71.3023 438.695 Q69.1032 439.111 66.4643 439.991 L66.4643 435.824 Q69.1264 435.084 71.4412 434.713 Q73.7791 434.343 75.8393 434.343 Q81.1633 434.343 84.2652 436.773 Q87.367 439.181 87.367 443.301 Q87.367 446.171 85.7235 448.162 Q84.08 450.13 81.0476 450.894 Z\" fill=\"#000000\" fill-rule=\"evenodd\" fill-opacity=\"1\" /><path clip-path=\"url(#clip3600)\" d=\"M 0 0 M103.247 438.047 Q99.6354 438.047 97.8068 441.611 Q96.0012 445.153 96.0012 452.283 Q96.0012 459.389 97.8068 462.954 Q99.6354 466.495 103.247 466.495 Q106.881 466.495 108.686 462.954 Q110.515 459.389 110.515 452.283 Q110.515 445.153 108.686 441.611 Q106.881 438.047 103.247 438.047 M103.247 434.343 Q109.057 434.343 112.112 438.949 Q115.191 443.533 115.191 452.283 Q115.191 461.009 112.112 465.616 Q109.057 470.199 103.247 470.199 Q97.4364 470.199 94.3577 465.616 Q91.3022 461.009 91.3022 452.283 Q91.3022 443.533 94.3577 438.949 Q97.4364 434.343 103.247 434.343 Z\" fill=\"#000000\" fill-rule=\"evenodd\" fill-opacity=\"1\" /><path clip-path=\"url(#clip3600)\" d=\"M 0 0 M78.5939 107.886 L66.7884 126.335 L78.5939 126.335 L78.5939 107.886 M77.367 103.812 L83.2466 103.812 L83.2466 126.335 L88.1772 126.335 L88.1772 130.224 L83.2466 130.224 L83.2466 138.372 L78.5939 138.372 L78.5939 130.224 L62.9921 130.224 L62.9921 125.71 L77.367 103.812 Z\" fill=\"#000000\" fill-rule=\"evenodd\" fill-opacity=\"1\" /><path clip-path=\"url(#clip3600)\" d=\"M 0 0 M103.247 106.891 Q99.6354 106.891 97.8068 110.455 Q96.0012 113.997 96.0012 121.127 Q96.0012 128.233 97.8068 131.798 Q99.6354 135.339 103.247 135.339 Q106.881 135.339 108.686 131.798 Q110.515 128.233 110.515 121.127 Q110.515 113.997 108.686 110.455 Q106.881 106.891 103.247 106.891 M103.247 103.187 Q109.057 103.187 112.112 107.793 Q115.191 112.377 115.191 121.127 Q115.191 129.853 112.112 134.46 Q109.057 139.043 103.247 139.043 Q97.4364 139.043 94.3577 134.46 Q91.3022 129.853 91.3022 121.127 Q91.3022 112.377 94.3577 107.793 Q97.4364 103.187 103.247 103.187 Z\" fill=\"#000000\" fill-rule=\"evenodd\" fill-opacity=\"1\" /><path clip-path=\"url(#clip3602)\" d=\"\n",
       "M260.941 1412.6 L260.941 1445.72 L542.379 1445.72 L542.379 1412.6 L260.941 1412.6 L260.941 1412.6  Z\n",
       "  \" fill=\"#009af9\" fill-rule=\"evenodd\" fill-opacity=\"1\"/>\n",
       "<polyline clip-path=\"url(#clip3602)\" style=\"stroke:#000000; stroke-width:4; stroke-opacity:1; fill:none\" points=\"\n",
       "  260.941,1412.6 260.941,1445.72 542.379,1445.72 542.379,1412.6 260.941,1412.6 \n",
       "  \"/>\n",
       "<path clip-path=\"url(#clip3602)\" d=\"\n",
       "M542.379 1379.48 L542.379 1445.72 L823.817 1445.72 L823.817 1379.48 L542.379 1379.48 L542.379 1379.48  Z\n",
       "  \" fill=\"#009af9\" fill-rule=\"evenodd\" fill-opacity=\"1\"/>\n",
       "<polyline clip-path=\"url(#clip3602)\" style=\"stroke:#000000; stroke-width:4; stroke-opacity:1; fill:none\" points=\"\n",
       "  542.379,1379.48 542.379,1445.72 823.817,1445.72 823.817,1379.48 542.379,1379.48 \n",
       "  \"/>\n",
       "<path clip-path=\"url(#clip3602)\" d=\"\n",
       "M823.817 882.751 L823.817 1445.72 L1105.25 1445.72 L1105.25 882.751 L823.817 882.751 L823.817 882.751  Z\n",
       "  \" fill=\"#009af9\" fill-rule=\"evenodd\" fill-opacity=\"1\"/>\n",
       "<polyline clip-path=\"url(#clip3602)\" style=\"stroke:#000000; stroke-width:4; stroke-opacity:1; fill:none\" points=\"\n",
       "  823.817,882.751 823.817,1445.72 1105.25,1445.72 1105.25,882.751 823.817,882.751 \n",
       "  \"/>\n",
       "<path clip-path=\"url(#clip3602)\" d=\"\n",
       "M1105.25 750.288 L1105.25 1445.72 L1386.69 1445.72 L1386.69 750.288 L1105.25 750.288 L1105.25 750.288  Z\n",
       "  \" fill=\"#009af9\" fill-rule=\"evenodd\" fill-opacity=\"1\"/>\n",
       "<polyline clip-path=\"url(#clip3602)\" style=\"stroke:#000000; stroke-width:4; stroke-opacity:1; fill:none\" points=\"\n",
       "  1105.25,750.288 1105.25,1445.72 1386.69,1445.72 1386.69,750.288 1105.25,750.288 \n",
       "  \"/>\n",
       "<path clip-path=\"url(#clip3602)\" d=\"\n",
       "M1386.69 87.9763 L1386.69 1445.72 L1668.13 1445.72 L1668.13 87.9763 L1386.69 87.9763 L1386.69 87.9763  Z\n",
       "  \" fill=\"#009af9\" fill-rule=\"evenodd\" fill-opacity=\"1\"/>\n",
       "<polyline clip-path=\"url(#clip3602)\" style=\"stroke:#000000; stroke-width:4; stroke-opacity:1; fill:none\" points=\"\n",
       "  1386.69,87.9763 1386.69,1445.72 1668.13,1445.72 1668.13,87.9763 1386.69,87.9763 \n",
       "  \"/>\n",
       "<path clip-path=\"url(#clip3602)\" d=\"\n",
       "M1668.13 982.097 L1668.13 1445.72 L1949.57 1445.72 L1949.57 982.097 L1668.13 982.097 L1668.13 982.097  Z\n",
       "  \" fill=\"#009af9\" fill-rule=\"evenodd\" fill-opacity=\"1\"/>\n",
       "<polyline clip-path=\"url(#clip3602)\" style=\"stroke:#000000; stroke-width:4; stroke-opacity:1; fill:none\" points=\"\n",
       "  1668.13,982.097 1668.13,1445.72 1949.57,1445.72 1949.57,982.097 1668.13,982.097 \n",
       "  \"/>\n",
       "<path clip-path=\"url(#clip3602)\" d=\"\n",
       "M1949.57 1313.25 L1949.57 1445.72 L2231.01 1445.72 L2231.01 1313.25 L1949.57 1313.25 L1949.57 1313.25  Z\n",
       "  \" fill=\"#009af9\" fill-rule=\"evenodd\" fill-opacity=\"1\"/>\n",
       "<polyline clip-path=\"url(#clip3602)\" style=\"stroke:#000000; stroke-width:4; stroke-opacity:1; fill:none\" points=\"\n",
       "  1949.57,1313.25 1949.57,1445.72 2231.01,1445.72 2231.01,1313.25 1949.57,1313.25 \n",
       "  \"/>\n",
       "<path clip-path=\"url(#clip3600)\" d=\"\n",
       "M1989.74 251.724 L2280.76 251.724 L2280.76 130.764 L1989.74 130.764  Z\n",
       "  \" fill=\"#ffffff\" fill-rule=\"evenodd\" fill-opacity=\"1\"/>\n",
       "<polyline clip-path=\"url(#clip3600)\" style=\"stroke:#000000; stroke-width:4; stroke-opacity:1; fill:none\" points=\"\n",
       "  1989.74,251.724 2280.76,251.724 2280.76,130.764 1989.74,130.764 1989.74,251.724 \n",
       "  \"/>\n",
       "<path clip-path=\"url(#clip3600)\" d=\"\n",
       "M2013.74 215.436 L2157.74 215.436 L2157.74 167.052 L2013.74 167.052 L2013.74 215.436  Z\n",
       "  \" fill=\"#009af9\" fill-rule=\"evenodd\" fill-opacity=\"1\"/>\n",
       "<polyline clip-path=\"url(#clip3600)\" style=\"stroke:#000000; stroke-width:4; stroke-opacity:1; fill:none\" points=\"\n",
       "  2013.74,215.436 2157.74,215.436 2157.74,167.052 2013.74,167.052 2013.74,215.436 \n",
       "  \"/>\n",
       "<path clip-path=\"url(#clip3600)\" d=\"M 0 0 M2195.58 210.931 Q2193.77 215.561 2192.06 216.973 Q2190.35 218.385 2187.48 218.385 L2184.08 218.385 L2184.08 214.82 L2186.58 214.82 Q2188.33 214.82 2189.31 213.987 Q2190.28 213.154 2191.46 210.052 L2192.22 208.107 L2181.74 182.598 L2186.25 182.598 L2194.35 202.876 L2202.46 182.598 L2206.97 182.598 L2195.58 210.931 Z\" fill=\"#000000\" fill-rule=\"evenodd\" fill-opacity=\"1\" /><path clip-path=\"url(#clip3600)\" d=\"M 0 0 M2212.85 204.589 L2220.49 204.589 L2220.49 178.223 L2212.18 179.89 L2212.18 175.631 L2220.44 173.964 L2225.12 173.964 L2225.12 204.589 L2232.76 204.589 L2232.76 208.524 L2212.85 208.524 L2212.85 204.589 Z\" fill=\"#000000\" fill-rule=\"evenodd\" fill-opacity=\"1\" /></svg>\n"
      ]
     },
     "execution_count": 179,
     "metadata": {},
     "output_type": "execute_result"
    }
   ],
   "source": [
    "histogram(rand(100))\n",
    "histogram(randn(100))"
   ]
  },
  {
   "cell_type": "code",
   "execution_count": null,
   "metadata": {},
   "outputs": [],
   "source": []
  },
  {
   "cell_type": "code",
   "execution_count": 184,
   "metadata": {},
   "outputs": [
    {
     "name": "stderr",
     "output_type": "stream",
     "text": [
      "\u001b[32m\u001b[1m  Resolving\u001b[22m\u001b[39m package versions...\n",
      "\u001b[32m\u001b[1m   Updating\u001b[22m\u001b[39m `~/.julia/environments/v1.4/Project.toml`\n",
      "\u001b[90m [no changes]\u001b[39m\n",
      "\u001b[32m\u001b[1m   Updating\u001b[22m\u001b[39m `~/.julia/environments/v1.4/Manifest.toml`\n",
      "\u001b[90m [no changes]\u001b[39m\n"
     ]
    }
   ],
   "source": [
    "#Pkg.add(\"Plotly\")\n",
    "using Plotly"
   ]
  },
  {
   "cell_type": "code",
   "execution_count": 185,
   "metadata": {},
   "outputs": [
    {
     "ename": "UndefVarError",
     "evalue": "UndefVarError: histogram2D not defined",
     "output_type": "error",
     "traceback": [
      "UndefVarError: histogram2D not defined",
      "",
      "Stacktrace:",
      " [1] top-level scope at In[185]:1"
     ]
    }
   ],
   "source": [
    "histogram2D(rand(10000),rand(10000))"
   ]
  },
  {
   "cell_type": "code",
   "execution_count": null,
   "metadata": {},
   "outputs": [],
   "source": [
    "histogram2D(randn(10000),randn(10000))"
   ]
  },
  {
   "cell_type": "code",
   "execution_count": 188,
   "metadata": {},
   "outputs": [
    {
     "name": "stderr",
     "output_type": "stream",
     "text": [
      "\u001b[32m\u001b[1m  Resolving\u001b[22m\u001b[39m package versions...\n",
      "\u001b[32m\u001b[1m  Installed\u001b[22m\u001b[39m MKL_jll ────────────────────── v2019.0.117+2\n",
      "\u001b[32m\u001b[1m  Installed\u001b[22m\u001b[39m StatPlots ──────────────────── v0.9.2\n",
      "\u001b[32m\u001b[1m  Installed\u001b[22m\u001b[39m Distances ──────────────────── v0.8.2\n",
      "\u001b[32m\u001b[1m  Installed\u001b[22m\u001b[39m IJulia ─────────────────────── v1.21.2\n",
      "\u001b[32m\u001b[1m  Installed\u001b[22m\u001b[39m ColorTypes ─────────────────── v0.9.1\n",
      "\u001b[32m\u001b[1m  Installed\u001b[22m\u001b[39m Plots ──────────────────────── v0.29.9\n",
      "\u001b[32m\u001b[1m  Installed\u001b[22m\u001b[39m Clustering ─────────────────── v0.14.0\n",
      "\u001b[32m\u001b[1m  Installed\u001b[22m\u001b[39m IntelOpenMP_jll ────────────── v2018.0.3+0\n",
      "\u001b[32m\u001b[1m  Installed\u001b[22m\u001b[39m OpenSpecFun_jll ────────────── v0.5.3+3\n",
      "\u001b[32m\u001b[1m  Installed\u001b[22m\u001b[39m Rmath ──────────────────────── v0.6.1\n",
      "\u001b[32m\u001b[1m  Installed\u001b[22m\u001b[39m RecipesBase ────────────────── v0.8.0\n",
      "\u001b[32m\u001b[1m  Installed\u001b[22m\u001b[39m MbedTLS ────────────────────── v1.0.2\n",
      "\u001b[32m\u001b[1m  Installed\u001b[22m\u001b[39m NearestNeighbors ───────────── v0.4.4\n",
      "\u001b[32m\u001b[1m  Installed\u001b[22m\u001b[39m AbstractFFTs ───────────────── v0.5.0\n",
      "\u001b[32m\u001b[1m  Installed\u001b[22m\u001b[39m CompilerSupportLibraries_jll ─ v0.3.3+0\n",
      "\u001b[32m\u001b[1m  Installed\u001b[22m\u001b[39m NLSolversBase ──────────────── v7.6.1\n",
      "\u001b[32m\u001b[1m  Installed\u001b[22m\u001b[39m IterableTables ─────────────── v1.0.0\n",
      "\u001b[32m\u001b[1m  Installed\u001b[22m\u001b[39m LineSearches ───────────────── v7.0.1\n",
      "\u001b[32m\u001b[1m  Installed\u001b[22m\u001b[39m ForwardDiff ────────────────── v0.10.10\n",
      "\u001b[32m\u001b[1m  Installed\u001b[22m\u001b[39m Interpolations ─────────────── v0.12.9\n",
      "\u001b[32m\u001b[1m  Installed\u001b[22m\u001b[39m FFTW ───────────────────────── v1.2.0\n",
      "\u001b[32m\u001b[1m  Installed\u001b[22m\u001b[39m WoodburyMatrices ───────────── v0.5.2\n",
      "\u001b[32m\u001b[1m  Installed\u001b[22m\u001b[39m DiffRules ──────────────────── v1.0.1\n",
      "\u001b[32m\u001b[1m  Installed\u001b[22m\u001b[39m Rmath_jll ──────────────────── v0.2.2+0\n",
      "\u001b[32m\u001b[1m  Installed\u001b[22m\u001b[39m QuadGK ─────────────────────── v2.3.1\n",
      "\u001b[32m\u001b[1m  Installed\u001b[22m\u001b[39m FixedPointNumbers ──────────── v0.7.1\n",
      "\u001b[32m\u001b[1m  Installed\u001b[22m\u001b[39m PlotThemes ─────────────────── v1.0.3\n",
      "\u001b[32m\u001b[1m  Installed\u001b[22m\u001b[39m StatsFuns ──────────────────── v0.9.4\n",
      "\u001b[32m\u001b[1m  Installed\u001b[22m\u001b[39m KernelDensity ──────────────── v0.5.1\n",
      "\u001b[32m\u001b[1m  Installed\u001b[22m\u001b[39m FillArrays ─────────────────── v0.8.7\n",
      "\u001b[32m\u001b[1m  Installed\u001b[22m\u001b[39m SpecialFunctions ───────────── v0.10.0\n",
      "\u001b[32m\u001b[1m  Installed\u001b[22m\u001b[39m CommonSubexpressions ───────── v0.2.0\n",
      "\u001b[32m\u001b[1m  Installed\u001b[22m\u001b[39m PDMats ─────────────────────── v0.9.12\n",
      "\u001b[32m\u001b[1m  Installed\u001b[22m\u001b[39m FFTW_jll ───────────────────── v3.3.9+5\n",
      "\u001b[32m\u001b[1m  Installed\u001b[22m\u001b[39m MbedTLS_jll ────────────────── v2.16.0+2\n",
      "\u001b[32m\u001b[1m  Installed\u001b[22m\u001b[39m DiffResults ────────────────── v1.0.2\n",
      "\u001b[32m\u001b[1m  Installed\u001b[22m\u001b[39m Distributions ──────────────── v0.23.2\n",
      "\u001b[32m\u001b[1m  Installed\u001b[22m\u001b[39m Ratios ─────────────────────── v0.4.0\n",
      "\u001b[32m\u001b[1m  Installed\u001b[22m\u001b[39m ArrayInterface ─────────────── v2.8.5\n",
      "\u001b[32m\u001b[1m  Installed\u001b[22m\u001b[39m Parsers ────────────────────── v1.0.2\n",
      "\u001b[32m\u001b[1m  Installed\u001b[22m\u001b[39m TableTraitsUtils ───────────── v1.0.1\n",
      "\u001b[32m\u001b[1m  Installed\u001b[22m\u001b[39m OffsetArrays ───────────────── v1.0.4\n",
      "\u001b[32m\u001b[1m  Installed\u001b[22m\u001b[39m Arpack_jll ─────────────────── v3.5.0+3\n",
      "\u001b[32m\u001b[1m  Installed\u001b[22m\u001b[39m Parameters ─────────────────── v0.12.0\n",
      "\u001b[32m\u001b[1m  Installed\u001b[22m\u001b[39m Colors ─────────────────────── v0.11.2\n",
      "\u001b[32m\u001b[1m  Installed\u001b[22m\u001b[39m DataValues ─────────────────── v0.4.13\n",
      "\u001b[32m\u001b[1m  Installed\u001b[22m\u001b[39m FiniteDiff ─────────────────── v2.3.0\n",
      "\u001b[32m\u001b[1m  Installed\u001b[22m\u001b[39m Arpack ─────────────────────── v0.4.0\n",
      "\u001b[32m\u001b[1m  Installed\u001b[22m\u001b[39m PositiveFactorizations ─────── v0.2.3\n",
      "\u001b[32m\u001b[1m  Installed\u001b[22m\u001b[39m PlotUtils ──────────────────── v0.6.5\n",
      "\u001b[32m\u001b[1m  Installed\u001b[22m\u001b[39m Optim ──────────────────────── v0.20.6\n",
      "\u001b[32m\u001b[1m  Installed\u001b[22m\u001b[39m AxisAlgorithms ─────────────── v1.0.0\n",
      "\u001b[32m\u001b[1m  Installed\u001b[22m\u001b[39m OpenBLAS_jll ───────────────── v0.3.9+2\n",
      "\r",
      "######################################################################### 100,0%\r",
      "#                                                                           1,7%\r",
      "###                                                                         5,2%\r",
      "########                                                                   12,1%\r",
      "####################                                                       27,7%\r",
      "#######################################                                    53,8%\r",
      "##########################################################                 79,9%\r",
      "######################################################################### 100,0%\n",
      "\r",
      "######################################################################### 100,0%\r",
      "#####                                                                       8,1%\r",
      "############                                                               17,0%\r",
      "###############################                                            42,9%\r",
      "######################################################################### 100,0%\n",
      "\r",
      "######################################################################### 100,0%\r",
      "                                                                            0,7%\r",
      "#                                                                           1,4%\r",
      "###                                                                         4,3%\r",
      "######                                                                      8,6%\r",
      "#############                                                              18,0%\r",
      "####################                                                       28,8%\r",
      "###########################################                                58,9%\r",
      "######################################################################### 100,0%\n",
      "\r",
      "######################################################################### 100,0%\r",
      "#########                                                                  13,6%\r",
      "####################                                                       28,6%\r",
      "####################################################                       72,2%\r",
      "######################################################################### 100,0%\n",
      "\r",
      "######################################################################### 100,0%\r",
      "                                                                            0,8%\r",
      "#                                                                           2,4%\r",
      "####                                                                        5,5%\r",
      "#########                                                                  12,6%\r",
      "################                                                           22,9%\r",
      "#########################                                                  34,8%\r",
      "###################################################                        70,5%\r",
      "######################################################################### 100,0%\n",
      "\r",
      "######################################################################### 100,0%\r",
      "#                                                                           1,7%\r",
      "###                                                                         5,1%\r",
      "########                                                                   11,9%\r",
      "###################                                                        27,2%\r",
      "######################################                                     52,9%\r",
      "#########################################################                  78,5%\r",
      "######################################################################### 100,0%\n",
      "\r",
      "######################################################################### 100,0%\r",
      "########                                                                   11,6%\r",
      "#########################                                                  35,6%\r",
      "############################################################               83,4%\r",
      "######################################################################### 100,0%\n",
      "\r",
      "######################################################################### 100,0%\r",
      "                                                                            0,2%\r",
      "                                                                            0,3%\r",
      "                                                                            0,8%\r",
      "#                                                                           2,0%\r",
      "###                                                                         4,2%\r",
      "####                                                                        6,7%\r",
      "#########                                                        "
     ]
    },
    {
     "name": "stdout",
     "output_type": "stream",
     "text": [
      "\n",
      "This package has been renamed to StatsPlots.\n",
      "The name StatPlots has been deprecated.\n",
      "\n",
      "Please run\n",
      "\n",
      "`]rm StatPlots`\n",
      "`]add StatsPlots`\n",
      "\n",
      "Failure to update will mean that you do not receive new developments.\n",
      "\n"
     ]
    },
    {
     "name": "stderr",
     "output_type": "stream",
     "text": [
      "          13,5%\r",
      "###############                                                            20,9%\r",
      "############################                                               39,6%\r",
      "###################################                                        48,0%\r",
      "###########################################                                60,3%\r",
      "#####################################################                      72,8%\r",
      "###########################################################                81,4%\r",
      "###################################################################        92,4%\r",
      "######################################################################### 100,0%\n",
      "\u001b[32m\u001b[1m   Updating\u001b[22m\u001b[39m `~/.julia/environments/v1.4/Project.toml`\n",
      " \u001b[90m [7073ff75]\u001b[39m\u001b[93m ↑ IJulia v1.21.1 ⇒ v1.21.2\u001b[39m\n",
      " \u001b[90m [91a5bcdd]\u001b[39m\u001b[95m ↓ Plots v1.1.0 ⇒ v0.29.9\u001b[39m\n",
      " \u001b[90m [60ddc479]\u001b[39m\u001b[92m + StatPlots v0.9.2\u001b[39m\n",
      "\u001b[32m\u001b[1m   Updating\u001b[22m\u001b[39m `~/.julia/environments/v1.4/Manifest.toml`\n",
      " \u001b[90m [621f4979]\u001b[39m\u001b[92m + AbstractFFTs v0.5.0\u001b[39m\n",
      " \u001b[90m [7d9fca2a]\u001b[39m\u001b[92m + Arpack v0.4.0\u001b[39m\n",
      " \u001b[90m [68821587]\u001b[39m\u001b[92m + Arpack_jll v3.5.0+3\u001b[39m\n",
      " \u001b[90m [4fba245c]\u001b[39m\u001b[92m + ArrayInterface v2.8.5\u001b[39m\n",
      " \u001b[90m [13072b0f]\u001b[39m\u001b[92m + AxisAlgorithms v1.0.0\u001b[39m\n",
      " \u001b[90m [b99e7846]\u001b[39m\u001b[91m - BinaryProvider v0.5.8\u001b[39m\n",
      " \u001b[90m [aaaa29a8]\u001b[39m\u001b[92m + Clustering v0.14.0\u001b[39m\n",
      " \u001b[90m [35d6a980]\u001b[39m\u001b[91m - ColorSchemes v3.8.0\u001b[39m\n",
      " \u001b[90m [3da002f7]\u001b[39m\u001b[95m ↓ ColorTypes v0.10.2 ⇒ v0.9.1\u001b[39m\n",
      " \u001b[90m [5ae59095]\u001b[39m\u001b[95m ↓ Colors v0.12.0 ⇒ v0.11.2\u001b[39m\n",
      " \u001b[90m [bbf7d656]\u001b[39m\u001b[92m + CommonSubexpressions v0.2.0\u001b[39m\n",
      " \u001b[90m [e66e0078]\u001b[39m\u001b[92m + CompilerSupportLibraries_jll v0.3.3+0\u001b[39m\n",
      " \u001b[90m [e7dc6d0d]\u001b[39m\u001b[92m + DataValues v0.4.13\u001b[39m\n",
      " \u001b[90m [163ba53b]\u001b[39m\u001b[92m + DiffResults v1.0.2\u001b[39m\n",
      " \u001b[90m [b552c78f]\u001b[39m\u001b[92m + DiffRules v1.0.1\u001b[39m\n",
      " \u001b[90m [b4f34e82]\u001b[39m\u001b[92m + Distances v0.8.2\u001b[39m\n",
      " \u001b[90m [31c24e10]\u001b[39m\u001b[92m + Distributions v0.23.2\u001b[39m\n",
      " \u001b[90m [7a1cc6ca]\u001b[39m\u001b[92m + FFTW v1.2.0\u001b[39m\n",
      " \u001b[90m [f5851436]\u001b[39m\u001b[92m + FFTW_jll v3.3.9+5\u001b[39m\n",
      " \u001b[90m [1a297f60]\u001b[39m\u001b[92m + FillArrays v0.8.7\u001b[39m\n",
      " \u001b[90m [6a86dc24]\u001b[39m\u001b[92m + FiniteDiff v2.3.0\u001b[39m\n",
      " \u001b[90m [53c48c17]\u001b[39m\u001b[95m ↓ FixedPointNumbers v0.8.0 ⇒ v0.7.1\u001b[39m\n",
      " \u001b[90m [f6369f11]\u001b[39m\u001b[92m + ForwardDiff v0.10.10\u001b[39m\n",
      " \u001b[90m [7073ff75]\u001b[39m\u001b[93m ↑ IJulia v1.21.1 ⇒ v1.21.2\u001b[39m\n",
      " \u001b[90m [1d5cc7b8]\u001b[39m\u001b[92m + IntelOpenMP_jll v2018.0.3+0\u001b[39m\n",
      " \u001b[90m [a98d9a8b]\u001b[39m\u001b[92m + Interpolations v0.12.9\u001b[39m\n",
      " \u001b[90m [1c8ee90f]\u001b[39m\u001b[92m + IterableTables v1.0.0\u001b[39m\n",
      " \u001b[90m [5ab0869b]\u001b[39m\u001b[92m + KernelDensity v0.5.1\u001b[39m\n",
      " \u001b[90m [d3d80556]\u001b[39m\u001b[92m + LineSearches v7.0.1\u001b[39m\n",
      " \u001b[90m [856f044c]\u001b[39m\u001b[92m + MKL_jll v2019.0.117+2\u001b[39m\n",
      " \u001b[90m [739be429]\u001b[39m\u001b[93m ↑ MbedTLS v0.7.0 ⇒ v1.0.2\u001b[39m\n",
      " \u001b[90m [c8ffd9c3]\u001b[39m\u001b[92m + MbedTLS_jll v2.16.0+2\u001b[39m\n",
      " \u001b[90m [d41bc354]\u001b[39m\u001b[92m + NLSolversBase v7.6.1\u001b[39m\n",
      " \u001b[90m [b8a86587]\u001b[39m\u001b[92m + NearestNeighbors v0.4.4\u001b[39m\n",
      " \u001b[90m [6fe1bfb0]\u001b[39m\u001b[92m + OffsetArrays v1.0.4\u001b[39m\n",
      " \u001b[90m [4536629a]\u001b[39m\u001b[92m + OpenBLAS_jll v0.3.9+2\u001b[39m\n",
      " \u001b[90m [efe28fd5]\u001b[39m\u001b[92m + OpenSpecFun_jll v0.5.3+3\u001b[39m\n",
      " \u001b[90m [429524aa]\u001b[39m\u001b[92m + Optim v0.20.6\u001b[39m\n",
      " \u001b[90m [90014a1f]\u001b[39m\u001b[92m + PDMats v0.9.12\u001b[39m\n",
      " \u001b[90m [d96e819e]\u001b[39m\u001b[92m + Parameters v0.12.0\u001b[39m\n",
      " \u001b[90m [69de0a69]\u001b[39m\u001b[93m ↑ Parsers v1.0.0 ⇒ v1.0.2\u001b[39m\n",
      " \u001b[90m [ccf2f8ad]\u001b[39m\u001b[95m ↓ PlotThemes v2.0.0 ⇒ v1.0.3\u001b[39m\n",
      " \u001b[90m [995b91a9]\u001b[39m\u001b[95m ↓ PlotUtils v1.0.0 ⇒ v0.6.5\u001b[39m\n",
      " \u001b[90m [91a5bcdd]\u001b[39m\u001b[95m ↓ Plots v1.1.0 ⇒ v0.29.9\u001b[39m\n",
      " \u001b[90m [85a6dd25]\u001b[39m\u001b[92m + PositiveFactorizations v0.2.3\u001b[39m\n",
      " \u001b[90m [1fd47b50]\u001b[39m\u001b[92m + QuadGK v2.3.1\u001b[39m\n",
      " \u001b[90m [c84ed2f1]\u001b[39m\u001b[92m + Ratios v0.4.0\u001b[39m\n",
      " \u001b[90m [3cdcf5f2]\u001b[39m\u001b[95m ↓ RecipesBase v1.0.1 ⇒ v0.8.0\u001b[39m\n",
      " \u001b[90m [01d81517]\u001b[39m\u001b[91m - RecipesPipeline v0.1.6\u001b[39m\n",
      " \u001b[90m [79098fc4]\u001b[39m\u001b[92m + Rmath v0.6.1\u001b[39m\n",
      " \u001b[90m [f50d1b31]\u001b[39m\u001b[92m + Rmath_jll v0.2.2+0\u001b[39m\n",
      " \u001b[90m [276daf66]\u001b[39m\u001b[92m + SpecialFunctions v0.10.0\u001b[39m\n",
      " \u001b[90m [60ddc479]\u001b[39m\u001b[92m + StatPlots v0.9.2\u001b[39m\n",
      " \u001b[90m [4c63d2b9]\u001b[39m\u001b[92m + StatsFuns v0.9.4\u001b[39m\n",
      " \u001b[90m [382cd787]\u001b[39m\u001b[92m + TableTraitsUtils v1.0.1\u001b[39m\n",
      " \u001b[90m [efce3f68]\u001b[39m\u001b[92m + WoodburyMatrices v0.5.2\u001b[39m\n",
      " \u001b[90m [4607b0f0]\u001b[39m\u001b[92m + SuiteSparse \u001b[39m\n",
      "\u001b[32m\u001b[1m   Building\u001b[22m\u001b[39m IJulia → `~/.julia/packages/IJulia/DrVMH/deps/build.log`\n",
      "┌ Error: Error building `IJulia`: \n",
      "│ ERROR: LoadError: ArgumentError: Path to conda environment is not valid: /Users/lud/.julia/conda/3\n",
      "│ Stacktrace:\n",
      "│  [1] prefix(::String) at /Users/lud/.julia/packages/Conda/3rPhK/src/Conda.jl:41\n",
      "│  [2] top-level scope at /Users/lud/.julia/packages/Conda/3rPhK/src/Conda.jl:46\n",
      "│  [3] include(::Module, ::String) at ./Base.jl:377\n",
      "│  [4] top-level scope at none:2\n",
      "│  [5] eval at ./boot.jl:331 [inlined]\n",
      "│  [6] eval(::Expr) at ./client.jl:449\n",
      "│  [7] top-level scope at ./none:3\n",
      "│ in expression starting at /Users/lud/.julia/packages/Conda/3rPhK/src/Conda.jl:46\n",
      "│ ERROR: LoadError: Failed to precompile Conda [8f4d0f93-b110-5947-807f-2305c1781a2d] to /Users/lud/.julia/compiled/v1.4/Conda/WZE3U_RywB5.ji.\n",
      "│ Stacktrace:\n",
      "│  [1] error(::String) at ./error.jl:33\n",
      "│  [2] compilecache(::Base.PkgId, ::String) at ./loading.jl:1272\n",
      "│  [3] _require(::Base.PkgId) at ./loading.jl:1029\n",
      "│  [4] require(::Base.PkgId) at ./loading.jl:927\n",
      "│  [5] require(::Module, ::Symbol) at ./loading.jl:922\n",
      "│  [6] include(::String) at ./client.jl:439\n",
      "│  [7] top-level scope at none:5\n",
      "│ in expression starting at /Users/lud/.julia/packages/IJulia/DrVMH/deps/build.jl:1\n",
      "└ @ Pkg.Operations /Users/julia/buildbot/worker/package_macos64/build/usr/share/julia/stdlib/v1.4/Pkg/src/Operations.jl:892\n",
      "\u001b[32m\u001b[1m   Building\u001b[22m\u001b[39m Plots ─→ `~/.julia/packages/Plots/cc8wh/deps/build.log`\n",
      "\u001b[32m\u001b[1m   Building\u001b[22m\u001b[39m FFTW ──→ `~/.julia/packages/FFTW/qqcBj/deps/build.log`\n",
      "┌ Info: Precompiling StatPlots [60ddc479-9b66-56df-82fc-76a74619b69c]\n",
      "└ @ Base loading.jl:1260\n",
      "┌ Warning: Module Plots with build ID 246905872027377 is missing from the cache.\n",
      "│ This may mean Plots [91a5bcdd-55d7-5caf-9e0b-520d859cae80] does not support precompilation but is imported by a module that does.\n",
      "└ @ Base loading.jl:1016\n",
      "┌ Info: Skipping precompilation since __precompile__(false). Importing StatPlots [60ddc479-9b66-56df-82fc-76a74619b69c].\n",
      "└ @ Base loading.jl:1033\n",
      "┌ Info: Precompiling Distributions [31c24e10-a181-5473-b8eb-7969acd0382f]\n",
      "└ @ Base loading.jl:1260\n",
      "┌ Info: Precompiling IterableTables [1c8ee90f-4401-5389-894e-7a04a3dc0f4d]\n",
      "└ @ Base loading.jl:1260\n",
      "┌ Info: Precompiling Clustering [aaaa29a8-35af-508c-8bc3-b662a17a0fe5]\n",
      "└ @ Base loading.jl:1260\n",
      "┌ Info: Precompiling KernelDensity [5ab0869b-81aa-558d-bb23-cbf5423bbe9b]\n",
      "└ @ Base loading.jl:1260\n",
      "┌ Warning: `@nodeps` is deprecated. Simply use e.g. `Widgets.dropdown(x)` instead of `Widgets.@nodeps dropdown(x)`.\n",
      "└ @ Widgets /Users/lud/.julia/packages/Widgets/451tD/src/utils.jl:63\n",
      "┌ Warning: `@nodeps` is deprecated. Simply use e.g. `Widgets.dropdown(x)` instead of `Widgets.@nodeps dropdown(x)`.\n",
      "└ @ Widgets /Users/lud/.julia/packages/Widgets/451tD/src/utils.jl:63\n",
      "┌ Warning: `@nodeps` is deprecated. Simply use e.g. `Widgets.dropdown(x)` instead of `Widgets.@nodeps dropdown(x)`.\n",
      "└ @ Widgets /Users/lud/.julia/packages/Widgets/451tD/src/utils.jl:63\n",
      "┌ Warning: `@nodeps` is deprecated. Simply use e.g. `Widgets.dropdown(x)` instead of `Widgets.@nodeps dropdown(x)`.\n",
      "└ @ Widgets /Users/lud/.julia/packages/Widgets/451tD/src/utils.jl:63\n",
      "┌ Warning: `@nodeps` is deprecated. Simply use e.g. `Widgets.dropdown(x)` instead of `Widgets.@nodeps dropdown(x)`.\n",
      "└ @ Widgets /Users/lud/.julia/packages/Widgets/451tD/src/utils.jl:63\n",
      "┌ Warning: `@nodeps` is deprecated. Simply use e.g. `Widgets.dropdown(x)` instead of `Widgets.@nodeps dropdown(x)`.\n",
      "└ @ Widgets /Users/lud/.julia/packages/Widgets/451tD/src/utils.jl:63\n",
      "┌ Warning: `@nodeps` is deprecated. Simply use e.g. `Widgets.dropdown(x)` instead of `Widgets.@nodeps dropdown(x)`.\n",
      "└ @ Widgets /Users/lud/.julia/packages/Widgets/451tD/src/utils.jl:63\n",
      "┌ Warning: `@nodeps` is deprecated. Simply use e.g. `Widgets.dropdown(x)` instead of `Widgets.@nodeps dropdown(x)`.\n",
      "└ @ Widgets /Users/lud/.julia/packages/Widgets/451tD/src/utils.jl:63\n"
     ]
    },
    {
     "ename": "UndefVarError",
     "evalue": "UndefVarError: bar not defined",
     "output_type": "error",
     "traceback": [
      "UndefVarError: bar not defined",
      "",
      "Stacktrace:",
      " [1] top-level scope at In[188]:3"
     ]
    }
   ],
   "source": [
    "Pkg.add(\"StatPlots\")\n",
    "using StatPlots\n",
    "bar(randn(10))"
   ]
  },
  {
   "cell_type": "code",
   "execution_count": null,
   "metadata": {},
   "outputs": [],
   "source": [
    "pie(rand(5))"
   ]
  }
 ],
 "metadata": {
  "kernelspec": {
   "display_name": "Julia 1.4.0",
   "language": "julia",
   "name": "julia-1.4"
  },
  "language_info": {
   "file_extension": ".jl",
   "mimetype": "application/julia",
   "name": "julia",
   "version": "1.4.0"
  }
 },
 "nbformat": 4,
 "nbformat_minor": 4
}
